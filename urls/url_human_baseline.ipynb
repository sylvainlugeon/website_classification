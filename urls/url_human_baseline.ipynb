{
 "cells": [
  {
   "cell_type": "code",
   "execution_count": 2,
   "metadata": {},
   "outputs": [],
   "source": [
    "import pandas as pd\n",
    "import numpy as np"
   ]
  },
  {
   "cell_type": "code",
   "execution_count": 7,
   "metadata": {},
   "outputs": [
    {
     "data": {
      "text/html": [
       "<div>\n",
       "<style scoped>\n",
       "    .dataframe tbody tr th:only-of-type {\n",
       "        vertical-align: middle;\n",
       "    }\n",
       "\n",
       "    .dataframe tbody tr th {\n",
       "        vertical-align: top;\n",
       "    }\n",
       "\n",
       "    .dataframe thead th {\n",
       "        text-align: right;\n",
       "    }\n",
       "</style>\n",
       "<table border=\"1\" class=\"dataframe\">\n",
       "  <thead>\n",
       "    <tr style=\"text-align: right;\">\n",
       "      <th></th>\n",
       "      <th>uid</th>\n",
       "      <th>url</th>\n",
       "      <th>lang</th>\n",
       "      <th>lang_id</th>\n",
       "      <th>cat0</th>\n",
       "    </tr>\n",
       "  </thead>\n",
       "  <tbody>\n",
       "    <tr>\n",
       "      <th>0</th>\n",
       "      <td>184</td>\n",
       "      <td>www.delphipraxis.net</td>\n",
       "      <td>Deutsch</td>\n",
       "      <td>de</td>\n",
       "      <td>Computers</td>\n",
       "    </tr>\n",
       "    <tr>\n",
       "      <th>1</th>\n",
       "      <td>263</td>\n",
       "      <td>www.central-it.de</td>\n",
       "      <td>Deutsch</td>\n",
       "      <td>de</td>\n",
       "      <td>Computers</td>\n",
       "    </tr>\n",
       "    <tr>\n",
       "      <th>2</th>\n",
       "      <td>731</td>\n",
       "      <td>www.aus-wandern.de</td>\n",
       "      <td>Deutsch</td>\n",
       "      <td>de</td>\n",
       "      <td>Computers</td>\n",
       "    </tr>\n",
       "    <tr>\n",
       "      <th>3</th>\n",
       "      <td>1072</td>\n",
       "      <td>blog.cvjm-nuernberg.de</td>\n",
       "      <td>Deutsch</td>\n",
       "      <td>de</td>\n",
       "      <td>Computers</td>\n",
       "    </tr>\n",
       "    <tr>\n",
       "      <th>4</th>\n",
       "      <td>1101</td>\n",
       "      <td>www.ges-training.de</td>\n",
       "      <td>Deutsch</td>\n",
       "      <td>de</td>\n",
       "      <td>Computers</td>\n",
       "    </tr>\n",
       "    <tr>\n",
       "      <th>...</th>\n",
       "      <td>...</td>\n",
       "      <td>...</td>\n",
       "      <td>...</td>\n",
       "      <td>...</td>\n",
       "      <td>...</td>\n",
       "    </tr>\n",
       "    <tr>\n",
       "      <th>1025176</th>\n",
       "      <td>2488203</td>\n",
       "      <td>www.stompin-ground.com</td>\n",
       "      <td>English</td>\n",
       "      <td>en</td>\n",
       "      <td>Arts</td>\n",
       "    </tr>\n",
       "    <tr>\n",
       "      <th>1025177</th>\n",
       "      <td>2488226</td>\n",
       "      <td>www.quarrypark.co.uk</td>\n",
       "      <td>English</td>\n",
       "      <td>en</td>\n",
       "      <td>Sports</td>\n",
       "    </tr>\n",
       "    <tr>\n",
       "      <th>1025178</th>\n",
       "      <td>2488230</td>\n",
       "      <td>www.sugarcreekwines.com</td>\n",
       "      <td>English</td>\n",
       "      <td>en</td>\n",
       "      <td>Recreation</td>\n",
       "    </tr>\n",
       "    <tr>\n",
       "      <th>1025179</th>\n",
       "      <td>2488233</td>\n",
       "      <td>www.aera.net</td>\n",
       "      <td>English</td>\n",
       "      <td>en</td>\n",
       "      <td>Reference</td>\n",
       "    </tr>\n",
       "    <tr>\n",
       "      <th>1025180</th>\n",
       "      <td>2488256</td>\n",
       "      <td>www.firstsecuritybk.com</td>\n",
       "      <td>English</td>\n",
       "      <td>en</td>\n",
       "      <td>Business</td>\n",
       "    </tr>\n",
       "  </tbody>\n",
       "</table>\n",
       "<p>1025181 rows × 5 columns</p>\n",
       "</div>"
      ],
      "text/plain": [
       "             uid                      url     lang lang_id        cat0\n",
       "0            184     www.delphipraxis.net  Deutsch      de   Computers\n",
       "1            263        www.central-it.de  Deutsch      de   Computers\n",
       "2            731       www.aus-wandern.de  Deutsch      de   Computers\n",
       "3           1072   blog.cvjm-nuernberg.de  Deutsch      de   Computers\n",
       "4           1101      www.ges-training.de  Deutsch      de   Computers\n",
       "...          ...                      ...      ...     ...         ...\n",
       "1025176  2488203   www.stompin-ground.com  English      en        Arts\n",
       "1025177  2488226     www.quarrypark.co.uk  English      en      Sports\n",
       "1025178  2488230  www.sugarcreekwines.com  English      en  Recreation\n",
       "1025179  2488233             www.aera.net  English      en   Reference\n",
       "1025180  2488256  www.firstsecuritybk.com  English      en    Business\n",
       "\n",
       "[1025181 rows x 5 columns]"
      ]
     },
     "execution_count": 7,
     "metadata": {},
     "output_type": "execute_result"
    }
   ],
   "source": [
    "df = pd.read_csv('/dlabdata1/lugeon/websites_dmoz_multi.gz', compression='gzip')\n",
    "df.drop('Unnamed: 0', axis=1, inplace=True)\n",
    "df"
   ]
  },
  {
   "cell_type": "code",
   "execution_count": 8,
   "metadata": {},
   "outputs": [],
   "source": [
    "df = df[df.lang_id == 'en']"
   ]
  },
  {
   "cell_type": "code",
   "execution_count": 35,
   "metadata": {},
   "outputs": [],
   "source": [
    "categories = df.cat0.unique()\n",
    "categories.sort()\n",
    "\n",
    "def categorize(c):\n",
    "    return categories.tolist().index(c)"
   ]
  },
  {
   "cell_type": "code",
   "execution_count": 39,
   "metadata": {},
   "outputs": [
    {
     "data": {
      "text/plain": [
       "{'Arts': 0,\n",
       " 'Business': 1,\n",
       " 'Computers': 2,\n",
       " 'Games': 3,\n",
       " 'Health': 4,\n",
       " 'Home': 5,\n",
       " 'News': 6,\n",
       " 'Recreation': 7,\n",
       " 'Reference': 8,\n",
       " 'Science': 9,\n",
       " 'Shopping': 10,\n",
       " 'Society': 11,\n",
       " 'Sports': 12}"
      ]
     },
     "execution_count": 39,
     "metadata": {},
     "output_type": "execute_result"
    }
   ],
   "source": [
    "cat_dict = dict(zip(categories, np.arange(13)))\n",
    "cat_dict"
   ]
  },
  {
   "cell_type": "code",
   "execution_count": 40,
   "metadata": {},
   "outputs": [
    {
     "name": "stderr",
     "output_type": "stream",
     "text": [
      "<ipython-input-40-7b6783813fde>:1: SettingWithCopyWarning: \n",
      "A value is trying to be set on a copy of a slice from a DataFrame.\n",
      "Try using .loc[row_indexer,col_indexer] = value instead\n",
      "\n",
      "See the caveats in the documentation: https://pandas.pydata.org/pandas-docs/stable/user_guide/indexing.html#returning-a-view-versus-a-copy\n",
      "  df['catno'] = df.cat0.apply(lambda x: categorize(x))\n"
     ]
    }
   ],
   "source": [
    "df['catno'] = df.cat0.apply(lambda x: categorize(x))"
   ]
  },
  {
   "cell_type": "code",
   "execution_count": 69,
   "metadata": {},
   "outputs": [],
   "source": [
    "selection = df.groupby('cat0').sample(10).sample(frac=1)"
   ]
  },
  {
   "cell_type": "code",
   "execution_count": 70,
   "metadata": {},
   "outputs": [],
   "source": [
    "urls = selection.url.values\n",
    "\n",
    "with open(\"random_urls.txt\", \"w\") as file:\n",
    "    for url in urls:\n",
    "        file.write(url + \"\\n\") "
   ]
  },
  {
   "cell_type": "code",
   "execution_count": 73,
   "metadata": {},
   "outputs": [],
   "source": [
    "guessed_cats = []\n",
    "\n",
    "with open(\"random_urls.txt\", \"r\") as file:\n",
    "    for line in file:\n",
    "        cat = line.strip().split(' ')[1]\n",
    "        guessed_cats += [int(cat)]"
   ]
  },
  {
   "cell_type": "code",
   "execution_count": 74,
   "metadata": {},
   "outputs": [
    {
     "name": "stdout",
     "output_type": "stream",
     "text": [
      "Accuracy: 0.2153846153846154\n"
     ]
    }
   ],
   "source": [
    "selection['guessed_catno'] = guessed_cats\n",
    "acc = selection[selection.catno == selection.guessed_catno].shape[0] / selection.shape[0]\n",
    "print('Accuracy: {}'.format(acc))"
   ]
  },
  {
   "cell_type": "code",
   "execution_count": null,
   "metadata": {},
   "outputs": [],
   "source": []
  }
 ],
 "metadata": {
  "kernelspec": {
   "display_name": "Python 3",
   "language": "python",
   "name": "python3"
  },
  "language_info": {
   "codemirror_mode": {
    "name": "ipython",
    "version": 3
   },
   "file_extension": ".py",
   "mimetype": "text/x-python",
   "name": "python",
   "nbconvert_exporter": "python",
   "pygments_lexer": "ipython3",
   "version": "3.8.5"
  }
 },
 "nbformat": 4,
 "nbformat_minor": 4
}
