{
 "cells": [
  {
   "cell_type": "code",
   "execution_count": 3,
   "metadata": {},
   "outputs": [],
   "source": [
    "import pandas as pd\n",
    "import numpy as np\n",
    "import re\n",
    "import matplotlib.pyplot as plt"
   ]
  },
  {
   "cell_type": "code",
   "execution_count": 4,
   "metadata": {},
   "outputs": [
    {
     "data": {
      "text/html": [
       "<div>\n",
       "<style scoped>\n",
       "    .dataframe tbody tr th:only-of-type {\n",
       "        vertical-align: middle;\n",
       "    }\n",
       "\n",
       "    .dataframe tbody tr th {\n",
       "        vertical-align: top;\n",
       "    }\n",
       "\n",
       "    .dataframe thead th {\n",
       "        text-align: right;\n",
       "    }\n",
       "</style>\n",
       "<table border=\"1\" class=\"dataframe\">\n",
       "  <thead>\n",
       "    <tr style=\"text-align: right;\">\n",
       "      <th></th>\n",
       "      <th>uid</th>\n",
       "      <th>url</th>\n",
       "      <th>lang</th>\n",
       "      <th>lang_id</th>\n",
       "      <th>cat0</th>\n",
       "    </tr>\n",
       "  </thead>\n",
       "  <tbody>\n",
       "    <tr>\n",
       "      <th>0</th>\n",
       "      <td>184</td>\n",
       "      <td>www.delphipraxis.net</td>\n",
       "      <td>Deutsch</td>\n",
       "      <td>de</td>\n",
       "      <td>Computers</td>\n",
       "    </tr>\n",
       "    <tr>\n",
       "      <th>1</th>\n",
       "      <td>263</td>\n",
       "      <td>www.central-it.de</td>\n",
       "      <td>Deutsch</td>\n",
       "      <td>de</td>\n",
       "      <td>Computers</td>\n",
       "    </tr>\n",
       "    <tr>\n",
       "      <th>2</th>\n",
       "      <td>731</td>\n",
       "      <td>www.aus-wandern.de</td>\n",
       "      <td>Deutsch</td>\n",
       "      <td>de</td>\n",
       "      <td>Computers</td>\n",
       "    </tr>\n",
       "    <tr>\n",
       "      <th>3</th>\n",
       "      <td>1072</td>\n",
       "      <td>blog.cvjm-nuernberg.de</td>\n",
       "      <td>Deutsch</td>\n",
       "      <td>de</td>\n",
       "      <td>Computers</td>\n",
       "    </tr>\n",
       "    <tr>\n",
       "      <th>4</th>\n",
       "      <td>1101</td>\n",
       "      <td>www.ges-training.de</td>\n",
       "      <td>Deutsch</td>\n",
       "      <td>de</td>\n",
       "      <td>Computers</td>\n",
       "    </tr>\n",
       "    <tr>\n",
       "      <th>...</th>\n",
       "      <td>...</td>\n",
       "      <td>...</td>\n",
       "      <td>...</td>\n",
       "      <td>...</td>\n",
       "      <td>...</td>\n",
       "    </tr>\n",
       "    <tr>\n",
       "      <th>1025176</th>\n",
       "      <td>2488203</td>\n",
       "      <td>www.stompin-ground.com</td>\n",
       "      <td>English</td>\n",
       "      <td>en</td>\n",
       "      <td>Arts</td>\n",
       "    </tr>\n",
       "    <tr>\n",
       "      <th>1025177</th>\n",
       "      <td>2488226</td>\n",
       "      <td>www.quarrypark.co.uk</td>\n",
       "      <td>English</td>\n",
       "      <td>en</td>\n",
       "      <td>Sports</td>\n",
       "    </tr>\n",
       "    <tr>\n",
       "      <th>1025178</th>\n",
       "      <td>2488230</td>\n",
       "      <td>www.sugarcreekwines.com</td>\n",
       "      <td>English</td>\n",
       "      <td>en</td>\n",
       "      <td>Recreation</td>\n",
       "    </tr>\n",
       "    <tr>\n",
       "      <th>1025179</th>\n",
       "      <td>2488233</td>\n",
       "      <td>www.aera.net</td>\n",
       "      <td>English</td>\n",
       "      <td>en</td>\n",
       "      <td>Reference</td>\n",
       "    </tr>\n",
       "    <tr>\n",
       "      <th>1025180</th>\n",
       "      <td>2488256</td>\n",
       "      <td>www.firstsecuritybk.com</td>\n",
       "      <td>English</td>\n",
       "      <td>en</td>\n",
       "      <td>Business</td>\n",
       "    </tr>\n",
       "  </tbody>\n",
       "</table>\n",
       "<p>1025181 rows × 5 columns</p>\n",
       "</div>"
      ],
      "text/plain": [
       "             uid                      url     lang lang_id        cat0\n",
       "0            184     www.delphipraxis.net  Deutsch      de   Computers\n",
       "1            263        www.central-it.de  Deutsch      de   Computers\n",
       "2            731       www.aus-wandern.de  Deutsch      de   Computers\n",
       "3           1072   blog.cvjm-nuernberg.de  Deutsch      de   Computers\n",
       "4           1101      www.ges-training.de  Deutsch      de   Computers\n",
       "...          ...                      ...      ...     ...         ...\n",
       "1025176  2488203   www.stompin-ground.com  English      en        Arts\n",
       "1025177  2488226     www.quarrypark.co.uk  English      en      Sports\n",
       "1025178  2488230  www.sugarcreekwines.com  English      en  Recreation\n",
       "1025179  2488233             www.aera.net  English      en   Reference\n",
       "1025180  2488256  www.firstsecuritybk.com  English      en    Business\n",
       "\n",
       "[1025181 rows x 5 columns]"
      ]
     },
     "execution_count": 4,
     "metadata": {},
     "output_type": "execute_result"
    }
   ],
   "source": [
    "df = pd.read_csv('/dlabdata1/lugeon/websites_dmoz_multi.gz', compression='gzip')\n",
    "df.drop('Unnamed: 0', axis=1, inplace=True)\n",
    "df"
   ]
  },
  {
   "cell_type": "code",
   "execution_count": 5,
   "metadata": {},
   "outputs": [],
   "source": [
    "def clean_url(url):\n",
    "    url = re.sub(r\"www.|http://|https://|-|_\", '', url)\n",
    "    return url.split('.')[0]"
   ]
  },
  {
   "cell_type": "code",
   "execution_count": 6,
   "metadata": {},
   "outputs": [],
   "source": [
    "def compute_ngram(s, n):\n",
    "    return [s[i:i+n] for i in range(0, len(s)-n+1)]\n",
    "\n",
    "\n",
    "\n",
    "def concat_ngrams(s, ns):\n",
    "    l = []\n",
    "    for n in ns:\n",
    "        l += compute_ngram(s, n)\n",
    "    return list(set(l))"
   ]
  },
  {
   "cell_type": "code",
   "execution_count": 7,
   "metadata": {},
   "outputs": [
    {
     "data": {
      "text/plain": [
       "Business      148144\n",
       "Society        82079\n",
       "Arts           66721\n",
       "Shopping       54062\n",
       "Recreation     46095\n",
       "Computers      45194\n",
       "Sports         34890\n",
       "Science        28138\n",
       "Health         24218\n",
       "Reference      21663\n",
       "Games          10246\n",
       "Home            6952\n",
       "News            3696\n",
       "Name: cat0, dtype: int64"
      ]
     },
     "execution_count": 7,
     "metadata": {},
     "output_type": "execute_result"
    }
   ],
   "source": [
    "df_en = df[df.lang_id == 'en']\n",
    "df_en.cat0.value_counts()"
   ]
  },
  {
   "cell_type": "code",
   "execution_count": 17,
   "metadata": {},
   "outputs": [],
   "source": [
    "df_bal = pd.DataFrame()\n",
    "nsamples = 5_000\n",
    "for cat in df_en.cat0.unique():\n",
    "    df_cat = df_en[df_en.cat0 == cat]\n",
    "    df_cat = df_cat.sample(min(df_cat.shape[0], nsamples), random_state=42)\n",
    "    df_bal = pd.concat((df_bal, df_cat))"
   ]
  },
  {
   "cell_type": "code",
   "execution_count": 18,
   "metadata": {},
   "outputs": [],
   "source": [
    "df_bal['clean_url'] = df_bal.apply(lambda row: clean_url(row.url), axis=1)"
   ]
  },
  {
   "cell_type": "code",
   "execution_count": 19,
   "metadata": {},
   "outputs": [
    {
     "data": {
      "text/html": [
       "<div>\n",
       "<style scoped>\n",
       "    .dataframe tbody tr th:only-of-type {\n",
       "        vertical-align: middle;\n",
       "    }\n",
       "\n",
       "    .dataframe tbody tr th {\n",
       "        vertical-align: top;\n",
       "    }\n",
       "\n",
       "    .dataframe thead th {\n",
       "        text-align: right;\n",
       "    }\n",
       "</style>\n",
       "<table border=\"1\" class=\"dataframe\">\n",
       "  <thead>\n",
       "    <tr style=\"text-align: right;\">\n",
       "      <th></th>\n",
       "      <th>uid</th>\n",
       "      <th>url</th>\n",
       "      <th>lang</th>\n",
       "      <th>lang_id</th>\n",
       "      <th>cat0</th>\n",
       "      <th>clean_url</th>\n",
       "    </tr>\n",
       "  </thead>\n",
       "  <tbody>\n",
       "    <tr>\n",
       "      <th>934747</th>\n",
       "      <td>2094851</td>\n",
       "      <td>www.gyrosystem.co.uk</td>\n",
       "      <td>English</td>\n",
       "      <td>en</td>\n",
       "      <td>Computers</td>\n",
       "      <td>gyrosystem</td>\n",
       "    </tr>\n",
       "    <tr>\n",
       "      <th>888399</th>\n",
       "      <td>1892699</td>\n",
       "      <td>www.capegraphics.com</td>\n",
       "      <td>English</td>\n",
       "      <td>en</td>\n",
       "      <td>Computers</td>\n",
       "      <td>capegraphics</td>\n",
       "    </tr>\n",
       "    <tr>\n",
       "      <th>610948</th>\n",
       "      <td>691456</td>\n",
       "      <td>jsutils.sourceforge.net</td>\n",
       "      <td>English</td>\n",
       "      <td>en</td>\n",
       "      <td>Computers</td>\n",
       "      <td>jsutils</td>\n",
       "    </tr>\n",
       "    <tr>\n",
       "      <th>514655</th>\n",
       "      <td>267211</td>\n",
       "      <td>www.gwei.org</td>\n",
       "      <td>English</td>\n",
       "      <td>en</td>\n",
       "      <td>Computers</td>\n",
       "      <td>gwei</td>\n",
       "    </tr>\n",
       "    <tr>\n",
       "      <th>596136</th>\n",
       "      <td>624824</td>\n",
       "      <td>www.simplewire.com</td>\n",
       "      <td>English</td>\n",
       "      <td>en</td>\n",
       "      <td>Computers</td>\n",
       "      <td>simplewire</td>\n",
       "    </tr>\n",
       "    <tr>\n",
       "      <th>...</th>\n",
       "      <td>...</td>\n",
       "      <td>...</td>\n",
       "      <td>...</td>\n",
       "      <td>...</td>\n",
       "      <td>...</td>\n",
       "      <td>...</td>\n",
       "    </tr>\n",
       "    <tr>\n",
       "      <th>822571</th>\n",
       "      <td>1606581</td>\n",
       "      <td>www.cyber-aspect.com</td>\n",
       "      <td>English</td>\n",
       "      <td>en</td>\n",
       "      <td>Home</td>\n",
       "      <td>cyberaspect</td>\n",
       "    </tr>\n",
       "    <tr>\n",
       "      <th>791096</th>\n",
       "      <td>1470684</td>\n",
       "      <td>bbqguyblog.blogspot.com</td>\n",
       "      <td>English</td>\n",
       "      <td>en</td>\n",
       "      <td>Home</td>\n",
       "      <td>bbqguyblog</td>\n",
       "    </tr>\n",
       "    <tr>\n",
       "      <th>511278</th>\n",
       "      <td>252365</td>\n",
       "      <td>bighappyfamily.blogspot.com</td>\n",
       "      <td>English</td>\n",
       "      <td>en</td>\n",
       "      <td>Home</td>\n",
       "      <td>bighappyfamily</td>\n",
       "    </tr>\n",
       "    <tr>\n",
       "      <th>694067</th>\n",
       "      <td>1053553</td>\n",
       "      <td>www.carnivorousplants.org</td>\n",
       "      <td>English</td>\n",
       "      <td>en</td>\n",
       "      <td>Home</td>\n",
       "      <td>carnivorousplants</td>\n",
       "    </tr>\n",
       "    <tr>\n",
       "      <th>1021983</th>\n",
       "      <td>2474525</td>\n",
       "      <td>www.scubaboard.com</td>\n",
       "      <td>English</td>\n",
       "      <td>en</td>\n",
       "      <td>Home</td>\n",
       "      <td>scubaboard</td>\n",
       "    </tr>\n",
       "  </tbody>\n",
       "</table>\n",
       "<p>63696 rows × 6 columns</p>\n",
       "</div>"
      ],
      "text/plain": [
       "             uid                          url     lang lang_id       cat0  \\\n",
       "934747   2094851         www.gyrosystem.co.uk  English      en  Computers   \n",
       "888399   1892699         www.capegraphics.com  English      en  Computers   \n",
       "610948    691456      jsutils.sourceforge.net  English      en  Computers   \n",
       "514655    267211                 www.gwei.org  English      en  Computers   \n",
       "596136    624824           www.simplewire.com  English      en  Computers   \n",
       "...          ...                          ...      ...     ...        ...   \n",
       "822571   1606581         www.cyber-aspect.com  English      en       Home   \n",
       "791096   1470684      bbqguyblog.blogspot.com  English      en       Home   \n",
       "511278    252365  bighappyfamily.blogspot.com  English      en       Home   \n",
       "694067   1053553    www.carnivorousplants.org  English      en       Home   \n",
       "1021983  2474525           www.scubaboard.com  English      en       Home   \n",
       "\n",
       "                 clean_url  \n",
       "934747          gyrosystem  \n",
       "888399        capegraphics  \n",
       "610948             jsutils  \n",
       "514655                gwei  \n",
       "596136          simplewire  \n",
       "...                    ...  \n",
       "822571         cyberaspect  \n",
       "791096          bbqguyblog  \n",
       "511278      bighappyfamily  \n",
       "694067   carnivorousplants  \n",
       "1021983         scubaboard  \n",
       "\n",
       "[63696 rows x 6 columns]"
      ]
     },
     "execution_count": 19,
     "metadata": {},
     "output_type": "execute_result"
    }
   ],
   "source": [
    "df_bal"
   ]
  },
  {
   "cell_type": "code",
   "execution_count": 20,
   "metadata": {},
   "outputs": [],
   "source": [
    "ns = range(3, 8) # from 3 to 7\n",
    "df_bal['ngrams'] = df_bal.apply(lambda row: concat_ngrams(row.clean_url, ns), axis=1)"
   ]
  },
  {
   "cell_type": "code",
   "execution_count": 21,
   "metadata": {},
   "outputs": [],
   "source": [
    "categories = df_bal.cat0.unique()\n",
    "\n",
    "def categorize(c):\n",
    "    return categories.tolist().index(c)"
   ]
  },
  {
   "cell_type": "code",
   "execution_count": 22,
   "metadata": {},
   "outputs": [],
   "source": [
    "df_bal['catno'] = df_bal.apply(lambda row: categorize(row.cat0), axis=1)"
   ]
  },
  {
   "cell_type": "code",
   "execution_count": 23,
   "metadata": {},
   "outputs": [],
   "source": [
    "ix = np.arange(df_bal.shape[0])\n",
    "np.random.shuffle(ix)\n",
    "sep = int((1 - 0.1) * df_bal.shape[0])\n",
    "train = df_bal.iloc[ix[:sep]]\n",
    "test = df_bal.iloc[ix[sep:]]"
   ]
  },
  {
   "cell_type": "code",
   "execution_count": 24,
   "metadata": {},
   "outputs": [
    {
     "data": {
      "text/plain": [
       "Recreation    4537\n",
       "Society       4529\n",
       "Arts          4520\n",
       "Shopping      4518\n",
       "Science       4505\n",
       "Sports        4503\n",
       "Home          4496\n",
       "Business      4492\n",
       "Computers     4486\n",
       "Reference     4473\n",
       "Games         4468\n",
       "Health        4466\n",
       "News          3333\n",
       "Name: cat0, dtype: int64"
      ]
     },
     "execution_count": 24,
     "metadata": {},
     "output_type": "execute_result"
    }
   ],
   "source": [
    "train.cat0.value_counts()"
   ]
  },
  {
   "cell_type": "code",
   "execution_count": 25,
   "metadata": {},
   "outputs": [
    {
     "data": {
      "text/plain": [
       "Health        534\n",
       "Games         532\n",
       "Reference     527\n",
       "Computers     514\n",
       "Business      508\n",
       "Home          504\n",
       "Sports        497\n",
       "Science       495\n",
       "Shopping      482\n",
       "Arts          480\n",
       "Society       471\n",
       "Recreation    463\n",
       "News          363\n",
       "Name: cat0, dtype: int64"
      ]
     },
     "execution_count": 25,
     "metadata": {},
     "output_type": "execute_result"
    }
   ],
   "source": [
    "test.cat0.value_counts()"
   ]
  },
  {
   "cell_type": "code",
   "execution_count": 26,
   "metadata": {},
   "outputs": [],
   "source": [
    "train_bycat = train[['cat0', 'ngrams']].groupby('cat0').agg(lambda col: [s for l in col for s in l])"
   ]
  },
  {
   "cell_type": "code",
   "execution_count": 27,
   "metadata": {},
   "outputs": [],
   "source": [
    "def top_ngrams(l):\n",
    "    return pd.Series(l).value_counts().to_dict()"
   ]
  },
  {
   "cell_type": "code",
   "execution_count": 28,
   "metadata": {},
   "outputs": [],
   "source": [
    "train_bycat['top_ngrams_count'] = train_bycat.apply(lambda row: top_ngrams(row.ngrams), axis=1)"
   ]
  },
  {
   "cell_type": "code",
   "execution_count": 29,
   "metadata": {},
   "outputs": [],
   "source": [
    "def reduce_ngrams(ngrams_dict, nb_rep_ngrams):\n",
    "    red = set()\n",
    "    for s in ngrams_dict.keys(): # candidate\n",
    "        valid = True\n",
    "        init_count = ngrams_dict[s]\n",
    "        for t in list(ngrams_dict.keys()): # superstring\n",
    "            if len(t) > len(s): # longest substring\n",
    "                if s in t: # if there is a super-string in the ngrams\n",
    "                    if (init_count - ngrams_dict[t])/init_count <= 0.3: # and that there count rapport is less than 0.6\n",
    "                        s = t # discard substring\n",
    "        if valid:\n",
    "            red.add(s)\n",
    "        if len(red) == nb_rep_ngrams:\n",
    "            break\n",
    "                \n",
    "    return red"
   ]
  },
  {
   "cell_type": "code",
   "execution_count": 30,
   "metadata": {},
   "outputs": [],
   "source": [
    "nb_rep_ngrams = 50\n",
    "\n",
    "train_bycat['rep_ngrams'] = train_bycat.apply(lambda row: reduce_ngrams(row.top_ngrams_count, nb_rep_ngrams), axis=1)"
   ]
  },
  {
   "cell_type": "code",
   "execution_count": 31,
   "metadata": {},
   "outputs": [
    {
     "data": {
      "text/html": [
       "<div>\n",
       "<style scoped>\n",
       "    .dataframe tbody tr th:only-of-type {\n",
       "        vertical-align: middle;\n",
       "    }\n",
       "\n",
       "    .dataframe tbody tr th {\n",
       "        vertical-align: top;\n",
       "    }\n",
       "\n",
       "    .dataframe thead th {\n",
       "        text-align: right;\n",
       "    }\n",
       "</style>\n",
       "<table border=\"1\" class=\"dataframe\">\n",
       "  <thead>\n",
       "    <tr style=\"text-align: right;\">\n",
       "      <th></th>\n",
       "      <th>ngrams</th>\n",
       "      <th>top_ngrams_count</th>\n",
       "      <th>rep_ngrams</th>\n",
       "    </tr>\n",
       "    <tr>\n",
       "      <th>cat0</th>\n",
       "      <th></th>\n",
       "      <th></th>\n",
       "      <th></th>\n",
       "    </tr>\n",
       "  </thead>\n",
       "  <tbody>\n",
       "    <tr>\n",
       "      <th>Arts</th>\n",
       "      <td>[udrey, udr, unt, audr, dreybu, eyb, reybunt, ...</td>\n",
       "      <td>{'the': 249, 'art': 248, 'and': 228, 'ing': 18...</td>\n",
       "      <td>{con, ang, lin, sto, eat, tor, tre, car, alle,...</td>\n",
       "    </tr>\n",
       "    <tr>\n",
       "      <th>Business</th>\n",
       "      <td>[ircha, hartert, rte, rteam, irc, rtea, terte,...</td>\n",
       "      <td>{'ing': 309, 'ion': 194, 'ent': 157, 'ter': 15...</td>\n",
       "      <td>{ati, int, che, nte, con, lin, pro, tec, all, ...</td>\n",
       "    </tr>\n",
       "    <tr>\n",
       "      <th>Computers</th>\n",
       "      <td>[sana, sanadg, anadg, nadger, susanad, usana, ...</td>\n",
       "      <td>{'ing': 194, 'web': 192, 'ion': 179, 'oft': 17...</td>\n",
       "      <td>{int, media, oftware, nte, con, age, lin, sys,...</td>\n",
       "    </tr>\n",
       "    <tr>\n",
       "      <th>Games</th>\n",
       "      <td>[gmons, nster, onst, monster, monste, ons, gmo...</td>\n",
       "      <td>{'gam': 415, 'ame': 371, 'game': 343, 'ing': 2...</td>\n",
       "      <td>{min, con, der, lin, mer, all, net, ack, ide, ...</td>\n",
       "    </tr>\n",
       "    <tr>\n",
       "      <th>Health</th>\n",
       "      <td>[lymp, oru, omaf, omafor, phomaf, afo, pho, mp...</td>\n",
       "      <td>{'ing': 255, 'lin': 242, 'ent': 227, 'ter': 20...</td>\n",
       "      <td>{tic, cent, lin, ospital, ical, medi, ons, and...</td>\n",
       "    </tr>\n",
       "    <tr>\n",
       "      <th>Home</th>\n",
       "      <td>[helo, lyplant, elovel, ants, elypla, lants, v...</td>\n",
       "      <td>{'ing': 398, 'ard': 296, 'the': 269, 'den': 26...</td>\n",
       "      <td>{nan, ati, che, con, ani, lin, mer, ood, car, ...</td>\n",
       "    </tr>\n",
       "    <tr>\n",
       "      <th>News</th>\n",
       "      <td>[ehrdir, rdirect, rdi, recto, hehrdi, ehrdi, d...</td>\n",
       "      <td>{'new': 502, 'ews': 486, 'news': 478, 'the': 3...</td>\n",
       "      <td>{media, ount, photo, der, star, sto, line, ron...</td>\n",
       "    </tr>\n",
       "    <tr>\n",
       "      <th>Recreation</th>\n",
       "      <td>[ailarou, ndbirmi, ngh, ngham, rmingha, undbir...</td>\n",
       "      <td>{'ing': 350, 'ers': 296, 'ine': 288, 'ter': 22...</td>\n",
       "      <td>{der, unt, lin, camp, ave, all, ail, ree, vin,...</td>\n",
       "    </tr>\n",
       "    <tr>\n",
       "      <th>Reference</th>\n",
       "      <td>[obadg, gobadge, obadger, badge, badgers, badg...</td>\n",
       "      <td>{'mus': 184, 'use': 183, 'ing': 178, 'muse': 1...</td>\n",
       "      <td>{stud, ari, che, cent, librar, uni, athleti, l...</td>\n",
       "    </tr>\n",
       "    <tr>\n",
       "      <th>Science</th>\n",
       "      <td>[cep, h1inter, int, rcep, nte, h1int, ept, 1in...</td>\n",
       "      <td>{'ion': 169, 'ing': 161, 'ics': 154, 'log': 13...</td>\n",
       "      <td>{scien, tic, int, nte, con, geo, ence, lin, ro...</td>\n",
       "    </tr>\n",
       "    <tr>\n",
       "      <th>Shopping</th>\n",
       "      <td>[rtyjo, duckca, duckc, joe, duckcal, rtyj, tyj...</td>\n",
       "      <td>{'ing': 267, 'and': 210, 'art': 207, 'ers': 20...</td>\n",
       "      <td>{ler, ati, che, der, lin, sto, ear, car, ore, ...</td>\n",
       "    </tr>\n",
       "    <tr>\n",
       "      <th>Society</th>\n",
       "      <td>[ldef, efa, alcal, alcalde, lcal, lcald, def, ...</td>\n",
       "      <td>{'law': 242, 'ing': 216, 'ist': 198, 'ion': 19...</td>\n",
       "      <td>{int, ris, lin, sto, ight, all, ons, eri, law,...</td>\n",
       "    </tr>\n",
       "    <tr>\n",
       "      <th>Sports</th>\n",
       "      <td>[trider, strid, der, stri, ide, tri, ders, rid...</td>\n",
       "      <td>{'ing': 376, 'gol': 301, 'olf': 291, 'golf': 2...</td>\n",
       "      <td>{int, lin, cke, ara, all, sport, ski, golf, le...</td>\n",
       "    </tr>\n",
       "  </tbody>\n",
       "</table>\n",
       "</div>"
      ],
      "text/plain": [
       "                                                       ngrams  \\\n",
       "cat0                                                            \n",
       "Arts        [udrey, udr, unt, audr, dreybu, eyb, reybunt, ...   \n",
       "Business    [ircha, hartert, rte, rteam, irc, rtea, terte,...   \n",
       "Computers   [sana, sanadg, anadg, nadger, susanad, usana, ...   \n",
       "Games       [gmons, nster, onst, monster, monste, ons, gmo...   \n",
       "Health      [lymp, oru, omaf, omafor, phomaf, afo, pho, mp...   \n",
       "Home        [helo, lyplant, elovel, ants, elypla, lants, v...   \n",
       "News        [ehrdir, rdirect, rdi, recto, hehrdi, ehrdi, d...   \n",
       "Recreation  [ailarou, ndbirmi, ngh, ngham, rmingha, undbir...   \n",
       "Reference   [obadg, gobadge, obadger, badge, badgers, badg...   \n",
       "Science     [cep, h1inter, int, rcep, nte, h1int, ept, 1in...   \n",
       "Shopping    [rtyjo, duckca, duckc, joe, duckcal, rtyj, tyj...   \n",
       "Society     [ldef, efa, alcal, alcalde, lcal, lcald, def, ...   \n",
       "Sports      [trider, strid, der, stri, ide, tri, ders, rid...   \n",
       "\n",
       "                                             top_ngrams_count  \\\n",
       "cat0                                                            \n",
       "Arts        {'the': 249, 'art': 248, 'and': 228, 'ing': 18...   \n",
       "Business    {'ing': 309, 'ion': 194, 'ent': 157, 'ter': 15...   \n",
       "Computers   {'ing': 194, 'web': 192, 'ion': 179, 'oft': 17...   \n",
       "Games       {'gam': 415, 'ame': 371, 'game': 343, 'ing': 2...   \n",
       "Health      {'ing': 255, 'lin': 242, 'ent': 227, 'ter': 20...   \n",
       "Home        {'ing': 398, 'ard': 296, 'the': 269, 'den': 26...   \n",
       "News        {'new': 502, 'ews': 486, 'news': 478, 'the': 3...   \n",
       "Recreation  {'ing': 350, 'ers': 296, 'ine': 288, 'ter': 22...   \n",
       "Reference   {'mus': 184, 'use': 183, 'ing': 178, 'muse': 1...   \n",
       "Science     {'ion': 169, 'ing': 161, 'ics': 154, 'log': 13...   \n",
       "Shopping    {'ing': 267, 'and': 210, 'art': 207, 'ers': 20...   \n",
       "Society     {'law': 242, 'ing': 216, 'ist': 198, 'ion': 19...   \n",
       "Sports      {'ing': 376, 'gol': 301, 'olf': 291, 'golf': 2...   \n",
       "\n",
       "                                                   rep_ngrams  \n",
       "cat0                                                           \n",
       "Arts        {con, ang, lin, sto, eat, tor, tre, car, alle,...  \n",
       "Business    {ati, int, che, nte, con, lin, pro, tec, all, ...  \n",
       "Computers   {int, media, oftware, nte, con, age, lin, sys,...  \n",
       "Games       {min, con, der, lin, mer, all, net, ack, ide, ...  \n",
       "Health      {tic, cent, lin, ospital, ical, medi, ons, and...  \n",
       "Home        {nan, ati, che, con, ani, lin, mer, ood, car, ...  \n",
       "News        {media, ount, photo, der, star, sto, line, ron...  \n",
       "Recreation  {der, unt, lin, camp, ave, all, ail, ree, vin,...  \n",
       "Reference   {stud, ari, che, cent, librar, uni, athleti, l...  \n",
       "Science     {scien, tic, int, nte, con, geo, ence, lin, ro...  \n",
       "Shopping    {ler, ati, che, der, lin, sto, ear, car, ore, ...  \n",
       "Society     {int, ris, lin, sto, ight, all, ons, eri, law,...  \n",
       "Sports      {int, lin, cke, ara, all, sport, ski, golf, le...  "
      ]
     },
     "execution_count": 31,
     "metadata": {},
     "output_type": "execute_result"
    }
   ],
   "source": [
    "train_bycat"
   ]
  },
  {
   "cell_type": "code",
   "execution_count": 32,
   "metadata": {},
   "outputs": [
    {
     "data": {
      "text/plain": [
       "(288,)"
      ]
     },
     "execution_count": 32,
     "metadata": {},
     "output_type": "execute_result"
    }
   ],
   "source": [
    "all_rep_grams = np.unique([gram for gramlist in train_bycat.rep_ngrams for gram in gramlist])\n",
    "all_rep_grams.shape"
   ]
  },
  {
   "cell_type": "code",
   "execution_count": 33,
   "metadata": {},
   "outputs": [
    {
     "data": {
      "text/plain": [
       "array(['ach', 'ack', 'adopt', 'age', 'ail', 'all', 'alle', 'ame', 'anc',\n",
       "       'ance', 'and', 'ang', 'ani', 'animal', 'ann', 'ant', 'ara', 'arat',\n",
       "       'ard', 'are', 'ari', 'art', 'ass', 'ast', 'ate', 'athleti', 'ati',\n",
       "       'ation', 'ave', 'ball', 'band', 'baptist', 'bio', 'bridge', 'cal',\n",
       "       'camp', 'car', 'care', 'casino', 'cent', 'center', 'cha', 'che',\n",
       "       'chem', 'chess', 'chi', 'child', 'cho', 'church', 'cing', 'cke',\n",
       "       'clan', 'clinic', 'club', 'college', 'com', 'con', 'cook', 'count',\n",
       "       'county', 'cra', 'cycl', 'daily', 'dan', 'dance', 'der', 'desi',\n",
       "       'design', 'dio', 'ear', 'eat', 'eco', 'ect', 'ega', 'ell', 'ence',\n",
       "       'enews', 'ens', 'ent', 'enter', 'era', 'eri', 'ers', 'eschool',\n",
       "       'esign', 'ess', 'est', 'family', 'farm', 'fish', 'food', 'for',\n",
       "       'game', 'games', 'gaming', 'garden', 'gen', 'geo', 'golf',\n",
       "       'golfclu', 'gra', 'group', 'har', 'hea', 'heal', 'health', 'her',\n",
       "       'herald', 'hin', 'hletics', 'home', 'horse', 'hospi', 'hospita',\n",
       "       'host', 'ian', 'ica', 'ical', 'ics', 'ide', 'ies', 'ight', 'ill',\n",
       "       'inc', 'ind', 'ine', 'ing', 'int', 'ion', 'ist', 'ite', 'ity',\n",
       "       'ive', 'journal', 'ker', 'king', 'lab', 'lan', 'las', 'law', 'ler',\n",
       "       'les', 'librar', 'library', 'lin', 'line', 'lle', 'ller', 'mai',\n",
       "       'man', 'mar', 'mat', 'math', 'med', 'medi', 'media', 'medic',\n",
       "       'men', 'ment', 'mer', 'mes', 'mic', 'min', 'museum', 'music',\n",
       "       'nal', 'nan', 'nce', 'ner', 'nes', 'net', 'news', 'nne', 'nte',\n",
       "       'nter', 'ock', 'oftware', 'oking', 'olfclub', 'ology', 'olution',\n",
       "       'ome', 'ona', 'online', 'ons', 'ood', 'ook', 'ore', 'ors', 'ort',\n",
       "       'ospital', 'oun', 'ound', 'ount', 'our', 'out', 'par', 'per',\n",
       "       'photo', 'pla', 'play', 'press', 'pro', 'rac', 'racing', 'ran',\n",
       "       'rch', 'rea', 'recipe', 'recipes', 'ree', 'ren', 'res', 'ric',\n",
       "       'rid', 'rin', 'ris', 'ron', 'rth', 'rts', 'school', 'scien',\n",
       "       'science', 'sco', 'sho', 'shop', 'ski', 'soccer', 'soci',\n",
       "       'society', 'sof', 'soft', 'softwar', 'solutio', 'son', 'sport',\n",
       "       'sta', 'star', 'ste', 'sti', 'sto', 'str', 'stud', 'sys', 'system',\n",
       "       'systems', 'tal', 'tar', 'tat', 'tball', 'tch', 'tec', 'tech',\n",
       "       'ter', 'ters', 'the', 'ther', 'thletic', 'tho', 'tic', 'tics',\n",
       "       'times', 'tin', 'ting', 'tion', 'tions', 'ton', 'tor', 'tra',\n",
       "       'tre', 'tri', 'tro', 'tur', 'ture', 'umc', 'uni', 'unt', 'ure',\n",
       "       'ver', 'vet', 'vin', 'war', 'ware', 'web', 'wine', 'wines', 'wor',\n",
       "       'ynews'], dtype='<U7')"
      ]
     },
     "execution_count": 33,
     "metadata": {},
     "output_type": "execute_result"
    }
   ],
   "source": [
    "all_rep_grams"
   ]
  },
  {
   "cell_type": "code",
   "execution_count": 34,
   "metadata": {},
   "outputs": [],
   "source": [
    "def encode_repgrams_onehot(s, repgrams):\n",
    "    onehot = np.array([int(gram in s) for gram in repgrams])\n",
    "    return onehot"
   ]
  },
  {
   "cell_type": "markdown",
   "metadata": {},
   "source": [
    "### Clustering"
   ]
  },
  {
   "cell_type": "code",
   "execution_count": 35,
   "metadata": {},
   "outputs": [],
   "source": [
    "from sklearn.decomposition import PCA\n",
    "from sklearn.manifold import TSNE"
   ]
  },
  {
   "cell_type": "code",
   "execution_count": 36,
   "metadata": {},
   "outputs": [
    {
     "data": {
      "text/html": [
       "<div>\n",
       "<style scoped>\n",
       "    .dataframe tbody tr th:only-of-type {\n",
       "        vertical-align: middle;\n",
       "    }\n",
       "\n",
       "    .dataframe tbody tr th {\n",
       "        vertical-align: top;\n",
       "    }\n",
       "\n",
       "    .dataframe thead th {\n",
       "        text-align: right;\n",
       "    }\n",
       "</style>\n",
       "<table border=\"1\" class=\"dataframe\">\n",
       "  <thead>\n",
       "    <tr style=\"text-align: right;\">\n",
       "      <th></th>\n",
       "      <th>uid</th>\n",
       "      <th>url</th>\n",
       "      <th>lang</th>\n",
       "      <th>lang_id</th>\n",
       "      <th>cat0</th>\n",
       "      <th>clean_url</th>\n",
       "      <th>ngrams</th>\n",
       "      <th>catno</th>\n",
       "    </tr>\n",
       "  </thead>\n",
       "  <tbody>\n",
       "    <tr>\n",
       "      <th>0</th>\n",
       "      <td>742912</td>\n",
       "      <td>www.myevents.com</td>\n",
       "      <td>English</td>\n",
       "      <td>en</td>\n",
       "      <td>Computers</td>\n",
       "      <td>myevents</td>\n",
       "      <td>[even, ven, myev, yev, vents, yevent, ents, nt...</td>\n",
       "      <td>0</td>\n",
       "    </tr>\n",
       "    <tr>\n",
       "      <th>1</th>\n",
       "      <td>2048342</td>\n",
       "      <td>www.buysellcommunity.com</td>\n",
       "      <td>English</td>\n",
       "      <td>en</td>\n",
       "      <td>Shopping</td>\n",
       "      <td>buysellcommunity</td>\n",
       "      <td>[buysel, buyse, munit, buysell, sellcom, omm, ...</td>\n",
       "      <td>8</td>\n",
       "    </tr>\n",
       "    <tr>\n",
       "      <th>2</th>\n",
       "      <td>87105</td>\n",
       "      <td>www.highmountainweddings.com</td>\n",
       "      <td>English</td>\n",
       "      <td>en</td>\n",
       "      <td>Society</td>\n",
       "      <td>highmountainweddings</td>\n",
       "      <td>[untainw, ddi, tainwe, ountain, inwe, ghmo, nt...</td>\n",
       "      <td>2</td>\n",
       "    </tr>\n",
       "    <tr>\n",
       "      <th>3</th>\n",
       "      <td>491545</td>\n",
       "      <td>www.domdechantwerner.com</td>\n",
       "      <td>English</td>\n",
       "      <td>en</td>\n",
       "      <td>Recreation</td>\n",
       "      <td>domdechantwerner</td>\n",
       "      <td>[omd, wer, erne, domd, mdech, omdecha, antw, w...</td>\n",
       "      <td>7</td>\n",
       "    </tr>\n",
       "    <tr>\n",
       "      <th>4</th>\n",
       "      <td>1455153</td>\n",
       "      <td>www.oregonchai.com</td>\n",
       "      <td>English</td>\n",
       "      <td>en</td>\n",
       "      <td>Shopping</td>\n",
       "      <td>oregonchai</td>\n",
       "      <td>[gon, nchai, egonch, ore, egon, regonch, regon...</td>\n",
       "      <td>8</td>\n",
       "    </tr>\n",
       "    <tr>\n",
       "      <th>...</th>\n",
       "      <td>...</td>\n",
       "      <td>...</td>\n",
       "      <td>...</td>\n",
       "      <td>...</td>\n",
       "      <td>...</td>\n",
       "      <td>...</td>\n",
       "      <td>...</td>\n",
       "      <td>...</td>\n",
       "    </tr>\n",
       "    <tr>\n",
       "      <th>6365</th>\n",
       "      <td>291305</td>\n",
       "      <td>www.ecuita.com</td>\n",
       "      <td>English</td>\n",
       "      <td>en</td>\n",
       "      <td>Science</td>\n",
       "      <td>ecuita</td>\n",
       "      <td>[cui, ecuit, ecuita, uit, cuita, uita, ecu, ec...</td>\n",
       "      <td>5</td>\n",
       "    </tr>\n",
       "    <tr>\n",
       "      <th>6366</th>\n",
       "      <td>2195378</td>\n",
       "      <td>foodandthoughts.blogspot.com</td>\n",
       "      <td>English</td>\n",
       "      <td>en</td>\n",
       "      <td>Home</td>\n",
       "      <td>foodandthoughts</td>\n",
       "      <td>[thoug, odand, oodand, houg, dth, ught, odandt...</td>\n",
       "      <td>12</td>\n",
       "    </tr>\n",
       "    <tr>\n",
       "      <th>6367</th>\n",
       "      <td>679353</td>\n",
       "      <td>www.stjohnsprimary.kent.sch.uk</td>\n",
       "      <td>English</td>\n",
       "      <td>en</td>\n",
       "      <td>Society</td>\n",
       "      <td>stjohnsprimary</td>\n",
       "      <td>[tjohns, primary, nsprim, hns, johnspr, ohnspr...</td>\n",
       "      <td>2</td>\n",
       "    </tr>\n",
       "    <tr>\n",
       "      <th>6368</th>\n",
       "      <td>1513115</td>\n",
       "      <td>www.navegantegroup.com</td>\n",
       "      <td>English</td>\n",
       "      <td>en</td>\n",
       "      <td>Games</td>\n",
       "      <td>navegantegroup</td>\n",
       "      <td>[tegr, anteg, nte, gro, nteg, veg, aveg, egant...</td>\n",
       "      <td>10</td>\n",
       "    </tr>\n",
       "    <tr>\n",
       "      <th>6369</th>\n",
       "      <td>169613</td>\n",
       "      <td>www.cpcatalyst.com</td>\n",
       "      <td>English</td>\n",
       "      <td>en</td>\n",
       "      <td>Science</td>\n",
       "      <td>cpcatalyst</td>\n",
       "      <td>[ata, alys, alyst, cataly, cat, pcata, atal, c...</td>\n",
       "      <td>5</td>\n",
       "    </tr>\n",
       "  </tbody>\n",
       "</table>\n",
       "<p>6370 rows × 8 columns</p>\n",
       "</div>"
      ],
      "text/plain": [
       "          uid                             url     lang lang_id        cat0  \\\n",
       "0      742912                www.myevents.com  English      en   Computers   \n",
       "1     2048342        www.buysellcommunity.com  English      en    Shopping   \n",
       "2       87105    www.highmountainweddings.com  English      en     Society   \n",
       "3      491545        www.domdechantwerner.com  English      en  Recreation   \n",
       "4     1455153              www.oregonchai.com  English      en    Shopping   \n",
       "...       ...                             ...      ...     ...         ...   \n",
       "6365   291305                  www.ecuita.com  English      en     Science   \n",
       "6366  2195378    foodandthoughts.blogspot.com  English      en        Home   \n",
       "6367   679353  www.stjohnsprimary.kent.sch.uk  English      en     Society   \n",
       "6368  1513115          www.navegantegroup.com  English      en       Games   \n",
       "6369   169613              www.cpcatalyst.com  English      en     Science   \n",
       "\n",
       "                 clean_url                                             ngrams  \\\n",
       "0                 myevents  [even, ven, myev, yev, vents, yevent, ents, nt...   \n",
       "1         buysellcommunity  [buysel, buyse, munit, buysell, sellcom, omm, ...   \n",
       "2     highmountainweddings  [untainw, ddi, tainwe, ountain, inwe, ghmo, nt...   \n",
       "3         domdechantwerner  [omd, wer, erne, domd, mdech, omdecha, antw, w...   \n",
       "4               oregonchai  [gon, nchai, egonch, ore, egon, regonch, regon...   \n",
       "...                    ...                                                ...   \n",
       "6365                ecuita  [cui, ecuit, ecuita, uit, cuita, uita, ecu, ec...   \n",
       "6366       foodandthoughts  [thoug, odand, oodand, houg, dth, ught, odandt...   \n",
       "6367        stjohnsprimary  [tjohns, primary, nsprim, hns, johnspr, ohnspr...   \n",
       "6368        navegantegroup  [tegr, anteg, nte, gro, nteg, veg, aveg, egant...   \n",
       "6369            cpcatalyst  [ata, alys, alyst, cataly, cat, pcata, atal, c...   \n",
       "\n",
       "      catno  \n",
       "0         0  \n",
       "1         8  \n",
       "2         2  \n",
       "3         7  \n",
       "4         8  \n",
       "...     ...  \n",
       "6365      5  \n",
       "6366     12  \n",
       "6367      2  \n",
       "6368     10  \n",
       "6369      5  \n",
       "\n",
       "[6370 rows x 8 columns]"
      ]
     },
     "execution_count": 36,
     "metadata": {},
     "output_type": "execute_result"
    }
   ],
   "source": [
    "test.reset_index(inplace=True, drop=True)\n",
    "test"
   ]
  },
  {
   "cell_type": "code",
   "execution_count": 37,
   "metadata": {},
   "outputs": [
    {
     "name": "stderr",
     "output_type": "stream",
     "text": [
      "<ipython-input-37-31d22b69adfb>:1: SettingWithCopyWarning: \n",
      "A value is trying to be set on a copy of a slice from a DataFrame.\n",
      "Try using .loc[row_indexer,col_indexer] = value instead\n",
      "\n",
      "See the caveats in the documentation: https://pandas.pydata.org/pandas-docs/stable/user_guide/indexing.html#returning-a-view-versus-a-copy\n",
      "  test['ngrams_oh'] = test.apply(lambda row: encode_repgrams_onehot(row.clean_url, all_rep_grams), axis=1)\n"
     ]
    }
   ],
   "source": [
    "test['ngrams_oh'] = test.apply(lambda row: encode_repgrams_onehot(row.clean_url, all_rep_grams), axis=1)"
   ]
  },
  {
   "cell_type": "code",
   "execution_count": 38,
   "metadata": {},
   "outputs": [
    {
     "data": {
      "text/html": [
       "<div>\n",
       "<style scoped>\n",
       "    .dataframe tbody tr th:only-of-type {\n",
       "        vertical-align: middle;\n",
       "    }\n",
       "\n",
       "    .dataframe tbody tr th {\n",
       "        vertical-align: top;\n",
       "    }\n",
       "\n",
       "    .dataframe thead th {\n",
       "        text-align: right;\n",
       "    }\n",
       "</style>\n",
       "<table border=\"1\" class=\"dataframe\">\n",
       "  <thead>\n",
       "    <tr style=\"text-align: right;\">\n",
       "      <th></th>\n",
       "      <th>uid</th>\n",
       "      <th>url</th>\n",
       "      <th>lang</th>\n",
       "      <th>lang_id</th>\n",
       "      <th>cat0</th>\n",
       "      <th>clean_url</th>\n",
       "      <th>ngrams</th>\n",
       "      <th>catno</th>\n",
       "      <th>ngrams_oh</th>\n",
       "    </tr>\n",
       "  </thead>\n",
       "  <tbody>\n",
       "    <tr>\n",
       "      <th>0</th>\n",
       "      <td>742912</td>\n",
       "      <td>www.myevents.com</td>\n",
       "      <td>English</td>\n",
       "      <td>en</td>\n",
       "      <td>Computers</td>\n",
       "      <td>myevents</td>\n",
       "      <td>[even, ven, myev, yev, vents, yevent, ents, nt...</td>\n",
       "      <td>0</td>\n",
       "      <td>[0, 0, 0, 0, 0, 0, 0, 0, 0, 0, 0, 0, 0, 0, 0, ...</td>\n",
       "    </tr>\n",
       "  </tbody>\n",
       "</table>\n",
       "</div>"
      ],
      "text/plain": [
       "      uid               url     lang lang_id       cat0 clean_url  \\\n",
       "0  742912  www.myevents.com  English      en  Computers  myevents   \n",
       "\n",
       "                                              ngrams  catno  \\\n",
       "0  [even, ven, myev, yev, vents, yevent, ents, nt...      0   \n",
       "\n",
       "                                           ngrams_oh  \n",
       "0  [0, 0, 0, 0, 0, 0, 0, 0, 0, 0, 0, 0, 0, 0, 0, ...  "
      ]
     },
     "execution_count": 38,
     "metadata": {},
     "output_type": "execute_result"
    }
   ],
   "source": [
    "test.head(1)"
   ]
  },
  {
   "cell_type": "code",
   "execution_count": 39,
   "metadata": {},
   "outputs": [
    {
     "data": {
      "text/plain": [
       "(6370, 288)"
      ]
     },
     "execution_count": 39,
     "metadata": {},
     "output_type": "execute_result"
    }
   ],
   "source": [
    "x = np.concatenate(test.ngrams_oh.to_numpy()).ravel()\n",
    "x = x.reshape(-1, len(all_rep_grams))\n",
    "x.shape"
   ]
  },
  {
   "cell_type": "code",
   "execution_count": 40,
   "metadata": {},
   "outputs": [
    {
     "data": {
      "text/plain": [
       "13"
      ]
     },
     "execution_count": 40,
     "metadata": {},
     "output_type": "execute_result"
    }
   ],
   "source": [
    "train.cat0.nunique()"
   ]
  },
  {
   "cell_type": "code",
   "execution_count": 41,
   "metadata": {},
   "outputs": [],
   "source": [
    "pca = PCA(n_components=13)\n",
    "x_pca = pca.fit_transform(x)"
   ]
  },
  {
   "cell_type": "code",
   "execution_count": 42,
   "metadata": {},
   "outputs": [
    {
     "data": {
      "text/plain": [
       "array([[ 0.03222541,  0.06455295,  0.34337471, ...,  0.01868494,\n",
       "         0.13503884,  0.10479184],\n",
       "       [-0.02249899, -0.11925346, -0.01818563, ..., -0.09981399,\n",
       "         0.04979925, -0.01212225],\n",
       "       [ 0.00757703,  0.70080708, -0.24726149, ..., -0.10464251,\n",
       "        -0.04035939, -0.07033636],\n",
       "       ...,\n",
       "       [-0.08000398, -0.07353597, -0.01526005, ..., -0.06495671,\n",
       "        -0.01430877,  0.00405512],\n",
       "       [ 0.09042123,  0.00945271,  0.32393563, ..., -0.1563707 ,\n",
       "         0.00104171, -0.03338973],\n",
       "       [-0.06458515, -0.10055036,  0.00236465, ..., -0.01898395,\n",
       "         0.00601793,  0.07741125]])"
      ]
     },
     "execution_count": 42,
     "metadata": {},
     "output_type": "execute_result"
    }
   ],
   "source": [
    "x_pca"
   ]
  },
  {
   "cell_type": "code",
   "execution_count": 49,
   "metadata": {},
   "outputs": [],
   "source": [
    "tsne = TSNE(n_components=2)\n",
    "x_tsne = tsne.fit_transform(x)"
   ]
  },
  {
   "cell_type": "code",
   "execution_count": 50,
   "metadata": {},
   "outputs": [
    {
     "data": {
      "text/plain": [
       "array([[ 15.3493805,  45.178913 ],\n",
       "       [ 52.862415 ,  22.467436 ],\n",
       "       [ 36.71663  ,  58.53847  ],\n",
       "       ...,\n",
       "       [-42.458332 , -13.12736  ],\n",
       "       [ 68.407455 ,   9.2493305],\n",
       "       [-23.283401 ,  11.269152 ]], dtype=float32)"
      ]
     },
     "execution_count": 50,
     "metadata": {},
     "output_type": "execute_result"
    }
   ],
   "source": [
    "x_tsne"
   ]
  },
  {
   "cell_type": "code",
   "execution_count": 51,
   "metadata": {},
   "outputs": [
    {
     "name": "stderr",
     "output_type": "stream",
     "text": [
      "<ipython-input-51-09e1fdedd9b4>:25: MatplotlibDeprecationWarning: Passing the minor parameter of set_ticks() positionally is deprecated since Matplotlib 3.2; the parameter will become keyword-only two minor releases later.\n",
      "  ax.set_xticks([], [])\n",
      "<ipython-input-51-09e1fdedd9b4>:26: MatplotlibDeprecationWarning: Passing the minor parameter of set_ticks() positionally is deprecated since Matplotlib 3.2; the parameter will become keyword-only two minor releases later.\n",
      "  ax.set_yticks([], [])\n"
     ]
    },
    {
     "data": {
      "image/png": "[encoded data removed]",
      "text/plain": [
       "<Figure size 1152x720 with 1 Axes>"
      ]
     },
     "metadata": {},
     "output_type": "display_data"
    }
   ],
   "source": [
    "categories = test.cat0.unique()\n",
    "\n",
    "colormap = plt.get_cmap('tab20')\n",
    "\n",
    "opacity = 1\n",
    "marker_size = 2\n",
    "marker = 'o'\n",
    "\n",
    "fig, ax = plt.subplots(figsize=(16, 10))\n",
    "\n",
    "n = 0\n",
    "ncat = len(categories)\n",
    "\n",
    "for cat in categories:\n",
    "    ix = test[test.cat0 == cat].index\n",
    "    x_val = x_tsne[ix][:,0]\n",
    "    y_val = x_tsne[ix][:,1]\n",
    "    plt.scatter(x_val, y_val, color=colormap(n), marker=marker, s=marker_size, alpha=opacity, label=cat)\n",
    "    \n",
    "    n += 1\n",
    "\n",
    "#ax.set_xlim([-45,65])\n",
    "#ax.set_ylim([0,1])\n",
    "\n",
    "ax.set_xticks([], [])\n",
    "ax.set_yticks([], [])\n",
    "    \n",
    "#plt.title('t-SNE decomposition of description content in meta tags')\n",
    "plt.legend(markerscale=2, fontsize=13)\n",
    "plt.plot();"
   ]
  },
  {
   "cell_type": "markdown",
   "metadata": {},
   "source": [
    "bof..."
   ]
  },
  {
   "cell_type": "markdown",
   "metadata": {},
   "source": [
    "### Training random classifier"
   ]
  },
  {
   "cell_type": "code",
   "execution_count": 89,
   "metadata": {},
   "outputs": [],
   "source": [
    "from sklearn.ensemble import RandomForestClassifier\n",
    "from sklearn.metrics import precision_recall_fscore_support"
   ]
  },
  {
   "cell_type": "code",
   "execution_count": 269,
   "metadata": {},
   "outputs": [],
   "source": [
    "import warnings\n",
    "warnings.filterwarnings('ignore')\n",
    "\n",
    "from tqdm import tqdm"
   ]
  },
  {
   "cell_type": "code",
   "execution_count": 378,
   "metadata": {},
   "outputs": [
    {
     "name": "stderr",
     "output_type": "stream",
     "text": [
      "100%|██████████| 8/8 [07:40<00:00, 57.59s/it]\n"
     ]
    }
   ],
   "source": [
    "nb_all_ngram = []\n",
    "fracs = []\n",
    "train_scores = []\n",
    "test_scores = []\n",
    "\n",
    "range_rep_ngrams = [1] + list(range(10, 80, 10))\n",
    "\n",
    "for nb_rep_ngrams in tqdm(range_rep_ngrams):\n",
    "\n",
    "    train_bycat['rep_ngrams'] = train_bycat.apply(lambda row: reduce_ngrams(row.top_ngrams_count, nb_rep_ngrams), axis=1)\n",
    "\n",
    "    all_rep_grams = np.unique([gram for gramlist in train_bycat.rep_ngrams for gram in gramlist])\n",
    "    \n",
    "    train['repgrams_oh'] = train.apply(lambda row: encode_repgrams_onehot(row.clean_url, all_rep_grams), axis=1)\n",
    "    test['repgrams_oh'] = test.apply(lambda row: encode_repgrams_onehot(row.clean_url, all_rep_grams), axis=1)\n",
    "\n",
    "    no_repgram = (train.repgrams_oh.apply(sum) == 0).value_counts()\n",
    "    frac_no_repgram = (no_repgram[True] / (no_repgram[True] + no_repgram[False])) # percentage of urls without any rep ngrams\n",
    "    \n",
    "    x_train = np.concatenate(train[train.repgrams_oh.apply(sum) != 0].repgrams_oh.to_numpy()).ravel()\n",
    "    x_train = x_train.reshape(-1, all_rep_grams.shape[0])\n",
    "    \n",
    "    x_test = np.concatenate(test[test.repgrams_oh.apply(sum) != 0].repgrams_oh.to_numpy()).ravel()\n",
    "    x_test = x_test.reshape(-1, all_rep_grams.shape[0])\n",
    "    \n",
    "    y_train = train[train.repgrams_oh.apply(sum) != 0].catno.values\n",
    "    \n",
    "    y_test = test[test.repgrams_oh.apply(sum) != 0].catno.values\n",
    "\n",
    "    forest = RandomForestClassifier(n_estimators=300, max_depth=5, random_state=42)\n",
    "    forest.fit(x_train, y_train)\n",
    "\n",
    "    train_score = precision_recall_fscore_support(y_train, forest.predict(x_train), average='weighted')\n",
    "    test_score = precision_recall_fscore_support(y_test, forest.predict(x_test), average='weighted')\n",
    "    \n",
    "    nb_all_ngram += [len(all_rep_grams)]\n",
    "    fracs += [frac_no_repgram]\n",
    "    train_scores += [train_score]\n",
    "    test_scores += [test_score]"
   ]
  },
  {
   "cell_type": "code",
   "execution_count": 379,
   "metadata": {},
   "outputs": [
    {
     "data": {
      "image/png": "[encoded data removed]",
      "text/plain": [
       "<Figure size 576x432 with 2 Axes>"
      ]
     },
     "metadata": {
      "needs_background": "light"
     },
     "output_type": "display_data"
    }
   ],
   "source": [
    "import matplotlib.pyplot as plt\n",
    "\n",
    "fig, ax1 = plt.subplots(figsize=(8, 6))\n",
    "\n",
    "color = 'tab:red'\n",
    "ax1.set_xlabel('ngrams per topic', size=15)\n",
    "ax1.set_ylabel('total ngrams', color=color, size=15)\n",
    "ax1.plot(range_rep_ngrams, nb_all_ngram, color=color)\n",
    "ax1.tick_params(axis='y', labelcolor=color)\n",
    "\n",
    "ax2 = ax1.twinx()  # instantiate a second axes that shares the same x-axis\n",
    "\n",
    "color = 'tab:blue'\n",
    "ax2.set_ylabel('fraction of unmatched urls', color=color, size=15)  # we already handled the x-label with ax1\n",
    "ax2.plot(range_rep_ngrams, [100 * f for f in fracs], color=color)\n",
    "ax2.tick_params(axis='y', labelcolor=color)\n",
    "ax2.set_ylim([0,100])\n",
    "\n",
    "fig.tight_layout()  # otherwise the right y-label is slightly clipped\n",
    "plt.show()\n"
   ]
  },
  {
   "cell_type": "code",
   "execution_count": 380,
   "metadata": {},
   "outputs": [
    {
     "data": {
      "image/png": "[encoded data removed]",
      "text/plain": [
       "<Figure size 576x432 with 1 Axes>"
      ]
     },
     "metadata": {
      "needs_background": "light"
     },
     "output_type": "display_data"
    }
   ],
   "source": [
    "fig, ax1 = plt.subplots(figsize=(8, 6))\n",
    "\n",
    "ax1.set_xlabel('ngrams per topic', size=15)\n",
    "\n",
    "ax1.plot(range_rep_ngrams, [s[0] for s in test_scores], color='tab:red', label='test precision')\n",
    "ax1.plot(range_rep_ngrams, [s[0] for s in train_scores], color='tab:orange', label='train precision')\n",
    "\n",
    "ax1.plot(range_rep_ngrams, [s[1] for s in test_scores], color='tab:blue', label='test recall')\n",
    "ax1.plot(range_rep_ngrams, [s[1] for s in train_scores], color='tab:cyan', label='train recall')\n",
    "\n",
    "ax1.set_ylim([0,1])\n",
    "\n",
    "plt.legend(fontsize=13)\n",
    "\n",
    "plt.show()"
   ]
  },
  {
   "cell_type": "markdown",
   "metadata": {},
   "source": [
    "Best classifier seem to be with 50 most common ngrams and a max depth of 10"
   ]
  },
  {
   "cell_type": "code",
   "execution_count": null,
   "metadata": {},
   "outputs": [],
   "source": []
  }
 ],
 "metadata": {
  "kernelspec": {
   "display_name": "Python 3",
   "language": "python",
   "name": "python3"
  },
  "language_info": {
   "codemirror_mode": {
    "name": "ipython",
    "version": 3
   },
   "file_extension": ".py",
   "mimetype": "text/x-python",
   "name": "python",
   "nbconvert_exporter": "python",
   "pygments_lexer": "ipython3",
   "version": "3.8.5"
  }
 },
 "nbformat": 4,
 "nbformat_minor": 4
}
