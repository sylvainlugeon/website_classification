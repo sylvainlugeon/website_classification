{
 "cells": [
  {
   "cell_type": "code",
   "execution_count": 17,
   "metadata": {},
   "outputs": [],
   "source": [
    "import numpy as np\n",
    "import pandas as pd\n",
    "import gzip\n",
    "import json"
   ]
  },
  {
   "cell_type": "code",
   "execution_count": 12,
   "metadata": {},
   "outputs": [],
   "source": [
    "folder = '/dlabdata1/lugeon/'\n",
    "name = 'websites_40_000_5cat'\n",
    "ext = '.csv'\n",
    "data = pd.read_csv(folder + name + ext)"
   ]
  },
  {
   "cell_type": "code",
   "execution_count": 13,
   "metadata": {},
   "outputs": [],
   "source": [
    "data = data[['url', 'cat']]"
   ]
  },
  {
   "cell_type": "code",
   "execution_count": 14,
   "metadata": {},
   "outputs": [
    {
     "data": {
      "text/html": [
       "<div>\n",
       "<style scoped>\n",
       "    .dataframe tbody tr th:only-of-type {\n",
       "        vertical-align: middle;\n",
       "    }\n",
       "\n",
       "    .dataframe tbody tr th {\n",
       "        vertical-align: top;\n",
       "    }\n",
       "\n",
       "    .dataframe thead th {\n",
       "        text-align: right;\n",
       "    }\n",
       "</style>\n",
       "<table border=\"1\" class=\"dataframe\">\n",
       "  <thead>\n",
       "    <tr style=\"text-align: right;\">\n",
       "      <th></th>\n",
       "      <th>url</th>\n",
       "      <th>cat</th>\n",
       "    </tr>\n",
       "  </thead>\n",
       "  <tbody>\n",
       "    <tr>\n",
       "      <th>0</th>\n",
       "      <td>http://www.geocities.com/soniartist/</td>\n",
       "      <td>Arts</td>\n",
       "    </tr>\n",
       "    <tr>\n",
       "      <th>1</th>\n",
       "      <td>http://sknr.net/2008/06/21/v-for-vendetta/</td>\n",
       "      <td>Arts</td>\n",
       "    </tr>\n",
       "    <tr>\n",
       "      <th>2</th>\n",
       "      <td>http://www.mit.edu/people/xopher/product/soupd...</td>\n",
       "      <td>Arts</td>\n",
       "    </tr>\n",
       "    <tr>\n",
       "      <th>3</th>\n",
       "      <td>http://geocities.com/boxbrownie2002/</td>\n",
       "      <td>Arts</td>\n",
       "    </tr>\n",
       "    <tr>\n",
       "      <th>4</th>\n",
       "      <td>http://us.imdb.com/name/nm0911542/</td>\n",
       "      <td>Arts</td>\n",
       "    </tr>\n",
       "  </tbody>\n",
       "</table>\n",
       "</div>"
      ],
      "text/plain": [
       "                                                 url   cat\n",
       "0               http://www.geocities.com/soniartist/  Arts\n",
       "1         http://sknr.net/2008/06/21/v-for-vendetta/  Arts\n",
       "2  http://www.mit.edu/people/xopher/product/soupd...  Arts\n",
       "3               http://geocities.com/boxbrownie2002/  Arts\n",
       "4                 http://us.imdb.com/name/nm0911542/  Arts"
      ]
     },
     "execution_count": 14,
     "metadata": {},
     "output_type": "execute_result"
    }
   ],
   "source": [
    "data.head()"
   ]
  },
  {
   "cell_type": "code",
   "execution_count": 31,
   "metadata": {},
   "outputs": [],
   "source": [
    "import multiprocessing as mp\n",
    "import requests\n",
    "from bs4 import BeautifulSoup"
   ]
  },
  {
   "cell_type": "code",
   "execution_count": 36,
   "metadata": {},
   "outputs": [
    {
     "data": {
      "text/html": [
       "<div>\n",
       "<style scoped>\n",
       "    .dataframe tbody tr th:only-of-type {\n",
       "        vertical-align: middle;\n",
       "    }\n",
       "\n",
       "    .dataframe tbody tr th {\n",
       "        vertical-align: top;\n",
       "    }\n",
       "\n",
       "    .dataframe thead th {\n",
       "        text-align: right;\n",
       "    }\n",
       "</style>\n",
       "<table border=\"1\" class=\"dataframe\">\n",
       "  <thead>\n",
       "    <tr style=\"text-align: right;\">\n",
       "      <th></th>\n",
       "      <th>url</th>\n",
       "      <th>cat</th>\n",
       "    </tr>\n",
       "  </thead>\n",
       "  <tbody>\n",
       "    <tr>\n",
       "      <th>0</th>\n",
       "      <td>http://www.geocities.com/soniartist/</td>\n",
       "      <td>Arts</td>\n",
       "    </tr>\n",
       "    <tr>\n",
       "      <th>1</th>\n",
       "      <td>http://sknr.net/2008/06/21/v-for-vendetta/</td>\n",
       "      <td>Arts</td>\n",
       "    </tr>\n",
       "    <tr>\n",
       "      <th>2</th>\n",
       "      <td>http://www.mit.edu/people/xopher/product/soupd...</td>\n",
       "      <td>Arts</td>\n",
       "    </tr>\n",
       "    <tr>\n",
       "      <th>3</th>\n",
       "      <td>http://geocities.com/boxbrownie2002/</td>\n",
       "      <td>Arts</td>\n",
       "    </tr>\n",
       "    <tr>\n",
       "      <th>4</th>\n",
       "      <td>http://us.imdb.com/name/nm0911542/</td>\n",
       "      <td>Arts</td>\n",
       "    </tr>\n",
       "    <tr>\n",
       "      <th>5</th>\n",
       "      <td>http://www.andeannation.com/</td>\n",
       "      <td>Arts</td>\n",
       "    </tr>\n",
       "    <tr>\n",
       "      <th>6</th>\n",
       "      <td>http://www.fortunecity.com/lavender/tarantino/...</td>\n",
       "      <td>Arts</td>\n",
       "    </tr>\n",
       "    <tr>\n",
       "      <th>7</th>\n",
       "      <td>http://www.psthibodeaux.com/</td>\n",
       "      <td>Arts</td>\n",
       "    </tr>\n",
       "    <tr>\n",
       "      <th>8</th>\n",
       "      <td>http://www.redhotjazz.com/venuti.html</td>\n",
       "      <td>Arts</td>\n",
       "    </tr>\n",
       "    <tr>\n",
       "      <th>9</th>\n",
       "      <td>http://www.triowanderer.com/index_us.htm</td>\n",
       "      <td>Arts</td>\n",
       "    </tr>\n",
       "  </tbody>\n",
       "</table>\n",
       "</div>"
      ],
      "text/plain": [
       "                                                 url   cat\n",
       "0               http://www.geocities.com/soniartist/  Arts\n",
       "1         http://sknr.net/2008/06/21/v-for-vendetta/  Arts\n",
       "2  http://www.mit.edu/people/xopher/product/soupd...  Arts\n",
       "3               http://geocities.com/boxbrownie2002/  Arts\n",
       "4                 http://us.imdb.com/name/nm0911542/  Arts\n",
       "5                       http://www.andeannation.com/  Arts\n",
       "6  http://www.fortunecity.com/lavender/tarantino/...  Arts\n",
       "7                       http://www.psthibodeaux.com/  Arts\n",
       "8              http://www.redhotjazz.com/venuti.html  Arts\n",
       "9           http://www.triowanderer.com/index_us.htm  Arts"
      ]
     },
     "execution_count": 36,
     "metadata": {},
     "output_type": "execute_result"
    }
   ],
   "source": [
    "data2 = data[:10]\n",
    "data2"
   ]
  },
  {
   "cell_type": "code",
   "execution_count": 68,
   "metadata": {},
   "outputs": [],
   "source": [
    "p = mp.Pool(int(mp.cpu_count() / 2))"
   ]
  },
  {
   "cell_type": "code",
   "execution_count": 69,
   "metadata": {},
   "outputs": [],
   "source": [
    "def get_homepage(url):\n",
    "    try:\n",
    "        return requests.get(url, timeout=2).text\n",
    "    except(Exception):\n",
    "        return None"
   ]
  },
  {
   "cell_type": "code",
   "execution_count": null,
   "metadata": {},
   "outputs": [],
   "source": [
    "def write_on_file()"
   ]
  },
  {
   "cell_type": "code",
   "execution_count": 71,
   "metadata": {},
   "outputs": [
    {
     "name": "stderr",
     "output_type": "stream",
     "text": [
      "/opt/anaconda3/lib/python3.7/site-packages/ipykernel_launcher.py:1: SettingWithCopyWarning: \n",
      "A value is trying to be set on a copy of a slice from a DataFrame.\n",
      "Try using .loc[row_indexer,col_indexer] = value instead\n",
      "\n",
      "See the caveats in the documentation: https://pandas.pydata.org/pandas-docs/stable/user_guide/indexing.html#returning-a-view-versus-a-copy\n",
      "  \"\"\"Entry point for launching an IPython kernel.\n"
     ]
    }
   ],
   "source": [
    "data2['html'] = p.map(get_homepage, data2['url'])"
   ]
  },
  {
   "cell_type": "code",
   "execution_count": null,
   "metadata": {},
   "outputs": [],
   "source": [
    "with gzip.open(folder + name + '_scp.gz', 'wt') as f:\n",
    "    \n",
    "    p = mp.Pool(int(mp.cpu_count() / 2))\n",
    "    \n",
    "    def write_on_file(url):\n",
    "        try:\n",
    "            html = requests.get(url, timeout=2).text\n",
    "            page = {\n",
    "                'url': url\n",
    "            }\n",
    "    except(Exception):\n",
    "        return None\n",
    "    page = {\n",
    "        'url': \n",
    "    }"
   ]
  },
  {
   "cell_type": "code",
   "execution_count": 66,
   "metadata": {},
   "outputs": [
    {
     "data": {
      "text/html": [
       "<div>\n",
       "<style scoped>\n",
       "    .dataframe tbody tr th:only-of-type {\n",
       "        vertical-align: middle;\n",
       "    }\n",
       "\n",
       "    .dataframe tbody tr th {\n",
       "        vertical-align: top;\n",
       "    }\n",
       "\n",
       "    .dataframe thead th {\n",
       "        text-align: right;\n",
       "    }\n",
       "</style>\n",
       "<table border=\"1\" class=\"dataframe\">\n",
       "  <thead>\n",
       "    <tr style=\"text-align: right;\">\n",
       "      <th></th>\n",
       "      <th>url</th>\n",
       "      <th>cat</th>\n",
       "      <th>html</th>\n",
       "    </tr>\n",
       "  </thead>\n",
       "  <tbody>\n",
       "    <tr>\n",
       "      <th>0</th>\n",
       "      <td>http://www.geocities.com/soniartist/</td>\n",
       "      <td>Arts</td>\n",
       "      <td></td>\n",
       "    </tr>\n",
       "    <tr>\n",
       "      <th>1</th>\n",
       "      <td>http://sknr.net/2008/06/21/v-for-vendetta/</td>\n",
       "      <td>Arts</td>\n",
       "      <td>&lt;!doctype html &gt; &lt;!--[if lt IE 7]&gt;&lt;html class=...</td>\n",
       "    </tr>\n",
       "    <tr>\n",
       "      <th>2</th>\n",
       "      <td>http://www.mit.edu/people/xopher/product/soupd...</td>\n",
       "      <td>Arts</td>\n",
       "      <td>&lt;!DOCTYPE html&gt;\\n&lt;html lang=\"en\" class=\"no-js ...</td>\n",
       "    </tr>\n",
       "    <tr>\n",
       "      <th>3</th>\n",
       "      <td>http://geocities.com/boxbrownie2002/</td>\n",
       "      <td>Arts</td>\n",
       "      <td></td>\n",
       "    </tr>\n",
       "    <tr>\n",
       "      <th>4</th>\n",
       "      <td>http://us.imdb.com/name/nm0911542/</td>\n",
       "      <td>Arts</td>\n",
       "      <td>None</td>\n",
       "    </tr>\n",
       "    <tr>\n",
       "      <th>5</th>\n",
       "      <td>http://www.andeannation.com/</td>\n",
       "      <td>Arts</td>\n",
       "      <td>None</td>\n",
       "    </tr>\n",
       "    <tr>\n",
       "      <th>6</th>\n",
       "      <td>http://www.fortunecity.com/lavender/tarantino/...</td>\n",
       "      <td>Arts</td>\n",
       "      <td>&lt;html&gt;\\n&lt;head&gt;\\n&lt;meta http-equiv=\"Content-Type...</td>\n",
       "    </tr>\n",
       "    <tr>\n",
       "      <th>7</th>\n",
       "      <td>http://www.psthibodeaux.com/</td>\n",
       "      <td>Arts</td>\n",
       "      <td>&lt;!DOCTYPE html PUBLIC \"-//W3C//DTD XHTML 1.0 T...</td>\n",
       "    </tr>\n",
       "    <tr>\n",
       "      <th>8</th>\n",
       "      <td>http://www.redhotjazz.com/venuti.html</td>\n",
       "      <td>Arts</td>\n",
       "      <td>None</td>\n",
       "    </tr>\n",
       "    <tr>\n",
       "      <th>9</th>\n",
       "      <td>http://www.triowanderer.com/index_us.htm</td>\n",
       "      <td>Arts</td>\n",
       "      <td>&lt;!DOCTYPE html&gt;\\n&lt;html lang=\"fr-FR\"&gt;\\n&lt;head&gt;\\n...</td>\n",
       "    </tr>\n",
       "  </tbody>\n",
       "</table>\n",
       "</div>"
      ],
      "text/plain": [
       "                                                 url   cat  \\\n",
       "0               http://www.geocities.com/soniartist/  Arts   \n",
       "1         http://sknr.net/2008/06/21/v-for-vendetta/  Arts   \n",
       "2  http://www.mit.edu/people/xopher/product/soupd...  Arts   \n",
       "3               http://geocities.com/boxbrownie2002/  Arts   \n",
       "4                 http://us.imdb.com/name/nm0911542/  Arts   \n",
       "5                       http://www.andeannation.com/  Arts   \n",
       "6  http://www.fortunecity.com/lavender/tarantino/...  Arts   \n",
       "7                       http://www.psthibodeaux.com/  Arts   \n",
       "8              http://www.redhotjazz.com/venuti.html  Arts   \n",
       "9           http://www.triowanderer.com/index_us.htm  Arts   \n",
       "\n",
       "                                                html  \n",
       "0                                                     \n",
       "1  <!doctype html > <!--[if lt IE 7]><html class=...  \n",
       "2  <!DOCTYPE html>\\n<html lang=\"en\" class=\"no-js ...  \n",
       "3                                                     \n",
       "4                                               None  \n",
       "5                                               None  \n",
       "6  <html>\\n<head>\\n<meta http-equiv=\"Content-Type...  \n",
       "7  <!DOCTYPE html PUBLIC \"-//W3C//DTD XHTML 1.0 T...  \n",
       "8                                               None  \n",
       "9  <!DOCTYPE html>\\n<html lang=\"fr-FR\">\\n<head>\\n...  "
      ]
     },
     "execution_count": 66,
     "metadata": {},
     "output_type": "execute_result"
    }
   ],
   "source": [
    "data2"
   ]
  },
  {
   "cell_type": "code",
   "execution_count": null,
   "metadata": {},
   "outputs": [],
   "source": []
  }
 ],
 "metadata": {
  "kernelspec": {
   "display_name": "Python 3",
   "language": "python",
   "name": "python3"
  },
  "language_info": {
   "codemirror_mode": {
    "name": "ipython",
    "version": 3
   },
   "file_extension": ".py",
   "mimetype": "text/x-python",
   "name": "python",
   "nbconvert_exporter": "python",
   "pygments_lexer": "ipython3",
   "version": "3.7.7"
  }
 },
 "nbformat": 4,
 "nbformat_minor": 4
}
