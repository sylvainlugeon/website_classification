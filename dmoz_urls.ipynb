{
 "cells": [
  {
   "cell_type": "code",
   "execution_count": 2,
   "metadata": {},
   "outputs": [],
   "source": [
    "import pandas as pd\n",
    "import numpy as np\n",
    "import re"
   ]
  },
  {
   "cell_type": "code",
   "execution_count": 3,
   "metadata": {},
   "outputs": [
    {
     "name": "stderr",
     "output_type": "stream",
     "text": [
      "/dlabdata1/lugeon/lugeon-env/lib/python3.8/site-packages/numpy/lib/arraysetops.py:580: FutureWarning: elementwise comparison failed; returning scalar instead, but in the future will perform elementwise comparison\n",
      "  mask |= (ar1 == a)\n"
     ]
    },
    {
     "data": {
      "text/html": [
       "<div>\n",
       "<style scoped>\n",
       "    .dataframe tbody tr th:only-of-type {\n",
       "        vertical-align: middle;\n",
       "    }\n",
       "\n",
       "    .dataframe tbody tr th {\n",
       "        vertical-align: top;\n",
       "    }\n",
       "\n",
       "    .dataframe thead th {\n",
       "        text-align: right;\n",
       "    }\n",
       "</style>\n",
       "<table border=\"1\" class=\"dataframe\">\n",
       "  <thead>\n",
       "    <tr style=\"text-align: right;\">\n",
       "      <th></th>\n",
       "      <th>uid</th>\n",
       "      <th>url</th>\n",
       "      <th>lang</th>\n",
       "      <th>lang_id</th>\n",
       "      <th>cat0</th>\n",
       "    </tr>\n",
       "  </thead>\n",
       "  <tbody>\n",
       "    <tr>\n",
       "      <th>0</th>\n",
       "      <td>184</td>\n",
       "      <td>www.delphipraxis.net</td>\n",
       "      <td>Deutsch</td>\n",
       "      <td>de</td>\n",
       "      <td>Computers</td>\n",
       "    </tr>\n",
       "    <tr>\n",
       "      <th>1</th>\n",
       "      <td>263</td>\n",
       "      <td>www.central-it.de</td>\n",
       "      <td>Deutsch</td>\n",
       "      <td>de</td>\n",
       "      <td>Computers</td>\n",
       "    </tr>\n",
       "    <tr>\n",
       "      <th>2</th>\n",
       "      <td>731</td>\n",
       "      <td>www.aus-wandern.de</td>\n",
       "      <td>Deutsch</td>\n",
       "      <td>de</td>\n",
       "      <td>Computers</td>\n",
       "    </tr>\n",
       "    <tr>\n",
       "      <th>3</th>\n",
       "      <td>1072</td>\n",
       "      <td>blog.cvjm-nuernberg.de</td>\n",
       "      <td>Deutsch</td>\n",
       "      <td>de</td>\n",
       "      <td>Computers</td>\n",
       "    </tr>\n",
       "    <tr>\n",
       "      <th>4</th>\n",
       "      <td>1101</td>\n",
       "      <td>www.ges-training.de</td>\n",
       "      <td>Deutsch</td>\n",
       "      <td>de</td>\n",
       "      <td>Computers</td>\n",
       "    </tr>\n",
       "    <tr>\n",
       "      <th>...</th>\n",
       "      <td>...</td>\n",
       "      <td>...</td>\n",
       "      <td>...</td>\n",
       "      <td>...</td>\n",
       "      <td>...</td>\n",
       "    </tr>\n",
       "    <tr>\n",
       "      <th>1025176</th>\n",
       "      <td>2488203</td>\n",
       "      <td>www.stompin-ground.com</td>\n",
       "      <td>English</td>\n",
       "      <td>en</td>\n",
       "      <td>Arts</td>\n",
       "    </tr>\n",
       "    <tr>\n",
       "      <th>1025177</th>\n",
       "      <td>2488226</td>\n",
       "      <td>www.quarrypark.co.uk</td>\n",
       "      <td>English</td>\n",
       "      <td>en</td>\n",
       "      <td>Sports</td>\n",
       "    </tr>\n",
       "    <tr>\n",
       "      <th>1025178</th>\n",
       "      <td>2488230</td>\n",
       "      <td>www.sugarcreekwines.com</td>\n",
       "      <td>English</td>\n",
       "      <td>en</td>\n",
       "      <td>Recreation</td>\n",
       "    </tr>\n",
       "    <tr>\n",
       "      <th>1025179</th>\n",
       "      <td>2488233</td>\n",
       "      <td>www.aera.net</td>\n",
       "      <td>English</td>\n",
       "      <td>en</td>\n",
       "      <td>Reference</td>\n",
       "    </tr>\n",
       "    <tr>\n",
       "      <th>1025180</th>\n",
       "      <td>2488256</td>\n",
       "      <td>www.firstsecuritybk.com</td>\n",
       "      <td>English</td>\n",
       "      <td>en</td>\n",
       "      <td>Business</td>\n",
       "    </tr>\n",
       "  </tbody>\n",
       "</table>\n",
       "<p>1025181 rows × 5 columns</p>\n",
       "</div>"
      ],
      "text/plain": [
       "             uid                      url     lang lang_id        cat0\n",
       "0            184     www.delphipraxis.net  Deutsch      de   Computers\n",
       "1            263        www.central-it.de  Deutsch      de   Computers\n",
       "2            731       www.aus-wandern.de  Deutsch      de   Computers\n",
       "3           1072   blog.cvjm-nuernberg.de  Deutsch      de   Computers\n",
       "4           1101      www.ges-training.de  Deutsch      de   Computers\n",
       "...          ...                      ...      ...     ...         ...\n",
       "1025176  2488203   www.stompin-ground.com  English      en        Arts\n",
       "1025177  2488226     www.quarrypark.co.uk  English      en      Sports\n",
       "1025178  2488230  www.sugarcreekwines.com  English      en  Recreation\n",
       "1025179  2488233             www.aera.net  English      en   Reference\n",
       "1025180  2488256  www.firstsecuritybk.com  English      en    Business\n",
       "\n",
       "[1025181 rows x 5 columns]"
      ]
     },
     "execution_count": 3,
     "metadata": {},
     "output_type": "execute_result"
    }
   ],
   "source": [
    "df = pd.read_csv('/dlabdata1/lugeon/websites_dmoz_multi.gz', index_col=0)\n",
    "df"
   ]
  },
  {
   "cell_type": "code",
   "execution_count": 6,
   "metadata": {},
   "outputs": [],
   "source": [
    "def clean_url(url):\n",
    "    url = re.sub(r\"www.|http://|https://|-|_\", '', url)\n",
    "    return url.split('.')[0]"
   ]
  },
  {
   "cell_type": "code",
   "execution_count": 7,
   "metadata": {},
   "outputs": [
    {
     "name": "stderr",
     "output_type": "stream",
     "text": [
      "<ipython-input-7-69c4f9be8978>:1: SettingWithCopyWarning: \n",
      "A value is trying to be set on a copy of a slice from a DataFrame.\n",
      "Try using .loc[row_indexer,col_indexer] = value instead\n",
      "\n",
      "See the caveats in the documentation: https://pandas.pydata.org/pandas-docs/stable/user_guide/indexing.html#returning-a-view-versus-a-copy\n",
      "  df_fr['clean_url'] = df_fr.apply(lambda row: clean_url(row.url), axis=1)\n"
     ]
    }
   ],
   "source": [
    "df_fr['clean_url'] = df_fr.apply(lambda row: clean_url(row.url), axis=1)"
   ]
  },
  {
   "cell_type": "code",
   "execution_count": 9,
   "metadata": {},
   "outputs": [],
   "source": [
    "def compute_ngram(s, n):\n",
    "    return [s[i:i+n] for i in range(0, len(s)-n+1)]\n",
    "\n",
    "def concat_ngrams(s, ns):\n",
    "    l = []\n",
    "    for n in ns:\n",
    "        l += compute_ngram(s, n)\n",
    "    return list(set(l))"
   ]
  },
  {
   "cell_type": "code",
   "execution_count": 21,
   "metadata": {},
   "outputs": [
    {
     "data": {
      "text/plain": [
       "Business      148144\n",
       "Society        82079\n",
       "Arts           66721\n",
       "Shopping       54062\n",
       "Recreation     46095\n",
       "Computers      45194\n",
       "Sports         34890\n",
       "Science        28138\n",
       "Health         24218\n",
       "Reference      21663\n",
       "Games          10246\n",
       "Home            6952\n",
       "News            3696\n",
       "Name: cat0, dtype: int64"
      ]
     },
     "execution_count": 21,
     "metadata": {},
     "output_type": "execute_result"
    }
   ],
   "source": [
    "df_en = df[df.lang_id == 'en']\n",
    "df_en.cat0.value_counts()"
   ]
  },
  {
   "cell_type": "code",
   "execution_count": 137,
   "metadata": {},
   "outputs": [],
   "source": [
    "df_bal = df_en.groupby('cat0').sample(3696, random_state=42)"
   ]
  },
  {
   "cell_type": "code",
   "execution_count": 138,
   "metadata": {},
   "outputs": [],
   "source": [
    "df_bal['clean_url'] = df_bal.apply(lambda row: clean_url(row.url), axis=1)"
   ]
  },
  {
   "cell_type": "code",
   "execution_count": 139,
   "metadata": {},
   "outputs": [
    {
     "data": {
      "text/html": [
       "<div>\n",
       "<style scoped>\n",
       "    .dataframe tbody tr th:only-of-type {\n",
       "        vertical-align: middle;\n",
       "    }\n",
       "\n",
       "    .dataframe tbody tr th {\n",
       "        vertical-align: top;\n",
       "    }\n",
       "\n",
       "    .dataframe thead th {\n",
       "        text-align: right;\n",
       "    }\n",
       "</style>\n",
       "<table border=\"1\" class=\"dataframe\">\n",
       "  <thead>\n",
       "    <tr style=\"text-align: right;\">\n",
       "      <th></th>\n",
       "      <th>uid</th>\n",
       "      <th>url</th>\n",
       "      <th>lang</th>\n",
       "      <th>lang_id</th>\n",
       "      <th>cat0</th>\n",
       "      <th>clean_url</th>\n",
       "    </tr>\n",
       "  </thead>\n",
       "  <tbody>\n",
       "    <tr>\n",
       "      <th>673989</th>\n",
       "      <td>965931</td>\n",
       "      <td>www.donniemunro.co.uk</td>\n",
       "      <td>English</td>\n",
       "      <td>en</td>\n",
       "      <td>Arts</td>\n",
       "      <td>donniemunro</td>\n",
       "    </tr>\n",
       "    <tr>\n",
       "      <th>658417</th>\n",
       "      <td>897717</td>\n",
       "      <td>www.illustrationfriday.com</td>\n",
       "      <td>English</td>\n",
       "      <td>en</td>\n",
       "      <td>Arts</td>\n",
       "      <td>illustrationfriday</td>\n",
       "    </tr>\n",
       "    <tr>\n",
       "      <th>580822</th>\n",
       "      <td>557451</td>\n",
       "      <td>www.derekboshier.com</td>\n",
       "      <td>English</td>\n",
       "      <td>en</td>\n",
       "      <td>Arts</td>\n",
       "      <td>derekboshier</td>\n",
       "    </tr>\n",
       "    <tr>\n",
       "      <th>589512</th>\n",
       "      <td>595760</td>\n",
       "      <td>www.mplatzer.info</td>\n",
       "      <td>English</td>\n",
       "      <td>en</td>\n",
       "      <td>Arts</td>\n",
       "      <td>mplatzer</td>\n",
       "    </tr>\n",
       "    <tr>\n",
       "      <th>942745</th>\n",
       "      <td>2129982</td>\n",
       "      <td>addictedtobritney.tripod.com</td>\n",
       "      <td>English</td>\n",
       "      <td>en</td>\n",
       "      <td>Arts</td>\n",
       "      <td>addictedtobritney</td>\n",
       "    </tr>\n",
       "    <tr>\n",
       "      <th>...</th>\n",
       "      <td>...</td>\n",
       "      <td>...</td>\n",
       "      <td>...</td>\n",
       "      <td>...</td>\n",
       "      <td>...</td>\n",
       "      <td>...</td>\n",
       "    </tr>\n",
       "    <tr>\n",
       "      <th>557013</th>\n",
       "      <td>452002</td>\n",
       "      <td>www.myfootygrounds.co.uk</td>\n",
       "      <td>English</td>\n",
       "      <td>en</td>\n",
       "      <td>Sports</td>\n",
       "      <td>myfootygrounds</td>\n",
       "    </tr>\n",
       "    <tr>\n",
       "      <th>781283</th>\n",
       "      <td>1428039</td>\n",
       "      <td>www.fspnet.com</td>\n",
       "      <td>English</td>\n",
       "      <td>en</td>\n",
       "      <td>Sports</td>\n",
       "      <td>fspnet</td>\n",
       "    </tr>\n",
       "    <tr>\n",
       "      <th>542033</th>\n",
       "      <td>386133</td>\n",
       "      <td>www.rmqha.com</td>\n",
       "      <td>English</td>\n",
       "      <td>en</td>\n",
       "      <td>Sports</td>\n",
       "      <td>rmqha</td>\n",
       "    </tr>\n",
       "    <tr>\n",
       "      <th>496719</th>\n",
       "      <td>188285</td>\n",
       "      <td>www.weaverleather.com</td>\n",
       "      <td>English</td>\n",
       "      <td>en</td>\n",
       "      <td>Sports</td>\n",
       "      <td>weaverleather</td>\n",
       "    </tr>\n",
       "    <tr>\n",
       "      <th>738364</th>\n",
       "      <td>1246869</td>\n",
       "      <td>www.race24.com</td>\n",
       "      <td>English</td>\n",
       "      <td>en</td>\n",
       "      <td>Sports</td>\n",
       "      <td>race24</td>\n",
       "    </tr>\n",
       "  </tbody>\n",
       "</table>\n",
       "<p>48048 rows × 6 columns</p>\n",
       "</div>"
      ],
      "text/plain": [
       "            uid                           url     lang lang_id    cat0  \\\n",
       "673989   965931         www.donniemunro.co.uk  English      en    Arts   \n",
       "658417   897717    www.illustrationfriday.com  English      en    Arts   \n",
       "580822   557451          www.derekboshier.com  English      en    Arts   \n",
       "589512   595760             www.mplatzer.info  English      en    Arts   \n",
       "942745  2129982  addictedtobritney.tripod.com  English      en    Arts   \n",
       "...         ...                           ...      ...     ...     ...   \n",
       "557013   452002      www.myfootygrounds.co.uk  English      en  Sports   \n",
       "781283  1428039                www.fspnet.com  English      en  Sports   \n",
       "542033   386133                 www.rmqha.com  English      en  Sports   \n",
       "496719   188285         www.weaverleather.com  English      en  Sports   \n",
       "738364  1246869                www.race24.com  English      en  Sports   \n",
       "\n",
       "                 clean_url  \n",
       "673989         donniemunro  \n",
       "658417  illustrationfriday  \n",
       "580822        derekboshier  \n",
       "589512            mplatzer  \n",
       "942745   addictedtobritney  \n",
       "...                    ...  \n",
       "557013      myfootygrounds  \n",
       "781283              fspnet  \n",
       "542033               rmqha  \n",
       "496719       weaverleather  \n",
       "738364              race24  \n",
       "\n",
       "[48048 rows x 6 columns]"
      ]
     },
     "execution_count": 139,
     "metadata": {},
     "output_type": "execute_result"
    }
   ],
   "source": [
    "df_bal"
   ]
  },
  {
   "cell_type": "code",
   "execution_count": 140,
   "metadata": {},
   "outputs": [],
   "source": [
    "ns = range(3, 7) # from 3 to 6\n",
    "df_bal['ngrams'] = df_bal.apply(lambda row: concat_ngrams(row.clean_url, ns), axis=1)"
   ]
  },
  {
   "cell_type": "code",
   "execution_count": 154,
   "metadata": {},
   "outputs": [],
   "source": [
    "categories = df_bal.cat0.unique()\n",
    "\n",
    "def categorize(c):\n",
    "    return categories.tolist().index(c)"
   ]
  },
  {
   "cell_type": "code",
   "execution_count": null,
   "metadata": {},
   "outputs": [],
   "source": [
    "df_bal['catno'] = df_bal.apply(lambda row: categorize(row.cat0), axis=1)"
   ]
  },
  {
   "cell_type": "code",
   "execution_count": 141,
   "metadata": {},
   "outputs": [],
   "source": [
    "ix = np.arange(df_bal.shape[0])\n",
    "np.random.shuffle(ix)\n",
    "sep = int((1 - 0.2) * df_bal.shape[0])\n",
    "train = df_bal.iloc[ix[:sep]]\n",
    "test = df_bal.iloc[ix[sep:]]"
   ]
  },
  {
   "cell_type": "code",
   "execution_count": 142,
   "metadata": {},
   "outputs": [
    {
     "data": {
      "text/plain": [
       "Sports        3020\n",
       "Computers     2984\n",
       "Recreation    2978\n",
       "Health        2975\n",
       "Home          2974\n",
       "Games         2970\n",
       "Science       2963\n",
       "News          2957\n",
       "Shopping      2942\n",
       "Reference     2940\n",
       "Society       2936\n",
       "Arts          2906\n",
       "Business      2893\n",
       "Name: cat0, dtype: int64"
      ]
     },
     "execution_count": 142,
     "metadata": {},
     "output_type": "execute_result"
    }
   ],
   "source": [
    "train.cat0.value_counts()"
   ]
  },
  {
   "cell_type": "code",
   "execution_count": 143,
   "metadata": {},
   "outputs": [
    {
     "data": {
      "text/plain": [
       "Business      803\n",
       "Arts          790\n",
       "Society       760\n",
       "Reference     756\n",
       "Shopping      754\n",
       "News          739\n",
       "Science       733\n",
       "Games         726\n",
       "Home          722\n",
       "Health        721\n",
       "Recreation    718\n",
       "Computers     712\n",
       "Sports        676\n",
       "Name: cat0, dtype: int64"
      ]
     },
     "execution_count": 143,
     "metadata": {},
     "output_type": "execute_result"
    }
   ],
   "source": [
    "test.cat0.value_counts()"
   ]
  },
  {
   "cell_type": "code",
   "execution_count": 147,
   "metadata": {},
   "outputs": [],
   "source": [
    "train_bycat = train[['cat0', 'ngrams']].groupby('cat0').agg(lambda col: [s for l in col for s in l])"
   ]
  },
  {
   "cell_type": "code",
   "execution_count": 148,
   "metadata": {},
   "outputs": [],
   "source": [
    "def top_ngrams(l):\n",
    "    return pd.Series(l).value_counts().to_dict()"
   ]
  },
  {
   "cell_type": "code",
   "execution_count": 149,
   "metadata": {},
   "outputs": [],
   "source": [
    "train_bycat['top_ngrams_count'] = train_bycat.apply(lambda row: top_ngrams(row.ngrams), axis=1)"
   ]
  },
  {
   "cell_type": "code",
   "execution_count": 373,
   "metadata": {},
   "outputs": [],
   "source": [
    "def reduce_ngrams(ngrams_dict, nb_rep_ngrams):\n",
    "    red = set()\n",
    "    for s in ngrams_dict.keys(): # candidate\n",
    "        valid = True\n",
    "        init_count = ngrams_dict[s]\n",
    "        for t in list(ngrams_dict.keys()): # superstring\n",
    "            if len(t) > len(s): # longest substring\n",
    "                if s in t: # if there is a super-string in the ngrams\n",
    "                    if (init_count - ngrams_dict[t])/init_count <= 0.4: # and that there count difference is smaller or equal than 2\n",
    "                        s = t # discard substring\n",
    "        if valid:\n",
    "            red.add(s)\n",
    "        if len(red) == nb_rep_ngrams:\n",
    "            break\n",
    "                \n",
    "    return red"
   ]
  },
  {
   "cell_type": "code",
   "execution_count": 374,
   "metadata": {},
   "outputs": [],
   "source": [
    "nb_rep_ngrams = 20\n",
    "\n",
    "train_bycat['rep_ngrams'] = train_bycat.apply(lambda row: reduce_ngrams(row.top_ngrams_count, nb_rep_ngrams), axis=1)"
   ]
  },
  {
   "cell_type": "code",
   "execution_count": 375,
   "metadata": {},
   "outputs": [
    {
     "data": {
      "text/html": [
       "<div>\n",
       "<style scoped>\n",
       "    .dataframe tbody tr th:only-of-type {\n",
       "        vertical-align: middle;\n",
       "    }\n",
       "\n",
       "    .dataframe tbody tr th {\n",
       "        vertical-align: top;\n",
       "    }\n",
       "\n",
       "    .dataframe thead th {\n",
       "        text-align: right;\n",
       "    }\n",
       "</style>\n",
       "<table border=\"1\" class=\"dataframe\">\n",
       "  <thead>\n",
       "    <tr style=\"text-align: right;\">\n",
       "      <th></th>\n",
       "      <th>ngrams</th>\n",
       "      <th>top_ngrams_count</th>\n",
       "      <th>rep_ngrams</th>\n",
       "    </tr>\n",
       "    <tr>\n",
       "      <th>cat0</th>\n",
       "      <th></th>\n",
       "      <th></th>\n",
       "      <th></th>\n",
       "    </tr>\n",
       "  </thead>\n",
       "  <tbody>\n",
       "    <tr>\n",
       "      <th>Arts</th>\n",
       "      <td>[oefi, fino, oefino, joe, efino, fin, joefi, e...</td>\n",
       "      <td>{'the': 175, 'art': 159, 'and': 153, 'ing': 12...</td>\n",
       "      <td>{the, art, and, tion, eat, ers, est, ing, all,...</td>\n",
       "    </tr>\n",
       "    <tr>\n",
       "      <th>Business</th>\n",
       "      <td>[terlin, ling, rlingp, recisi, terl, lingp, gp...</td>\n",
       "      <td>{'ing': 198, 'ion': 140, 'ter': 111, 'tio': 11...</td>\n",
       "      <td>{inc, and, ent, tion, ica, pro, ers, int, tra,...</td>\n",
       "    </tr>\n",
       "    <tr>\n",
       "      <th>Computers</th>\n",
       "      <td>[mycom, rma, mpute, terman, uterm, ycom, compu...</td>\n",
       "      <td>{'web': 124, 'ing': 123, 'ion': 122, 'oft': 11...</td>\n",
       "      <td>{ware, tion, nter, pro, ers, web, tra, ing, de...</td>\n",
       "    </tr>\n",
       "    <tr>\n",
       "      <th>Games</th>\n",
       "      <td>[bal, ocf, cfoos, sball, oosba, ocfoo, ball, o...</td>\n",
       "      <td>{'gam': 265, 'ame': 237, 'game': 221, 'ing': 1...</td>\n",
       "      <td>{the, and, ent, ion, line, ers, wor, min, game...</td>\n",
       "    </tr>\n",
       "    <tr>\n",
       "      <th>Health</th>\n",
       "      <td>[boh, bohs, ohs, sforli, forl, sforl, yfrie, r...</td>\n",
       "      <td>{'ing': 193, 'ent': 167, 'lin': 158, 'ion': 15...</td>\n",
       "      <td>{the, heal, and, health, clinic, ent, tion, ce...</td>\n",
       "    </tr>\n",
       "    <tr>\n",
       "      <th>Home</th>\n",
       "      <td>[cie, ociet, acuser, roseso, useros, ciety, ra...</td>\n",
       "      <td>{'ing': 242, 'ard': 204, 'the': 186, 'den': 18...</td>\n",
       "      <td>{the, and, ent, tion, cook, che, ers, chi, foo...</td>\n",
       "    </tr>\n",
       "    <tr>\n",
       "      <th>News</th>\n",
       "      <td>[wns, swns, swn, lly, ysuck, ysu, reil, ore, e...</td>\n",
       "      <td>{'new': 456, 'ews': 440, 'news': 433, 'the': 2...</td>\n",
       "      <td>{the, herald, ournal, and, ent, sta, media, he...</td>\n",
       "    </tr>\n",
       "    <tr>\n",
       "      <th>Recreation</th>\n",
       "      <td>[onte, nmont, ranmon, mont, nmo, granm, monte,...</td>\n",
       "      <td>{'ing': 230, 'ers': 199, 'ine': 167, 'ter': 15...</td>\n",
       "      <td>{the, and, sta, tion, ers, ort, out, tra, ave,...</td>\n",
       "    </tr>\n",
       "    <tr>\n",
       "      <th>Reference</th>\n",
       "      <td>[kermi, litary, pri, milita, lita, ilit, tar, ...</td>\n",
       "      <td>{'use': 138, 'mus': 128, 'ion': 117, 'muse': 1...</td>\n",
       "      <td>{the, and, ibrary, ent, tion, colleg, ollege, ...</td>\n",
       "    </tr>\n",
       "    <tr>\n",
       "      <th>Science</th>\n",
       "      <td>[unri, isk, unris, ris, unr, nrisk, nris, unri...</td>\n",
       "      <td>{'ion': 120, 'ing': 111, 'ati': 99, 'ter': 98,...</td>\n",
       "      <td>{the, lab, ent, tion, olog, bio, tic, ing, con...</td>\n",
       "    </tr>\n",
       "    <tr>\n",
       "      <th>Shopping</th>\n",
       "      <td>[gad, the, bri, ldbri, theold, ldb, old, heo, ...</td>\n",
       "      <td>{'ing': 169, 'and': 134, 'ers': 133, 'art': 12...</td>\n",
       "      <td>{art, the, and, sto, tion, eat, ers, les, ear,...</td>\n",
       "    </tr>\n",
       "    <tr>\n",
       "      <th>Society</th>\n",
       "      <td>[jap, nmi, panm, pan, min, apanm, panmin, japa...</td>\n",
       "      <td>{'law': 156, 'ing': 155, 'ist': 129, 'the': 12...</td>\n",
       "      <td>{the, and, ent, tion, her, ers, est, christ, i...</td>\n",
       "    </tr>\n",
       "    <tr>\n",
       "      <th>Sports</th>\n",
       "      <td>[tedg, dgam, edg, ntedga, untedg, tedgam, edga...</td>\n",
       "      <td>{'ing': 254, 'gol': 185, 'olf': 179, 'golf': 1...</td>\n",
       "      <td>{the, and, tion, sport, ball, rac, ers, tball,...</td>\n",
       "    </tr>\n",
       "  </tbody>\n",
       "</table>\n",
       "</div>"
      ],
      "text/plain": [
       "                                                       ngrams  \\\n",
       "cat0                                                            \n",
       "Arts        [oefi, fino, oefino, joe, efino, fin, joefi, e...   \n",
       "Business    [terlin, ling, rlingp, recisi, terl, lingp, gp...   \n",
       "Computers   [mycom, rma, mpute, terman, uterm, ycom, compu...   \n",
       "Games       [bal, ocf, cfoos, sball, oosba, ocfoo, ball, o...   \n",
       "Health      [boh, bohs, ohs, sforli, forl, sforl, yfrie, r...   \n",
       "Home        [cie, ociet, acuser, roseso, useros, ciety, ra...   \n",
       "News        [wns, swns, swn, lly, ysuck, ysu, reil, ore, e...   \n",
       "Recreation  [onte, nmont, ranmon, mont, nmo, granm, monte,...   \n",
       "Reference   [kermi, litary, pri, milita, lita, ilit, tar, ...   \n",
       "Science     [unri, isk, unris, ris, unr, nrisk, nris, unri...   \n",
       "Shopping    [gad, the, bri, ldbri, theold, ldb, old, heo, ...   \n",
       "Society     [jap, nmi, panm, pan, min, apanm, panmin, japa...   \n",
       "Sports      [tedg, dgam, edg, ntedga, untedg, tedgam, edga...   \n",
       "\n",
       "                                             top_ngrams_count  \\\n",
       "cat0                                                            \n",
       "Arts        {'the': 175, 'art': 159, 'and': 153, 'ing': 12...   \n",
       "Business    {'ing': 198, 'ion': 140, 'ter': 111, 'tio': 11...   \n",
       "Computers   {'web': 124, 'ing': 123, 'ion': 122, 'oft': 11...   \n",
       "Games       {'gam': 265, 'ame': 237, 'game': 221, 'ing': 1...   \n",
       "Health      {'ing': 193, 'ent': 167, 'lin': 158, 'ion': 15...   \n",
       "Home        {'ing': 242, 'ard': 204, 'the': 186, 'den': 18...   \n",
       "News        {'new': 456, 'ews': 440, 'news': 433, 'the': 2...   \n",
       "Recreation  {'ing': 230, 'ers': 199, 'ine': 167, 'ter': 15...   \n",
       "Reference   {'use': 138, 'mus': 128, 'ion': 117, 'muse': 1...   \n",
       "Science     {'ion': 120, 'ing': 111, 'ati': 99, 'ter': 98,...   \n",
       "Shopping    {'ing': 169, 'and': 134, 'ers': 133, 'art': 12...   \n",
       "Society     {'law': 156, 'ing': 155, 'ist': 129, 'the': 12...   \n",
       "Sports      {'ing': 254, 'gol': 185, 'olf': 179, 'golf': 1...   \n",
       "\n",
       "                                                   rep_ngrams  \n",
       "cat0                                                           \n",
       "Arts        {the, art, and, tion, eat, ers, est, ing, all,...  \n",
       "Business    {inc, and, ent, tion, ica, pro, ers, int, tra,...  \n",
       "Computers   {ware, tion, nter, pro, ers, web, tra, ing, de...  \n",
       "Games       {the, and, ent, ion, line, ers, wor, min, game...  \n",
       "Health      {the, heal, and, health, clinic, ent, tion, ce...  \n",
       "Home        {the, and, ent, tion, cook, che, ers, chi, foo...  \n",
       "News        {the, herald, ournal, and, ent, sta, media, he...  \n",
       "Recreation  {the, and, sta, tion, ers, ort, out, tra, ave,...  \n",
       "Reference   {the, and, ibrary, ent, tion, colleg, ollege, ...  \n",
       "Science     {the, lab, ent, tion, olog, bio, tic, ing, con...  \n",
       "Shopping    {art, the, and, sto, tion, eat, ers, les, ear,...  \n",
       "Society     {the, and, ent, tion, her, ers, est, christ, i...  \n",
       "Sports      {the, and, tion, sport, ball, rac, ers, tball,...  "
      ]
     },
     "execution_count": 375,
     "metadata": {},
     "output_type": "execute_result"
    }
   ],
   "source": [
    "train_bycat"
   ]
  },
  {
   "cell_type": "code",
   "execution_count": 376,
   "metadata": {},
   "outputs": [
    {
     "data": {
      "text/plain": [
       "(139,)"
      ]
     },
     "execution_count": 376,
     "metadata": {},
     "output_type": "execute_result"
    }
   ],
   "source": [
    "all_rep_grams = np.unique([gram for gramlist in train_bycat.rep_ngrams for gram in gramlist])\n",
    "all_rep_grams.shape"
   ]
  },
  {
   "cell_type": "code",
   "execution_count": 377,
   "metadata": {},
   "outputs": [
    {
     "data": {
      "text/plain": [
       "array(['all', 'ance', 'and', 'ardens', 'are', 'art', 'ate', 'athlet',\n",
       "       'ation', 'ave', 'ball', 'bio', 'bridge', 'camp', 'car', 'care',\n",
       "       'casino', 'center', 'cha', 'che', 'chess', 'chi', 'christ',\n",
       "       'church', 'clinic', 'club', 'colleg', 'com', 'con', 'cook',\n",
       "       'county', 'daily', 'danc', 'design', 'ear', 'eat', 'egame', 'ent',\n",
       "       'ers', 'ess', 'est', 'food', 'ftware', 'game', 'games', 'garden',\n",
       "       'golf', 'heal', 'health', 'her', 'herald', 'hletic', 'home',\n",
       "       'horse', 'hospit', 'ian', 'ibrary', 'ica', 'ics', 'ill', 'inc',\n",
       "       'ine', 'ines', 'ing', 'int', 'inte', 'ion', 'ions', 'ist', 'ive',\n",
       "       'journa', 'lab', 'lan', 'law', 'les', 'letics', 'librar', 'lin',\n",
       "       'line', 'lle', 'man', 'mar', 'math', 'media', 'min', 'museum',\n",
       "       'music', 'net', 'news', 'nter', 'ollege', 'olog', 'ology',\n",
       "       'online', 'ons', 'ort', 'ospita', 'ournal', 'out', 'photo', 'pla',\n",
       "       'port', 'press', 'pro', 'rac', 'ran', 'rea', 'recipe', 'res',\n",
       "       'rin', 'rth', 'school', 'scien', 'soccer', 'soft', 'spital',\n",
       "       'sport', 'sta', 'ste', 'sto', 'str', 'tball', 'tech', 'ter', 'the',\n",
       "       'tic', 'times', 'ting', 'tion', 'ton', 'tor', 'tra', 'ver', 'vet',\n",
       "       'war', 'ware', 'web', 'wine', 'wor'], dtype='<U6')"
      ]
     },
     "execution_count": 377,
     "metadata": {},
     "output_type": "execute_result"
    }
   ],
   "source": [
    "all_rep_grams"
   ]
  },
  {
   "cell_type": "code",
   "execution_count": 266,
   "metadata": {},
   "outputs": [],
   "source": [
    "def encode_repgrams_onehot(s, repgrams):\n",
    "    onehot = np.array([int(gram in s) for gram in repgrams])\n",
    "    return onehot"
   ]
  },
  {
   "cell_type": "code",
   "execution_count": 89,
   "metadata": {},
   "outputs": [],
   "source": [
    "from sklearn.ensemble import RandomForestClassifier\n",
    "from sklearn.metrics import precision_recall_fscore_support"
   ]
  },
  {
   "cell_type": "code",
   "execution_count": 269,
   "metadata": {},
   "outputs": [],
   "source": [
    "import warnings\n",
    "warnings.filterwarnings('ignore')\n",
    "\n",
    "from tqdm import tqdm"
   ]
  },
  {
   "cell_type": "code",
   "execution_count": 378,
   "metadata": {},
   "outputs": [
    {
     "name": "stderr",
     "output_type": "stream",
     "text": [
      "100%|██████████| 8/8 [07:40<00:00, 57.59s/it]\n"
     ]
    }
   ],
   "source": [
    "nb_all_ngram = []\n",
    "fracs = []\n",
    "train_scores = []\n",
    "test_scores = []\n",
    "\n",
    "range_rep_ngrams = [1] + list(range(10, 80, 10))\n",
    "\n",
    "for nb_rep_ngrams in tqdm(range_rep_ngrams):\n",
    "\n",
    "    train_bycat['rep_ngrams'] = train_bycat.apply(lambda row: reduce_ngrams(row.top_ngrams_count, nb_rep_ngrams), axis=1)\n",
    "\n",
    "    all_rep_grams = np.unique([gram for gramlist in train_bycat.rep_ngrams for gram in gramlist])\n",
    "    \n",
    "    train['repgrams_oh'] = train.apply(lambda row: encode_repgrams_onehot(row.clean_url, all_rep_grams), axis=1)\n",
    "    test['repgrams_oh'] = test.apply(lambda row: encode_repgrams_onehot(row.clean_url, all_rep_grams), axis=1)\n",
    "\n",
    "    no_repgram = (train.repgrams_oh.apply(sum) == 0).value_counts()\n",
    "    frac_no_repgram = (no_repgram[True] / (no_repgram[True] + no_repgram[False])) # percentage of urls without any rep ngrams\n",
    "    \n",
    "    x_train = np.concatenate(train[train.repgrams_oh.apply(sum) != 0].repgrams_oh.to_numpy()).ravel()\n",
    "    x_train = x_train.reshape(-1, all_rep_grams.shape[0])\n",
    "    \n",
    "    x_test = np.concatenate(test[test.repgrams_oh.apply(sum) != 0].repgrams_oh.to_numpy()).ravel()\n",
    "    x_test = x_test.reshape(-1, all_rep_grams.shape[0])\n",
    "    \n",
    "    y_train = train[train.repgrams_oh.apply(sum) != 0].catno.values\n",
    "    \n",
    "    y_test = test[test.repgrams_oh.apply(sum) != 0].catno.values\n",
    "\n",
    "    forest = RandomForestClassifier(n_estimators=300, max_depth=5, random_state=42)\n",
    "    forest.fit(x_train, y_train)\n",
    "\n",
    "    train_score = precision_recall_fscore_support(y_train, forest.predict(x_train), average='weighted')\n",
    "    test_score = precision_recall_fscore_support(y_test, forest.predict(x_test), average='weighted')\n",
    "    \n",
    "    nb_all_ngram += [len(all_rep_grams)]\n",
    "    fracs += [frac_no_repgram]\n",
    "    train_scores += [train_score]\n",
    "    test_scores += [test_score]"
   ]
  },
  {
   "cell_type": "code",
   "execution_count": 379,
   "metadata": {},
   "outputs": [
    {
     "data": {
      "image/png": "[encoded data removed]",
      "text/plain": [
       "<Figure size 576x432 with 2 Axes>"
      ]
     },
     "metadata": {
      "needs_background": "light"
     },
     "output_type": "display_data"
    }
   ],
   "source": [
    "import matplotlib.pyplot as plt\n",
    "\n",
    "fig, ax1 = plt.subplots(figsize=(8, 6))\n",
    "\n",
    "color = 'tab:red'\n",
    "ax1.set_xlabel('ngrams per topic', size=15)\n",
    "ax1.set_ylabel('total ngrams', color=color, size=15)\n",
    "ax1.plot(range_rep_ngrams, nb_all_ngram, color=color)\n",
    "ax1.tick_params(axis='y', labelcolor=color)\n",
    "\n",
    "ax2 = ax1.twinx()  # instantiate a second axes that shares the same x-axis\n",
    "\n",
    "color = 'tab:blue'\n",
    "ax2.set_ylabel('fraction of unmatched urls', color=color, size=15)  # we already handled the x-label with ax1\n",
    "ax2.plot(range_rep_ngrams, [100 * f for f in fracs], color=color)\n",
    "ax2.tick_params(axis='y', labelcolor=color)\n",
    "ax2.set_ylim([0,100])\n",
    "\n",
    "fig.tight_layout()  # otherwise the right y-label is slightly clipped\n",
    "plt.show()\n"
   ]
  },
  {
   "cell_type": "code",
   "execution_count": 380,
   "metadata": {},
   "outputs": [
    {
     "data": {
      "image/png": "[encoded data removed]",
      "text/plain": [
       "<Figure size 576x432 with 1 Axes>"
      ]
     },
     "metadata": {
      "needs_background": "light"
     },
     "output_type": "display_data"
    }
   ],
   "source": [
    "fig, ax1 = plt.subplots(figsize=(8, 6))\n",
    "\n",
    "ax1.set_xlabel('ngrams per topic', size=15)\n",
    "\n",
    "ax1.plot(range_rep_ngrams, [s[0] for s in test_scores], color='tab:red', label='test precision')\n",
    "ax1.plot(range_rep_ngrams, [s[0] for s in train_scores], color='tab:orange', label='train precision')\n",
    "\n",
    "ax1.plot(range_rep_ngrams, [s[1] for s in test_scores], color='tab:blue', label='test recall')\n",
    "ax1.plot(range_rep_ngrams, [s[1] for s in train_scores], color='tab:cyan', label='train recall')\n",
    "\n",
    "ax1.set_ylim([0,1])\n",
    "\n",
    "plt.legend(fontsize=13)\n",
    "\n",
    "plt.show()"
   ]
  },
  {
   "cell_type": "markdown",
   "metadata": {},
   "source": [
    "Best classifier seem to be with 50 most common ngrams and a max depth of 10"
   ]
  },
  {
   "cell_type": "code",
   "execution_count": null,
   "metadata": {},
   "outputs": [],
   "source": []
  }
 ],
 "metadata": {
  "kernelspec": {
   "display_name": "Python 3",
   "language": "python",
   "name": "python3"
  },
  "language_info": {
   "codemirror_mode": {
    "name": "ipython",
    "version": 3
   },
   "file_extension": ".py",
   "mimetype": "text/x-python",
   "name": "python",
   "nbconvert_exporter": "python",
   "pygments_lexer": "ipython3",
   "version": "3.8.5"
  }
 },
 "nbformat": 4,
 "nbformat_minor": 4
}
