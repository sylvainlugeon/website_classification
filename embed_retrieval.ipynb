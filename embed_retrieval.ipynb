{
 "cells": [
  {
   "cell_type": "code",
   "execution_count": 1,
   "metadata": {},
   "outputs": [],
   "source": [
    "import numpy as np\n",
    "import pandas as pd\n",
    "\n",
    "import requests\n",
    "import csv\n",
    "import time\n",
    "from bs4 import BeautifulSoup\n",
    "\n",
    "import torch\n",
    "from transformers import BertTokenizer, BertModel\n",
    "\n",
    "from progressbar import ProgressBar\n",
    "from sklearn.metrics.pairwise import cosine_similarity\n",
    "\n",
    "from tqdm import tqdm"
   ]
  },
  {
   "cell_type": "code",
   "execution_count": 71,
   "metadata": {},
   "outputs": [],
   "source": [
    "tokenizer = BertTokenizer.from_pretrained('bert-base-uncased')\n",
    "model = BertModel.from_pretrained('bert-base-uncased', output_hidden_states = True)\n",
    "model.eval()\n",
    "\n",
    "def embed(text):\n",
    "    \n",
    "    tokenized_text = tokenizer.tokenize(text)\n",
    "    \n",
    "    if len(tokenized_text) > 510:\n",
    "        tokenized_text = tokenized_text[:510]\n",
    "        \n",
    "    tokenized_text = ['[CLS]'] + tokenized_text + ['[SEP]']\n",
    "    \n",
    "    indexed_tokens = tokenizer.convert_tokens_to_ids(tokenized_text)\n",
    "    segments_ids = [1] * len(indexed_tokens)\n",
    "\n",
    "    tokens_tensor = torch.tensor([indexed_tokens])\n",
    "    segments_tensors = torch.tensor([segments_ids])\n",
    "    \n",
    "    with torch.no_grad():\n",
    "        output = model(tokens_tensor, segments_tensors)\n",
    "        hidden_states = output[2] # tensor of shape \n",
    "    \n",
    "    token_states = torch.stack(hidden_states, dim=0)\n",
    "    token_states = torch.squeeze(token_states, dim=1) \n",
    "    token_embeddings = token_states[-2] \n",
    "    \n",
    "    return torch.mean(token_embeddings, dim=0)\n"
   ]
  },
  {
   "cell_type": "code",
   "execution_count": 72,
   "metadata": {},
   "outputs": [],
   "source": [
    "embedding_dim = 768\n",
    "\n",
    "def content_features_fast(url):\n",
    "    try:\n",
    "        page = requests.get(url, timeout=5) # wait 12 second before timeout\n",
    "        \n",
    "    except(Exception):\n",
    "        return None\n",
    "    \n",
    "    try: \n",
    "        soup = BeautifulSoup(page.text, 'html.parser')\n",
    "        \n",
    "    except(Exception):\n",
    "        return None\n",
    "    \n",
    "    # find the p tag\n",
    "    p = soup.find_all('p', limit=30)\n",
    "    if (len(p)) == 0:\n",
    "        return None\n",
    "    para_embedding = np.zeros(embedding_dim)\n",
    "\n",
    "    for i in range(len(p)):\n",
    "        para_embedding += embed(p[i].text).numpy()\n",
    "\n",
    "    return para_embedding / len(p)"
   ]
  },
  {
   "cell_type": "code",
   "execution_count": 73,
   "metadata": {},
   "outputs": [],
   "source": [
    "name = 'websites_10_000_5cat'\n",
    "data = pd.read_csv(name + '.csv', header=0, names=['id', 'url', 'cat'])"
   ]
  },
  {
   "cell_type": "code",
   "execution_count": 74,
   "metadata": {},
   "outputs": [
    {
     "data": {
      "text/html": [
       "<div>\n",
       "<style scoped>\n",
       "    .dataframe tbody tr th:only-of-type {\n",
       "        vertical-align: middle;\n",
       "    }\n",
       "\n",
       "    .dataframe tbody tr th {\n",
       "        vertical-align: top;\n",
       "    }\n",
       "\n",
       "    .dataframe thead th {\n",
       "        text-align: right;\n",
       "    }\n",
       "</style>\n",
       "<table border=\"1\" class=\"dataframe\">\n",
       "  <thead>\n",
       "    <tr style=\"text-align: right;\">\n",
       "      <th></th>\n",
       "      <th>id</th>\n",
       "      <th>url</th>\n",
       "      <th>cat</th>\n",
       "    </tr>\n",
       "  </thead>\n",
       "  <tbody>\n",
       "    <tr>\n",
       "      <th>0</th>\n",
       "      <td>133292</td>\n",
       "      <td>http://www.imdb.com/title/tt0044207/</td>\n",
       "      <td>Arts</td>\n",
       "    </tr>\n",
       "    <tr>\n",
       "      <th>1</th>\n",
       "      <td>126451</td>\n",
       "      <td>http://www.missgien.net/misc/films/robin.html</td>\n",
       "      <td>Arts</td>\n",
       "    </tr>\n",
       "    <tr>\n",
       "      <th>2</th>\n",
       "      <td>252430</td>\n",
       "      <td>http://www.ppmag.com</td>\n",
       "      <td>Arts</td>\n",
       "    </tr>\n",
       "    <tr>\n",
       "      <th>3</th>\n",
       "      <td>261535</td>\n",
       "      <td>http://us.imdb.com/title/tt0103488/</td>\n",
       "      <td>Arts</td>\n",
       "    </tr>\n",
       "    <tr>\n",
       "      <th>4</th>\n",
       "      <td>125161</td>\n",
       "      <td>http://www.hollywoodjesus.com/powder.htm</td>\n",
       "      <td>Arts</td>\n",
       "    </tr>\n",
       "    <tr>\n",
       "      <th>...</th>\n",
       "      <td>...</td>\n",
       "      <td>...</td>\n",
       "      <td>...</td>\n",
       "    </tr>\n",
       "    <tr>\n",
       "      <th>49995</th>\n",
       "      <td>1089710</td>\n",
       "      <td>http://www-sul.stanford.edu/depts/ssrg/misc/ra...</td>\n",
       "      <td>Science</td>\n",
       "    </tr>\n",
       "    <tr>\n",
       "      <th>49996</th>\n",
       "      <td>1115352</td>\n",
       "      <td>http://www.bowden-bros.com</td>\n",
       "      <td>Science</td>\n",
       "    </tr>\n",
       "    <tr>\n",
       "      <th>49997</th>\n",
       "      <td>1046715</td>\n",
       "      <td>http://www.botany.hawaii.edu/faculty/carr/imag...</td>\n",
       "      <td>Science</td>\n",
       "    </tr>\n",
       "    <tr>\n",
       "      <th>49998</th>\n",
       "      <td>1055812</td>\n",
       "      <td>http://chem4823.usask.ca/howto.html</td>\n",
       "      <td>Science</td>\n",
       "    </tr>\n",
       "    <tr>\n",
       "      <th>49999</th>\n",
       "      <td>1058504</td>\n",
       "      <td>http://www.msls.org</td>\n",
       "      <td>Science</td>\n",
       "    </tr>\n",
       "  </tbody>\n",
       "</table>\n",
       "<p>50000 rows × 3 columns</p>\n",
       "</div>"
      ],
      "text/plain": [
       "            id                                                url      cat\n",
       "0       133292               http://www.imdb.com/title/tt0044207/     Arts\n",
       "1       126451      http://www.missgien.net/misc/films/robin.html     Arts\n",
       "2       252430                               http://www.ppmag.com     Arts\n",
       "3       261535                http://us.imdb.com/title/tt0103488/     Arts\n",
       "4       125161           http://www.hollywoodjesus.com/powder.htm     Arts\n",
       "...        ...                                                ...      ...\n",
       "49995  1089710  http://www-sul.stanford.edu/depts/ssrg/misc/ra...  Science\n",
       "49996  1115352                         http://www.bowden-bros.com  Science\n",
       "49997  1046715  http://www.botany.hawaii.edu/faculty/carr/imag...  Science\n",
       "49998  1055812                http://chem4823.usask.ca/howto.html  Science\n",
       "49999  1058504                                http://www.msls.org  Science\n",
       "\n",
       "[50000 rows x 3 columns]"
      ]
     },
     "execution_count": 74,
     "metadata": {},
     "output_type": "execute_result"
    }
   ],
   "source": [
    "data"
   ]
  },
  {
   "cell_type": "code",
   "execution_count": 75,
   "metadata": {},
   "outputs": [
    {
     "name": "stderr",
     "output_type": "stream",
     "text": [
      "/Users/sylvainlugeon/opt/anaconda3/lib/python3.8/site-packages/tqdm/std.py:668: FutureWarning: The Panel class is removed from pandas. Accessing it from the top-level namespace will also be removed in the next version\n",
      "  from pandas import Panel\n",
      "100%|██████████| 50000/50000 [23:25:04<00:00,  1.69s/it]    \n"
     ]
    }
   ],
   "source": [
    "tqdm.pandas()\n",
    "data['emb'] = data.progress_apply(lambda row: content_features_fast(row.url), axis=1)"
   ]
  },
  {
   "cell_type": "code",
   "execution_count": 76,
   "metadata": {},
   "outputs": [
    {
     "data": {
      "text/plain": [
       "True     26812\n",
       "False    23188\n",
       "Name: emb, dtype: int64"
      ]
     },
     "execution_count": 76,
     "metadata": {},
     "output_type": "execute_result"
    }
   ],
   "source": [
    "data.emb.isnull().value_counts()"
   ]
  },
  {
   "cell_type": "code",
   "execution_count": 77,
   "metadata": {},
   "outputs": [
    {
     "name": "stderr",
     "output_type": "stream",
     "text": [
      "<ipython-input-77-e34ead1289dd>:2: SettingWithCopyWarning: \n",
      "A value is trying to be set on a copy of a slice from a DataFrame.\n",
      "Try using .loc[row_indexer,col_indexer] = value instead\n",
      "\n",
      "See the caveats in the documentation: https://pandas.pydata.org/pandas-docs/stable/user_guide/indexing.html#returning-a-view-versus-a-copy\n",
      "  data_valid['emb'] = data_valid.apply(lambda row: row.emb.tolist(), axis=1)\n"
     ]
    }
   ],
   "source": [
    "data_valid = data[~data.emb.isnull()]\n",
    "data_valid['emb'] = data_valid.apply(lambda row: row.emb.tolist(), axis=1)"
   ]
  },
  {
   "cell_type": "code",
   "execution_count": 78,
   "metadata": {},
   "outputs": [
    {
     "data": {
      "text/html": [
       "<div>\n",
       "<style scoped>\n",
       "    .dataframe tbody tr th:only-of-type {\n",
       "        vertical-align: middle;\n",
       "    }\n",
       "\n",
       "    .dataframe tbody tr th {\n",
       "        vertical-align: top;\n",
       "    }\n",
       "\n",
       "    .dataframe thead th {\n",
       "        text-align: right;\n",
       "    }\n",
       "</style>\n",
       "<table border=\"1\" class=\"dataframe\">\n",
       "  <thead>\n",
       "    <tr style=\"text-align: right;\">\n",
       "      <th></th>\n",
       "      <th>id</th>\n",
       "      <th>url</th>\n",
       "      <th>cat</th>\n",
       "      <th>emb</th>\n",
       "    </tr>\n",
       "  </thead>\n",
       "  <tbody>\n",
       "    <tr>\n",
       "      <th>0</th>\n",
       "      <td>133292</td>\n",
       "      <td>http://www.imdb.com/title/tt0044207/</td>\n",
       "      <td>Arts</td>\n",
       "      <td>[0.19638090891848234, -0.2036611011082476, 0.1...</td>\n",
       "    </tr>\n",
       "    <tr>\n",
       "      <th>1</th>\n",
       "      <td>126451</td>\n",
       "      <td>http://www.missgien.net/misc/films/robin.html</td>\n",
       "      <td>Arts</td>\n",
       "      <td>[-0.46314648985862733, -0.10842716749757528, 0...</td>\n",
       "    </tr>\n",
       "    <tr>\n",
       "      <th>2</th>\n",
       "      <td>252430</td>\n",
       "      <td>http://www.ppmag.com</td>\n",
       "      <td>Arts</td>\n",
       "      <td>[-0.0398584817137037, -0.30310366010027273, -0...</td>\n",
       "    </tr>\n",
       "    <tr>\n",
       "      <th>4</th>\n",
       "      <td>125161</td>\n",
       "      <td>http://www.hollywoodjesus.com/powder.htm</td>\n",
       "      <td>Arts</td>\n",
       "      <td>[0.018674095170960452, -0.03543987311422825, 0...</td>\n",
       "    </tr>\n",
       "    <tr>\n",
       "      <th>6</th>\n",
       "      <td>258127</td>\n",
       "      <td>http://www.kspq.com/</td>\n",
       "      <td>Arts</td>\n",
       "      <td>[0.009379717521369457, -0.16280843317508698, 0...</td>\n",
       "    </tr>\n",
       "  </tbody>\n",
       "</table>\n",
       "</div>"
      ],
      "text/plain": [
       "       id                                            url   cat  \\\n",
       "0  133292           http://www.imdb.com/title/tt0044207/  Arts   \n",
       "1  126451  http://www.missgien.net/misc/films/robin.html  Arts   \n",
       "2  252430                           http://www.ppmag.com  Arts   \n",
       "4  125161       http://www.hollywoodjesus.com/powder.htm  Arts   \n",
       "6  258127                           http://www.kspq.com/  Arts   \n",
       "\n",
       "                                                 emb  \n",
       "0  [0.19638090891848234, -0.2036611011082476, 0.1...  \n",
       "1  [-0.46314648985862733, -0.10842716749757528, 0...  \n",
       "2  [-0.0398584817137037, -0.30310366010027273, -0...  \n",
       "4  [0.018674095170960452, -0.03543987311422825, 0...  \n",
       "6  [0.009379717521369457, -0.16280843317508698, 0...  "
      ]
     },
     "execution_count": 78,
     "metadata": {},
     "output_type": "execute_result"
    }
   ],
   "source": [
    "data_valid.head()"
   ]
  },
  {
   "cell_type": "code",
   "execution_count": 79,
   "metadata": {},
   "outputs": [],
   "source": [
    "data_valid.to_csv(name + '_emb.csv')"
   ]
  },
  {
   "cell_type": "code",
   "execution_count": null,
   "metadata": {},
   "outputs": [],
   "source": []
  }
 ],
 "metadata": {
  "kernelspec": {
   "display_name": "Python 3",
   "language": "python",
   "name": "python3"
  },
  "language_info": {
   "codemirror_mode": {
    "name": "ipython",
    "version": 3
   },
   "file_extension": ".py",
   "mimetype": "text/x-python",
   "name": "python",
   "nbconvert_exporter": "python",
   "pygments_lexer": "ipython3",
   "version": "3.8.3"
  }
 },
 "nbformat": 4,
 "nbformat_minor": 4
}
