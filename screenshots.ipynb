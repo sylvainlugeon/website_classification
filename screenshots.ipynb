{
 "cells": [
  {
   "cell_type": "code",
   "execution_count": 2,
   "metadata": {},
   "outputs": [],
   "source": [
    "import time\n",
    "from selenium import webdriver\n",
    "from selenium.webdriver.chrome.options import Options"
   ]
  },
  {
   "cell_type": "code",
   "execution_count": 3,
   "metadata": {},
   "outputs": [],
   "source": [
    "from PIL import Image\n",
    "import os"
   ]
  },
  {
   "cell_type": "code",
   "execution_count": 18,
   "metadata": {},
   "outputs": [],
   "source": [
    "def take_screenshot(driver, url, width, height, outname):\n",
    "    \n",
    "    driver.get(url)\n",
    "    driver.set_window_size(width, height) # May need manual adjustment   \n",
    "    driver.find_element_by_tag_name('body').screenshot(outname+'.png')\n",
    "    "
   ]
  },
  {
   "cell_type": "code",
   "execution_count": 19,
   "metadata": {},
   "outputs": [],
   "source": [
    "def convert_to_jpeg(name, out_width, out_height, quality):\n",
    "    img = Image.open(name + '.png')\n",
    "    img = img.convert('RGB')\n",
    "    img = img.resize((out_width, out_height),Image.ANTIALIAS)\n",
    "    img.save(name + '.jpeg',optimize=True,quality=85)\n",
    "    os.remove(name + '.png')\n",
    "    "
   ]
  },
  {
   "cell_type": "code",
   "execution_count": 20,
   "metadata": {},
   "outputs": [],
   "source": [
    "options = webdriver.ChromeOptions()\n",
    "options.headless = True\n",
    "driver = webdriver.Chrome('/home/lugeon/drivers/chromedriver', options=options)\n",
    "\n",
    "in_width = 1920\n",
    "in_height = 2 * 1080\n",
    "\n",
    "down_factor = 2\n",
    "\n",
    "out_width = int(in_width / down_factor)\n",
    "out_height = int(in_height / down_factor)\n",
    "\n",
    "quality = 0.85\n",
    "\n",
    "url = 'https://en.wikipedia.org/wiki/%C3%89cole_Polytechnique_F%C3%A9d%C3%A9rale_de_Lausanne'\n",
    "\n",
    "outname = '1'\n",
    "\n",
    "take_screenshot(driver, url, in_width, in_height, outname)\n",
    "convert_to_jpeg(outname, out_width, out_height, quality)\n",
    "\n",
    "driver.quit()"
   ]
  },
  {
   "cell_type": "code",
   "execution_count": 21,
   "metadata": {},
   "outputs": [],
   "source": [
    "import pandas as pd\n",
    "import numpy as np\n"
   ]
  },
  {
   "cell_type": "code",
   "execution_count": 34,
   "metadata": {},
   "outputs": [],
   "source": [
    "df = pd.read_csv(\"/dlabdata1/lugeon/websites_1000_5cat.gz\", names = ['uid', 'url', 'cat0'], header=0)"
   ]
  },
  {
   "cell_type": "code",
   "execution_count": 36,
   "metadata": {},
   "outputs": [
    {
     "data": {
      "text/plain": [
       "0        192733\n",
       "1        162532\n",
       "2        180561\n",
       "3        179143\n",
       "4        132230\n",
       "         ...   \n",
       "4995    1051430\n",
       "4996    1107612\n",
       "4997    1076177\n",
       "4998    1109760\n",
       "4999    1032034\n",
       "Name: uid, Length: 5000, dtype: int64"
      ]
     },
     "execution_count": 36,
     "metadata": {},
     "output_type": "execute_result"
    }
   ],
   "source": [
    "df.uid"
   ]
  },
  {
   "cell_type": "code",
   "execution_count": null,
   "metadata": {},
   "outputs": [],
   "source": []
  }
 ],
 "metadata": {
  "kernelspec": {
   "display_name": "Python 3",
   "language": "python",
   "name": "python3"
  },
  "language_info": {
   "codemirror_mode": {
    "name": "ipython",
    "version": 3
   },
   "file_extension": ".py",
   "mimetype": "text/x-python",
   "name": "python",
   "nbconvert_exporter": "python",
   "pygments_lexer": "ipython3",
   "version": "3.8.5"
  }
 },
 "nbformat": 4,
 "nbformat_minor": 4
}
