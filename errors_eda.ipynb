{
 "cells": [
  {
   "cell_type": "code",
   "execution_count": 2,
   "metadata": {},
   "outputs": [],
   "source": [
    "import requests\n",
    "import re\n",
    "from bs4 import BeautifulSoup\n",
    "import json\n",
    "import gzip\n",
    "import pandas as pd\n",
    "import numpy as np\n",
    "import matplotlib.pyplot as plt"
   ]
  },
  {
   "cell_type": "code",
   "execution_count": 3,
   "metadata": {},
   "outputs": [],
   "source": [
    "def clean_html(body):\n",
    "    try:\n",
    "        soup = BeautifulSoup(body, 'html.parser')\n",
    "        a = soup.get_text(' ').replace('\\n', '').lower()\n",
    "        b = re.sub(r\"[^a-z ]+\",\"\", a)\n",
    "        c = ' '.join(b.split())\n",
    "        return c\n",
    "    except:\n",
    "        return ''"
   ]
  },
  {
   "cell_type": "code",
   "execution_count": 4,
   "metadata": {},
   "outputs": [],
   "source": [
    "df = pd.read_json(\"/dlabdata1/lugeon/websites_1000_5cat_html.json.gz\", lines=True)"
   ]
  },
  {
   "cell_type": "code",
   "execution_count": 5,
   "metadata": {},
   "outputs": [
    {
     "data": {
      "text/html": [
       "<div>\n",
       "<style scoped>\n",
       "    .dataframe tbody tr th:only-of-type {\n",
       "        vertical-align: middle;\n",
       "    }\n",
       "\n",
       "    .dataframe tbody tr th {\n",
       "        vertical-align: top;\n",
       "    }\n",
       "\n",
       "    .dataframe thead th {\n",
       "        text-align: right;\n",
       "    }\n",
       "</style>\n",
       "<table border=\"1\" class=\"dataframe\">\n",
       "  <thead>\n",
       "    <tr style=\"text-align: right;\">\n",
       "      <th></th>\n",
       "      <th>url</th>\n",
       "      <th>html</th>\n",
       "      <th>errcode</th>\n",
       "      <th>cat</th>\n",
       "    </tr>\n",
       "  </thead>\n",
       "  <tbody>\n",
       "    <tr>\n",
       "      <th>0</th>\n",
       "      <td>http://www.360plex.com/news/go/127581/</td>\n",
       "      <td></td>\n",
       "      <td>200.0</td>\n",
       "      <td>Arts</td>\n",
       "    </tr>\n",
       "    <tr>\n",
       "      <th>1</th>\n",
       "      <td>http://www.allwatchers.com/topics/info_4024.asp</td>\n",
       "      <td>&lt;!DOCTYPE HTML PUBLIC \"-//W3C//DTD HTML 4.01//...</td>\n",
       "      <td>404.0</td>\n",
       "      <td>Arts</td>\n",
       "    </tr>\n",
       "    <tr>\n",
       "      <th>2</th>\n",
       "      <td>http://www.opmden.com/</td>\n",
       "      <td>&lt;!DOCTYPE HTML PUBLIC \"-//IETF//DTD HTML 2.0//...</td>\n",
       "      <td>403.0</td>\n",
       "      <td>Arts</td>\n",
       "    </tr>\n",
       "    <tr>\n",
       "      <th>3</th>\n",
       "      <td>http://www.angelfire.com/ns/phil/</td>\n",
       "      <td>&lt;!DOCTYPE HTML&gt;\\n\\n&lt;html&gt;\\n&lt;head&gt;\\n&lt;meta http-...</td>\n",
       "      <td>404.0</td>\n",
       "      <td>Arts</td>\n",
       "    </tr>\n",
       "    <tr>\n",
       "      <th>4</th>\n",
       "      <td>http://www.beatricegormley.com</td>\n",
       "      <td>&lt;!DOCTYPE html&gt;\\n&lt;html&gt;\\n&lt;head&gt;\\n&lt;meta content...</td>\n",
       "      <td>200.0</td>\n",
       "      <td>Arts</td>\n",
       "    </tr>\n",
       "  </tbody>\n",
       "</table>\n",
       "</div>"
      ],
      "text/plain": [
       "                                               url  \\\n",
       "0           http://www.360plex.com/news/go/127581/   \n",
       "1  http://www.allwatchers.com/topics/info_4024.asp   \n",
       "2                           http://www.opmden.com/   \n",
       "3                http://www.angelfire.com/ns/phil/   \n",
       "4                   http://www.beatricegormley.com   \n",
       "\n",
       "                                                html  errcode   cat  \n",
       "0                                                       200.0  Arts  \n",
       "1  <!DOCTYPE HTML PUBLIC \"-//W3C//DTD HTML 4.01//...    404.0  Arts  \n",
       "2  <!DOCTYPE HTML PUBLIC \"-//IETF//DTD HTML 2.0//...    403.0  Arts  \n",
       "3  <!DOCTYPE HTML>\\n\\n<html>\\n<head>\\n<meta http-...    404.0  Arts  \n",
       "4  <!DOCTYPE html>\\n<html>\\n<head>\\n<meta content...    200.0  Arts  "
      ]
     },
     "execution_count": 5,
     "metadata": {},
     "output_type": "execute_result"
    }
   ],
   "source": [
    "df.head()"
   ]
  },
  {
   "cell_type": "code",
   "execution_count": 15,
   "metadata": {},
   "outputs": [],
   "source": [
    "df = df[df.html.notnull()]\n",
    "df = df[df.html != '']"
   ]
  },
  {
   "cell_type": "code",
   "execution_count": 16,
   "metadata": {},
   "outputs": [],
   "source": [
    "df['html_clean'] = df.apply(lambda x: clean_html(x.html), axis=1)"
   ]
  },
  {
   "cell_type": "code",
   "execution_count": 17,
   "metadata": {},
   "outputs": [],
   "source": [
    "df['html_len'] = df.apply(lambda x: len(x.html_clean.split()), axis=1)"
   ]
  },
  {
   "cell_type": "code",
   "execution_count": 18,
   "metadata": {},
   "outputs": [],
   "source": [
    "df = df[df.html_len != 0]"
   ]
  },
  {
   "cell_type": "code",
   "execution_count": 19,
   "metadata": {},
   "outputs": [
    {
     "data": {
      "text/plain": [
       "array([98, 50, 42, 29, 25, 25, 22, 19, 17, 16, 14, 14, 12,  9,  9,  9,  9,\n",
       "        8,  8,  7,  7,  7,  6,  6,  5,  5,  5,  5,  5,  4,  4,  4,  4,  4,\n",
       "        4,  4,  4,  4,  4,  3,  3,  3,  3,  3,  3,  3,  3,  3,  3,  3,  3,\n",
       "        3,  3,  3,  3,  3,  3,  2,  2,  2,  2,  2,  2,  2,  2,  2,  2,  2,\n",
       "        2,  2,  2,  2,  2,  2,  2,  2,  2,  2,  2,  2,  2,  2,  2,  2,  2,\n",
       "        2,  2,  2,  2,  2,  2,  2,  2,  2,  2,  2,  2,  2,  2,  2,  2,  2,\n",
       "        2,  2,  2,  2,  2,  2,  2,  2,  2,  2,  2,  2,  2,  2,  2,  2,  2,\n",
       "        2,  2,  2,  2,  2,  1,  1,  1,  1,  1,  1,  1,  1,  1,  1,  1,  1,\n",
       "        1,  1,  1,  1,  1,  1,  1,  1,  1,  1,  1,  1,  1,  1,  1,  1,  1,\n",
       "        1,  1,  1,  1,  1,  1,  1,  1,  1,  1,  1,  1,  1,  1,  1,  1,  1,\n",
       "        1,  1,  1,  1,  1,  1,  1,  1,  1,  1,  1,  1,  1,  1,  1,  1,  1,\n",
       "        1,  1,  1,  1,  1,  1,  1,  1,  1,  1,  1,  1,  1])"
      ]
     },
     "execution_count": 19,
     "metadata": {},
     "output_type": "execute_result"
    }
   ],
   "source": [
    "html_counts = df.html_clean.value_counts().values[:200]\n",
    "html_counts"
   ]
  },
  {
   "cell_type": "code",
   "execution_count": 20,
   "metadata": {},
   "outputs": [
    {
     "data": {
      "text/plain": [
       "124"
      ]
     },
     "execution_count": 20,
     "metadata": {},
     "output_type": "execute_result"
    }
   ],
   "source": [
    "len([x for x in html_counts if x != 1])"
   ]
  },
  {
   "cell_type": "code",
   "execution_count": 21,
   "metadata": {},
   "outputs": [
    {
     "data": {
      "text/plain": [
       "2"
      ]
     },
     "execution_count": 21,
     "metadata": {},
     "output_type": "execute_result"
    }
   ],
   "source": [
    "html_counts[123]"
   ]
  },
  {
   "cell_type": "code",
   "execution_count": 22,
   "metadata": {},
   "outputs": [],
   "source": [
    "html_agg = df.html_clean.value_counts().keys().values"
   ]
  },
  {
   "cell_type": "code",
   "execution_count": 23,
   "metadata": {},
   "outputs": [],
   "source": [
    "html_length = [len(body.split()) for body in html_agg]"
   ]
  },
  {
   "cell_type": "code",
   "execution_count": 24,
   "metadata": {},
   "outputs": [],
   "source": [
    "errors = html_length[:124]"
   ]
  },
  {
   "cell_type": "code",
   "execution_count": 25,
   "metadata": {},
   "outputs": [],
   "source": [
    "base = html_length[124:]"
   ]
  },
  {
   "cell_type": "code",
   "execution_count": 26,
   "metadata": {},
   "outputs": [
    {
     "data": {
      "text/plain": [
       "count     124.000000\n",
       "mean      194.975806\n",
       "std       318.075884\n",
       "min         1.000000\n",
       "25%        19.000000\n",
       "50%        66.500000\n",
       "75%       265.000000\n",
       "max      2317.000000\n",
       "dtype: float64"
      ]
     },
     "execution_count": 26,
     "metadata": {},
     "output_type": "execute_result"
    }
   ],
   "source": [
    "pd.Series(errors).describe()"
   ]
  },
  {
   "cell_type": "code",
   "execution_count": 27,
   "metadata": {},
   "outputs": [
    {
     "data": {
      "text/plain": [
       "count      3102.000000\n",
       "mean        832.108640\n",
       "std        4478.845666\n",
       "min           1.000000\n",
       "25%          59.000000\n",
       "50%         257.000000\n",
       "75%         653.000000\n",
       "max      159757.000000\n",
       "dtype: float64"
      ]
     },
     "execution_count": 27,
     "metadata": {},
     "output_type": "execute_result"
    }
   ],
   "source": [
    "pd.Series(base).describe()"
   ]
  },
  {
   "cell_type": "code",
   "execution_count": 28,
   "metadata": {},
   "outputs": [],
   "source": [
    "html_error_list = html_agg[:124]"
   ]
  },
  {
   "cell_type": "code",
   "execution_count": 29,
   "metadata": {},
   "outputs": [],
   "source": [
    "df['error'] = df.apply(lambda x: (x.html_clean in html_error_list), axis=1)"
   ]
  },
  {
   "cell_type": "code",
   "execution_count": 30,
   "metadata": {},
   "outputs": [
    {
     "data": {
      "text/html": [
       "<div>\n",
       "<style scoped>\n",
       "    .dataframe tbody tr th:only-of-type {\n",
       "        vertical-align: middle;\n",
       "    }\n",
       "\n",
       "    .dataframe tbody tr th {\n",
       "        vertical-align: top;\n",
       "    }\n",
       "\n",
       "    .dataframe thead th {\n",
       "        text-align: right;\n",
       "    }\n",
       "</style>\n",
       "<table border=\"1\" class=\"dataframe\">\n",
       "  <thead>\n",
       "    <tr style=\"text-align: right;\">\n",
       "      <th></th>\n",
       "      <th>url</th>\n",
       "      <th>html</th>\n",
       "      <th>cat</th>\n",
       "      <th>html_clean</th>\n",
       "      <th>html_len</th>\n",
       "      <th>error</th>\n",
       "    </tr>\n",
       "  </thead>\n",
       "  <tbody>\n",
       "    <tr>\n",
       "      <th>1</th>\n",
       "      <td>http://www.allwatchers.com/topics/info_4024.asp</td>\n",
       "      <td>&lt;!DOCTYPE HTML PUBLIC \"-//W3C//DTD HTML 4.01//...</td>\n",
       "      <td>Arts</td>\n",
       "      <td>not found not found http error the requested r...</td>\n",
       "      <td>12</td>\n",
       "      <td>True</td>\n",
       "    </tr>\n",
       "    <tr>\n",
       "      <th>2</th>\n",
       "      <td>http://www.opmden.com/</td>\n",
       "      <td>&lt;!DOCTYPE HTML PUBLIC \"-//IETF//DTD HTML 2.0//...</td>\n",
       "      <td>Arts</td>\n",
       "      <td>forbidden forbidden you dont have permission t...</td>\n",
       "      <td>25</td>\n",
       "      <td>True</td>\n",
       "    </tr>\n",
       "    <tr>\n",
       "      <th>3</th>\n",
       "      <td>http://www.angelfire.com/ns/phil/</td>\n",
       "      <td>&lt;!DOCTYPE HTML&gt;\\n\\n&lt;html&gt;\\n&lt;head&gt;\\n&lt;meta http-...</td>\n",
       "      <td>Arts</td>\n",
       "      <td>angelfire error angelfirecom professional but ...</td>\n",
       "      <td>22</td>\n",
       "      <td>True</td>\n",
       "    </tr>\n",
       "    <tr>\n",
       "      <th>4</th>\n",
       "      <td>http://www.beatricegormley.com</td>\n",
       "      <td>&lt;!DOCTYPE html&gt;\\n&lt;html&gt;\\n&lt;head&gt;\\n&lt;meta content...</td>\n",
       "      <td>Arts</td>\n",
       "      <td>beatrice gormley welcome to my website instagr...</td>\n",
       "      <td>814</td>\n",
       "      <td>False</td>\n",
       "    </tr>\n",
       "    <tr>\n",
       "      <th>5</th>\n",
       "      <td>http://vmnagaraj.tripod.com/</td>\n",
       "      <td>&lt;HTML&gt;\\n\\n&lt;HEAD&gt;\\n&lt;TOBJ bgimage=\"/imagelib/sty...</td>\n",
       "      <td>Arts</td>\n",
       "      <td>pannagasayanas hindustani music page welcome t...</td>\n",
       "      <td>340</td>\n",
       "      <td>False</td>\n",
       "    </tr>\n",
       "    <tr>\n",
       "      <th>...</th>\n",
       "      <td>...</td>\n",
       "      <td>...</td>\n",
       "      <td>...</td>\n",
       "      <td>...</td>\n",
       "      <td>...</td>\n",
       "      <td>...</td>\n",
       "    </tr>\n",
       "    <tr>\n",
       "      <th>4995</th>\n",
       "      <td>http://www.space-explorers.com/</td>\n",
       "      <td>&lt;!DOCTYPE HTML PUBLIC \"-//W3C//DTD HTML 4.01//...</td>\n",
       "      <td>Science</td>\n",
       "      <td>rocketplane global inc</td>\n",
       "      <td>3</td>\n",
       "      <td>False</td>\n",
       "    </tr>\n",
       "    <tr>\n",
       "      <th>4996</th>\n",
       "      <td>http://cse.nias.affrc.go.jp/shignak/chromosome...</td>\n",
       "      <td>&lt;!DOCTYPE HTML PUBLIC \"-//W3C//DTD HTML 4.01 T...</td>\n",
       "      <td>Science</td>\n",
       "      <td>cse redirect information the domain has shifte...</td>\n",
       "      <td>118</td>\n",
       "      <td>False</td>\n",
       "    </tr>\n",
       "    <tr>\n",
       "      <th>4997</th>\n",
       "      <td>http://www.eea.europa.eu/</td>\n",
       "      <td>\\n\\n\\n\\n\\n\\n&lt;!DOCTYPE html&gt;\\n\\n&lt;!-- paulirish....</td>\n",
       "      <td>Science</td>\n",
       "      <td>european environment agencys home page europea...</td>\n",
       "      <td>3904</td>\n",
       "      <td>False</td>\n",
       "    </tr>\n",
       "    <tr>\n",
       "      <th>4998</th>\n",
       "      <td>http://www.goes.noaa.gov/index.html</td>\n",
       "      <td>&lt;!DOCTYPE html PUBLIC \"-//W3C//DTD XHTML 1.0 T...</td>\n",
       "      <td>Science</td>\n",
       "      <td>noaa goes geostationary satellite server pleas...</td>\n",
       "      <td>377</td>\n",
       "      <td>False</td>\n",
       "    </tr>\n",
       "    <tr>\n",
       "      <th>4999</th>\n",
       "      <td>http://mech.math.msu.su/english/matrus.htm</td>\n",
       "      <td>&lt;!DOCTYPE HTML PUBLIC \"-//IETF//DTD HTML 2.0//...</td>\n",
       "      <td>Science</td>\n",
       "      <td>not found not found the requested url englishm...</td>\n",
       "      <td>14</td>\n",
       "      <td>False</td>\n",
       "    </tr>\n",
       "  </tbody>\n",
       "</table>\n",
       "<p>3823 rows × 6 columns</p>\n",
       "</div>"
      ],
      "text/plain": [
       "                                                    url  \\\n",
       "1       http://www.allwatchers.com/topics/info_4024.asp   \n",
       "2                                http://www.opmden.com/   \n",
       "3                     http://www.angelfire.com/ns/phil/   \n",
       "4                        http://www.beatricegormley.com   \n",
       "5                          http://vmnagaraj.tripod.com/   \n",
       "...                                                 ...   \n",
       "4995                    http://www.space-explorers.com/   \n",
       "4996  http://cse.nias.affrc.go.jp/shignak/chromosome...   \n",
       "4997                          http://www.eea.europa.eu/   \n",
       "4998                http://www.goes.noaa.gov/index.html   \n",
       "4999         http://mech.math.msu.su/english/matrus.htm   \n",
       "\n",
       "                                                   html      cat  \\\n",
       "1     <!DOCTYPE HTML PUBLIC \"-//W3C//DTD HTML 4.01//...     Arts   \n",
       "2     <!DOCTYPE HTML PUBLIC \"-//IETF//DTD HTML 2.0//...     Arts   \n",
       "3     <!DOCTYPE HTML>\\n\\n<html>\\n<head>\\n<meta http-...     Arts   \n",
       "4     <!DOCTYPE html>\\n<html>\\n<head>\\n<meta content...     Arts   \n",
       "5     <HTML>\\n\\n<HEAD>\\n<TOBJ bgimage=\"/imagelib/sty...     Arts   \n",
       "...                                                 ...      ...   \n",
       "4995  <!DOCTYPE HTML PUBLIC \"-//W3C//DTD HTML 4.01//...  Science   \n",
       "4996  <!DOCTYPE HTML PUBLIC \"-//W3C//DTD HTML 4.01 T...  Science   \n",
       "4997  \\n\\n\\n\\n\\n\\n<!DOCTYPE html>\\n\\n<!-- paulirish....  Science   \n",
       "4998  <!DOCTYPE html PUBLIC \"-//W3C//DTD XHTML 1.0 T...  Science   \n",
       "4999  <!DOCTYPE HTML PUBLIC \"-//IETF//DTD HTML 2.0//...  Science   \n",
       "\n",
       "                                             html_clean  html_len  error  \n",
       "1     not found not found http error the requested r...        12   True  \n",
       "2     forbidden forbidden you dont have permission t...        25   True  \n",
       "3     angelfire error angelfirecom professional but ...        22   True  \n",
       "4     beatrice gormley welcome to my website instagr...       814  False  \n",
       "5     pannagasayanas hindustani music page welcome t...       340  False  \n",
       "...                                                 ...       ...    ...  \n",
       "4995                             rocketplane global inc         3  False  \n",
       "4996  cse redirect information the domain has shifte...       118  False  \n",
       "4997  european environment agencys home page europea...      3904  False  \n",
       "4998  noaa goes geostationary satellite server pleas...       377  False  \n",
       "4999  not found not found the requested url englishm...        14  False  \n",
       "\n",
       "[3823 rows x 6 columns]"
      ]
     },
     "execution_count": 30,
     "metadata": {},
     "output_type": "execute_result"
    }
   ],
   "source": [
    "df"
   ]
  },
  {
   "cell_type": "code",
   "execution_count": 31,
   "metadata": {},
   "outputs": [
    {
     "data": {
      "text/plain": [
       "False    3102\n",
       "True      721\n",
       "Name: error, dtype: int64"
      ]
     },
     "execution_count": 31,
     "metadata": {},
     "output_type": "execute_result"
    }
   ],
   "source": [
    "df.error.value_counts()"
   ]
  },
  {
   "cell_type": "code",
   "execution_count": 32,
   "metadata": {},
   "outputs": [
    {
     "data": {
      "text/plain": [
       "count     721.000000\n",
       "mean       95.636616\n",
       "std       219.304142\n",
       "min         1.000000\n",
       "25%        13.000000\n",
       "50%        24.000000\n",
       "75%        58.000000\n",
       "max      2317.000000\n",
       "Name: html_len, dtype: float64"
      ]
     },
     "execution_count": 32,
     "metadata": {},
     "output_type": "execute_result"
    }
   ],
   "source": [
    "df[df.error].html_len.describe()"
   ]
  },
  {
   "cell_type": "code",
   "execution_count": 33,
   "metadata": {},
   "outputs": [
    {
     "data": {
      "text/plain": [
       "count      3102.000000\n",
       "mean        832.108640\n",
       "std        4478.845666\n",
       "min           1.000000\n",
       "25%          59.000000\n",
       "50%         257.000000\n",
       "75%         653.000000\n",
       "max      159757.000000\n",
       "Name: html_len, dtype: float64"
      ]
     },
     "execution_count": 33,
     "metadata": {},
     "output_type": "execute_result"
    }
   ],
   "source": [
    "df[~df.error].html_len.describe()"
   ]
  },
  {
   "cell_type": "code",
   "execution_count": 34,
   "metadata": {},
   "outputs": [],
   "source": [
    "a = [x.split() for x in df[df.error].html_clean.values]\n",
    "err_words = np.concatenate(a)"
   ]
  },
  {
   "cell_type": "code",
   "execution_count": 35,
   "metadata": {},
   "outputs": [
    {
     "name": "stderr",
     "output_type": "stream",
     "text": [
      "[nltk_data] Downloading package stopwords to /home/lugeon/nltk_data...\n",
      "[nltk_data]   Package stopwords is already up-to-date!\n"
     ]
    }
   ],
   "source": [
    "import nltk\n",
    "nltk.download('stopwords')\n",
    "from nltk.corpus import stopwords\n",
    "stopwords = stopwords.words('english')"
   ]
  },
  {
   "cell_type": "code",
   "execution_count": 36,
   "metadata": {},
   "outputs": [],
   "source": [
    "err_words_wo_stopwords = [w for w in err_words if w not in stopwords]"
   ]
  },
  {
   "cell_type": "code",
   "execution_count": 37,
   "metadata": {},
   "outputs": [],
   "source": [
    "from collections import Counter "
   ]
  },
  {
   "cell_type": "code",
   "execution_count": 38,
   "metadata": {},
   "outputs": [],
   "source": [
    "Counter = Counter(err_words_wo_stopwords)"
   ]
  },
  {
   "cell_type": "code",
   "execution_count": 39,
   "metadata": {},
   "outputs": [],
   "source": [
    "most_occur = Counter.most_common(10)"
   ]
  },
  {
   "cell_type": "code",
   "execution_count": 40,
   "metadata": {},
   "outputs": [
    {
     "data": {
      "text/plain": [
       "[('found', 533),\n",
       " ('page', 415),\n",
       " ('error', 363),\n",
       " ('us', 283),\n",
       " ('web', 246),\n",
       " ('ft', 240),\n",
       " ('lbs', 240),\n",
       " ('site', 231),\n",
       " ('contact', 229),\n",
       " ('du', 228)]"
      ]
     },
     "execution_count": 40,
     "metadata": {},
     "output_type": "execute_result"
    }
   ],
   "source": [
    "most_occur"
   ]
  },
  {
   "cell_type": "code",
   "execution_count": 44,
   "metadata": {},
   "outputs": [],
   "source": [
    "url = \"http://www.allwatchers.com/topics/info_4024.asp\"\n",
    "r = requests.get(url)"
   ]
  },
  {
   "cell_type": "code",
   "execution_count": 46,
   "metadata": {},
   "outputs": [],
   "source": [
    "soup = BeautifulSoup(r.text, 'html.parser')"
   ]
  },
  {
   "cell_type": "code",
   "execution_count": 47,
   "metadata": {},
   "outputs": [
    {
     "data": {
      "text/plain": [
       "'\\nNot Found\\n\\nNot Found\\nHTTP Error 404. The requested resource is not found.\\n\\n'"
      ]
     },
     "execution_count": 47,
     "metadata": {},
     "output_type": "execute_result"
    }
   ],
   "source": [
    "soup.get_text()"
   ]
  },
  {
   "cell_type": "code",
   "execution_count": 52,
   "metadata": {},
   "outputs": [
    {
     "data": {
      "text/plain": [
       "404"
      ]
     },
     "execution_count": 52,
     "metadata": {},
     "output_type": "execute_result"
    }
   ],
   "source": [
    "r.status_code"
   ]
  },
  {
   "cell_type": "code",
   "execution_count": null,
   "metadata": {},
   "outputs": [],
   "source": []
  }
 ],
 "metadata": {
  "kernelspec": {
   "display_name": "Python 3",
   "language": "python",
   "name": "python3"
  },
  "language_info": {
   "codemirror_mode": {
    "name": "ipython",
    "version": 3
   },
   "file_extension": ".py",
   "mimetype": "text/x-python",
   "name": "python",
   "nbconvert_exporter": "python",
   "pygments_lexer": "ipython3",
   "version": "3.8.5"
  }
 },
 "nbformat": 4,
 "nbformat_minor": 4
}
