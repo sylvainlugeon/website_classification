{
 "cells": [
  {
   "cell_type": "code",
   "execution_count": 2,
   "metadata": {},
   "outputs": [
    {
     "ename": "ModuleNotFoundError",
     "evalue": "No module named 'bs4'",
     "output_type": "error",
     "traceback": [
      "\u001b[0;31m---------------------------------------------------------------------------\u001b[0m",
      "\u001b[0;31mModuleNotFoundError\u001b[0m                       Traceback (most recent call last)",
      "\u001b[0;32m<ipython-input-2-48f2c8ee872a>\u001b[0m in \u001b[0;36m<module>\u001b[0;34m\u001b[0m\n\u001b[1;32m      2\u001b[0m \u001b[0;32mimport\u001b[0m \u001b[0mnumpy\u001b[0m \u001b[0;32mas\u001b[0m \u001b[0mnp\u001b[0m\u001b[0;34m\u001b[0m\u001b[0;34m\u001b[0m\u001b[0m\n\u001b[1;32m      3\u001b[0m \u001b[0;32mimport\u001b[0m \u001b[0mrequests\u001b[0m\u001b[0;34m\u001b[0m\u001b[0;34m\u001b[0m\u001b[0m\n\u001b[0;32m----> 4\u001b[0;31m \u001b[0;32mfrom\u001b[0m \u001b[0mbs4\u001b[0m \u001b[0;32mimport\u001b[0m \u001b[0mBeautifulSoup\u001b[0m\u001b[0;34m\u001b[0m\u001b[0;34m\u001b[0m\u001b[0m\n\u001b[0m\u001b[1;32m      5\u001b[0m \u001b[0;32mimport\u001b[0m \u001b[0mmultiprocessing\u001b[0m \u001b[0;32mas\u001b[0m \u001b[0mmp\u001b[0m\u001b[0;34m\u001b[0m\u001b[0;34m\u001b[0m\u001b[0m\n\u001b[1;32m      6\u001b[0m \u001b[0;32mfrom\u001b[0m \u001b[0mlangdetect\u001b[0m \u001b[0;32mimport\u001b[0m \u001b[0mdetect\u001b[0m\u001b[0;34m\u001b[0m\u001b[0;34m\u001b[0m\u001b[0m\n",
      "\u001b[0;31mModuleNotFoundError\u001b[0m: No module named 'bs4'"
     ]
    }
   ],
   "source": [
    "import pandas as pd\n",
    "import numpy as np\n",
    "import requests\n",
    "from bs4 import BeautifulSoup\n",
    "import multiprocessing as mp\n",
    "from langdetect import detect\n",
    "from tqdm import tqdm\n",
    "\n",
    "from pandarallel import pandarallel\n",
    "\n",
    "import re\n",
    "import ast"
   ]
  },
  {
   "cell_type": "code",
   "execution_count": 21,
   "metadata": {},
   "outputs": [
    {
     "data": {
      "text/html": [
       "<div>\n",
       "<style scoped>\n",
       "    .dataframe tbody tr th:only-of-type {\n",
       "        vertical-align: middle;\n",
       "    }\n",
       "\n",
       "    .dataframe tbody tr th {\n",
       "        vertical-align: top;\n",
       "    }\n",
       "\n",
       "    .dataframe thead th {\n",
       "        text-align: right;\n",
       "    }\n",
       "</style>\n",
       "<table border=\"1\" class=\"dataframe\">\n",
       "  <thead>\n",
       "    <tr style=\"text-align: right;\">\n",
       "      <th></th>\n",
       "      <th>page_id</th>\n",
       "      <th>title</th>\n",
       "      <th>link_url_normalised</th>\n",
       "    </tr>\n",
       "  </thead>\n",
       "  <tbody>\n",
       "    <tr>\n",
       "      <th>0</th>\n",
       "      <td>6632119</td>\n",
       "      <td>Gladstone Pottery Museum</td>\n",
       "      <td>www.stokemuseums.org.uk/visit/gpm</td>\n",
       "    </tr>\n",
       "    <tr>\n",
       "      <th>1</th>\n",
       "      <td>35732799</td>\n",
       "      <td>Vicky Shu</td>\n",
       "      <td>www.facebook.com/mademoiselle.vickyshu</td>\n",
       "    </tr>\n",
       "    <tr>\n",
       "      <th>2</th>\n",
       "      <td>23407708</td>\n",
       "      <td>5th Venice International Film Festival</td>\n",
       "      <td>www.labiennale.org/en/cinema</td>\n",
       "    </tr>\n",
       "    <tr>\n",
       "      <th>3</th>\n",
       "      <td>45623538</td>\n",
       "      <td>Greenpeace Energy</td>\n",
       "      <td>www.greenpeace-energy.de</td>\n",
       "    </tr>\n",
       "    <tr>\n",
       "      <th>4</th>\n",
       "      <td>7292565</td>\n",
       "      <td>Michael Lee (musician)</td>\n",
       "      <td>www.myspace.com/michaelleedrummer</td>\n",
       "    </tr>\n",
       "  </tbody>\n",
       "</table>\n",
       "</div>"
      ],
      "text/plain": [
       "    page_id                                   title  \\\n",
       "0   6632119                Gladstone Pottery Museum   \n",
       "1  35732799                               Vicky Shu   \n",
       "2  23407708  5th Venice International Film Festival   \n",
       "3  45623538                       Greenpeace Energy   \n",
       "4   7292565                  Michael Lee (musician)   \n",
       "\n",
       "                      link_url_normalised  \n",
       "0       www.stokemuseums.org.uk/visit/gpm  \n",
       "1  www.facebook.com/mademoiselle.vickyshu  \n",
       "2            www.labiennale.org/en/cinema  \n",
       "3                www.greenpeace-energy.de  \n",
       "4       www.myspace.com/michaelleedrummer  "
      ]
     },
     "execution_count": 21,
     "metadata": {},
     "output_type": "execute_result"
    }
   ],
   "source": [
    "links = pd.read_pickle(\"/dlabdata1/lugeon/official_links.pkl\")\n",
    "links.head()"
   ]
  },
  {
   "cell_type": "code",
   "execution_count": 22,
   "metadata": {},
   "outputs": [],
   "source": [
    "topics = pd.read_json('/dlabdata1/tmp/enwiki.labeled_article_items.json', lines=True)"
   ]
  },
  {
   "cell_type": "code",
   "execution_count": 14,
   "metadata": {},
   "outputs": [
    {
     "data": {
      "text/html": [
       "<div>\n",
       "<style scoped>\n",
       "    .dataframe tbody tr th:only-of-type {\n",
       "        vertical-align: middle;\n",
       "    }\n",
       "\n",
       "    .dataframe tbody tr th {\n",
       "        vertical-align: top;\n",
       "    }\n",
       "\n",
       "    .dataframe thead th {\n",
       "        text-align: right;\n",
       "    }\n",
       "</style>\n",
       "<table border=\"1\" class=\"dataframe\">\n",
       "  <thead>\n",
       "    <tr style=\"text-align: right;\">\n",
       "      <th></th>\n",
       "      <th>article_pid</th>\n",
       "      <th>wp_templates</th>\n",
       "      <th>article_revid</th>\n",
       "      <th>qid</th>\n",
       "      <th>sitelinks</th>\n",
       "      <th>title</th>\n",
       "      <th>talk_revid</th>\n",
       "      <th>talk_pid</th>\n",
       "      <th>taxo_labels</th>\n",
       "    </tr>\n",
       "  </thead>\n",
       "  <tbody>\n",
       "    <tr>\n",
       "      <th>0</th>\n",
       "      <td>18951386.0</td>\n",
       "      <td>[WikiProject Objectivism, WikiProject Novels, ...</td>\n",
       "      <td>926765055.0</td>\n",
       "      <td>Q374098</td>\n",
       "      <td>{'la': 'Atlas Shrugged', 'sv': 'Och världen sk...</td>\n",
       "      <td>Atlas Shrugged</td>\n",
       "      <td>911346471</td>\n",
       "      <td>128</td>\n",
       "      <td>[Culture.Media.Books, History and Society.Poli...</td>\n",
       "    </tr>\n",
       "  </tbody>\n",
       "</table>\n",
       "</div>"
      ],
      "text/plain": [
       "   article_pid                                       wp_templates  \\\n",
       "0   18951386.0  [WikiProject Objectivism, WikiProject Novels, ...   \n",
       "\n",
       "   article_revid      qid                                          sitelinks  \\\n",
       "0    926765055.0  Q374098  {'la': 'Atlas Shrugged', 'sv': 'Och världen sk...   \n",
       "\n",
       "            title  talk_revid  talk_pid  \\\n",
       "0  Atlas Shrugged   911346471       128   \n",
       "\n",
       "                                         taxo_labels  \n",
       "0  [Culture.Media.Books, History and Society.Poli...  "
      ]
     },
     "execution_count": 14,
     "metadata": {},
     "output_type": "execute_result"
    }
   ],
   "source": [
    "topics.head(1)"
   ]
  },
  {
   "cell_type": "code",
   "execution_count": 23,
   "metadata": {},
   "outputs": [
    {
     "data": {
      "text/plain": [
       "(5926244, 9)"
      ]
     },
     "execution_count": 23,
     "metadata": {},
     "output_type": "execute_result"
    }
   ],
   "source": [
    "topics.shape"
   ]
  },
  {
   "cell_type": "code",
   "execution_count": 24,
   "metadata": {},
   "outputs": [
    {
     "data": {
      "text/html": [
       "<div>\n",
       "<style scoped>\n",
       "    .dataframe tbody tr th:only-of-type {\n",
       "        vertical-align: middle;\n",
       "    }\n",
       "\n",
       "    .dataframe tbody tr th {\n",
       "        vertical-align: top;\n",
       "    }\n",
       "\n",
       "    .dataframe thead th {\n",
       "        text-align: right;\n",
       "    }\n",
       "</style>\n",
       "<table border=\"1\" class=\"dataframe\">\n",
       "  <thead>\n",
       "    <tr style=\"text-align: right;\">\n",
       "      <th></th>\n",
       "      <th>article_pid</th>\n",
       "      <th>qid</th>\n",
       "      <th>taxo_labels</th>\n",
       "    </tr>\n",
       "  </thead>\n",
       "  <tbody>\n",
       "    <tr>\n",
       "      <th>0</th>\n",
       "      <td>18951386.0</td>\n",
       "      <td>Q374098</td>\n",
       "      <td>[Culture.Media.Books, History and Society.Poli...</td>\n",
       "    </tr>\n",
       "  </tbody>\n",
       "</table>\n",
       "</div>"
      ],
      "text/plain": [
       "   article_pid      qid                                        taxo_labels\n",
       "0   18951386.0  Q374098  [Culture.Media.Books, History and Society.Poli..."
      ]
     },
     "execution_count": 24,
     "metadata": {},
     "output_type": "execute_result"
    }
   ],
   "source": [
    "topics_red = topics[['article_pid', 'qid', 'taxo_labels']]\n",
    "topics_red.head(1)"
   ]
  },
  {
   "cell_type": "code",
   "execution_count": 17,
   "metadata": {},
   "outputs": [],
   "source": [
    "topics_red.to_csv('/dlabdata1/lugeon/wikitopics.gz', compression='gzip')"
   ]
  },
  {
   "cell_type": "code",
   "execution_count": 25,
   "metadata": {},
   "outputs": [
    {
     "data": {
      "text/html": [
       "<div>\n",
       "<style scoped>\n",
       "    .dataframe tbody tr th:only-of-type {\n",
       "        vertical-align: middle;\n",
       "    }\n",
       "\n",
       "    .dataframe tbody tr th {\n",
       "        vertical-align: top;\n",
       "    }\n",
       "\n",
       "    .dataframe thead th {\n",
       "        text-align: right;\n",
       "    }\n",
       "</style>\n",
       "<table border=\"1\" class=\"dataframe\">\n",
       "  <thead>\n",
       "    <tr style=\"text-align: right;\">\n",
       "      <th></th>\n",
       "      <th>page_id</th>\n",
       "      <th>title</th>\n",
       "      <th>link_url_normalised</th>\n",
       "    </tr>\n",
       "  </thead>\n",
       "  <tbody>\n",
       "    <tr>\n",
       "      <th>0</th>\n",
       "      <td>6632119</td>\n",
       "      <td>Gladstone Pottery Museum</td>\n",
       "      <td>www.stokemuseums.org.uk/visit/gpm</td>\n",
       "    </tr>\n",
       "  </tbody>\n",
       "</table>\n",
       "</div>"
      ],
      "text/plain": [
       "   page_id                     title                link_url_normalised\n",
       "0  6632119  Gladstone Pottery Museum  www.stokemuseums.org.uk/visit/gpm"
      ]
     },
     "execution_count": 25,
     "metadata": {},
     "output_type": "execute_result"
    }
   ],
   "source": [
    "links.head(1)"
   ]
  },
  {
   "cell_type": "code",
   "execution_count": 26,
   "metadata": {},
   "outputs": [
    {
     "data": {
      "text/html": [
       "<div>\n",
       "<style scoped>\n",
       "    .dataframe tbody tr th:only-of-type {\n",
       "        vertical-align: middle;\n",
       "    }\n",
       "\n",
       "    .dataframe tbody tr th {\n",
       "        vertical-align: top;\n",
       "    }\n",
       "\n",
       "    .dataframe thead th {\n",
       "        text-align: right;\n",
       "    }\n",
       "</style>\n",
       "<table border=\"1\" class=\"dataframe\">\n",
       "  <thead>\n",
       "    <tr style=\"text-align: right;\">\n",
       "      <th></th>\n",
       "      <th>article_pid</th>\n",
       "      <th>qid</th>\n",
       "      <th>taxo_labels</th>\n",
       "    </tr>\n",
       "  </thead>\n",
       "  <tbody>\n",
       "    <tr>\n",
       "      <th>0</th>\n",
       "      <td>18951386.0</td>\n",
       "      <td>Q374098</td>\n",
       "      <td>[Culture.Media.Books, History and Society.Poli...</td>\n",
       "    </tr>\n",
       "  </tbody>\n",
       "</table>\n",
       "</div>"
      ],
      "text/plain": [
       "   article_pid      qid                                        taxo_labels\n",
       "0   18951386.0  Q374098  [Culture.Media.Books, History and Society.Poli..."
      ]
     },
     "execution_count": 26,
     "metadata": {},
     "output_type": "execute_result"
    }
   ],
   "source": [
    "topics_red.head(1)"
   ]
  },
  {
   "cell_type": "code",
   "execution_count": 27,
   "metadata": {},
   "outputs": [],
   "source": [
    "topics_red = topics_red[topics_red.article_pid.notnull()]"
   ]
  },
  {
   "cell_type": "code",
   "execution_count": 28,
   "metadata": {},
   "outputs": [],
   "source": [
    "topics_red = topics_red.astype({'article_pid': int})\n",
    "links = links.astype({'page_id': int})"
   ]
  },
  {
   "cell_type": "code",
   "execution_count": 29,
   "metadata": {},
   "outputs": [],
   "source": [
    "merged = links.merge(topics_red, left_on='page_id', right_on='article_pid')"
   ]
  },
  {
   "cell_type": "code",
   "execution_count": 30,
   "metadata": {},
   "outputs": [
    {
     "data": {
      "text/html": [
       "<div>\n",
       "<style scoped>\n",
       "    .dataframe tbody tr th:only-of-type {\n",
       "        vertical-align: middle;\n",
       "    }\n",
       "\n",
       "    .dataframe tbody tr th {\n",
       "        vertical-align: top;\n",
       "    }\n",
       "\n",
       "    .dataframe thead th {\n",
       "        text-align: right;\n",
       "    }\n",
       "</style>\n",
       "<table border=\"1\" class=\"dataframe\">\n",
       "  <thead>\n",
       "    <tr style=\"text-align: right;\">\n",
       "      <th></th>\n",
       "      <th>page_id</th>\n",
       "      <th>title</th>\n",
       "      <th>link_url_normalised</th>\n",
       "      <th>article_pid</th>\n",
       "      <th>qid</th>\n",
       "      <th>taxo_labels</th>\n",
       "    </tr>\n",
       "  </thead>\n",
       "  <tbody>\n",
       "    <tr>\n",
       "      <th>0</th>\n",
       "      <td>6632119</td>\n",
       "      <td>Gladstone Pottery Museum</td>\n",
       "      <td>www.stokemuseums.org.uk/visit/gpm</td>\n",
       "      <td>6632119</td>\n",
       "      <td>Q5566347</td>\n",
       "      <td>[Culture.Visual arts.Architecture, Culture.Vis...</td>\n",
       "    </tr>\n",
       "  </tbody>\n",
       "</table>\n",
       "</div>"
      ],
      "text/plain": [
       "   page_id                     title                link_url_normalised  \\\n",
       "0  6632119  Gladstone Pottery Museum  www.stokemuseums.org.uk/visit/gpm   \n",
       "\n",
       "   article_pid       qid                                        taxo_labels  \n",
       "0      6632119  Q5566347  [Culture.Visual arts.Architecture, Culture.Vis...  "
      ]
     },
     "execution_count": 30,
     "metadata": {},
     "output_type": "execute_result"
    }
   ],
   "source": [
    "merged.head(1)"
   ]
  },
  {
   "cell_type": "code",
   "execution_count": 31,
   "metadata": {},
   "outputs": [
    {
     "data": {
      "text/plain": [
       "(503056, 6)"
      ]
     },
     "execution_count": 31,
     "metadata": {},
     "output_type": "execute_result"
    }
   ],
   "source": [
    "merged.shape"
   ]
  },
  {
   "cell_type": "code",
   "execution_count": 35,
   "metadata": {},
   "outputs": [],
   "source": [
    "def tokcat(cats):\n",
    "    catlist = [field.split('.') for field in cats]\n",
    "    cat1 = np.array([cat[0] for cat in catlist if len(cat) > 0])\n",
    "    cat2 = np.array([cat[1] for cat in catlist if len(cat) > 1])\n",
    "    cat3 = np.array([cat[2] for cat in catlist if len(cat) > 2])\n",
    "    return np.unique(cat1).tolist(), np.unique(cat2).tolist(), np.unique(cat3).tolist()"
   ]
  },
  {
   "cell_type": "code",
   "execution_count": 36,
   "metadata": {},
   "outputs": [],
   "source": [
    "merged['tokcat'] = merged.apply(lambda row: tokcat(row.taxo_labels), axis=1)"
   ]
  },
  {
   "cell_type": "code",
   "execution_count": 37,
   "metadata": {},
   "outputs": [],
   "source": [
    "merged['cat1'] = merged.apply(lambda row: row.tokcat[0], axis=1)\n",
    "merged['cat2'] = merged.apply(lambda row: row.tokcat[1], axis=1)\n",
    "merged['cat3'] = merged.apply(lambda row: row.tokcat[2], axis=1)"
   ]
  },
  {
   "cell_type": "code",
   "execution_count": 38,
   "metadata": {},
   "outputs": [
    {
     "data": {
      "text/html": [
       "<div>\n",
       "<style scoped>\n",
       "    .dataframe tbody tr th:only-of-type {\n",
       "        vertical-align: middle;\n",
       "    }\n",
       "\n",
       "    .dataframe tbody tr th {\n",
       "        vertical-align: top;\n",
       "    }\n",
       "\n",
       "    .dataframe thead th {\n",
       "        text-align: right;\n",
       "    }\n",
       "</style>\n",
       "<table border=\"1\" class=\"dataframe\">\n",
       "  <thead>\n",
       "    <tr style=\"text-align: right;\">\n",
       "      <th></th>\n",
       "      <th>page_id</th>\n",
       "      <th>title</th>\n",
       "      <th>link_url_normalised</th>\n",
       "      <th>article_pid</th>\n",
       "      <th>qid</th>\n",
       "      <th>taxo_labels</th>\n",
       "      <th>tokcat</th>\n",
       "      <th>cat1</th>\n",
       "      <th>cat2</th>\n",
       "      <th>cat3</th>\n",
       "    </tr>\n",
       "  </thead>\n",
       "  <tbody>\n",
       "    <tr>\n",
       "      <th>0</th>\n",
       "      <td>6632119</td>\n",
       "      <td>Gladstone Pottery Museum</td>\n",
       "      <td>www.stokemuseums.org.uk/visit/gpm</td>\n",
       "      <td>6632119</td>\n",
       "      <td>Q5566347</td>\n",
       "      <td>[Culture.Visual arts.Architecture, Culture.Vis...</td>\n",
       "      <td>([Culture], [Visual arts], [Architecture, Visu...</td>\n",
       "      <td>[Culture]</td>\n",
       "      <td>[Visual arts]</td>\n",
       "      <td>[Architecture, Visual arts*]</td>\n",
       "    </tr>\n",
       "    <tr>\n",
       "      <th>1</th>\n",
       "      <td>35732799</td>\n",
       "      <td>Vicky Shu</td>\n",
       "      <td>www.facebook.com/mademoiselle.vickyshu</td>\n",
       "      <td>35732799</td>\n",
       "      <td>Q4251749</td>\n",
       "      <td>[Geography.Regions.Asia.Southeast Asia, Geogra...</td>\n",
       "      <td>([Culture, Geography], [Biography, Regions], [...</td>\n",
       "      <td>[Culture, Geography]</td>\n",
       "      <td>[Biography, Regions]</td>\n",
       "      <td>[Asia, Biography*, Women]</td>\n",
       "    </tr>\n",
       "    <tr>\n",
       "      <th>2</th>\n",
       "      <td>23407708</td>\n",
       "      <td>5th Venice International Film Festival</td>\n",
       "      <td>www.labiennale.org/en/cinema</td>\n",
       "      <td>23407708</td>\n",
       "      <td>Q1606388</td>\n",
       "      <td>[Culture.Media.Films, Culture.Media.Media*]</td>\n",
       "      <td>([Culture], [Media], [Films, Media*])</td>\n",
       "      <td>[Culture]</td>\n",
       "      <td>[Media]</td>\n",
       "      <td>[Films, Media*]</td>\n",
       "    </tr>\n",
       "    <tr>\n",
       "      <th>3</th>\n",
       "      <td>45623538</td>\n",
       "      <td>Greenpeace Energy</td>\n",
       "      <td>www.greenpeace-energy.de</td>\n",
       "      <td>45623538</td>\n",
       "      <td>Q1544765</td>\n",
       "      <td>[History and Society.Education, Geography.Regi...</td>\n",
       "      <td>([Geography, History and Society], [Business a...</td>\n",
       "      <td>[Geography, History and Society]</td>\n",
       "      <td>[Business and economics, Education, Regions]</td>\n",
       "      <td>[Europe]</td>\n",
       "    </tr>\n",
       "    <tr>\n",
       "      <th>4</th>\n",
       "      <td>7292565</td>\n",
       "      <td>Michael Lee (musician)</td>\n",
       "      <td>www.myspace.com/michaelleedrummer</td>\n",
       "      <td>7292565</td>\n",
       "      <td>Q433281</td>\n",
       "      <td>[Culture.Media.Music, Culture.Media.Media*, Cu...</td>\n",
       "      <td>([Culture], [Biography, Media], [Biography*, M...</td>\n",
       "      <td>[Culture]</td>\n",
       "      <td>[Biography, Media]</td>\n",
       "      <td>[Biography*, Media*, Music]</td>\n",
       "    </tr>\n",
       "    <tr>\n",
       "      <th>...</th>\n",
       "      <td>...</td>\n",
       "      <td>...</td>\n",
       "      <td>...</td>\n",
       "      <td>...</td>\n",
       "      <td>...</td>\n",
       "      <td>...</td>\n",
       "      <td>...</td>\n",
       "      <td>...</td>\n",
       "      <td>...</td>\n",
       "      <td>...</td>\n",
       "    </tr>\n",
       "    <tr>\n",
       "      <th>503051</th>\n",
       "      <td>15655778</td>\n",
       "      <td>Ghoul (band)</td>\n",
       "      <td>www.creepsylvania.com</td>\n",
       "      <td>15655778</td>\n",
       "      <td>Q5557479</td>\n",
       "      <td>[Culture.Media.Music, Culture.Media.Media*, Cu...</td>\n",
       "      <td>([Culture], [Biography, Media], [Biography*, M...</td>\n",
       "      <td>[Culture]</td>\n",
       "      <td>[Biography, Media]</td>\n",
       "      <td>[Biography*, Media*, Music]</td>\n",
       "    </tr>\n",
       "    <tr>\n",
       "      <th>503052</th>\n",
       "      <td>16292465</td>\n",
       "      <td>Audrey Wood</td>\n",
       "      <td>audreywood.com</td>\n",
       "      <td>16292465</td>\n",
       "      <td>Q4820195</td>\n",
       "      <td>[Geography.Regions.Americas.North America, Cul...</td>\n",
       "      <td>([Culture, Geography], [Biography, Literature,...</td>\n",
       "      <td>[Culture, Geography]</td>\n",
       "      <td>[Biography, Literature, Regions]</td>\n",
       "      <td>[Americas, Biography*, Women]</td>\n",
       "    </tr>\n",
       "    <tr>\n",
       "      <th>503053</th>\n",
       "      <td>13090805</td>\n",
       "      <td>Bentleigh West Primary School</td>\n",
       "      <td>www.bentleighwestps.vic.edu.au</td>\n",
       "      <td>13090805</td>\n",
       "      <td>Q4890442</td>\n",
       "      <td>[History and Society.Education, Geography.Regi...</td>\n",
       "      <td>([Geography, History and Society], [Education,...</td>\n",
       "      <td>[Geography, History and Society]</td>\n",
       "      <td>[Education, Politics and government, Regions]</td>\n",
       "      <td>[Oceania]</td>\n",
       "    </tr>\n",
       "    <tr>\n",
       "      <th>503054</th>\n",
       "      <td>11105025</td>\n",
       "      <td>California Department of Finance</td>\n",
       "      <td>www.dof.ca.gov</td>\n",
       "      <td>11105025</td>\n",
       "      <td>Q5020418</td>\n",
       "      <td>[Geography.Regions.Americas.North America]</td>\n",
       "      <td>([Geography], [Regions], [Americas])</td>\n",
       "      <td>[Geography]</td>\n",
       "      <td>[Regions]</td>\n",
       "      <td>[Americas]</td>\n",
       "    </tr>\n",
       "    <tr>\n",
       "      <th>503055</th>\n",
       "      <td>37633607</td>\n",
       "      <td>Brian Corsetti</td>\n",
       "      <td>www.BrianCorsetti.com</td>\n",
       "      <td>37633607</td>\n",
       "      <td>Q4963440</td>\n",
       "      <td>[Culture.Biography.Biography*]</td>\n",
       "      <td>([Culture], [Biography], [Biography*])</td>\n",
       "      <td>[Culture]</td>\n",
       "      <td>[Biography]</td>\n",
       "      <td>[Biography*]</td>\n",
       "    </tr>\n",
       "  </tbody>\n",
       "</table>\n",
       "<p>503056 rows × 10 columns</p>\n",
       "</div>"
      ],
      "text/plain": [
       "         page_id                                   title  \\\n",
       "0        6632119                Gladstone Pottery Museum   \n",
       "1       35732799                               Vicky Shu   \n",
       "2       23407708  5th Venice International Film Festival   \n",
       "3       45623538                       Greenpeace Energy   \n",
       "4        7292565                  Michael Lee (musician)   \n",
       "...          ...                                     ...   \n",
       "503051  15655778                            Ghoul (band)   \n",
       "503052  16292465                             Audrey Wood   \n",
       "503053  13090805           Bentleigh West Primary School   \n",
       "503054  11105025        California Department of Finance   \n",
       "503055  37633607                          Brian Corsetti   \n",
       "\n",
       "                           link_url_normalised  article_pid       qid  \\\n",
       "0            www.stokemuseums.org.uk/visit/gpm      6632119  Q5566347   \n",
       "1       www.facebook.com/mademoiselle.vickyshu     35732799  Q4251749   \n",
       "2                 www.labiennale.org/en/cinema     23407708  Q1606388   \n",
       "3                     www.greenpeace-energy.de     45623538  Q1544765   \n",
       "4            www.myspace.com/michaelleedrummer      7292565   Q433281   \n",
       "...                                        ...          ...       ...   \n",
       "503051                   www.creepsylvania.com     15655778  Q5557479   \n",
       "503052                          audreywood.com     16292465  Q4820195   \n",
       "503053          www.bentleighwestps.vic.edu.au     13090805  Q4890442   \n",
       "503054                          www.dof.ca.gov     11105025  Q5020418   \n",
       "503055                   www.BrianCorsetti.com     37633607  Q4963440   \n",
       "\n",
       "                                              taxo_labels  \\\n",
       "0       [Culture.Visual arts.Architecture, Culture.Vis...   \n",
       "1       [Geography.Regions.Asia.Southeast Asia, Geogra...   \n",
       "2             [Culture.Media.Films, Culture.Media.Media*]   \n",
       "3       [History and Society.Education, Geography.Regi...   \n",
       "4       [Culture.Media.Music, Culture.Media.Media*, Cu...   \n",
       "...                                                   ...   \n",
       "503051  [Culture.Media.Music, Culture.Media.Media*, Cu...   \n",
       "503052  [Geography.Regions.Americas.North America, Cul...   \n",
       "503053  [History and Society.Education, Geography.Regi...   \n",
       "503054         [Geography.Regions.Americas.North America]   \n",
       "503055                     [Culture.Biography.Biography*]   \n",
       "\n",
       "                                                   tokcat  \\\n",
       "0       ([Culture], [Visual arts], [Architecture, Visu...   \n",
       "1       ([Culture, Geography], [Biography, Regions], [...   \n",
       "2                   ([Culture], [Media], [Films, Media*])   \n",
       "3       ([Geography, History and Society], [Business a...   \n",
       "4       ([Culture], [Biography, Media], [Biography*, M...   \n",
       "...                                                   ...   \n",
       "503051  ([Culture], [Biography, Media], [Biography*, M...   \n",
       "503052  ([Culture, Geography], [Biography, Literature,...   \n",
       "503053  ([Geography, History and Society], [Education,...   \n",
       "503054               ([Geography], [Regions], [Americas])   \n",
       "503055             ([Culture], [Biography], [Biography*])   \n",
       "\n",
       "                                    cat1  \\\n",
       "0                              [Culture]   \n",
       "1                   [Culture, Geography]   \n",
       "2                              [Culture]   \n",
       "3       [Geography, History and Society]   \n",
       "4                              [Culture]   \n",
       "...                                  ...   \n",
       "503051                         [Culture]   \n",
       "503052              [Culture, Geography]   \n",
       "503053  [Geography, History and Society]   \n",
       "503054                       [Geography]   \n",
       "503055                         [Culture]   \n",
       "\n",
       "                                                 cat2  \\\n",
       "0                                       [Visual arts]   \n",
       "1                                [Biography, Regions]   \n",
       "2                                             [Media]   \n",
       "3        [Business and economics, Education, Regions]   \n",
       "4                                  [Biography, Media]   \n",
       "...                                               ...   \n",
       "503051                             [Biography, Media]   \n",
       "503052               [Biography, Literature, Regions]   \n",
       "503053  [Education, Politics and government, Regions]   \n",
       "503054                                      [Regions]   \n",
       "503055                                    [Biography]   \n",
       "\n",
       "                                 cat3  \n",
       "0        [Architecture, Visual arts*]  \n",
       "1           [Asia, Biography*, Women]  \n",
       "2                     [Films, Media*]  \n",
       "3                            [Europe]  \n",
       "4         [Biography*, Media*, Music]  \n",
       "...                               ...  \n",
       "503051    [Biography*, Media*, Music]  \n",
       "503052  [Americas, Biography*, Women]  \n",
       "503053                      [Oceania]  \n",
       "503054                     [Americas]  \n",
       "503055                   [Biography*]  \n",
       "\n",
       "[503056 rows x 10 columns]"
      ]
     },
     "execution_count": 38,
     "metadata": {},
     "output_type": "execute_result"
    }
   ],
   "source": [
    "merged"
   ]
  },
  {
   "cell_type": "code",
   "execution_count": 39,
   "metadata": {},
   "outputs": [
    {
     "data": {
      "text/plain": [
       "Geography              380775\n",
       "Culture                237989\n",
       "History and Society    149533\n",
       "STEM                    46325\n",
       "dtype: int64"
      ]
     },
     "execution_count": 39,
     "metadata": {},
     "output_type": "execute_result"
    }
   ],
   "source": [
    "allcat1 = pd.Series([c_ for c in merged.cat1 for c_ in c])\n",
    "allcat1.value_counts()"
   ]
  },
  {
   "cell_type": "code",
   "execution_count": 40,
   "metadata": {},
   "outputs": [
    {
     "data": {
      "text/plain": [
       "Regions                    380155\n",
       "Media                      100931\n",
       "Biography                   97726\n",
       "Education                   53101\n",
       "Business and economics      48285\n",
       "STEM*                       46325\n",
       "Sports                      36357\n",
       "Politics and government     32568\n",
       "Geographical                30846\n",
       "Visual arts                 24130\n",
       "Transportation              19324\n",
       "Philosophy and religion     15187\n",
       "Literature                  14738\n",
       "Technology                  13740\n",
       "Society                     13699\n",
       "Engineering                 10177\n",
       "Computing                    9441\n",
       "Internet culture             8708\n",
       "Medicine & Health            6377\n",
       "Food and drink               6013\n",
       "Military and warfare         4776\n",
       "History                      3848\n",
       "Biology                      3268\n",
       "Performing arts              3086\n",
       "Earth and environment        1956\n",
       "Libraries & Information      1923\n",
       "Space                        1897\n",
       "Linguistics                   777\n",
       "Physics                       572\n",
       "Chemistry                     519\n",
       "Mathematics                   317\n",
       "dtype: int64"
      ]
     },
     "execution_count": 40,
     "metadata": {},
     "output_type": "execute_result"
    }
   ],
   "source": [
    "allcat2 = pd.Series([c_ for c in merged.cat2 for c_ in c])\n",
    "allcat2.value_counts()"
   ]
  },
  {
   "cell_type": "code",
   "execution_count": 41,
   "metadata": {},
   "outputs": [
    {
     "data": {
      "text/plain": [
       "(31,)"
      ]
     },
     "execution_count": 41,
     "metadata": {},
     "output_type": "execute_result"
    }
   ],
   "source": [
    "allcat2.unique().shape"
   ]
  },
  {
   "cell_type": "code",
   "execution_count": 42,
   "metadata": {},
   "outputs": [
    {
     "data": {
      "text/plain": [
       "Americas            149940\n",
       "Europe              126222\n",
       "Media*              100931\n",
       "Biography*           97726\n",
       "Asia                 86561\n",
       "Music                30654\n",
       "Visual arts*         24130\n",
       "Television           22925\n",
       "Radio                20069\n",
       "Oceania              19662\n",
       "Women                17231\n",
       "Architecture         15149\n",
       "Entertainment        10355\n",
       "Africa                8175\n",
       "Software              6444\n",
       "Films                 5153\n",
       "Video games           3469\n",
       "Comics and Anime      2948\n",
       "Fashion               2587\n",
       "Books                 1238\n",
       "dtype: int64"
      ]
     },
     "execution_count": 42,
     "metadata": {},
     "output_type": "execute_result"
    }
   ],
   "source": [
    "allcat3 = pd.Series([c_ for c in merged.cat3 for c_ in c])\n",
    "allcat3.value_counts()"
   ]
  },
  {
   "cell_type": "code",
   "execution_count": 43,
   "metadata": {},
   "outputs": [],
   "source": [
    "merged = merged[['page_id', 'title', 'link_url_normalised', 'taxo_labels', 'cat1', 'cat2', 'cat3']]"
   ]
  },
  {
   "cell_type": "code",
   "execution_count": 44,
   "metadata": {},
   "outputs": [
    {
     "data": {
      "text/html": [
       "<div>\n",
       "<style scoped>\n",
       "    .dataframe tbody tr th:only-of-type {\n",
       "        vertical-align: middle;\n",
       "    }\n",
       "\n",
       "    .dataframe tbody tr th {\n",
       "        vertical-align: top;\n",
       "    }\n",
       "\n",
       "    .dataframe thead th {\n",
       "        text-align: right;\n",
       "    }\n",
       "</style>\n",
       "<table border=\"1\" class=\"dataframe\">\n",
       "  <thead>\n",
       "    <tr style=\"text-align: right;\">\n",
       "      <th></th>\n",
       "      <th>page_id</th>\n",
       "      <th>title</th>\n",
       "      <th>link_url_normalised</th>\n",
       "      <th>taxo_labels</th>\n",
       "      <th>cat1</th>\n",
       "      <th>cat2</th>\n",
       "      <th>cat3</th>\n",
       "    </tr>\n",
       "  </thead>\n",
       "  <tbody>\n",
       "    <tr>\n",
       "      <th>0</th>\n",
       "      <td>6632119</td>\n",
       "      <td>Gladstone Pottery Museum</td>\n",
       "      <td>www.stokemuseums.org.uk/visit/gpm</td>\n",
       "      <td>[Culture.Visual arts.Architecture, Culture.Vis...</td>\n",
       "      <td>[Culture]</td>\n",
       "      <td>[Visual arts]</td>\n",
       "      <td>[Architecture, Visual arts*]</td>\n",
       "    </tr>\n",
       "  </tbody>\n",
       "</table>\n",
       "</div>"
      ],
      "text/plain": [
       "   page_id                     title                link_url_normalised  \\\n",
       "0  6632119  Gladstone Pottery Museum  www.stokemuseums.org.uk/visit/gpm   \n",
       "\n",
       "                                         taxo_labels       cat1  \\\n",
       "0  [Culture.Visual arts.Architecture, Culture.Vis...  [Culture]   \n",
       "\n",
       "            cat2                          cat3  \n",
       "0  [Visual arts]  [Architecture, Visual arts*]  "
      ]
     },
     "execution_count": 44,
     "metadata": {},
     "output_type": "execute_result"
    }
   ],
   "source": [
    "merged.head(1)"
   ]
  },
  {
   "cell_type": "code",
   "execution_count": 45,
   "metadata": {},
   "outputs": [
    {
     "name": "stderr",
     "output_type": "stream",
     "text": [
      "/dlabdata1/lugeon/lugeon-env/lib/python3.8/site-packages/pandas/core/frame.py:4295: SettingWithCopyWarning: \n",
      "A value is trying to be set on a copy of a slice from a DataFrame\n",
      "\n",
      "See the caveats in the documentation: https://pandas.pydata.org/pandas-docs/stable/user_guide/indexing.html#returning-a-view-versus-a-copy\n",
      "  return super().rename(\n"
     ]
    }
   ],
   "source": [
    "merged.rename(columns={'link_url_normalised': 'link', 'taxo_labels': 'fullcat'}, inplace=True)"
   ]
  },
  {
   "cell_type": "code",
   "execution_count": 46,
   "metadata": {},
   "outputs": [],
   "source": [
    "merged.to_csv('/dlabdata1/lugeon/wikilinks.gz', compression='gzip')"
   ]
  },
  {
   "cell_type": "code",
   "execution_count": 1,
   "metadata": {},
   "outputs": [
    {
     "ename": "NameError",
     "evalue": "name 'pd' is not defined",
     "output_type": "error",
     "traceback": [
      "\u001b[0;31m---------------------------------------------------------------------------\u001b[0m",
      "\u001b[0;31mNameError\u001b[0m                                 Traceback (most recent call last)",
      "\u001b[0;32m<ipython-input-1-95c3259ef0ce>\u001b[0m in \u001b[0;36m<module>\u001b[0;34m\u001b[0m\n\u001b[0;32m----> 1\u001b[0;31m \u001b[0mdf\u001b[0m \u001b[0;34m=\u001b[0m \u001b[0mpd\u001b[0m\u001b[0;34m.\u001b[0m\u001b[0mread_csv\u001b[0m\u001b[0;34m(\u001b[0m\u001b[0;34m\"/dlabdata1/lugeon/wikilinks.gz\"\u001b[0m\u001b[0;34m,\u001b[0m \u001b[0mindex_col\u001b[0m\u001b[0;34m=\u001b[0m\u001b[0;36m0\u001b[0m\u001b[0;34m)\u001b[0m\u001b[0;34m\u001b[0m\u001b[0;34m\u001b[0m\u001b[0m\n\u001b[0m\u001b[1;32m      2\u001b[0m \u001b[0mdf\u001b[0m\u001b[0;34m.\u001b[0m\u001b[0mshape\u001b[0m\u001b[0;34m\u001b[0m\u001b[0;34m\u001b[0m\u001b[0m\n",
      "\u001b[0;31mNameError\u001b[0m: name 'pd' is not defined"
     ]
    }
   ],
   "source": [
    "df = pd.read_csv(\"/dlabdata1/lugeon/wikilinks.gz\", index_col=0)\n",
    "df.shape"
   ]
  },
  {
   "cell_type": "code",
   "execution_count": 75,
   "metadata": {},
   "outputs": [
    {
     "data": {
      "text/html": [
       "<div>\n",
       "<style scoped>\n",
       "    .dataframe tbody tr th:only-of-type {\n",
       "        vertical-align: middle;\n",
       "    }\n",
       "\n",
       "    .dataframe tbody tr th {\n",
       "        vertical-align: top;\n",
       "    }\n",
       "\n",
       "    .dataframe thead th {\n",
       "        text-align: right;\n",
       "    }\n",
       "</style>\n",
       "<table border=\"1\" class=\"dataframe\">\n",
       "  <thead>\n",
       "    <tr style=\"text-align: right;\">\n",
       "      <th></th>\n",
       "      <th>page_id</th>\n",
       "      <th>title</th>\n",
       "      <th>link</th>\n",
       "      <th>fullcat</th>\n",
       "      <th>cat1</th>\n",
       "      <th>cat2</th>\n",
       "      <th>cat3</th>\n",
       "    </tr>\n",
       "  </thead>\n",
       "  <tbody>\n",
       "    <tr>\n",
       "      <th>0</th>\n",
       "      <td>6632119</td>\n",
       "      <td>Gladstone Pottery Museum</td>\n",
       "      <td>www.stokemuseums.org.uk/visit/gpm</td>\n",
       "      <td>['Culture.Visual arts.Architecture', 'Culture....</td>\n",
       "      <td>['Culture']</td>\n",
       "      <td>['Visual arts']</td>\n",
       "      <td>['Architecture', 'Visual arts*']</td>\n",
       "    </tr>\n",
       "  </tbody>\n",
       "</table>\n",
       "</div>"
      ],
      "text/plain": [
       "   page_id                     title                               link  \\\n",
       "0  6632119  Gladstone Pottery Museum  www.stokemuseums.org.uk/visit/gpm   \n",
       "\n",
       "                                             fullcat         cat1  \\\n",
       "0  ['Culture.Visual arts.Architecture', 'Culture....  ['Culture']   \n",
       "\n",
       "              cat2                              cat3  \n",
       "0  ['Visual arts']  ['Architecture', 'Visual arts*']  "
      ]
     },
     "execution_count": 75,
     "metadata": {},
     "output_type": "execute_result"
    }
   ],
   "source": [
    "df.head(1)"
   ]
  },
  {
   "cell_type": "code",
   "execution_count": 76,
   "metadata": {},
   "outputs": [
    {
     "data": {
      "text/plain": [
       "0                                           ['Visual arts']\n",
       "1                                  ['Biography', 'Regions']\n",
       "2                                                 ['Media']\n",
       "3         ['Business and economics', 'Education', 'Regio...\n",
       "4                                    ['Biography', 'Media']\n",
       "                                ...                        \n",
       "503051                               ['Biography', 'Media']\n",
       "503052               ['Biography', 'Literature', 'Regions']\n",
       "503053    ['Education', 'Politics and government', 'Regi...\n",
       "503054                                          ['Regions']\n",
       "503055                                        ['Biography']\n",
       "Name: cat2, Length: 503056, dtype: object"
      ]
     },
     "execution_count": 76,
     "metadata": {},
     "output_type": "execute_result"
    }
   ],
   "source": [
    "df.cat2"
   ]
  },
  {
   "cell_type": "code",
   "execution_count": 77,
   "metadata": {},
   "outputs": [],
   "source": [
    "allcat2 = pd.Series([c_ for c in df.cat2 for c_ in ast.literal_eval(c)])"
   ]
  },
  {
   "cell_type": "code",
   "execution_count": 17,
   "metadata": {},
   "outputs": [
    {
     "data": {
      "text/plain": [
       "0                                     Visual arts\n",
       "1                                BiographyRegions\n",
       "2                                           Media\n",
       "3          Business and economicsEducationRegions\n",
       "4                                  BiographyMedia\n",
       "                           ...                   \n",
       "498216                             BiographyMedia\n",
       "498217                 BiographyLiteratureRegions\n",
       "498218    EducationPolitics and governmentRegions\n",
       "498219                                    Regions\n",
       "498220                                  Biography\n",
       "Length: 498221, dtype: object"
      ]
     },
     "execution_count": 17,
     "metadata": {},
     "output_type": "execute_result"
    }
   ],
   "source": [
    "allcat2"
   ]
  },
  {
   "cell_type": "code",
   "execution_count": 52,
   "metadata": {},
   "outputs": [],
   "source": [
    "wiki_20_31cat = pd.DataFrame([])\n",
    "\n",
    "nsamples = 20\n",
    "\n",
    "for c in allcat2.unique():\n",
    "    mask = df.cat2.apply(lambda x: c in x)\n",
    "    df_c = merged[mask].sample(nsamples)[['page_id', 'link']]\n",
    "    df_c['cat2'] = [re.sub(r' ', '_', c)] * nsamples\n",
    "    wiki_20_31cat = pd.concat((wiki_20_31cat, df_c))\n",
    "\n",
    "    "
   ]
  },
  {
   "cell_type": "code",
   "execution_count": 54,
   "metadata": {},
   "outputs": [
    {
     "data": {
      "text/html": [
       "<div>\n",
       "<style scoped>\n",
       "    .dataframe tbody tr th:only-of-type {\n",
       "        vertical-align: middle;\n",
       "    }\n",
       "\n",
       "    .dataframe tbody tr th {\n",
       "        vertical-align: top;\n",
       "    }\n",
       "\n",
       "    .dataframe thead th {\n",
       "        text-align: right;\n",
       "    }\n",
       "</style>\n",
       "<table border=\"1\" class=\"dataframe\">\n",
       "  <thead>\n",
       "    <tr style=\"text-align: right;\">\n",
       "      <th></th>\n",
       "      <th>page_id</th>\n",
       "      <th>link</th>\n",
       "      <th>cat2</th>\n",
       "    </tr>\n",
       "  </thead>\n",
       "  <tbody>\n",
       "    <tr>\n",
       "      <th>375929</th>\n",
       "      <td>50649422</td>\n",
       "      <td>ffffound.com</td>\n",
       "      <td>Visual_arts</td>\n",
       "    </tr>\n",
       "    <tr>\n",
       "      <th>274038</th>\n",
       "      <td>4112508</td>\n",
       "      <td>www.fionabanner.com</td>\n",
       "      <td>Visual_arts</td>\n",
       "    </tr>\n",
       "    <tr>\n",
       "      <th>365016</th>\n",
       "      <td>46883492</td>\n",
       "      <td>www.museum.gov.lk/web/index.php?option=com_reg...</td>\n",
       "      <td>Visual_arts</td>\n",
       "    </tr>\n",
       "    <tr>\n",
       "      <th>491173</th>\n",
       "      <td>56672409</td>\n",
       "      <td>www.royalhawaiiancenter.com</td>\n",
       "      <td>Visual_arts</td>\n",
       "    </tr>\n",
       "    <tr>\n",
       "      <th>163614</th>\n",
       "      <td>53360924</td>\n",
       "      <td>gloriastollkarn.com</td>\n",
       "      <td>Visual_arts</td>\n",
       "    </tr>\n",
       "    <tr>\n",
       "      <th>...</th>\n",
       "      <td>...</td>\n",
       "      <td>...</td>\n",
       "      <td>...</td>\n",
       "    </tr>\n",
       "    <tr>\n",
       "      <th>50149</th>\n",
       "      <td>27327422</td>\n",
       "      <td>www.secmsg.emudhra.com</td>\n",
       "      <td>Mathematics</td>\n",
       "    </tr>\n",
       "    <tr>\n",
       "      <th>86370</th>\n",
       "      <td>46743384</td>\n",
       "      <td>peerio.com</td>\n",
       "      <td>Mathematics</td>\n",
       "    </tr>\n",
       "    <tr>\n",
       "      <th>64998</th>\n",
       "      <td>231712</td>\n",
       "      <td>www.cse-cst.gc.ca</td>\n",
       "      <td>Mathematics</td>\n",
       "    </tr>\n",
       "    <tr>\n",
       "      <th>135724</th>\n",
       "      <td>51849458</td>\n",
       "      <td>explorer.zcha.in</td>\n",
       "      <td>Mathematics</td>\n",
       "    </tr>\n",
       "    <tr>\n",
       "      <th>478030</th>\n",
       "      <td>16939285</td>\n",
       "      <td>www.tinkerplots.com</td>\n",
       "      <td>Mathematics</td>\n",
       "    </tr>\n",
       "  </tbody>\n",
       "</table>\n",
       "<p>620 rows × 3 columns</p>\n",
       "</div>"
      ],
      "text/plain": [
       "         page_id                                               link  \\\n",
       "375929  50649422                                       ffffound.com   \n",
       "274038   4112508                                www.fionabanner.com   \n",
       "365016  46883492  www.museum.gov.lk/web/index.php?option=com_reg...   \n",
       "491173  56672409                        www.royalhawaiiancenter.com   \n",
       "163614  53360924                                gloriastollkarn.com   \n",
       "...          ...                                                ...   \n",
       "50149   27327422                             www.secmsg.emudhra.com   \n",
       "86370   46743384                                         peerio.com   \n",
       "64998     231712                                  www.cse-cst.gc.ca   \n",
       "135724  51849458                                   explorer.zcha.in   \n",
       "478030  16939285                                www.tinkerplots.com   \n",
       "\n",
       "               cat2  \n",
       "375929  Visual_arts  \n",
       "274038  Visual_arts  \n",
       "365016  Visual_arts  \n",
       "491173  Visual_arts  \n",
       "163614  Visual_arts  \n",
       "...             ...  \n",
       "50149   Mathematics  \n",
       "86370   Mathematics  \n",
       "64998   Mathematics  \n",
       "135724  Mathematics  \n",
       "478030  Mathematics  \n",
       "\n",
       "[620 rows x 3 columns]"
      ]
     },
     "execution_count": 54,
     "metadata": {},
     "output_type": "execute_result"
    }
   ],
   "source": [
    "wiki_20_31cat"
   ]
  },
  {
   "cell_type": "code",
   "execution_count": 55,
   "metadata": {},
   "outputs": [],
   "source": [
    "wiki_20_31cat.to_csv('/dlabdata1/lugeon/wiki_20_31cat.gz', compression='gzip')"
   ]
  },
  {
   "cell_type": "code",
   "execution_count": null,
   "metadata": {},
   "outputs": [],
   "source": []
  }
 ],
 "metadata": {
  "kernelspec": {
   "display_name": "Python 3",
   "language": "python",
   "name": "python3"
  },
  "language_info": {
   "codemirror_mode": {
    "name": "ipython",
    "version": 3
   },
   "file_extension": ".py",
   "mimetype": "text/x-python",
   "name": "python",
   "nbconvert_exporter": "python",
   "pygments_lexer": "ipython3",
   "version": "3.8.5"
  }
 },
 "nbformat": 4,
 "nbformat_minor": 4
}
