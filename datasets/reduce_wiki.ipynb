{
 "cells": [
  {
   "cell_type": "code",
   "execution_count": 16,
   "metadata": {},
   "outputs": [],
   "source": [
    "import pandas as pd\n",
    "import numpy as np\n",
    "import ast\n",
    "import re"
   ]
  },
  {
   "cell_type": "code",
   "execution_count": 38,
   "metadata": {},
   "outputs": [],
   "source": [
    "df = pd.read_csv('/dlabdata1/lugeon/wikilinks.gz')"
   ]
  },
  {
   "cell_type": "code",
   "execution_count": 39,
   "metadata": {},
   "outputs": [
    {
     "data": {
      "text/html": [
       "<div>\n",
       "<style scoped>\n",
       "    .dataframe tbody tr th:only-of-type {\n",
       "        vertical-align: middle;\n",
       "    }\n",
       "\n",
       "    .dataframe tbody tr th {\n",
       "        vertical-align: top;\n",
       "    }\n",
       "\n",
       "    .dataframe thead th {\n",
       "        text-align: right;\n",
       "    }\n",
       "</style>\n",
       "<table border=\"1\" class=\"dataframe\">\n",
       "  <thead>\n",
       "    <tr style=\"text-align: right;\">\n",
       "      <th></th>\n",
       "      <th>Unnamed: 0</th>\n",
       "      <th>page_id</th>\n",
       "      <th>title</th>\n",
       "      <th>link</th>\n",
       "      <th>fullcat</th>\n",
       "      <th>cat1</th>\n",
       "      <th>cat2</th>\n",
       "      <th>cat3</th>\n",
       "    </tr>\n",
       "  </thead>\n",
       "  <tbody>\n",
       "    <tr>\n",
       "      <th>0</th>\n",
       "      <td>0</td>\n",
       "      <td>6632119</td>\n",
       "      <td>Gladstone Pottery Museum</td>\n",
       "      <td>www.stokemuseums.org.uk/visit/gpm</td>\n",
       "      <td>['Culture.Visual arts.Architecture', 'Culture....</td>\n",
       "      <td>['Culture']</td>\n",
       "      <td>['Visual arts']</td>\n",
       "      <td>['Architecture', 'Visual arts*']</td>\n",
       "    </tr>\n",
       "  </tbody>\n",
       "</table>\n",
       "</div>"
      ],
      "text/plain": [
       "   Unnamed: 0  page_id                     title  \\\n",
       "0           0  6632119  Gladstone Pottery Museum   \n",
       "\n",
       "                                link  \\\n",
       "0  www.stokemuseums.org.uk/visit/gpm   \n",
       "\n",
       "                                             fullcat         cat1  \\\n",
       "0  ['Culture.Visual arts.Architecture', 'Culture....  ['Culture']   \n",
       "\n",
       "              cat2                              cat3  \n",
       "0  ['Visual arts']  ['Architecture', 'Visual arts*']  "
      ]
     },
     "execution_count": 39,
     "metadata": {},
     "output_type": "execute_result"
    }
   ],
   "source": [
    "df.head(1)"
   ]
  },
  {
   "cell_type": "code",
   "execution_count": 40,
   "metadata": {},
   "outputs": [
    {
     "data": {
      "text/plain": [
       "(503056, 8)"
      ]
     },
     "execution_count": 40,
     "metadata": {},
     "output_type": "execute_result"
    }
   ],
   "source": [
    "df.shape"
   ]
  },
  {
   "cell_type": "code",
   "execution_count": 41,
   "metadata": {},
   "outputs": [],
   "source": [
    "allcat2 = pd.Series([c_ for c in df.cat2 for c_ in ast.literal_eval(c)])"
   ]
  },
  {
   "cell_type": "code",
   "execution_count": 42,
   "metadata": {},
   "outputs": [
    {
     "data": {
      "text/plain": [
       "Regions                    380155\n",
       "Media                      100931\n",
       "Biography                   97726\n",
       "Education                   53101\n",
       "Business and economics      48285\n",
       "STEM*                       46325\n",
       "Sports                      36357\n",
       "Politics and government     32568\n",
       "Geographical                30846\n",
       "Visual arts                 24130\n",
       "Transportation              19324\n",
       "Philosophy and religion     15187\n",
       "Literature                  14738\n",
       "Technology                  13740\n",
       "Society                     13699\n",
       "Engineering                 10177\n",
       "Computing                    9441\n",
       "Internet culture             8708\n",
       "Medicine & Health            6377\n",
       "Food and drink               6013\n",
       "Military and warfare         4776\n",
       "History                      3848\n",
       "Biology                      3268\n",
       "Performing arts              3086\n",
       "Earth and environment        1956\n",
       "Libraries & Information      1923\n",
       "Space                        1897\n",
       "Linguistics                   777\n",
       "Physics                       572\n",
       "Chemistry                     519\n",
       "Mathematics                   317\n",
       "dtype: int64"
      ]
     },
     "execution_count": 42,
     "metadata": {},
     "output_type": "execute_result"
    }
   ],
   "source": [
    "allcat2.value_counts()"
   ]
  },
  {
   "cell_type": "code",
   "execution_count": 79,
   "metadata": {},
   "outputs": [],
   "source": [
    "selected_cat2 = ['Biography', 'Business and economics', 'Education', 'Visual arts', 'Geographical', 'Politics and government', 'Sports', 'Transportation']"
   ]
  },
  {
   "cell_type": "code",
   "execution_count": 80,
   "metadata": {},
   "outputs": [
    {
     "data": {
      "text/plain": [
       "True     402278\n",
       "False    100778\n",
       "Name: link, dtype: int64"
      ]
     },
     "execution_count": 80,
     "metadata": {},
     "output_type": "execute_result"
    }
   ],
   "source": [
    "df.link.apply(lambda url: not('/' in str(url))).value_counts()"
   ]
  },
  {
   "cell_type": "code",
   "execution_count": 81,
   "metadata": {},
   "outputs": [
    {
     "name": "stdout",
     "output_type": "stream",
     "text": [
      "Biography : 81330 valid urls\n",
      "Business and economics : 43255 valid urls\n",
      "Education : 43122 valid urls\n",
      "Visual arts : 18429 valid urls\n",
      "Geographical : 24289 valid urls\n",
      "Politics and government : 25189 valid urls\n",
      "Sports : 29908 valid urls\n",
      "Transportation : 10678 valid urls\n"
     ]
    }
   ],
   "source": [
    "for c in selected_cat2:\n",
    "    mask = df.cat2.apply(lambda x: c in x)\n",
    "    df_c = df[mask]\n",
    "    df_c = df_c[df_c.link.apply(lambda url: not('/' in str(url)))]\n",
    "    print('{} : {} valid urls'.format(c, df_c.shape[0]))"
   ]
  },
  {
   "cell_type": "code",
   "execution_count": 95,
   "metadata": {},
   "outputs": [
    {
     "name": "stdout",
     "output_type": "stream",
     "text": [
      "[5001 7350 5608 ... 2379 5090 2225]\n",
      "[4106 4973 2717 ... 7893  769 8140]\n",
      "[6388 4582 4443 ... 5843  641 8586]\n",
      "[6925 6345 9058 ...  660 1904 3562]\n",
      "[7726 1137 6345 ... 6843 5224 6945]\n",
      "[1870 4038 2941 ... 6683  333 2938]\n",
      "[3968  459 9344 ... 2714 7677 9583]\n",
      "[3483 6638 2514 ... 5314 8686 1023]\n"
     ]
    }
   ],
   "source": [
    "df_train = pd.DataFrame([])\n",
    "df_test = pd.DataFrame([])\n",
    "\n",
    "nsamples = 10_000\n",
    "test_frac = 0.2\n",
    "\n",
    "for c in selected_cat2:\n",
    "    mask = df.cat2.apply(lambda x: c in x)\n",
    "    df_c = df[mask]\n",
    "    df_c = df_c[df_c.link.apply(lambda url: not('/' in str(url)))]\n",
    "    df_c = df_c.sample(nsamples)[['page_id', 'link']]\n",
    "    df_c['cat2'] = [re.sub(r' ', '_', c)] * nsamples\n",
    "    ix = np.arange(nsamples)\n",
    "    np.random.shuffle(ix)\n",
    "    sep = int(nsamples * test_frac)\n",
    "    df_train = pd.concat((df_train, df_c.iloc[ix[sep:]]))\n",
    "    df_test = pd.concat((df_test, df_c.iloc[ix[:sep]]))"
   ]
  },
  {
   "cell_type": "code",
   "execution_count": 83,
   "metadata": {},
   "outputs": [
    {
     "data": {
      "text/plain": [
       "(64000, 3)"
      ]
     },
     "execution_count": 83,
     "metadata": {},
     "output_type": "execute_result"
    }
   ],
   "source": [
    "df_train.shape"
   ]
  },
  {
   "cell_type": "code",
   "execution_count": 84,
   "metadata": {},
   "outputs": [
    {
     "data": {
      "text/plain": [
       "(16000, 3)"
      ]
     },
     "execution_count": 84,
     "metadata": {},
     "output_type": "execute_result"
    }
   ],
   "source": [
    "df_test.shape"
   ]
  },
  {
   "cell_type": "code",
   "execution_count": 85,
   "metadata": {},
   "outputs": [],
   "source": [
    "df_train = df_train.reset_index(drop=True)\n",
    "df_test = df_test.reset_index(drop=True)"
   ]
  },
  {
   "cell_type": "code",
   "execution_count": 91,
   "metadata": {},
   "outputs": [],
   "source": [
    "df_train.to_csv('/dlabdata1/lugeon/websites_wiki_10_000_9cat_train.gz', compression='gzip')\n",
    "df_test.to_csv('/dlabdata1/lugeon/websites_wiki_10_000_9cat_valid.gz', compression='gzip')"
   ]
  },
  {
   "cell_type": "code",
   "execution_count": 92,
   "metadata": {},
   "outputs": [
    {
     "data": {
      "text/html": [
       "<div>\n",
       "<style scoped>\n",
       "    .dataframe tbody tr th:only-of-type {\n",
       "        vertical-align: middle;\n",
       "    }\n",
       "\n",
       "    .dataframe tbody tr th {\n",
       "        vertical-align: top;\n",
       "    }\n",
       "\n",
       "    .dataframe thead th {\n",
       "        text-align: right;\n",
       "    }\n",
       "</style>\n",
       "<table border=\"1\" class=\"dataframe\">\n",
       "  <thead>\n",
       "    <tr style=\"text-align: right;\">\n",
       "      <th></th>\n",
       "      <th>uid</th>\n",
       "      <th>url</th>\n",
       "      <th>cat0</th>\n",
       "    </tr>\n",
       "  </thead>\n",
       "  <tbody>\n",
       "    <tr>\n",
       "      <th>0</th>\n",
       "      <td>53444543</td>\n",
       "      <td>vvnijnsel.nl</td>\n",
       "      <td>Biography</td>\n",
       "    </tr>\n",
       "    <tr>\n",
       "      <th>1</th>\n",
       "      <td>408803</td>\n",
       "      <td>www.petestark.com</td>\n",
       "      <td>Biography</td>\n",
       "    </tr>\n",
       "    <tr>\n",
       "      <th>2</th>\n",
       "      <td>56769455</td>\n",
       "      <td>www.ghostlightband.com</td>\n",
       "      <td>Biography</td>\n",
       "    </tr>\n",
       "    <tr>\n",
       "      <th>3</th>\n",
       "      <td>25293838</td>\n",
       "      <td>www.thecoalporters.com</td>\n",
       "      <td>Biography</td>\n",
       "    </tr>\n",
       "    <tr>\n",
       "      <th>4</th>\n",
       "      <td>41082806</td>\n",
       "      <td>senatorpeterwirth.com</td>\n",
       "      <td>Biography</td>\n",
       "    </tr>\n",
       "    <tr>\n",
       "      <th>...</th>\n",
       "      <td>...</td>\n",
       "      <td>...</td>\n",
       "      <td>...</td>\n",
       "    </tr>\n",
       "    <tr>\n",
       "      <th>63995</th>\n",
       "      <td>23121059</td>\n",
       "      <td>www.polestar.com</td>\n",
       "      <td>Transportation</td>\n",
       "    </tr>\n",
       "    <tr>\n",
       "      <th>63996</th>\n",
       "      <td>47528895</td>\n",
       "      <td>en.motcmpb.gov.tw</td>\n",
       "      <td>Transportation</td>\n",
       "    </tr>\n",
       "    <tr>\n",
       "      <th>63997</th>\n",
       "      <td>275681</td>\n",
       "      <td>www.ansett.com.au</td>\n",
       "      <td>Transportation</td>\n",
       "    </tr>\n",
       "    <tr>\n",
       "      <th>63998</th>\n",
       "      <td>4579741</td>\n",
       "      <td>www.vag.de</td>\n",
       "      <td>Transportation</td>\n",
       "    </tr>\n",
       "    <tr>\n",
       "      <th>63999</th>\n",
       "      <td>607811</td>\n",
       "      <td>fastnet.rorc.org</td>\n",
       "      <td>Transportation</td>\n",
       "    </tr>\n",
       "  </tbody>\n",
       "</table>\n",
       "<p>64000 rows × 3 columns</p>\n",
       "</div>"
      ],
      "text/plain": [
       "            uid                     url            cat0\n",
       "0      53444543            vvnijnsel.nl       Biography\n",
       "1        408803       www.petestark.com       Biography\n",
       "2      56769455  www.ghostlightband.com       Biography\n",
       "3      25293838  www.thecoalporters.com       Biography\n",
       "4      41082806   senatorpeterwirth.com       Biography\n",
       "...         ...                     ...             ...\n",
       "63995  23121059        www.polestar.com  Transportation\n",
       "63996  47528895       en.motcmpb.gov.tw  Transportation\n",
       "63997    275681       www.ansett.com.au  Transportation\n",
       "63998   4579741              www.vag.de  Transportation\n",
       "63999    607811        fastnet.rorc.org  Transportation\n",
       "\n",
       "[64000 rows x 3 columns]"
      ]
     },
     "execution_count": 92,
     "metadata": {},
     "output_type": "execute_result"
    }
   ],
   "source": [
    "pd.read_csv('/dlabdata1/lugeon/websites_wiki_10_000_9cat_train.gz', header=0, names=['uid', 'url', 'cat0'])"
   ]
  },
  {
   "cell_type": "code",
   "execution_count": null,
   "metadata": {},
   "outputs": [],
   "source": []
  }
 ],
 "metadata": {
  "kernelspec": {
   "display_name": "Python 3",
   "language": "python",
   "name": "python3"
  },
  "language_info": {
   "codemirror_mode": {
    "name": "ipython",
    "version": 3
   },
   "file_extension": ".py",
   "mimetype": "text/x-python",
   "name": "python",
   "nbconvert_exporter": "python",
   "pygments_lexer": "ipython3",
   "version": "3.7.7"
  }
 },
 "nbformat": 4,
 "nbformat_minor": 4
}
