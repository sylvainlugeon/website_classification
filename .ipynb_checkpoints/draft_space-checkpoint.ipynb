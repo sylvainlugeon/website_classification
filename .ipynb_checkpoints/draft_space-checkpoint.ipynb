{
 "cells": [
  {
   "cell_type": "code",
   "execution_count": 1,
   "metadata": {},
   "outputs": [],
   "source": [
    "import requests\n",
    "import re\n",
    "from bs4 import BeautifulSoup\n",
    "import json\n",
    "import gzip\n",
    "from tqdm import tqdm\n",
    "import pandas as pd\n",
    "import numpy as np\n",
    "import matplotlib.pyplot as plt"
   ]
  },
  {
   "cell_type": "code",
   "execution_count": 3,
   "metadata": {},
   "outputs": [],
   "source": [
    "body = requests.get('https://www.bbc.com/').text"
   ]
  },
  {
   "cell_type": "code",
   "execution_count": 4,
   "metadata": {},
   "outputs": [],
   "source": [
    "soup = BeautifulSoup(body, 'html.parser')"
   ]
  },
  {
   "cell_type": "code",
   "execution_count": 5,
   "metadata": {},
   "outputs": [],
   "source": [
    "a = soup.get_text(' ').replace('\\n', '').lower()"
   ]
  },
  {
   "cell_type": "code",
   "execution_count": 6,
   "metadata": {},
   "outputs": [],
   "source": [
    "b = re.sub(r\"[^a-z ]+\",\"\", a)"
   ]
  },
  {
   "cell_type": "code",
   "execution_count": 7,
   "metadata": {},
   "outputs": [],
   "source": [
    "c = ' '.join(b.split())"
   ]
  },
  {
   "cell_type": "code",
   "execution_count": 83,
   "metadata": {},
   "outputs": [],
   "source": [
    "def clean_html(body):\n",
    "    try:\n",
    "        soup = BeautifulSoup(body, 'html.parser')\n",
    "        a = soup.get_text(' ').replace('\\n', '').lower()\n",
    "        b = re.sub(r\"[^a-z ]+\",\"\", a)\n",
    "        c = ' '.join(b.split())\n",
    "        return c\n",
    "    except:\n",
    "        return ''"
   ]
  },
  {
   "cell_type": "code",
   "execution_count": 94,
   "metadata": {},
   "outputs": [],
   "source": [
    "df = pd.read_json(\"/dlabdata1/lugeon/websites_1000_5cat_html.json.gz\", lines=True)"
   ]
  },
  {
   "cell_type": "code",
   "execution_count": 95,
   "metadata": {},
   "outputs": [
    {
     "data": {
      "text/html": [
       "<div>\n",
       "<style scoped>\n",
       "    .dataframe tbody tr th:only-of-type {\n",
       "        vertical-align: middle;\n",
       "    }\n",
       "\n",
       "    .dataframe tbody tr th {\n",
       "        vertical-align: top;\n",
       "    }\n",
       "\n",
       "    .dataframe thead th {\n",
       "        text-align: right;\n",
       "    }\n",
       "</style>\n",
       "<table border=\"1\" class=\"dataframe\">\n",
       "  <thead>\n",
       "    <tr style=\"text-align: right;\">\n",
       "      <th></th>\n",
       "      <th>url</th>\n",
       "      <th>html</th>\n",
       "      <th>cat</th>\n",
       "    </tr>\n",
       "  </thead>\n",
       "  <tbody>\n",
       "    <tr>\n",
       "      <th>0</th>\n",
       "      <td>http://www.360plex.com/news/go/127581/</td>\n",
       "      <td></td>\n",
       "      <td>Arts</td>\n",
       "    </tr>\n",
       "    <tr>\n",
       "      <th>1</th>\n",
       "      <td>http://www.allwatchers.com/topics/info_4024.asp</td>\n",
       "      <td>&lt;!DOCTYPE HTML PUBLIC \"-//W3C//DTD HTML 4.01//...</td>\n",
       "      <td>Arts</td>\n",
       "    </tr>\n",
       "    <tr>\n",
       "      <th>2</th>\n",
       "      <td>http://www.opmden.com/</td>\n",
       "      <td>&lt;!DOCTYPE HTML PUBLIC \"-//IETF//DTD HTML 2.0//...</td>\n",
       "      <td>Arts</td>\n",
       "    </tr>\n",
       "    <tr>\n",
       "      <th>3</th>\n",
       "      <td>http://www.angelfire.com/ns/phil/</td>\n",
       "      <td>&lt;!DOCTYPE HTML&gt;\\n\\n&lt;html&gt;\\n&lt;head&gt;\\n&lt;meta http-...</td>\n",
       "      <td>Arts</td>\n",
       "    </tr>\n",
       "    <tr>\n",
       "      <th>4</th>\n",
       "      <td>http://www.beatricegormley.com</td>\n",
       "      <td>&lt;!DOCTYPE html&gt;\\n&lt;html&gt;\\n&lt;head&gt;\\n&lt;meta content...</td>\n",
       "      <td>Arts</td>\n",
       "    </tr>\n",
       "  </tbody>\n",
       "</table>\n",
       "</div>"
      ],
      "text/plain": [
       "                                               url  \\\n",
       "0           http://www.360plex.com/news/go/127581/   \n",
       "1  http://www.allwatchers.com/topics/info_4024.asp   \n",
       "2                           http://www.opmden.com/   \n",
       "3                http://www.angelfire.com/ns/phil/   \n",
       "4                   http://www.beatricegormley.com   \n",
       "\n",
       "                                                html   cat  \n",
       "0                                                     Arts  \n",
       "1  <!DOCTYPE HTML PUBLIC \"-//W3C//DTD HTML 4.01//...  Arts  \n",
       "2  <!DOCTYPE HTML PUBLIC \"-//IETF//DTD HTML 2.0//...  Arts  \n",
       "3  <!DOCTYPE HTML>\\n\\n<html>\\n<head>\\n<meta http-...  Arts  \n",
       "4  <!DOCTYPE html>\\n<html>\\n<head>\\n<meta content...  Arts  "
      ]
     },
     "execution_count": 95,
     "metadata": {},
     "output_type": "execute_result"
    }
   ],
   "source": [
    "df.head()"
   ]
  },
  {
   "cell_type": "code",
   "execution_count": 96,
   "metadata": {},
   "outputs": [],
   "source": [
    "df = df[df.html.notnull()]\n",
    "df = df[df.html != '']"
   ]
  },
  {
   "cell_type": "code",
   "execution_count": 97,
   "metadata": {},
   "outputs": [],
   "source": [
    "df['html_clean'] = df.apply(lambda x: clean_html(x.html), axis=1)"
   ]
  },
  {
   "cell_type": "code",
   "execution_count": 98,
   "metadata": {},
   "outputs": [],
   "source": [
    "df['html_len'] = df.apply(lambda x: len(x.html_clean.split()), axis=1)"
   ]
  },
  {
   "cell_type": "code",
   "execution_count": 100,
   "metadata": {},
   "outputs": [],
   "source": [
    "df = df[df.html_len != 0]"
   ]
  },
  {
   "cell_type": "code",
   "execution_count": 111,
   "metadata": {
    "collapsed": true,
    "jupyter": {
     "outputs_hidden": true
    }
   },
   "outputs": [
    {
     "data": {
      "text/plain": [
       "not acceptable not acceptable an appropriate representation of the requested resource could not be found on this server this error was generated by modsecurity                                                                                                                                                                                                                                                                                                                                                                                                                                                                                                                                                                                                                                                                                                                                                                                                                                                                                                                                                                                                                                                                                                                                                                                                                                                                                                                                                                                                                                                                                                                                                                                                                                                                                                                                                                                                                                                                                                                                                                                                                                                                                                                                                                                                                                                                                                                                                                                                                                                                                                                                                                                                                                                                                                                                                                                                                                                                                                                                                                                                                                                                                                                                                                                                                                                                                                                                                                                                                                                                                                                                                                                                                                                                                                                                                                                                                                                                                                                                                                                                                                                                                                                                                                                                                                                                                                                                                                                                                                                                                                                                                                                                                                                                                                                                                                                                                                                                                                                                                                                                                                                                                                                                                                                                                                                                                                                                                                                                                                                                                                                                                                                                                                                                                                                                                                                                                                                                                                                                                                                                                                                                                                                                                                                                                                                                                                                                                                                                                                                                                                                                                                                                                                                                                                                                                                                                                                                                                        98\n",
       "forbidden forbidden nginx                                                                                                                                                                                                                                                                                                                                                                                                                                                                                                                                                                                                                                                                                                                                                                                                                                                                                                                                                                                                                                                                                                                                                                                                                                                                                                                                                                                                                                                                                                                                                                                                                                                                                                                                                                                                                                                                                                                                                                                                                                                                                                                                                                                                                                                                                                                                                                                                                                                                                                                                                                                                                                                                                                                                                                                                                                                                                                                                                                                                                                                                                                                                                                                                                                                                                                                                                                                                                                                                                                                                                                                                                                                                                                                                                                                                                                                                                                                                                                                                                                                                                                                                                                                                                                                                                                                                                                                                                                                                                                                                                                                                                                                                                                                                                                                                                                                                                                                                                                                                                                                                                                                                                                                                                                                                                                                                                                                                                                                                                                                                                                                                                                                                                                                                                                                                                                                                                                                                                                                                                                                                                                                                                                                                                                                                                                                                                                                                                                                                                                                                                                                                                                                                                                                                                                                                                                                                                                                                                                                                                              50\n",
       "for full functionality of this site it is necessary to enable javascript here are the instructions how to enable javascript in your web browser                                                                                                                                                                                                                                                                                                                                                                                                                                                                                                                                                                                                                                                                                                                                                                                                                                                                                                                                                                                                                                                                                                                                                                                                                                                                                                                                                                                                                                                                                                                                                                                                                                                                                                                                                                                                                                                                                                                                                                                                                                                                                                                                                                                                                                                                                                                                                                                                                                                                                                                                                                                                                                                                                                                                                                                                                                                                                                                                                                                                                                                                                                                                                                                                                                                                                                                                                                                                                                                                                                                                                                                                                                                                                                                                                                                                                                                                                                                                                                                                                                                                                                                                                                                                                                                                                                                                                                                                                                                                                                                                                                                                                                                                                                                                                                                                                                                                                                                                                                                                                                                                                                                                                                                                                                                                                                                                                                                                                                                                                                                                                                                                                                                                                                                                                                                                                                                                                                                                                                                                                                                                                                                                                                                                                                                                                                                                                                                                                                                                                                                                                                                                                                                                                                                                                                                                                                                                                                        42\n",
       "unavailable ifwu error unavailable ifwu unavailable ifwu guru mediation details cachehhnhhn varnish cache server                                                                                                                                                                                                                                                                                                                                                                                                                                                                                                                                                                                                                                                                                                                                                                                                                                                                                                                                                                                                                                                                                                                                                                                                                                                                                                                                                                                                                                                                                                                                                                                                                                                                                                                                                                                                                                                                                                                                                                                                                                                                                                                                                                                                                                                                                                                                                                                                                                                                                                                                                                                                                                                                                                                                                                                                                                                                                                                                                                                                                                                                                                                                                                                                                                                                                                                                                                                                                                                                                                                                                                                                                                                                                                                                                                                                                                                                                                                                                                                                                                                                                                                                                                                                                                                                                                                                                                                                                                                                                                                                                                                                                                                                                                                                                                                                                                                                                                                                                                                                                                                                                                                                                                                                                                                                                                                                                                                                                                                                                                                                                                                                                                                                                                                                                                                                                                                                                                                                                                                                                                                                                                                                                                                                                                                                                                                                                                                                                                                                                                                                                                                                                                                                                                                                                                                                                                                                                                                                       29\n",
       "error page cannot be displayed please contact your service provider for more details                                                                                                                                                                                                                                                                                                                                                                                                                                                                                                                                                                                                                                                                                                                                                                                                                                                                                                                                                                                                                                                                                                                                                                                                                                                                                                                                                                                                                                                                                                                                                                                                                                                                                                                                                                                                                                                                                                                                                                                                                                                                                                                                                                                                                                                                                                                                                                                                                                                                                                                                                                                                                                                                                                                                                                                                                                                                                                                                                                                                                                                                                                                                                                                                                                                                                                                                                                                                                                                                                                                                                                                                                                                                                                                                                                                                                                                                                                                                                                                                                                                                                                                                                                                                                                                                                                                                                                                                                                                                                                                                                                                                                                                                                                                                                                                                                                                                                                                                                                                                                                                                                                                                                                                                                                                                                                                                                                                                                                                                                                                                                                                                                                                                                                                                                                                                                                                                                                                                                                                                                                                                                                                                                                                                                                                                                                                                                                                                                                                                                                                                                                                                                                                                                                                                                                                                                                                                                                                                                                   25\n",
       "                                                                                                                                                                                                                                                                                                                                                                                                                                                                                                                                                                                                                                                                                                                                                                                                                                                                                                                                                                                                                                                                                                                                                                                                                                                                                                                                                                                                                                                                                                                                                                                                                                                                                                                                                                                                                                                                                                                                                                                                                                                                                                                                                                                                                                                                                                                                                                                                                                                                                                                                                                                                                                                                                                                                                                                                                                                                                                                                                                                                                                                                                                                                                                                                                                                                                                                                                                                                                                                                                                                                                                                                                                                                                                                                                                                                                                                                                                                                                                                                                                                                                                                                                                                                                                                                                                                                                                                                                                                                                                                                                                                                                                                                                                                                                                                                                                                                                                                                                                                                                                                                                                                                                                                                                                                                                                                                                                                                                                                                                                                                                                                                                                                                                                                                                                                                                                                                                                                                                                                                                                                                                                                                                                                                                                                                                                                                                                                                                                                                                                                                                                                                                                                                                                                                                                                                                                                                                                                                                                                                                                                       ..\n",
       "home page family education research funstuff career links my name is a katherine morales important announcement please sign the petition for a scientific support for darwinism in response to the attempts to require teachers to teach petition intelligent design as science in science class roomhelp support true science click here for more details i am married and have a beautiful son click here to see my family pictures i have a broad education background presently i am a graduate student pursuing a phd in anthropology specializing in mesoamerican archaeology with a minor in distance education i am constantly working on a number of research projects while i was finishing my undergraduate education i gained a lot of valuable knowledge on the job experience in computers if you want to contact me emailme                                                                                                                                                                                                                                                                                                                                                                                                                                                                                                                                                                                                                                                                                                                                                                                                                                                                                                                                                                                                                                                                                                                                                                                                                                                                                                                                                                                                                                                                                                                                                                                                                                                                                                                                                                                                                                                                                                                                                                                                                                                                                                                                                                                                                                                                                                                                                                                                                                                                                                                                                                                                                                                                                                                                                                                                                                                                                                                                                                                                                                                                                                                                                                                                                                                                                                                                                                                                                                                                                                                                                                                                                                                                                                                                                                                                                                                                                                                                                                                                                                                                                                                                                                                                                                                                                                                                                                                                                                                                                                                                                                                                                                                                                                                                                                                                                                                                                                                                                                                                                                                                                                                                                                                                                                                                                                                                                                                                                                                                                                                                                                                                                                                                                                                                                                                                                                                                                                                                                                                                                                                                                                                                                                                                              1\n",
       "startseite feuerwehr moringen sitemap impressum toggle navigation startseite kurzvorstellung betreuer zeltlagerinformationen wettbewerbe jugendflamme und leistungsspange zur einsatzabteilung suchen herzlich willkommen wir freuen uns sie auf den internetseiten der jugendfeuerwehr moringen begren zu drfen auf diesen seiten mchten wir sie ber die arbeit und aktivitten der jugendfeuerwehr informieren eine kurze beschreibung unserer arbeit und der freizeitgestaltung durch die mitgliedschaft in der jugendfeuerwehr bieten wir in unserer kurzvorstellung wir brauchen euch wenn ihr mindestens jahre alt seit und noch ein interessantes hobby sucht dann besucht uns doch mal beim dienst und schaut ob nicht die jugendfeuerwehr etwas fr euch ist jeden dienstag ausser in den ferien um uhr beginnt unser dienst am feuerwehrhaus in moringen nchste termine weitere termine knnen sie der terminbersichtentnehmen aktuelle mitteilungen ber aktuelle mitteilungen und nachrichten der freiwilligen feuerwehr moringen informieren wir sie stets an dieser stelle weitere sowie ltere beitrge knnen sie dem nachrichtenarchiv entnehmen bergabe des neuen aed von der firma knig weiterlesen oct ortsbrandmeister frank fihlon hatte zu der ordentlichen jahreshauptversammlung der freiwilligen feuerwehr moringen der sterbekasse der freiwilligen feuerwehr moringen und des weiterlesen jan warnung vor rauchmelderbetrugsmasche seit dem januar herrscht in niedersachsen eine allgemeine rauchmelderpflicht bereits wenige tage nach inkrafttreten dieser pflicht mehren sich die berichte ber eine neue weiterlesen als kommunale einrichtung wurde die freiwillige feuerwehr moringen gegrndet seitdem engagieren sich zahlreiche ehrenamtlichen feuerwehrangehrigen fr den brand und katastrophenschutz in moringen zuletzt genderte seiten wichtige links kurzvorstellung aufgaben jugendarbeit kontakmglichkeiten kontakt stadt moringen freiwillige feuerwehr moringen amtsfreiheit moringen deutschland email infoatffmoringende all rights reserved datenschutzerklrung impressum redaktion                                                                                                                                                                                                                                                                                                                                                                                                                                                                                                                                                                                                                                                                                                                                                                                                                                                                                                                                                                                                                                                                                                                                                                                                                                                                                                                                                                                                                                                                                                                                                                                                                                                                                                                                                                                                                                                                                                                                                                                                                                                                                                                                                                                                                                                                                                                                                                                                                                                                                                                                                                                                                                                                                                                                                                                                                                                                                                                                                                                                                                                                                                                                                                                                                                                                                                                                                                                                                                                                                                                                                                                                                                                                                                                                                                                                                                                                                                                                                                                                                                                                                                                                                                                                                                                                                                                                                                                                                                                                                                                                                                                                                                                                                                                                                                                                                                                                                                                            1\n",
       "cwolcom domain is for sale buy with epikcom cwolcom brandable domain names accepting offers domain owner will consider reasonable offers make offer contact domain owner for more information about this domain contact owner more details share it facebook twitter linkedin why purchase this domain with epik secure instant domain delivery the domain you are buying is delivered upon purchase buyer protection program buy with confidence your purchase is secured by epik allinclusive nononsense free whois privacy free forwarding support are all standard we accept share it facebook twitter linkedin currency usd eur gbp inr aud cny brl aed cad czk chf dkk hkd jpy nok nzd pen pln sek zar pkr btc eth ltc xrp language english spanish portuguese french german chinese russian tagalog thai italian epik is a registered trademark of epik inc copyright by epik inc all rights reserved whois privacy services provided by anonymizecom terms conditions rental purchase plans cwolcom offer summary first installment annual rent increase future installments mo installments purchase option na duration yr plan type rental grace period days accrued terms conditions rental purchase plans this agreement regarding a domain rental or purchase plan the agreement is made as of the time you click the box marked ok or i accept during the checkout process the effective date and is by and between epik inc a washington corporation epik and the party making such click or selection you agreement now therefore in consideration of the mutual covenants and agreements set forth in this agreement and other good and valuable consideration the receipt and sufficiency of which are hereby acknowledged each of the parties to this agreement each a party and together the parties agrees as follows rental financing plan domain payments and term by clicking the box marked ok or i accept you are agreeing to enter into this agreement and to be bound by all of the terms and conditions specified herein you agree that you are paying for use of the domain name specified at the checkout page the domain the payment period shall be as selected and specified during the checkout process payment duration the monthly payment amount is also as selected and specified during the checkout process the first monthly payment shall be due on the effective date and shall be due thereafter every month on the same date of each month during the term by further and separate agreement with you and at additional cost epik may provide a website found at the address of the domain along with related software and documentation and this page shall be included within the definition of domain and also subject to this agreement and a separate agreement if you fail to pay any scheduled payment when due then all rights held by you under this agreement shall immediately terminate in the event of such termination you agree you no longer have the right of use of the domain and the domain may immediately be sold reassigned transferred encumbered or released to another party at epiks sole discretion without further obligation to you ownership until the domain is purchased by you you agree that the domain is not owned by you you shall keep the domain free and clear of all liens and encumbrances you shall not assign the domain or this agreement or any of its rights or obligations hereunder or sublease the domain operations you shall immediately notify epik of all details concerning any damage or loss arising out of the functioning or operation of the domain you shall not use andor permit the domain to be used for any unlawful purpose or for which the website is not designed or reasonably suitable further in the use of the domain you shall comply with all governmental laws regulations and requirements including but not limited to i the canspam act of as amended and any and all federal trade commission enabling regulations ii the childrens online privacy protection act iii all federal and state statutes and governmental regulations pertaining to privacy deceptive marketing data protection and credit iv all government mandated insurance requirements if any with respect to the use maintenance and operation of the domain you shall provide epik any additional information epik deems necessary or convenient to ensure compliance with all applicable laws you understand and agree that if at any time it is discovered that you have violated any applicable law or regulation or it is otherwise required by applicable laws or regulations epik may undertake appropriate actions to ensure compliance with such laws or regulations you understand that epik may release confidential information about you to proper authorities if epik in its sole discretion determines that it is in the best interests of the epik in light of relevant rules and regulations under applicable laws to do so you agree you shall not i make any trademark filing in any jurisdiction incorporating or reflecting the same or similar word or combination of words as the domain nor ii utilize the domain in any manner so as to violate the trademark interests of any third party or epik in the event any trademark violation is alleged due to your use of the domain you agree you shall be solely and exclusively responsible for the costs of defending against such alleged violation in addition to any damages which may be ultimately awarded default or breach you shall be in default hereunder and there shall be a breach of this agreement if a you fail to pay any monthly payment after the same becomes due b you attempt to remove sell transfer encumber sublet or part with possession of the domain or c you fail to observe or perform any of the other obligations required to be observed or performed by you hereunder default in the event of default epik shall repossess the domain and have no further obligation to you provided however you shall be bound by all the terms and conditions of this agreement as may be set forth herein miscellaneous any term of this agreement may be amended or waived only with the written consent of you and epik together this agreement constitutes the sole agreement of the parties and supersedes all oral negotiations and prior writings with respect to the subject matter hereof the validity interpretation construction and performance of this agreement shall be governed by the laws of the state of washington king county this agreement binds and benefits the parties respective successors permitted assigns heirs executors administrators and legal representatives in any dispute between the parties the prevailing party will be entitled to collect attorneys fees and costs from the nonprevailing party epik contact information epik inc th ave ne sammamish wa usa tel email info at epikcom start now cancel     1\n",
       "forbidden forbidden you do not have permission to access the requested address url scs home                                                                                                                                                                                                                                                                                                                                                                                                                                                                                                                                                                                                                                                                                                                                                                                                                                                                                                                                                                                                                                                                                                                                                                                                                                                                                                                                                                                                                                                                                                                                                                                                                                                                                                                                                                                                                                                                                                                                                                                                                                                                                                                                                                                                                                                                                                                                                                                                                                                                                                                                                                                                                                                                                                                                                                                                                                                                                                                                                                                                                                                                                                                                                                                                                                                                                                                                                                                                                                                                                                                                                                                                                                                                                                                                                                                                                                                                                                                                                                                                                                                                                                                                                                                                                                                                                                                                                                                                                                                                                                                                                                                                                                                                                                                                                                                                                                                                                                                                                                                                                                                                                                                                                                                                                                                                                                                                                                                                                                                                                                                                                                                                                                                                                                                                                                                                                                                                                                                                                                                                                                                                                                                                                                                                                                                                                                                                                                                                                                                                                                                                                                                                                                                                                                                                                                                                                                                                                                                                                             1\n",
       "astronomy unit school of physics and astronomy skip to main content global main menu study about research search home back to home study areas of study foundation courses biological and biomedical sciences business and management chemical sciences comparative literature computer and data science dentistry drama economics and finance engineering english film studies geography and environmental science global health history law linguistics materials science mathematics medicine modern languages and cultures physics and astronomy politics and international relations psychology study at queen mary undergraduate study postgraduate study online study international students az undergraduate courses az postgraduate taught courses az phdsubjects clearing and adjustment experience queen mary why queen mary accommodation city campuses student life the london advantage about about home welcome how to find us calendar our history local community global facts and figures freedom of information whos who sustainability arts and culture the medical college of saint bartholomews hospital trust research research home strategy and policies about our research research news research impact major grants leading academics research facilities animal research support for qmul researchers publications toolbox school of physics and astronomy school of physics and astronomy school home section navigation about us job vacancies in the school of physics and astronomy undergraduate study phd research the physics building undergraduate degree programmes outstanding potential award professional experience degrees study abroad international applicants teaching and learning careers and employability student life fees and funding contact or visit us postgraduate msc programmes phd programmes research astronomy and astrophysics condensed matter physics particle physics theoretical physics outreach in school extra curricular general interest people management academics research staff research students professional services visiting staff emeritus staff equality edi committee members code of conduct events spa bookshelf policy and procedure documentation behaviour and wellbeing at qmul diversity resourcesgrants diversity good practice unconscious bias reporting harassment you said we did news and events news school newsletter seminars spa colloquia contact astronomy unit group members academic staff research staff research students about the astronomy unit research research areas facilities and collaborations seminarsand colloquia opportunities bscmsci astrophysics msc astrophysics phd in astronomy vacancies and fellowships new au researchers win prestigious european research council grants two cosmologists in theastronomy unit in the school of physics and astronomyhave been awarded prestigious starting grants from the european research council rare nakedeye comet neowise lights up the sky a recentlydiscovered comet has become visible to the naked eye during twilight qmul astronomer thomas haworth has been making the most of this rare opportunity by taking some photos superearths discovered orbiting nearby star a system of superearth planets has been detected orbiting one of closest stars to the sun gliese an international team of astronomers including professor richard nelson and dr gavin coleman of queen mary university of london made the discovery as part of red dots a project to detect terrestrial planets orbiting stars close to the sun saturns moon titan drifting away faster than previously thought research involving scientists from queen mary university of london has shown that the moons of saturn are moving outwards faster than first estimated providing new insights into how the saturn system formed innovative spectrometer sees first light and breaks a record astronomers atqmul have developed an extremely highresolution spectrometer for exoplanet studies that is many times smaller lighter and cheaper than current alternatives its firstlight spectrum is thought to be the highest resolution ever taken from the uk upcoming events astronomy unit seminar eva mueller october cosmology seminar daniel thomas qmul october cosmology seminar jos fonseca qmul october footer navigation accommodation alumni az schools and institutes business careers enterprise contact events global how to find us international students jobs library myqmul new students news order a prospectus our brand parents professional services departments public engagement qmplus staff directory staff intranet strategy students union teachers term dates trade union facility time accessibility disclaimer privacy and cookies site map modern slavery statement supplier fraud alert ofs data contact the university queen mary university of london mile end road london e ns follow us facebook twitter instagram youtube edit page                                                                                                                                                                                                                                                                                                                                                                                                                                                                                                                                                                                                                                                                                                                                                                                                                                                                                                                                                                                                                                                                                                                                                                                                                                                                                                                                                                                                                                                                                                                                                                                                                                                                                                                                                                                                                                                                                                                                                                                                                       1\n",
       "Name: html_clean, Length: 3226, dtype: int64"
      ]
     },
     "execution_count": 111,
     "metadata": {},
     "output_type": "execute_result"
    }
   ],
   "source": [
    "df.html_clean.value_counts()"
   ]
  },
  {
   "cell_type": "code",
   "execution_count": 108,
   "metadata": {},
   "outputs": [
    {
     "data": {
      "text/plain": [
       "array([98, 50, 42, 29, 25, 25, 22, 19, 17, 16, 14, 14, 12,  9,  9,  9,  9,\n",
       "        8,  8,  7,  7,  7,  6,  6,  5,  5,  5,  5,  5,  4,  4,  4,  4,  4,\n",
       "        4,  4,  4,  4,  4,  3,  3,  3,  3,  3,  3,  3,  3,  3,  3,  3,  3,\n",
       "        3,  3,  3,  3,  3,  3,  2,  2,  2,  2,  2,  2,  2,  2,  2,  2,  2,\n",
       "        2,  2,  2,  2,  2,  2,  2,  2,  2,  2,  2,  2,  2,  2,  2,  2,  2,\n",
       "        2,  2,  2,  2,  2,  2,  2,  2,  2,  2,  2,  2,  2,  2,  2,  2,  2,\n",
       "        2,  2,  2,  2,  2,  2,  2,  2,  2,  2,  2,  2,  2,  2,  2,  2,  2,\n",
       "        2,  2,  2,  2,  2,  1,  1,  1,  1,  1,  1,  1,  1,  1,  1,  1,  1,\n",
       "        1,  1,  1,  1,  1,  1,  1,  1,  1,  1,  1,  1,  1,  1,  1,  1,  1,\n",
       "        1,  1,  1,  1,  1,  1,  1,  1,  1,  1,  1,  1,  1,  1,  1,  1,  1,\n",
       "        1,  1,  1,  1,  1,  1,  1,  1,  1,  1,  1,  1,  1,  1,  1,  1,  1,\n",
       "        1,  1,  1,  1,  1,  1,  1,  1,  1,  1,  1,  1,  1])"
      ]
     },
     "execution_count": 108,
     "metadata": {},
     "output_type": "execute_result"
    }
   ],
   "source": [
    "html_counts = df.html_clean.value_counts().values[:200]\n",
    "html_counts"
   ]
  },
  {
   "cell_type": "code",
   "execution_count": 109,
   "metadata": {},
   "outputs": [
    {
     "data": {
      "text/plain": [
       "124"
      ]
     },
     "execution_count": 109,
     "metadata": {},
     "output_type": "execute_result"
    }
   ],
   "source": [
    "len([x for x in html_counts if x != 1])"
   ]
  },
  {
   "cell_type": "code",
   "execution_count": 110,
   "metadata": {},
   "outputs": [
    {
     "data": {
      "text/plain": [
       "2"
      ]
     },
     "execution_count": 110,
     "metadata": {},
     "output_type": "execute_result"
    }
   ],
   "source": [
    "html_counts[123]"
   ]
  },
  {
   "cell_type": "code",
   "execution_count": 127,
   "metadata": {},
   "outputs": [],
   "source": [
    "html_agg = df.html_clean.value_counts().keys().values"
   ]
  },
  {
   "cell_type": "code",
   "execution_count": 128,
   "metadata": {},
   "outputs": [],
   "source": [
    "html_length = [len(body.split()) for body in html_agg]"
   ]
  },
  {
   "cell_type": "code",
   "execution_count": 129,
   "metadata": {},
   "outputs": [],
   "source": [
    "errors = html_length[:124]"
   ]
  },
  {
   "cell_type": "code",
   "execution_count": 130,
   "metadata": {},
   "outputs": [],
   "source": [
    "base = html_length[124:]"
   ]
  },
  {
   "cell_type": "code",
   "execution_count": 131,
   "metadata": {},
   "outputs": [
    {
     "data": {
      "text/plain": [
       "count     124.000000\n",
       "mean      194.975806\n",
       "std       318.075884\n",
       "min         1.000000\n",
       "25%        19.000000\n",
       "50%        66.500000\n",
       "75%       265.000000\n",
       "max      2317.000000\n",
       "dtype: float64"
      ]
     },
     "execution_count": 131,
     "metadata": {},
     "output_type": "execute_result"
    }
   ],
   "source": [
    "pd.Series(errors).describe()"
   ]
  },
  {
   "cell_type": "code",
   "execution_count": 132,
   "metadata": {},
   "outputs": [
    {
     "data": {
      "text/plain": [
       "count      3102.000000\n",
       "mean        832.108640\n",
       "std        4478.845666\n",
       "min           1.000000\n",
       "25%          59.000000\n",
       "50%         257.000000\n",
       "75%         653.000000\n",
       "max      159757.000000\n",
       "dtype: float64"
      ]
     },
     "execution_count": 132,
     "metadata": {},
     "output_type": "execute_result"
    }
   ],
   "source": [
    "pd.Series(base).describe()"
   ]
  },
  {
   "cell_type": "code",
   "execution_count": 133,
   "metadata": {},
   "outputs": [],
   "source": [
    "html_error_list = html_agg[:124]"
   ]
  },
  {
   "cell_type": "code",
   "execution_count": 134,
   "metadata": {},
   "outputs": [
    {
     "name": "stderr",
     "output_type": "stream",
     "text": [
      "<ipython-input-134-5ecf2bf85df2>:1: SettingWithCopyWarning: \n",
      "A value is trying to be set on a copy of a slice from a DataFrame.\n",
      "Try using .loc[row_indexer,col_indexer] = value instead\n",
      "\n",
      "See the caveats in the documentation: https://pandas.pydata.org/pandas-docs/stable/user_guide/indexing.html#returning-a-view-versus-a-copy\n",
      "  df['error'] = df.apply(lambda x: (x.html_clean in html_error_list), axis=1)\n"
     ]
    }
   ],
   "source": [
    "df['error'] = df.apply(lambda x: (x.html_clean in html_error_list), axis=1)"
   ]
  },
  {
   "cell_type": "code",
   "execution_count": 135,
   "metadata": {},
   "outputs": [
    {
     "data": {
      "text/html": [
       "<div>\n",
       "<style scoped>\n",
       "    .dataframe tbody tr th:only-of-type {\n",
       "        vertical-align: middle;\n",
       "    }\n",
       "\n",
       "    .dataframe tbody tr th {\n",
       "        vertical-align: top;\n",
       "    }\n",
       "\n",
       "    .dataframe thead th {\n",
       "        text-align: right;\n",
       "    }\n",
       "</style>\n",
       "<table border=\"1\" class=\"dataframe\">\n",
       "  <thead>\n",
       "    <tr style=\"text-align: right;\">\n",
       "      <th></th>\n",
       "      <th>url</th>\n",
       "      <th>html</th>\n",
       "      <th>cat</th>\n",
       "      <th>html_clean</th>\n",
       "      <th>html_len</th>\n",
       "      <th>error</th>\n",
       "    </tr>\n",
       "  </thead>\n",
       "  <tbody>\n",
       "    <tr>\n",
       "      <th>1</th>\n",
       "      <td>http://www.allwatchers.com/topics/info_4024.asp</td>\n",
       "      <td>&lt;!DOCTYPE HTML PUBLIC \"-//W3C//DTD HTML 4.01//...</td>\n",
       "      <td>Arts</td>\n",
       "      <td>not found not found http error the requested r...</td>\n",
       "      <td>12</td>\n",
       "      <td>True</td>\n",
       "    </tr>\n",
       "    <tr>\n",
       "      <th>2</th>\n",
       "      <td>http://www.opmden.com/</td>\n",
       "      <td>&lt;!DOCTYPE HTML PUBLIC \"-//IETF//DTD HTML 2.0//...</td>\n",
       "      <td>Arts</td>\n",
       "      <td>forbidden forbidden you dont have permission t...</td>\n",
       "      <td>25</td>\n",
       "      <td>True</td>\n",
       "    </tr>\n",
       "    <tr>\n",
       "      <th>3</th>\n",
       "      <td>http://www.angelfire.com/ns/phil/</td>\n",
       "      <td>&lt;!DOCTYPE HTML&gt;\\n\\n&lt;html&gt;\\n&lt;head&gt;\\n&lt;meta http-...</td>\n",
       "      <td>Arts</td>\n",
       "      <td>angelfire error angelfirecom professional but ...</td>\n",
       "      <td>22</td>\n",
       "      <td>True</td>\n",
       "    </tr>\n",
       "    <tr>\n",
       "      <th>4</th>\n",
       "      <td>http://www.beatricegormley.com</td>\n",
       "      <td>&lt;!DOCTYPE html&gt;\\n&lt;html&gt;\\n&lt;head&gt;\\n&lt;meta content...</td>\n",
       "      <td>Arts</td>\n",
       "      <td>beatrice gormley welcome to my website instagr...</td>\n",
       "      <td>814</td>\n",
       "      <td>False</td>\n",
       "    </tr>\n",
       "    <tr>\n",
       "      <th>5</th>\n",
       "      <td>http://vmnagaraj.tripod.com/</td>\n",
       "      <td>&lt;HTML&gt;\\n\\n&lt;HEAD&gt;\\n&lt;TOBJ bgimage=\"/imagelib/sty...</td>\n",
       "      <td>Arts</td>\n",
       "      <td>pannagasayanas hindustani music page welcome t...</td>\n",
       "      <td>340</td>\n",
       "      <td>False</td>\n",
       "    </tr>\n",
       "    <tr>\n",
       "      <th>...</th>\n",
       "      <td>...</td>\n",
       "      <td>...</td>\n",
       "      <td>...</td>\n",
       "      <td>...</td>\n",
       "      <td>...</td>\n",
       "      <td>...</td>\n",
       "    </tr>\n",
       "    <tr>\n",
       "      <th>4995</th>\n",
       "      <td>http://www.space-explorers.com/</td>\n",
       "      <td>&lt;!DOCTYPE HTML PUBLIC \"-//W3C//DTD HTML 4.01//...</td>\n",
       "      <td>Science</td>\n",
       "      <td>rocketplane global inc</td>\n",
       "      <td>3</td>\n",
       "      <td>False</td>\n",
       "    </tr>\n",
       "    <tr>\n",
       "      <th>4996</th>\n",
       "      <td>http://cse.nias.affrc.go.jp/shignak/chromosome...</td>\n",
       "      <td>&lt;!DOCTYPE HTML PUBLIC \"-//W3C//DTD HTML 4.01 T...</td>\n",
       "      <td>Science</td>\n",
       "      <td>cse redirect information the domain has shifte...</td>\n",
       "      <td>118</td>\n",
       "      <td>False</td>\n",
       "    </tr>\n",
       "    <tr>\n",
       "      <th>4997</th>\n",
       "      <td>http://www.eea.europa.eu/</td>\n",
       "      <td>\\n\\n\\n\\n\\n\\n&lt;!DOCTYPE html&gt;\\n\\n&lt;!-- paulirish....</td>\n",
       "      <td>Science</td>\n",
       "      <td>european environment agencys home page europea...</td>\n",
       "      <td>3904</td>\n",
       "      <td>False</td>\n",
       "    </tr>\n",
       "    <tr>\n",
       "      <th>4998</th>\n",
       "      <td>http://www.goes.noaa.gov/index.html</td>\n",
       "      <td>&lt;!DOCTYPE html PUBLIC \"-//W3C//DTD XHTML 1.0 T...</td>\n",
       "      <td>Science</td>\n",
       "      <td>noaa goes geostationary satellite server pleas...</td>\n",
       "      <td>377</td>\n",
       "      <td>False</td>\n",
       "    </tr>\n",
       "    <tr>\n",
       "      <th>4999</th>\n",
       "      <td>http://mech.math.msu.su/english/matrus.htm</td>\n",
       "      <td>&lt;!DOCTYPE HTML PUBLIC \"-//IETF//DTD HTML 2.0//...</td>\n",
       "      <td>Science</td>\n",
       "      <td>not found not found the requested url englishm...</td>\n",
       "      <td>14</td>\n",
       "      <td>False</td>\n",
       "    </tr>\n",
       "  </tbody>\n",
       "</table>\n",
       "<p>3823 rows × 6 columns</p>\n",
       "</div>"
      ],
      "text/plain": [
       "                                                    url  \\\n",
       "1       http://www.allwatchers.com/topics/info_4024.asp   \n",
       "2                                http://www.opmden.com/   \n",
       "3                     http://www.angelfire.com/ns/phil/   \n",
       "4                        http://www.beatricegormley.com   \n",
       "5                          http://vmnagaraj.tripod.com/   \n",
       "...                                                 ...   \n",
       "4995                    http://www.space-explorers.com/   \n",
       "4996  http://cse.nias.affrc.go.jp/shignak/chromosome...   \n",
       "4997                          http://www.eea.europa.eu/   \n",
       "4998                http://www.goes.noaa.gov/index.html   \n",
       "4999         http://mech.math.msu.su/english/matrus.htm   \n",
       "\n",
       "                                                   html      cat  \\\n",
       "1     <!DOCTYPE HTML PUBLIC \"-//W3C//DTD HTML 4.01//...     Arts   \n",
       "2     <!DOCTYPE HTML PUBLIC \"-//IETF//DTD HTML 2.0//...     Arts   \n",
       "3     <!DOCTYPE HTML>\\n\\n<html>\\n<head>\\n<meta http-...     Arts   \n",
       "4     <!DOCTYPE html>\\n<html>\\n<head>\\n<meta content...     Arts   \n",
       "5     <HTML>\\n\\n<HEAD>\\n<TOBJ bgimage=\"/imagelib/sty...     Arts   \n",
       "...                                                 ...      ...   \n",
       "4995  <!DOCTYPE HTML PUBLIC \"-//W3C//DTD HTML 4.01//...  Science   \n",
       "4996  <!DOCTYPE HTML PUBLIC \"-//W3C//DTD HTML 4.01 T...  Science   \n",
       "4997  \\n\\n\\n\\n\\n\\n<!DOCTYPE html>\\n\\n<!-- paulirish....  Science   \n",
       "4998  <!DOCTYPE html PUBLIC \"-//W3C//DTD XHTML 1.0 T...  Science   \n",
       "4999  <!DOCTYPE HTML PUBLIC \"-//IETF//DTD HTML 2.0//...  Science   \n",
       "\n",
       "                                             html_clean  html_len  error  \n",
       "1     not found not found http error the requested r...        12   True  \n",
       "2     forbidden forbidden you dont have permission t...        25   True  \n",
       "3     angelfire error angelfirecom professional but ...        22   True  \n",
       "4     beatrice gormley welcome to my website instagr...       814  False  \n",
       "5     pannagasayanas hindustani music page welcome t...       340  False  \n",
       "...                                                 ...       ...    ...  \n",
       "4995                             rocketplane global inc         3  False  \n",
       "4996  cse redirect information the domain has shifte...       118  False  \n",
       "4997  european environment agencys home page europea...      3904  False  \n",
       "4998  noaa goes geostationary satellite server pleas...       377  False  \n",
       "4999  not found not found the requested url englishm...        14  False  \n",
       "\n",
       "[3823 rows x 6 columns]"
      ]
     },
     "execution_count": 135,
     "metadata": {},
     "output_type": "execute_result"
    }
   ],
   "source": [
    "df"
   ]
  },
  {
   "cell_type": "code",
   "execution_count": 136,
   "metadata": {},
   "outputs": [
    {
     "data": {
      "text/plain": [
       "False    3102\n",
       "True      721\n",
       "Name: error, dtype: int64"
      ]
     },
     "execution_count": 136,
     "metadata": {},
     "output_type": "execute_result"
    }
   ],
   "source": [
    "df.error.value_counts()"
   ]
  },
  {
   "cell_type": "code",
   "execution_count": 137,
   "metadata": {},
   "outputs": [
    {
     "data": {
      "text/plain": [
       "count     721.000000\n",
       "mean       95.636616\n",
       "std       219.304142\n",
       "min         1.000000\n",
       "25%        13.000000\n",
       "50%        24.000000\n",
       "75%        58.000000\n",
       "max      2317.000000\n",
       "Name: html_len, dtype: float64"
      ]
     },
     "execution_count": 137,
     "metadata": {},
     "output_type": "execute_result"
    }
   ],
   "source": [
    "df[df.error].html_len.describe()"
   ]
  },
  {
   "cell_type": "code",
   "execution_count": 138,
   "metadata": {},
   "outputs": [
    {
     "data": {
      "text/plain": [
       "count      3102.000000\n",
       "mean        832.108640\n",
       "std        4478.845666\n",
       "min           1.000000\n",
       "25%          59.000000\n",
       "50%         257.000000\n",
       "75%         653.000000\n",
       "max      159757.000000\n",
       "Name: html_len, dtype: float64"
      ]
     },
     "execution_count": 138,
     "metadata": {},
     "output_type": "execute_result"
    }
   ],
   "source": [
    "df[~df.error].html_len.describe()"
   ]
  },
  {
   "cell_type": "code",
   "execution_count": null,
   "metadata": {},
   "outputs": [],
   "source": []
  },
  {
   "cell_type": "code",
   "execution_count": null,
   "metadata": {},
   "outputs": [],
   "source": []
  }
 ],
 "metadata": {
  "kernelspec": {
   "display_name": "Python 3",
   "language": "python",
   "name": "python3"
  },
  "language_info": {
   "codemirror_mode": {
    "name": "ipython",
    "version": 3
   },
   "file_extension": ".py",
   "mimetype": "text/x-python",
   "name": "python",
   "nbconvert_exporter": "python",
   "pygments_lexer": "ipython3",
   "version": "3.8.5"
  }
 },
 "nbformat": 4,
 "nbformat_minor": 4
}
