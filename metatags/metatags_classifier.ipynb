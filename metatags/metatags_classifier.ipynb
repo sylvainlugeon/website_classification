{
 "cells": [
  {
   "cell_type": "code",
   "execution_count": 12,
   "metadata": {},
   "outputs": [],
   "source": [
    "import pandas as pd\n",
    "import numpy as np\n",
    "from bs4 import BeautifulSoup\n",
    "import matplotlib.pyplot as plt"
   ]
  },
  {
   "cell_type": "code",
   "execution_count": 6,
   "metadata": {},
   "outputs": [],
   "source": [
    "def get_meta(body, attr):\n",
    "    soup = BeautifulSoup(body, parser='lxml')\n",
    "    metatags = soup.findAll('meta')\n",
    "    attr_ = [m.get(attr, None) for m in metatags]\n",
    "    attr = [a.lower() for a in attr_ if a != None]\n",
    "    \n",
    "    return np.unique(attr)"
   ]
  },
  {
   "cell_type": "code",
   "execution_count": 7,
   "metadata": {},
   "outputs": [],
   "source": [
    "df = pd.read_json('/dlabdata1/lugeon/websites_alexa_mostpop2_html.json.gz', orient='records', lines=True)"
   ]
  },
  {
   "cell_type": "code",
   "execution_count": 8,
   "metadata": {},
   "outputs": [
    {
     "data": {
      "text/html": [
       "<div>\n",
       "<style scoped>\n",
       "    .dataframe tbody tr th:only-of-type {\n",
       "        vertical-align: middle;\n",
       "    }\n",
       "\n",
       "    .dataframe tbody tr th {\n",
       "        vertical-align: top;\n",
       "    }\n",
       "\n",
       "    .dataframe thead th {\n",
       "        text-align: right;\n",
       "    }\n",
       "</style>\n",
       "<table border=\"1\" class=\"dataframe\">\n",
       "  <thead>\n",
       "    <tr style=\"text-align: right;\">\n",
       "      <th></th>\n",
       "      <th>uid</th>\n",
       "      <th>url</th>\n",
       "      <th>html</th>\n",
       "      <th>errcode</th>\n",
       "      <th>cat</th>\n",
       "    </tr>\n",
       "  </thead>\n",
       "  <tbody>\n",
       "    <tr>\n",
       "      <th>0</th>\n",
       "      <td>1700</td>\n",
       "      <td>http://www.photoawards.com</td>\n",
       "      <td>&lt;!DOCTYPE html&gt;&lt;html lang=\"en-US\"&gt;&lt;head&gt;&lt;meta ...</td>\n",
       "      <td>200.0</td>\n",
       "      <td>Arts</td>\n",
       "    </tr>\n",
       "    <tr>\n",
       "      <th>2</th>\n",
       "      <td>1702</td>\n",
       "      <td>http://www.letsgodigital.org</td>\n",
       "      <td>&lt;!DOCTYPE html&gt;&lt;html&gt;&lt;head&gt;&lt;meta\\nname=viewpor...</td>\n",
       "      <td>200.0</td>\n",
       "      <td>Arts</td>\n",
       "    </tr>\n",
       "    <tr>\n",
       "      <th>3</th>\n",
       "      <td>1703</td>\n",
       "      <td>http://www.lensculture.com</td>\n",
       "      <td>&lt;!DOCTYPE html&gt;\\n&lt;html class=\"mobile-friendly ...</td>\n",
       "      <td>200.0</td>\n",
       "      <td>Arts</td>\n",
       "    </tr>\n",
       "    <tr>\n",
       "      <th>4</th>\n",
       "      <td>1704</td>\n",
       "      <td>http://www.outdoorphotographer.com</td>\n",
       "      <td>&lt;!DOCTYPE html&gt;\\n&lt;html lang=\"en-US\" xmlns:fb=\"...</td>\n",
       "      <td>200.0</td>\n",
       "      <td>Arts</td>\n",
       "    </tr>\n",
       "    <tr>\n",
       "      <th>5</th>\n",
       "      <td>1705</td>\n",
       "      <td>http://www.fiap.net</td>\n",
       "      <td>&lt;!DOCTYPE html&gt;\\n&lt;html lang=\"en_US\"&gt;\\n&lt;head&gt;\\n...</td>\n",
       "      <td>200.0</td>\n",
       "      <td>Arts</td>\n",
       "    </tr>\n",
       "    <tr>\n",
       "      <th>...</th>\n",
       "      <td>...</td>\n",
       "      <td>...</td>\n",
       "      <td>...</td>\n",
       "      <td>...</td>\n",
       "      <td>...</td>\n",
       "    </tr>\n",
       "    <tr>\n",
       "      <th>20055</th>\n",
       "      <td>19794</td>\n",
       "      <td>http://www.scottishathletics.org.uk</td>\n",
       "      <td>&lt;!DOCTYPE html&gt;\\n&lt;!--[if IE 8]&gt;\\n&lt;html class=\"...</td>\n",
       "      <td>200.0</td>\n",
       "      <td>Sports</td>\n",
       "    </tr>\n",
       "    <tr>\n",
       "      <th>20056</th>\n",
       "      <td>19795</td>\n",
       "      <td>http://www.athleticsni.org</td>\n",
       "      <td>&lt;!DOCTYPE html&gt;\\r\\n&lt;!--[if lt IE 7 ]&gt;&lt;html cla...</td>\n",
       "      <td>200.0</td>\n",
       "      <td>Sports</td>\n",
       "    </tr>\n",
       "    <tr>\n",
       "      <th>20058</th>\n",
       "      <td>19797</td>\n",
       "      <td>http://www.track.eku.edu</td>\n",
       "      <td>&lt;html xmlns:v=\"urn:schemas-microsoft-com:vml\"\\...</td>\n",
       "      <td>200.0</td>\n",
       "      <td>Sports</td>\n",
       "    </tr>\n",
       "    <tr>\n",
       "      <th>20059</th>\n",
       "      <td>19798</td>\n",
       "      <td>http://www.runnerkid.freeservers.com</td>\n",
       "      <td>&lt;!DOCTYPE HTML PUBLIC \"-//W3C//DTD HTML 4.0 Tr...</td>\n",
       "      <td>200.0</td>\n",
       "      <td>Sports</td>\n",
       "    </tr>\n",
       "    <tr>\n",
       "      <th>20060</th>\n",
       "      <td>19799</td>\n",
       "      <td>http://www.florida.usatf.org</td>\n",
       "      <td>&lt;!DOCTYPE html&gt;\\n&lt;html  &gt;\\n&lt;head id=\"head\"&gt;&lt;ti...</td>\n",
       "      <td>200.0</td>\n",
       "      <td>Sports</td>\n",
       "    </tr>\n",
       "  </tbody>\n",
       "</table>\n",
       "<p>16516 rows × 5 columns</p>\n",
       "</div>"
      ],
      "text/plain": [
       "         uid                                   url  \\\n",
       "0       1700            http://www.photoawards.com   \n",
       "2       1702          http://www.letsgodigital.org   \n",
       "3       1703            http://www.lensculture.com   \n",
       "4       1704    http://www.outdoorphotographer.com   \n",
       "5       1705                   http://www.fiap.net   \n",
       "...      ...                                   ...   \n",
       "20055  19794   http://www.scottishathletics.org.uk   \n",
       "20056  19795            http://www.athleticsni.org   \n",
       "20058  19797              http://www.track.eku.edu   \n",
       "20059  19798  http://www.runnerkid.freeservers.com   \n",
       "20060  19799          http://www.florida.usatf.org   \n",
       "\n",
       "                                                    html  errcode     cat  \n",
       "0      <!DOCTYPE html><html lang=\"en-US\"><head><meta ...    200.0    Arts  \n",
       "2      <!DOCTYPE html><html><head><meta\\nname=viewpor...    200.0    Arts  \n",
       "3      <!DOCTYPE html>\\n<html class=\"mobile-friendly ...    200.0    Arts  \n",
       "4      <!DOCTYPE html>\\n<html lang=\"en-US\" xmlns:fb=\"...    200.0    Arts  \n",
       "5      <!DOCTYPE html>\\n<html lang=\"en_US\">\\n<head>\\n...    200.0    Arts  \n",
       "...                                                  ...      ...     ...  \n",
       "20055  <!DOCTYPE html>\\n<!--[if IE 8]>\\n<html class=\"...    200.0  Sports  \n",
       "20056  <!DOCTYPE html>\\r\\n<!--[if lt IE 7 ]><html cla...    200.0  Sports  \n",
       "20058  <html xmlns:v=\"urn:schemas-microsoft-com:vml\"\\...    200.0  Sports  \n",
       "20059  <!DOCTYPE HTML PUBLIC \"-//W3C//DTD HTML 4.0 Tr...    200.0  Sports  \n",
       "20060  <!DOCTYPE html>\\n<html  >\\n<head id=\"head\"><ti...    200.0  Sports  \n",
       "\n",
       "[16516 rows x 5 columns]"
      ]
     },
     "execution_count": 8,
     "metadata": {},
     "output_type": "execute_result"
    }
   ],
   "source": [
    "df = df[(df.errcode==200) & (df.cat != 'World')]\n",
    "df"
   ]
  },
  {
   "cell_type": "code",
   "execution_count": 9,
   "metadata": {},
   "outputs": [],
   "source": [
    "df['meta_name'] = df.apply(lambda row: get_meta(row.html, 'name'), axis=1)"
   ]
  },
  {
   "cell_type": "code",
   "execution_count": 37,
   "metadata": {},
   "outputs": [],
   "source": [
    "df['meta_proprety'] = df.apply(lambda row: get_meta(row.html, 'property'), axis=1)"
   ]
  },
  {
   "cell_type": "code",
   "execution_count": 38,
   "metadata": {},
   "outputs": [
    {
     "data": {
      "text/html": [
       "<div>\n",
       "<style scoped>\n",
       "    .dataframe tbody tr th:only-of-type {\n",
       "        vertical-align: middle;\n",
       "    }\n",
       "\n",
       "    .dataframe tbody tr th {\n",
       "        vertical-align: top;\n",
       "    }\n",
       "\n",
       "    .dataframe thead th {\n",
       "        text-align: right;\n",
       "    }\n",
       "</style>\n",
       "<table border=\"1\" class=\"dataframe\">\n",
       "  <thead>\n",
       "    <tr style=\"text-align: right;\">\n",
       "      <th></th>\n",
       "      <th>uid</th>\n",
       "      <th>url</th>\n",
       "      <th>html</th>\n",
       "      <th>errcode</th>\n",
       "      <th>cat</th>\n",
       "      <th>meta_name</th>\n",
       "      <th>metaname_oh</th>\n",
       "      <th>meta_proprety</th>\n",
       "    </tr>\n",
       "  </thead>\n",
       "  <tbody>\n",
       "    <tr>\n",
       "      <th>0</th>\n",
       "      <td>1700</td>\n",
       "      <td>http://www.photoawards.com</td>\n",
       "      <td>&lt;!DOCTYPE html&gt;&lt;html lang=\"en-US\"&gt;&lt;head&gt;&lt;meta ...</td>\n",
       "      <td>200.0</td>\n",
       "      <td>Arts</td>\n",
       "      <td>[description, follow.it-verification-code-ogjj...</td>\n",
       "      <td>[0, 0, 0, 0, 0, 0, 1, 0, 1, 1, 0, 0, 0, 0, 0, ...</td>\n",
       "      <td>[og:description, og:image, og:image:height, og...</td>\n",
       "    </tr>\n",
       "    <tr>\n",
       "      <th>2</th>\n",
       "      <td>1702</td>\n",
       "      <td>http://www.letsgodigital.org</td>\n",
       "      <td>&lt;!DOCTYPE html&gt;&lt;html&gt;&lt;head&gt;&lt;meta\\nname=viewpor...</td>\n",
       "      <td>200.0</td>\n",
       "      <td>Arts</td>\n",
       "      <td>[apple-mobile-web-app-title, application-name,...</td>\n",
       "      <td>[0, 0, 1, 1, 0, 0, 1, 0, 0, 1, 0, 0, 0, 0, 0, ...</td>\n",
       "      <td>[og:description, og:locale, og:site_name, og:t...</td>\n",
       "    </tr>\n",
       "    <tr>\n",
       "      <th>3</th>\n",
       "      <td>1703</td>\n",
       "      <td>http://www.lensculture.com</td>\n",
       "      <td>&lt;!DOCTYPE html&gt;\\n&lt;html class=\"mobile-friendly ...</td>\n",
       "      <td>200.0</td>\n",
       "      <td>Arts</td>\n",
       "      <td>[author, canonical, csrf-param, csrf-token, de...</td>\n",
       "      <td>[0, 0, 0, 0, 1, 0, 1, 0, 0, 0, 0, 0, 0, 0, 0, ...</td>\n",
       "      <td>[fb:app_id, fb:pages, og:description, og:image...</td>\n",
       "    </tr>\n",
       "    <tr>\n",
       "      <th>4</th>\n",
       "      <td>1704</td>\n",
       "      <td>http://www.outdoorphotographer.com</td>\n",
       "      <td>&lt;!DOCTYPE html&gt;\\n&lt;html lang=\"en-US\" xmlns:fb=\"...</td>\n",
       "      <td>200.0</td>\n",
       "      <td>Arts</td>\n",
       "      <td>[description, generator, twitter:card, twitter...</td>\n",
       "      <td>[0, 0, 0, 0, 0, 0, 1, 0, 1, 0, 0, 0, 0, 0, 0, ...</td>\n",
       "      <td>[og:description, og:image, og:locale, og:site_...</td>\n",
       "    </tr>\n",
       "    <tr>\n",
       "      <th>5</th>\n",
       "      <td>1705</td>\n",
       "      <td>http://www.fiap.net</td>\n",
       "      <td>&lt;!DOCTYPE html&gt;\\n&lt;html lang=\"en_US\"&gt;\\n&lt;head&gt;\\n...</td>\n",
       "      <td>200.0</td>\n",
       "      <td>Arts</td>\n",
       "      <td>[csrf-token, description, handheldfriendly, th...</td>\n",
       "      <td>[0, 0, 0, 0, 0, 0, 1, 0, 0, 0, 1, 0, 0, 0, 0, ...</td>\n",
       "      <td>[fb:app_id, og:description, og:image, og:local...</td>\n",
       "    </tr>\n",
       "  </tbody>\n",
       "</table>\n",
       "</div>"
      ],
      "text/plain": [
       "    uid                                 url  \\\n",
       "0  1700          http://www.photoawards.com   \n",
       "2  1702        http://www.letsgodigital.org   \n",
       "3  1703          http://www.lensculture.com   \n",
       "4  1704  http://www.outdoorphotographer.com   \n",
       "5  1705                 http://www.fiap.net   \n",
       "\n",
       "                                                html  errcode   cat  \\\n",
       "0  <!DOCTYPE html><html lang=\"en-US\"><head><meta ...    200.0  Arts   \n",
       "2  <!DOCTYPE html><html><head><meta\\nname=viewpor...    200.0  Arts   \n",
       "3  <!DOCTYPE html>\\n<html class=\"mobile-friendly ...    200.0  Arts   \n",
       "4  <!DOCTYPE html>\\n<html lang=\"en-US\" xmlns:fb=\"...    200.0  Arts   \n",
       "5  <!DOCTYPE html>\\n<html lang=\"en_US\">\\n<head>\\n...    200.0  Arts   \n",
       "\n",
       "                                           meta_name  \\\n",
       "0  [description, follow.it-verification-code-ogjj...   \n",
       "2  [apple-mobile-web-app-title, application-name,...   \n",
       "3  [author, canonical, csrf-param, csrf-token, de...   \n",
       "4  [description, generator, twitter:card, twitter...   \n",
       "5  [csrf-token, description, handheldfriendly, th...   \n",
       "\n",
       "                                         metaname_oh  \\\n",
       "0  [0, 0, 0, 0, 0, 0, 1, 0, 1, 1, 0, 0, 0, 0, 0, ...   \n",
       "2  [0, 0, 1, 1, 0, 0, 1, 0, 0, 1, 0, 0, 0, 0, 0, ...   \n",
       "3  [0, 0, 0, 0, 1, 0, 1, 0, 0, 0, 0, 0, 0, 0, 0, ...   \n",
       "4  [0, 0, 0, 0, 0, 0, 1, 0, 1, 0, 0, 0, 0, 0, 0, ...   \n",
       "5  [0, 0, 0, 0, 0, 0, 1, 0, 0, 0, 1, 0, 0, 0, 0, ...   \n",
       "\n",
       "                                       meta_proprety  \n",
       "0  [og:description, og:image, og:image:height, og...  \n",
       "2  [og:description, og:locale, og:site_name, og:t...  \n",
       "3  [fb:app_id, fb:pages, og:description, og:image...  \n",
       "4  [og:description, og:image, og:locale, og:site_...  \n",
       "5  [fb:app_id, og:description, og:image, og:local...  "
      ]
     },
     "execution_count": 38,
     "metadata": {},
     "output_type": "execute_result"
    }
   ],
   "source": [
    "df.head()"
   ]
  },
  {
   "cell_type": "code",
   "execution_count": 11,
   "metadata": {},
   "outputs": [],
   "source": [
    "cats = df.cat.unique()\n",
    "\n",
    "def compute_attr_presence(attr, min_pres):\n",
    "    all_meta_attr = [] \n",
    "\n",
    "    counts = []\n",
    "\n",
    "    for cat in cats:\n",
    "        df_cat = df[df.cat == cat]\n",
    "        meta_attrs = df_cat[attr].values\n",
    "        count = pd.Series([a for b in meta_attrs for a in b]).value_counts() / df_cat.shape[0]\n",
    "        min_count = count[count >= min_pres]\n",
    "        counts.append(count)\n",
    "        all_meta_attr += min_count.index.tolist()\n",
    "        #print(cat)\n",
    "        #print(count, '\\n')\n",
    "\n",
    "    all_meta_attr = np.unique(all_meta_attr)\n",
    "    \n",
    "    count_array = np.zeros((len(all_meta_attr), len(cats)))\n",
    "    \n",
    "    for i in range(len(cats)):\n",
    "        j = 0\n",
    "        for attr in all_meta_attr:\n",
    "            count_array[j,i] = counts[i].get(attr, 0)\n",
    "            j += 1\n",
    "        \n",
    "    return count_array, all_meta_attr\n",
    "    "
   ]
  },
  {
   "cell_type": "code",
   "execution_count": 110,
   "metadata": {},
   "outputs": [
    {
     "data": {
      "image/png": "[encoded data removed]",
      "text/plain": [
       "<Figure size 576x864 with 2 Axes>"
      ]
     },
     "metadata": {
      "needs_background": "light"
     },
     "output_type": "display_data"
    }
   ],
   "source": [
    "from mpl_toolkits.axes_grid1 import make_axes_locatable\n",
    "\n",
    "count_attr, attr_names = compute_attr_presence('meta_name', 0.05)\n",
    "\n",
    "fig, ax = plt.subplots(figsize=(8, 12))\n",
    "\n",
    "im = plt.imshow(count_attr, cmap='YlOrBr', interpolation='nearest', vmin=0, vmax=1)\n",
    "\n",
    "plt.xticks(np.arange(len(cats)), cats, rotation=90, fontsize=15)\n",
    "plt.yticks(np.arange(len(attr_names)), attr_names, fontsize=15)\n",
    "ax.xaxis.tick_top()\n",
    "\n",
    "divider = make_axes_locatable(ax)\n",
    "cax = divider.append_axes(\"right\", size=\"5%\", pad=0.3)\n",
    "\n",
    "plt.colorbar(im, cax=cax)\n",
    "\n",
    "#ax.title.set_text('Presence of the different kinds of \"name\" attribute w.r.t to categories')\n",
    "\n",
    "plt.show()"
   ]
  },
  {
   "cell_type": "code",
   "execution_count": 139,
   "metadata": {},
   "outputs": [
    {
     "name": "stdout",
     "output_type": "stream",
     "text": [
      "The presence-feature with the most variance are...\n",
      "generator                 0.0795\n",
      "viewport                  0.0736\n",
      "twitter:card              0.0663\n",
      "description               0.0637\n",
      "google-site-verification  0.0624\n",
      "twitter:site              0.0571\n",
      "keywords                  0.0511\n",
      "rating                    0.0430\n",
      "twitter:title             0.0405\n",
      "robots                    0.0401\n",
      "twitter:image             0.0383\n",
      "twitter:description       0.0362\n",
      "msapplication-tileimage   0.0329\n",
      "msvalidate.01             0.0324\n",
      "theme-color               0.0308\n",
      "mobileoptimized           0.0288\n",
      "handheldfriendly          0.0288\n",
      "format-detection          0.0279\n",
      "shopify-digital-wallet    0.0274\n",
      "p:domain_verify           0.0269\n"
     ]
    }
   ],
   "source": [
    "std = []\n",
    "\n",
    "for i in range(count_attr.shape[0]):\n",
    "    std.append(np.std(count_attr[i]))\n",
    "    \n",
    "sorti = np.argsort(std)[::-1]\n",
    "\n",
    "print('The presence-feature with the most variance are...')\n",
    "\n",
    "for i in sorti[:20]:\n",
    "    print(\"{:<25} {:.4f}\".format(attr_names[i], std[i]))"
   ]
  },
  {
   "cell_type": "code",
   "execution_count": 186,
   "metadata": {},
   "outputs": [
    {
     "data": {
      "text/plain": [
       "array(['generator', 'viewport', 'twitter:card', 'description',\n",
       "       'google-site-verification', 'twitter:site', 'keywords', 'rating',\n",
       "       'twitter:title', 'robots', 'twitter:image', 'twitter:description',\n",
       "       'msapplication-tileimage', 'msvalidate.01', 'theme-color',\n",
       "       'mobileoptimized', 'handheldfriendly', 'format-detection',\n",
       "       'shopify-digital-wallet', 'p:domain_verify',\n",
       "       'shopify-checkout-api-token', 'twitter:creator',\n",
       "       'apple-itunes-app', 'msapplication-tilecolor', 'author',\n",
       "       'twitter:url', 'title', 'apple-mobile-web-app-capable',\n",
       "       'application-name', 'referrer', 'msapplication-config',\n",
       "       'apple-mobile-web-app-title', 'copyright', 'revisit-after'],\n",
       "      dtype='<U28')"
      ]
     },
     "execution_count": 186,
     "metadata": {},
     "output_type": "execute_result"
    }
   ],
   "source": [
    "repr_meta = attr_names[sorti[:50]]\n",
    "repr_meta"
   ]
  },
  {
   "cell_type": "code",
   "execution_count": 187,
   "metadata": {},
   "outputs": [],
   "source": [
    "def meta_name_oh(names_list):\n",
    "    onehot = np.array([int(n in names_list) for n in repr_meta])\n",
    "    if onehot.sum() == 0:\n",
    "        return None\n",
    "    return onehot"
   ]
  },
  {
   "cell_type": "code",
   "execution_count": 188,
   "metadata": {},
   "outputs": [
    {
     "name": "stderr",
     "output_type": "stream",
     "text": [
      "<ipython-input-187-785af234c5d8>:2: FutureWarning: elementwise comparison failed; returning scalar instead, but in the future will perform elementwise comparison\n",
      "  onehot = np.array([int(n in names_list) for n in repr_meta])\n"
     ]
    }
   ],
   "source": [
    "df['metaname_oh'] = df.meta_name.apply(meta_name_oh)"
   ]
  },
  {
   "cell_type": "code",
   "execution_count": 189,
   "metadata": {},
   "outputs": [
    {
     "data": {
      "text/html": [
       "<div>\n",
       "<style scoped>\n",
       "    .dataframe tbody tr th:only-of-type {\n",
       "        vertical-align: middle;\n",
       "    }\n",
       "\n",
       "    .dataframe tbody tr th {\n",
       "        vertical-align: top;\n",
       "    }\n",
       "\n",
       "    .dataframe thead th {\n",
       "        text-align: right;\n",
       "    }\n",
       "</style>\n",
       "<table border=\"1\" class=\"dataframe\">\n",
       "  <thead>\n",
       "    <tr style=\"text-align: right;\">\n",
       "      <th></th>\n",
       "      <th>uid</th>\n",
       "      <th>url</th>\n",
       "      <th>html</th>\n",
       "      <th>errcode</th>\n",
       "      <th>cat</th>\n",
       "      <th>meta_name</th>\n",
       "      <th>metaname_oh</th>\n",
       "      <th>meta_proprety</th>\n",
       "    </tr>\n",
       "  </thead>\n",
       "  <tbody>\n",
       "    <tr>\n",
       "      <th>0</th>\n",
       "      <td>1700</td>\n",
       "      <td>http://www.photoawards.com</td>\n",
       "      <td>&lt;!DOCTYPE html&gt;&lt;html lang=\"en-US\"&gt;&lt;head&gt;&lt;meta ...</td>\n",
       "      <td>200.0</td>\n",
       "      <td>Arts</td>\n",
       "      <td>[description, follow.it-verification-code-ogjj...</td>\n",
       "      <td>[1, 1, 0, 1, 1, 0, 0, 0, 0, 1, 0, 0, 1, 0, 0, ...</td>\n",
       "      <td>[og:description, og:image, og:image:height, og...</td>\n",
       "    </tr>\n",
       "  </tbody>\n",
       "</table>\n",
       "</div>"
      ],
      "text/plain": [
       "    uid                         url  \\\n",
       "0  1700  http://www.photoawards.com   \n",
       "\n",
       "                                                html  errcode   cat  \\\n",
       "0  <!DOCTYPE html><html lang=\"en-US\"><head><meta ...    200.0  Arts   \n",
       "\n",
       "                                           meta_name  \\\n",
       "0  [description, follow.it-verification-code-ogjj...   \n",
       "\n",
       "                                         metaname_oh  \\\n",
       "0  [1, 1, 0, 1, 1, 0, 0, 0, 0, 1, 0, 0, 1, 0, 0, ...   \n",
       "\n",
       "                                       meta_proprety  \n",
       "0  [og:description, og:image, og:image:height, og...  "
      ]
     },
     "execution_count": 189,
     "metadata": {},
     "output_type": "execute_result"
    }
   ],
   "source": [
    "df.head(1)"
   ]
  },
  {
   "cell_type": "code",
   "execution_count": 190,
   "metadata": {},
   "outputs": [
    {
     "name": "stdout",
     "output_type": "stream",
     "text": [
      "0.94% of websites have at least one representative meta name\n"
     ]
    }
   ],
   "source": [
    "df_red = df[df.metaname_oh.notnull()]\n",
    "print(\"{:.2f}% of websites have at least one representative meta name\".format(df_red.shape[0] / df.shape[0]))"
   ]
  },
  {
   "cell_type": "code",
   "execution_count": 231,
   "metadata": {},
   "outputs": [
    {
     "data": {
      "text/plain": [
       "Sports            0.345359\n",
       "Business          0.400839\n",
       "Shopping          0.518784\n",
       "Computers         0.520657\n",
       "Arts              0.592531\n",
       "Society           0.617389\n",
       "Recreation        0.643274\n",
       "Health            0.660357\n",
       "Science           0.819443\n",
       "Games             1.224295\n",
       "Reference         1.318300\n",
       "News              1.363157\n",
       "Home              1.560844\n",
       "Kids_and_Teens    1.624122\n",
       "Regional          1.877891\n",
       "Adult             1.912759\n",
       "Name: cat, dtype: float64"
      ]
     },
     "execution_count": 231,
     "metadata": {},
     "output_type": "execute_result"
    }
   ],
   "source": [
    "counts = df_red.cat.value_counts()\n",
    "weights = counts / counts.sum() \n",
    "weights = 1 / weights\n",
    "weights = weights / weights.sum() * weights.shape[0]\n",
    "weights"
   ]
  },
  {
   "cell_type": "code",
   "execution_count": 191,
   "metadata": {},
   "outputs": [],
   "source": [
    "categories = df_red.cat.unique()\n",
    "\n",
    "def categorize(c):\n",
    "    return categories.tolist().index(c)"
   ]
  },
  {
   "cell_type": "code",
   "execution_count": 192,
   "metadata": {},
   "outputs": [
    {
     "name": "stderr",
     "output_type": "stream",
     "text": [
      "<ipython-input-192-98a03334188f>:1: SettingWithCopyWarning: \n",
      "A value is trying to be set on a copy of a slice from a DataFrame.\n",
      "Try using .loc[row_indexer,col_indexer] = value instead\n",
      "\n",
      "See the caveats in the documentation: https://pandas.pydata.org/pandas-docs/stable/user_guide/indexing.html#returning-a-view-versus-a-copy\n",
      "  df_red['catno'] = df_red.cat.apply(categorize)\n"
     ]
    }
   ],
   "source": [
    "df_red['catno'] = df_red.cat.apply(categorize)"
   ]
  },
  {
   "cell_type": "code",
   "execution_count": 212,
   "metadata": {},
   "outputs": [],
   "source": [
    "df_red = df_red.sample(frac=1)"
   ]
  },
  {
   "cell_type": "code",
   "execution_count": 213,
   "metadata": {},
   "outputs": [
    {
     "data": {
      "text/plain": [
       "(15472, 34)"
      ]
     },
     "execution_count": 213,
     "metadata": {},
     "output_type": "execute_result"
    }
   ],
   "source": [
    "x = np.concatenate(df_red.metaname_oh.to_numpy()).ravel()\n",
    "x = x.reshape(-1, repr_meta.shape[0])\n",
    "x.shape"
   ]
  },
  {
   "cell_type": "code",
   "execution_count": 219,
   "metadata": {},
   "outputs": [
    {
     "data": {
      "text/plain": [
       "(15472,)"
      ]
     },
     "execution_count": 219,
     "metadata": {},
     "output_type": "execute_result"
    }
   ],
   "source": [
    "y = df_red.cat\n",
    "y.shape"
   ]
  },
  {
   "cell_type": "code",
   "execution_count": 220,
   "metadata": {},
   "outputs": [],
   "source": [
    "from sklearn.ensemble import RandomForestClassifier\n",
    "from sklearn.model_selection import cross_validate"
   ]
  },
  {
   "cell_type": "code",
   "execution_count": 259,
   "metadata": {},
   "outputs": [],
   "source": [
    "forest = RandomForestClassifier(n_estimators=200, max_depth=15, class_weight=weights.to_dict(), random_state=42)\n",
    "forest_scores = cross_validate(forest, x, y, cv=5, n_jobs=5, scoring='balanced_accuracy', return_train_score=True)"
   ]
  },
  {
   "cell_type": "code",
   "execution_count": 260,
   "metadata": {},
   "outputs": [
    {
     "data": {
      "text/plain": [
       "{'fit_time': array([1.82650805, 1.78665829, 1.80399799, 1.88764167, 1.77001214]),\n",
       " 'score_time': array([0.1694448 , 0.15249634, 0.17380357, 0.17751622, 0.17295718]),\n",
       " 'test_score': array([0.14113979, 0.14527144, 0.14817764, 0.13384944, 0.1311526 ]),\n",
       " 'train_score': array([0.43628842, 0.4380009 , 0.43990852, 0.442448  , 0.43912564])}"
      ]
     },
     "execution_count": 260,
     "metadata": {},
     "output_type": "execute_result"
    }
   ],
   "source": [
    "forest_scores"
   ]
  },
  {
   "cell_type": "code",
   "execution_count": 261,
   "metadata": {},
   "outputs": [
    {
     "data": {
      "text/plain": [
       "0.1399181809802182"
      ]
     },
     "execution_count": 261,
     "metadata": {},
     "output_type": "execute_result"
    }
   ],
   "source": [
    "forest_scores['test_score'].mean()"
   ]
  },
  {
   "cell_type": "code",
   "execution_count": null,
   "metadata": {},
   "outputs": [],
   "source": []
  }
 ],
 "metadata": {
  "kernelspec": {
   "display_name": "Python 3",
   "language": "python",
   "name": "python3"
  },
  "language_info": {
   "codemirror_mode": {
    "name": "ipython",
    "version": 3
   },
   "file_extension": ".py",
   "mimetype": "text/x-python",
   "name": "python",
   "nbconvert_exporter": "python",
   "pygments_lexer": "ipython3",
   "version": "3.8.5"
  }
 },
 "nbformat": 4,
 "nbformat_minor": 4
}
