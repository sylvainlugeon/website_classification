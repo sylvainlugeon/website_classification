{
 "cells": [
  {
   "cell_type": "code",
   "execution_count": 1,
   "metadata": {},
   "outputs": [],
   "source": [
    "import requests\n",
    "import re\n",
    "from bs4 import BeautifulSoup\n",
    "import json\n",
    "import gzip\n",
    "from tqdm import tqdm\n",
    "import pandas as pd\n",
    "import numpy as np"
   ]
  },
  {
   "cell_type": "code",
   "execution_count": 2,
   "metadata": {},
   "outputs": [],
   "source": [
    "body = requests.get('https://www.bbc.com/').text"
   ]
  },
  {
   "cell_type": "code",
   "execution_count": 3,
   "metadata": {},
   "outputs": [],
   "source": [
    "soup = BeautifulSoup(body, 'html.parser')"
   ]
  },
  {
   "cell_type": "code",
   "execution_count": 4,
   "metadata": {},
   "outputs": [],
   "source": [
    "a = soup.get_text(' ').replace('\\n', '').lower()"
   ]
  },
  {
   "cell_type": "code",
   "execution_count": 5,
   "metadata": {},
   "outputs": [],
   "source": [
    "b = re.sub(r\"[^a-z ]+\",\"\", a)"
   ]
  },
  {
   "cell_type": "code",
   "execution_count": 6,
   "metadata": {},
   "outputs": [],
   "source": [
    "c = ' '.join(b.split())"
   ]
  },
  {
   "cell_type": "code",
   "execution_count": 5,
   "metadata": {},
   "outputs": [],
   "source": [
    "reader = pd.read_json(\"/dlabdata1/lugeon/websites_1000_5cat_html.json.gz\", orient='records', lines=True, chunksize=100)"
   ]
  },
  {
   "cell_type": "code",
   "execution_count": 6,
   "metadata": {},
   "outputs": [],
   "source": [
    "df = pd.DataFrame([])\n",
    "for chunk in reader:\n",
    "    df = pd.concat((df, pd.DataFrame(chunk)))"
   ]
  },
  {
   "cell_type": "code",
   "execution_count": 7,
   "metadata": {},
   "outputs": [
    {
     "data": {
      "text/html": [
       "<div>\n",
       "<style scoped>\n",
       "    .dataframe tbody tr th:only-of-type {\n",
       "        vertical-align: middle;\n",
       "    }\n",
       "\n",
       "    .dataframe tbody tr th {\n",
       "        vertical-align: top;\n",
       "    }\n",
       "\n",
       "    .dataframe thead th {\n",
       "        text-align: right;\n",
       "    }\n",
       "</style>\n",
       "<table border=\"1\" class=\"dataframe\">\n",
       "  <thead>\n",
       "    <tr style=\"text-align: right;\">\n",
       "      <th></th>\n",
       "    </tr>\n",
       "  </thead>\n",
       "  <tbody>\n",
       "  </tbody>\n",
       "</table>\n",
       "</div>"
      ],
      "text/plain": [
       "Empty DataFrame\n",
       "Columns: []\n",
       "Index: []"
      ]
     },
     "execution_count": 7,
     "metadata": {},
     "output_type": "execute_result"
    }
   ],
   "source": [
    "df = pd.read_json(\"/dlabdata1/lugeon/websites_1000_5cat_html.json.gz\", orient='records', lines=True"
   ]
  },
  {
   "cell_type": "code",
   "execution_count": 11,
   "metadata": {},
   "outputs": [],
   "source": [
    "import gensim.downloader as api\n",
    "model = api.load('word2vec-google-news-300')"
   ]
  },
  {
   "cell_type": "code",
   "execution_count": 27,
   "metadata": {},
   "outputs": [],
   "source": [
    "acc = np.zeros(300)\n",
    "counter = 0\n",
    "for word in c.split(' '):\n",
    "    try:\n",
    "        vector = model[word]\n",
    "        acc += vector\n",
    "        counter += 1\n",
    "    except(Exception):\n",
    "        pass"
   ]
  },
  {
   "cell_type": "code",
   "execution_count": 47,
   "metadata": {},
   "outputs": [],
   "source": [
    "def clean_html(body):\n",
    "    soup = BeautifulSoup(body, 'html.parser')\n",
    "    a = soup.get_text(' ').replace('\\n', '').lower()\n",
    "    b = re.sub(r\"[^a-z ]+\",\"\", a)\n",
    "    c = ' '.join(b.split())\n",
    "    return c"
   ]
  },
  {
   "cell_type": "code",
   "execution_count": 31,
   "metadata": {},
   "outputs": [],
   "source": [
    "def word2vec_avg(str):\n",
    "    \n",
    "    acc = np.zeros(300)\n",
    "    counter = 0\n",
    "    \n",
    "    for word in str.split(' '):\n",
    "        try:\n",
    "            vector = model[word]\n",
    "            acc += vector\n",
    "            counter += 1\n",
    "        except:\n",
    "            pass\n",
    "            \n",
    "    return acc / counter"
   ]
  },
  {
   "cell_type": "code",
   "execution_count": 40,
   "metadata": {},
   "outputs": [],
   "source": [
    "df_valid = df[df.html != '']"
   ]
  },
  {
   "cell_type": "code",
   "execution_count": 49,
   "metadata": {},
   "outputs": [
    {
     "name": "stderr",
     "output_type": "stream",
     "text": [
      "<ipython-input-49-8f458ddbbf28>:1: SettingWithCopyWarning: \n",
      "A value is trying to be set on a copy of a slice from a DataFrame.\n",
      "Try using .loc[row_indexer,col_indexer] = value instead\n",
      "\n",
      "See the caveats in the documentation: https://pandas.pydata.org/pandas-docs/stable/user_guide/indexing.html#returning-a-view-versus-a-copy\n",
      "  df_valid['emb'] = df_valid.apply(lambda x: word2vec_avg(clean_html(c)), axis=1)\n"
     ]
    }
   ],
   "source": [
    "df_valid['emb'] = df_valid.apply(lambda x: word2vec_avg(clean_html(c)), axis=1)"
   ]
  },
  {
   "cell_type": "code",
   "execution_count": 51,
   "metadata": {},
   "outputs": [
    {
     "data": {
      "text/plain": [
       "'bbc homepage homepage accessibility links skip to content accessibility help bbc account notifications home news sport weather iplayer sounds cbbc cbeebies food bitesize arts taster local three menu search search the bbc search the bbc bbc homepage trump and biden duel in chaotic bitter debate the rivals spar over the pandemic race and even their families in a debate disrupted by shouting us election trump and biden duel in chaotic bitter debate presidential debate the loser is us the american people us election presidential debate the loser is us the american people macron warns turkey on warlike rhetoric europe macron warns turkey on warlike rhetoric the return of europes largest beasts future planet the return of europes largest beasts americas other national anthem culture americas other national anthem news india bjp leaders acquitted in mosque demolition former deputy pm lk advani was among those charged over the destruction of the babri mosque india india bjp leaders acquitted in mosque demolition merkel we are risking everything weve achieved the german chancellor defends new measures and says she hopes to avoid a second national lockdown world merkel we are risking everything weve achieved first person cured of hiv timothy ray brown dies mr brown known as the berlin patient was cured after a bone marrow transplant to treat leukaemia health first person cured of hiv timothy ray brown dies sport french open nadal in control against mcdonald radio text follow live bbc radio live sports extra commentary from the french open where defending champion rafael nadal is in action tennis french open nadal in control against mcdonald radio text williams withdraws from french open threetime french open champion serena williams withdraws from the event because of injury tennis williams withdraws from french open bairstow loses test central contract wicketkeeperbatsman jonny bairstow is not offered an england central contract for test cricket though he retains a limitedovers deal cricket bairstow loses test central contract london weather edit wed c c thu c c fri c c sat c c visit reel the most amazing videos from the bbc the perfect isolation of the ghost town at the edge of the world is this the end of american confidence what happened after this young woman defected from north korea editors picks the greek island seeking new residents some of the worlds brightest minds are converging on this rocky greek island travel the greek island seeking new residents how to save your inoffice friendships staying close with your colleagues matters and heres why worklife how to save your inoffice friendships how jewellery got personal why do gemstones hold such an emotional significance for so many culture how jewellery got personal why you have a voice inside your head sound waves and brain waves can be remarkably similar future why you have a voice inside your head trump and bidens debate claims factchecked the first of three presidential debates centred on the pandemic race and the economy us election trump and bidens debate claims factchecked jet suit paramedic could save lives the kit means a paramedic can fly up a fell in seconds rather than go minutes by foot uk jet suit paramedic could save lives what its like to learn youre autistic later in life why can autism diagnosis take so long and what happens when its missed bbc four what its like to learn youre autistic later in life latest business news exaudi boss stands trial over dieselgate scandal shell to cut up to jobs as oil demand slumps chicken licken economics will hold us back uk beef served up in the us after a year ban ocado takes tescos most valuable retailer slot future planet solutions for a sustainable world the ancient gum holding back the desert the plan to scatter glass in the arctic what netzero carbon really means remote control worklife how to make people like you virtually how to make people like you virtually advertisement technology of business business if you steal music you arent a real music fan if you steal music you arent a real music fan featured video shut up man and other insults donald trump and joe biden didnt hold back in an angry presidential debate that got personal and ugly us election shut up man and other insults recommended most watched latest shut up man and other insults us election shut up man and other insults dublin having someone different as lord europe dublin having someone different as lord mayor the robot smaller than the width of a hair technology the robot smaller than the width of a hair biden do you believe for a moment what hes us election biden do you believe for a moment what hes telling you uncovering the secrets of australias hidden australia uncovering the secrets of australias hidden reefs boris johnson struggles in interview uk boris johnson struggles in interview ready for the total solar eclipse us canada ready for the total solar eclipse koalas face extinction in parts of australia koalas face extinction in parts of australia video shows mosul mosques destruction middle east video shows mosul mosques destruction indonesias female devil wheel riders asia indonesias female devil wheel riders my life as a koran reciter world my life as a koran reciter how did tiktok escape a us download ban world how did tiktok escape a us download ban oneminute world news video oneminute world news paramedic jet suit could be gamechanger england paramedic jet suit could be gamechanger trump on paying no tax its fake news us canada trump on paying no tax its fake news bbc world service on air newshour more around the bbc panto parade highlights plight of arts venues pantomime dames are marching on westminster as the live events industry stages a day of action entertainment arts panto parade highlights plight of arts venues london marathon to use socialdistancing technology technology london marathon to use socialdistancing technology kylie jenner makeup customers data stolen technology kylie jenner makeup customers data stolen delirium key covid symptom in frail older people health delirium key covid symptom in frail older people twofifths of plants at risk of extinction says report science environment twofifths of plants at risk of extinction says report police to be told they can download covid app technology police to be told they can download covid app quick covid test to roll out in nations world quick covid test to roll out in nations from our correspondents has the world started to take climate change fight seriously by justin rowlatt quarantine breakers it was selfish but ive no regrets by dominic casciani flu jab delays amid high demand by michelle roberts two old fighters looking for a knockout blow by jon sopel attenborough warns leaders over extinction crisis by helen briggs clear climate link to california wildfires study by matt mcgrath celebs face backlash over dutch covid rebellion by anna holligan afghantaliban peace talks whats next by lyse doucet the boss the woman who quit smoking and built a global hypnotherapy firm business the woman who quit smoking and built a global hypnotherapy firm food drink a rare fruit grown inside a castle travel a rare fruit grown inside a castle world in pictures maritime life around the coast of britain in pictures maritime life around the coast of britain in pictures first trump v biden debate us election in pictures first trump v biden debate sixty years of nigeria in six images africa sixty years of nigeria in six images congos new generation of sharp dressers revealed africa congos new generation of sharp dressers revealed aurora and rare moonbows light up the night highlands islands aurora and rare moonbows light up the night bbc in other languages russian spanish trump o biden quin gan el primer debate por la presidencia de eeuu persian portuguese da troca de ofensas amaznia os momentos marcantes do catico debate entre trump e biden more languages arabic azeri azrbaycan bangla burmese chinese french afrique hausa hausa hindi indonesian indonesia japanese kinyarwanda gahuza kirundi kirundi kyrgyz marathi nepali pashto persian portuguese brasil russian sinhala somali somali spanish mundo swahili swahili tamil turkish trke ukrainian a urdu uzbek ozbek vietnamese ting vit explore the bbc home news sport weather iplayer sounds cbbc cbeebies food bitesize arts taster local three terms of use about the bbc privacy policy cookies accessibility help parental guidance contact the bbc get personalised newsletters copyright bbc the bbc is not responsible for the content of external sites read about our approach to external linking'"
      ]
     },
     "execution_count": 51,
     "metadata": {},
     "output_type": "execute_result"
    }
   ],
   "source": [
    "c"
   ]
  },
  {
   "cell_type": "code",
   "execution_count": null,
   "metadata": {},
   "outputs": [],
   "source": []
  }
 ],
 "metadata": {
  "kernelspec": {
   "display_name": "Python 3",
   "language": "python",
   "name": "python3"
  },
  "language_info": {
   "codemirror_mode": {
    "name": "ipython",
    "version": 3
   },
   "file_extension": ".py",
   "mimetype": "text/x-python",
   "name": "python",
   "nbconvert_exporter": "python",
   "pygments_lexer": "ipython3",
   "version": "3.7.7"
  }
 },
 "nbformat": 4,
 "nbformat_minor": 4
}
