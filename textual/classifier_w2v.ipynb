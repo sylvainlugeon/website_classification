{
 "cells": [
  {
   "cell_type": "code",
   "execution_count": 6,
   "metadata": {},
   "outputs": [],
   "source": [
    "import numpy as np\n",
    "import pandas as pd\n",
    "\n",
    "import torch\n",
    "from torch import nn\n",
    "from torch.nn import functional as F\n",
    "from torch import optim\n",
    "import time\n",
    "\n",
    "from sklearn.metrics.pairwise import cosine_similarity\n",
    "import ast"
   ]
  },
  {
   "cell_type": "code",
   "execution_count": 7,
   "metadata": {},
   "outputs": [],
   "source": [
    "folder = '/dlabdata1/lugeon/'\n",
    "name = 'websites_40000_5cat_emb.gz'\n",
    "data = pd.read_csv(folder + name, \n",
    "                   header=0,\n",
    "                   index_col = 0,\n",
    "                   names=['emb', 'len', 'cat0'])"
   ]
  },
  {
   "cell_type": "code",
   "execution_count": 8,
   "metadata": {},
   "outputs": [
    {
     "data": {
      "text/html": [
       "<div>\n",
       "<style scoped>\n",
       "    .dataframe tbody tr th:only-of-type {\n",
       "        vertical-align: middle;\n",
       "    }\n",
       "\n",
       "    .dataframe tbody tr th {\n",
       "        vertical-align: top;\n",
       "    }\n",
       "\n",
       "    .dataframe thead th {\n",
       "        text-align: right;\n",
       "    }\n",
       "</style>\n",
       "<table border=\"1\" class=\"dataframe\">\n",
       "  <thead>\n",
       "    <tr style=\"text-align: right;\">\n",
       "      <th></th>\n",
       "      <th>emb</th>\n",
       "      <th>len</th>\n",
       "      <th>cat0</th>\n",
       "    </tr>\n",
       "  </thead>\n",
       "  <tbody>\n",
       "    <tr>\n",
       "      <th>0</th>\n",
       "      <td>[-0.0009275737561677632, -0.02362455401504249,...</td>\n",
       "      <td>138</td>\n",
       "      <td>Arts</td>\n",
       "    </tr>\n",
       "    <tr>\n",
       "      <th>1</th>\n",
       "      <td>[0.04585096571180555, -0.018588595920138888, 0...</td>\n",
       "      <td>23</td>\n",
       "      <td>Arts</td>\n",
       "    </tr>\n",
       "    <tr>\n",
       "      <th>4</th>\n",
       "      <td>[0.04253146113181601, 0.036278354878328284, 0....</td>\n",
       "      <td>683</td>\n",
       "      <td>Arts</td>\n",
       "    </tr>\n",
       "    <tr>\n",
       "      <th>5</th>\n",
       "      <td>[-0.07145182291666667, 0.0058917999267578125, ...</td>\n",
       "      <td>3</td>\n",
       "      <td>Arts</td>\n",
       "    </tr>\n",
       "    <tr>\n",
       "      <th>6</th>\n",
       "      <td>[0.055974324544270836, 0.022883097330729168, -...</td>\n",
       "      <td>21</td>\n",
       "      <td>Arts</td>\n",
       "    </tr>\n",
       "  </tbody>\n",
       "</table>\n",
       "</div>"
      ],
      "text/plain": [
       "                                                 emb  len  cat0\n",
       "0  [-0.0009275737561677632, -0.02362455401504249,...  138  Arts\n",
       "1  [0.04585096571180555, -0.018588595920138888, 0...   23  Arts\n",
       "4  [0.04253146113181601, 0.036278354878328284, 0....  683  Arts\n",
       "5  [-0.07145182291666667, 0.0058917999267578125, ...    3  Arts\n",
       "6  [0.055974324544270836, 0.022883097330729168, -...   21  Arts"
      ]
     },
     "execution_count": 8,
     "metadata": {},
     "output_type": "execute_result"
    }
   ],
   "source": [
    "data.head()"
   ]
  },
  {
   "cell_type": "code",
   "execution_count": 9,
   "metadata": {},
   "outputs": [],
   "source": [
    "data = data[data.emb.notnull()]\n",
    "#data = data[data.len >= 100]"
   ]
  },
  {
   "cell_type": "code",
   "execution_count": 10,
   "metadata": {},
   "outputs": [],
   "source": [
    "data['emb'] = data.apply(lambda row: np.array(ast.literal_eval(row.emb)), axis=1)"
   ]
  },
  {
   "cell_type": "code",
   "execution_count": 11,
   "metadata": {},
   "outputs": [
    {
     "data": {
      "text/plain": [
       "(103134, 3)"
      ]
     },
     "execution_count": 11,
     "metadata": {},
     "output_type": "execute_result"
    }
   ],
   "source": [
    "data.shape"
   ]
  },
  {
   "cell_type": "code",
   "execution_count": 12,
   "metadata": {},
   "outputs": [
    {
     "data": {
      "text/plain": [
       "Computers    24464\n",
       "Science      20931\n",
       "Arts         20469\n",
       "Kids         18884\n",
       "Sports       18386\n",
       "Name: cat0, dtype: int64"
      ]
     },
     "execution_count": 12,
     "metadata": {},
     "output_type": "execute_result"
    }
   ],
   "source": [
    "data.cat0.value_counts()"
   ]
  },
  {
   "cell_type": "code",
   "execution_count": 13,
   "metadata": {},
   "outputs": [],
   "source": [
    "def categorize(s):\n",
    "    if s == 'Kids':\n",
    "        return 0\n",
    "    if s == 'Science':\n",
    "        return 1\n",
    "    if s == 'Arts':\n",
    "        return 2\n",
    "    if s == 'Computers':\n",
    "        return 3\n",
    "    if s == 'Sports':\n",
    "        return 4"
   ]
  },
  {
   "cell_type": "code",
   "execution_count": 14,
   "metadata": {},
   "outputs": [],
   "source": [
    "data['cat_no'] = data.apply(lambda row: categorize(row.cat0), axis=1)"
   ]
  },
  {
   "cell_type": "code",
   "execution_count": 15,
   "metadata": {},
   "outputs": [],
   "source": [
    "embeddings = np.concatenate(data.emb.values)"
   ]
  },
  {
   "cell_type": "code",
   "execution_count": 16,
   "metadata": {},
   "outputs": [],
   "source": [
    "embedding_dim = 300\n",
    "train_input = torch.tensor(embeddings)\n",
    "train_input = torch.reshape(train_input, (-1, embedding_dim)).float()"
   ]
  },
  {
   "cell_type": "code",
   "execution_count": 17,
   "metadata": {},
   "outputs": [
    {
     "data": {
      "text/plain": [
       "torch.Size([103134, 300])"
      ]
     },
     "execution_count": 17,
     "metadata": {},
     "output_type": "execute_result"
    }
   ],
   "source": [
    "train_input.shape"
   ]
  },
  {
   "cell_type": "code",
   "execution_count": 18,
   "metadata": {},
   "outputs": [],
   "source": [
    "cat_no = data.cat_no.values\n",
    "train_target = torch.tensor(cat_no).long()"
   ]
  },
  {
   "cell_type": "code",
   "execution_count": 19,
   "metadata": {},
   "outputs": [
    {
     "data": {
      "text/plain": [
       "torch.Size([103134])"
      ]
     },
     "execution_count": 19,
     "metadata": {},
     "output_type": "execute_result"
    }
   ],
   "source": [
    "train_target.shape"
   ]
  },
  {
   "cell_type": "code",
   "execution_count": 20,
   "metadata": {},
   "outputs": [],
   "source": [
    "id = np.arange(train_input.shape[0])\n",
    "np.random.shuffle(id)\n",
    "\n",
    "training_set_size = 90_000\n",
    "\n",
    "tr_id = id[:training_set_size]\n",
    "te_id = id[training_set_size:]\n",
    "\n",
    "train_input_ = train_input[tr_id]\n",
    "test_input_ = train_input[te_id]\n",
    "\n",
    "train_target_ = train_target[tr_id]\n",
    "test_target_ = train_target[te_id]"
   ]
  },
  {
   "cell_type": "code",
   "execution_count": 21,
   "metadata": {},
   "outputs": [
    {
     "data": {
      "text/plain": [
       "Computers    21288\n",
       "Science      18325\n",
       "Arts         17920\n",
       "Kids         16490\n",
       "Sports       15977\n",
       "Name: cat0, dtype: int64"
      ]
     },
     "execution_count": 21,
     "metadata": {},
     "output_type": "execute_result"
    }
   ],
   "source": [
    "data.iloc[tr_id].cat0.value_counts()"
   ]
  },
  {
   "cell_type": "code",
   "execution_count": 22,
   "metadata": {},
   "outputs": [
    {
     "data": {
      "text/plain": [
       "Computers    3176\n",
       "Science      2606\n",
       "Arts         2549\n",
       "Sports       2409\n",
       "Kids         2394\n",
       "Name: cat0, dtype: int64"
      ]
     },
     "execution_count": 22,
     "metadata": {},
     "output_type": "execute_result"
    }
   ],
   "source": [
    "data.iloc[te_id].cat0.value_counts()"
   ]
  },
  {
   "cell_type": "code",
   "execution_count": 23,
   "metadata": {},
   "outputs": [],
   "source": [
    "class Classifier(nn.Module):\n",
    "    def __init__(self):\n",
    "        super(Classifier, self).__init__()\n",
    "        self.fc1 = nn.Linear(300, 300)\n",
    "        self.fc2 = nn.Linear(300, 300)\n",
    "        self.fc3 = nn.Linear(300, 100)\n",
    "        self.fc4 = nn.Linear(100, 5)\n",
    "        self.drop = nn.Dropout(0.1)\n",
    "\n",
    "    def forward(self, x):\n",
    "        x = self.fc1(x)\n",
    "        #x = self.drop(x)\n",
    "        x = self.fc2(F.relu(x))\n",
    "        # x = self.drop(x)\n",
    "        x = self.fc3(F.relu(x))\n",
    "        #x = self.drop(x)\n",
    "        x = self.fc4(F.relu(x))\n",
    "        return x"
   ]
  },
  {
   "cell_type": "code",
   "execution_count": 24,
   "metadata": {},
   "outputs": [],
   "source": [
    "def accuracy(output, target):\n",
    "    nb_samples = output.shape[0]\n",
    "    \n",
    "    # Convert probability to decision\n",
    "    output_class = torch.argmax(output, 1)\n",
    "    \n",
    "    nb_correct = (output_class == target).sum().item()\n",
    "    return nb_correct / nb_samples\n"
   ]
  },
  {
   "cell_type": "code",
   "execution_count": null,
   "metadata": {},
   "outputs": [
    {
     "name": "stdout",
     "output_type": "stream",
     "text": [
      "Epoch 0 | Train loss : 0.910 | Train accuracy : 0.666 | Test accuracy : 0.662\n",
      "Epoch 1 | Train loss : 0.838 | Train accuracy : 0.693 | Test accuracy : 0.687\n",
      "Epoch 2 | Train loss : 0.798 | Train accuracy : 0.706 | Test accuracy : 0.699\n",
      "Epoch 3 | Train loss : 0.774 | Train accuracy : 0.714 | Test accuracy : 0.707\n",
      "Epoch 4 | Train loss : 0.756 | Train accuracy : 0.720 | Test accuracy : 0.711\n",
      "Epoch 5 | Train loss : 0.742 | Train accuracy : 0.724 | Test accuracy : 0.714\n",
      "Epoch 6 | Train loss : 0.729 | Train accuracy : 0.728 | Test accuracy : 0.718\n",
      "Epoch 7 | Train loss : 0.719 | Train accuracy : 0.732 | Test accuracy : 0.722\n",
      "Epoch 8 | Train loss : 0.710 | Train accuracy : 0.735 | Test accuracy : 0.723\n",
      "Epoch 9 | Train loss : 0.702 | Train accuracy : 0.737 | Test accuracy : 0.723\n",
      "Epoch 10 | Train loss : 0.693 | Train accuracy : 0.740 | Test accuracy : 0.725\n",
      "Epoch 11 | Train loss : 0.686 | Train accuracy : 0.743 | Test accuracy : 0.727\n",
      "Epoch 12 | Train loss : 0.680 | Train accuracy : 0.746 | Test accuracy : 0.728\n",
      "Epoch 13 | Train loss : 0.673 | Train accuracy : 0.748 | Test accuracy : 0.728\n",
      "Epoch 14 | Train loss : 0.667 | Train accuracy : 0.750 | Test accuracy : 0.729\n",
      "Epoch 15 | Train loss : 0.661 | Train accuracy : 0.752 | Test accuracy : 0.730\n",
      "Epoch 16 | Train loss : 0.655 | Train accuracy : 0.754 | Test accuracy : 0.731\n",
      "Epoch 17 | Train loss : 0.650 | Train accuracy : 0.756 | Test accuracy : 0.733\n",
      "Epoch 18 | Train loss : 0.645 | Train accuracy : 0.758 | Test accuracy : 0.734\n",
      "Epoch 19 | Train loss : 0.639 | Train accuracy : 0.760 | Test accuracy : 0.736\n",
      "Epoch 20 | Train loss : 0.635 | Train accuracy : 0.762 | Test accuracy : 0.736\n",
      "Epoch 21 | Train loss : 0.630 | Train accuracy : 0.764 | Test accuracy : 0.737\n",
      "Epoch 22 | Train loss : 0.625 | Train accuracy : 0.765 | Test accuracy : 0.738\n",
      "Epoch 23 | Train loss : 0.621 | Train accuracy : 0.767 | Test accuracy : 0.738\n",
      "Epoch 24 | Train loss : 0.616 | Train accuracy : 0.769 | Test accuracy : 0.738\n",
      "Epoch 25 | Train loss : 0.612 | Train accuracy : 0.770 | Test accuracy : 0.738\n",
      "Epoch 26 | Train loss : 0.608 | Train accuracy : 0.772 | Test accuracy : 0.738\n",
      "Epoch 27 | Train loss : 0.604 | Train accuracy : 0.773 | Test accuracy : 0.738\n",
      "Epoch 28 | Train loss : 0.600 | Train accuracy : 0.774 | Test accuracy : 0.738\n",
      "Epoch 29 | Train loss : 0.596 | Train accuracy : 0.774 | Test accuracy : 0.735\n",
      "Epoch 30 | Train loss : 0.592 | Train accuracy : 0.775 | Test accuracy : 0.736\n",
      "Epoch 31 | Train loss : 0.588 | Train accuracy : 0.777 | Test accuracy : 0.737\n",
      "Epoch 32 | Train loss : 0.585 | Train accuracy : 0.778 | Test accuracy : 0.736\n",
      "Epoch 33 | Train loss : 0.581 | Train accuracy : 0.780 | Test accuracy : 0.735\n",
      "Epoch 34 | Train loss : 0.577 | Train accuracy : 0.781 | Test accuracy : 0.736\n",
      "Epoch 35 | Train loss : 0.573 | Train accuracy : 0.782 | Test accuracy : 0.735\n",
      "Epoch 36 | Train loss : 0.570 | Train accuracy : 0.784 | Test accuracy : 0.735\n",
      "Epoch 37 | Train loss : 0.565 | Train accuracy : 0.786 | Test accuracy : 0.735\n",
      "Epoch 38 | Train loss : 0.561 | Train accuracy : 0.787 | Test accuracy : 0.735\n",
      "Epoch 39 | Train loss : 0.557 | Train accuracy : 0.789 | Test accuracy : 0.734\n",
      "Epoch 40 | Train loss : 0.554 | Train accuracy : 0.790 | Test accuracy : 0.733\n",
      "Epoch 41 | Train loss : 0.550 | Train accuracy : 0.791 | Test accuracy : 0.733\n",
      "Epoch 42 | Train loss : 0.546 | Train accuracy : 0.793 | Test accuracy : 0.732\n",
      "Epoch 43 | Train loss : 0.542 | Train accuracy : 0.794 | Test accuracy : 0.732\n",
      "Epoch 44 | Train loss : 0.538 | Train accuracy : 0.796 | Test accuracy : 0.732\n",
      "Epoch 45 | Train loss : 0.534 | Train accuracy : 0.797 | Test accuracy : 0.732\n",
      "Epoch 46 | Train loss : 0.531 | Train accuracy : 0.798 | Test accuracy : 0.732\n",
      "Epoch 47 | Train loss : 0.527 | Train accuracy : 0.800 | Test accuracy : 0.733\n",
      "Epoch 48 | Train loss : 0.523 | Train accuracy : 0.802 | Test accuracy : 0.733\n",
      "Epoch 49 | Train loss : 0.520 | Train accuracy : 0.803 | Test accuracy : 0.733\n",
      "Epoch 50 | Train loss : 0.516 | Train accuracy : 0.804 | Test accuracy : 0.733\n",
      "Epoch 51 | Train loss : 0.513 | Train accuracy : 0.806 | Test accuracy : 0.734\n",
      "Epoch 52 | Train loss : 0.508 | Train accuracy : 0.806 | Test accuracy : 0.733\n",
      "Epoch 53 | Train loss : 0.505 | Train accuracy : 0.808 | Test accuracy : 0.733\n",
      "Epoch 54 | Train loss : 0.502 | Train accuracy : 0.809 | Test accuracy : 0.733\n",
      "Epoch 55 | Train loss : 0.499 | Train accuracy : 0.810 | Test accuracy : 0.734\n",
      "Epoch 56 | Train loss : 0.496 | Train accuracy : 0.811 | Test accuracy : 0.733\n",
      "Epoch 57 | Train loss : 0.494 | Train accuracy : 0.812 | Test accuracy : 0.733\n",
      "Epoch 58 | Train loss : 0.491 | Train accuracy : 0.813 | Test accuracy : 0.732\n",
      "Epoch 59 | Train loss : 0.488 | Train accuracy : 0.815 | Test accuracy : 0.732\n",
      "Epoch 60 | Train loss : 0.484 | Train accuracy : 0.817 | Test accuracy : 0.735\n",
      "Epoch 61 | Train loss : 0.483 | Train accuracy : 0.817 | Test accuracy : 0.735\n",
      "Epoch 62 | Train loss : 0.480 | Train accuracy : 0.818 | Test accuracy : 0.735\n",
      "Epoch 63 | Train loss : 0.477 | Train accuracy : 0.820 | Test accuracy : 0.735\n",
      "Epoch 64 | Train loss : 0.475 | Train accuracy : 0.820 | Test accuracy : 0.735\n",
      "Epoch 65 | Train loss : 0.471 | Train accuracy : 0.821 | Test accuracy : 0.735\n",
      "Epoch 66 | Train loss : 0.468 | Train accuracy : 0.822 | Test accuracy : 0.735\n",
      "Epoch 67 | Train loss : 0.466 | Train accuracy : 0.823 | Test accuracy : 0.734\n",
      "Epoch 68 | Train loss : 0.464 | Train accuracy : 0.824 | Test accuracy : 0.735\n",
      "Epoch 69 | Train loss : 0.461 | Train accuracy : 0.824 | Test accuracy : 0.735\n",
      "Epoch 70 | Train loss : 0.459 | Train accuracy : 0.825 | Test accuracy : 0.735\n",
      "Epoch 71 | Train loss : 0.456 | Train accuracy : 0.826 | Test accuracy : 0.735\n",
      "Epoch 72 | Train loss : 0.454 | Train accuracy : 0.827 | Test accuracy : 0.734\n",
      "Epoch 73 | Train loss : 0.452 | Train accuracy : 0.828 | Test accuracy : 0.734\n",
      "Epoch 74 | Train loss : 0.451 | Train accuracy : 0.828 | Test accuracy : 0.734\n",
      "Epoch 75 | Train loss : 0.449 | Train accuracy : 0.829 | Test accuracy : 0.733\n",
      "Epoch 76 | Train loss : 0.449 | Train accuracy : 0.828 | Test accuracy : 0.733\n",
      "Epoch 77 | Train loss : 0.448 | Train accuracy : 0.829 | Test accuracy : 0.732\n",
      "Epoch 78 | Train loss : 0.446 | Train accuracy : 0.829 | Test accuracy : 0.732\n",
      "Epoch 79 | Train loss : 0.445 | Train accuracy : 0.830 | Test accuracy : 0.731\n",
      "Epoch 80 | Train loss : 0.443 | Train accuracy : 0.830 | Test accuracy : 0.732\n",
      "Epoch 81 | Train loss : 0.442 | Train accuracy : 0.831 | Test accuracy : 0.731\n",
      "Epoch 82 | Train loss : 0.439 | Train accuracy : 0.832 | Test accuracy : 0.730\n",
      "Epoch 83 | Train loss : 0.440 | Train accuracy : 0.831 | Test accuracy : 0.730\n",
      "Epoch 84 | Train loss : 0.437 | Train accuracy : 0.833 | Test accuracy : 0.730\n",
      "Epoch 85 | Train loss : 0.437 | Train accuracy : 0.832 | Test accuracy : 0.729\n",
      "Epoch 86 | Train loss : 0.434 | Train accuracy : 0.834 | Test accuracy : 0.729\n",
      "Epoch 87 | Train loss : 0.435 | Train accuracy : 0.833 | Test accuracy : 0.728\n",
      "Epoch 88 | Train loss : 0.431 | Train accuracy : 0.835 | Test accuracy : 0.729\n",
      "Epoch 89 | Train loss : 0.431 | Train accuracy : 0.835 | Test accuracy : 0.728\n",
      "Epoch 90 | Train loss : 0.429 | Train accuracy : 0.836 | Test accuracy : 0.728\n",
      "Epoch 91 | Train loss : 0.429 | Train accuracy : 0.836 | Test accuracy : 0.728\n",
      "Epoch 92 | Train loss : 0.427 | Train accuracy : 0.837 | Test accuracy : 0.727\n",
      "Epoch 93 | Train loss : 0.427 | Train accuracy : 0.837 | Test accuracy : 0.726\n",
      "Epoch 94 | Train loss : 0.423 | Train accuracy : 0.838 | Test accuracy : 0.727\n",
      "Epoch 95 | Train loss : 0.424 | Train accuracy : 0.837 | Test accuracy : 0.727\n",
      "Epoch 96 | Train loss : 0.421 | Train accuracy : 0.838 | Test accuracy : 0.726\n",
      "Epoch 97 | Train loss : 0.421 | Train accuracy : 0.838 | Test accuracy : 0.726\n",
      "Epoch 98 | Train loss : 0.420 | Train accuracy : 0.839 | Test accuracy : 0.725\n",
      "Epoch 99 | Train loss : 0.419 | Train accuracy : 0.839 | Test accuracy : 0.726\n",
      "Epoch 100 | Train loss : 0.417 | Train accuracy : 0.840 | Test accuracy : 0.726\n",
      "Epoch 101 | Train loss : 0.417 | Train accuracy : 0.840 | Test accuracy : 0.725\n",
      "Epoch 102 | Train loss : 0.415 | Train accuracy : 0.841 | Test accuracy : 0.726\n",
      "Epoch 103 | Train loss : 0.414 | Train accuracy : 0.841 | Test accuracy : 0.725\n",
      "Epoch 104 | Train loss : 0.412 | Train accuracy : 0.842 | Test accuracy : 0.725\n",
      "Epoch 105 | Train loss : 0.411 | Train accuracy : 0.842 | Test accuracy : 0.725\n",
      "Epoch 106 | Train loss : 0.411 | Train accuracy : 0.842 | Test accuracy : 0.725\n",
      "Epoch 107 | Train loss : 0.411 | Train accuracy : 0.841 | Test accuracy : 0.726\n",
      "Epoch 108 | Train loss : 0.409 | Train accuracy : 0.843 | Test accuracy : 0.725\n",
      "Epoch 109 | Train loss : 0.408 | Train accuracy : 0.843 | Test accuracy : 0.724\n",
      "Epoch 110 | Train loss : 0.407 | Train accuracy : 0.843 | Test accuracy : 0.723\n",
      "Epoch 111 | Train loss : 0.407 | Train accuracy : 0.844 | Test accuracy : 0.723\n",
      "Epoch 112 | Train loss : 0.407 | Train accuracy : 0.844 | Test accuracy : 0.722\n",
      "Epoch 113 | Train loss : 0.407 | Train accuracy : 0.844 | Test accuracy : 0.722\n",
      "Epoch 114 | Train loss : 0.405 | Train accuracy : 0.845 | Test accuracy : 0.722\n",
      "Epoch 115 | Train loss : 0.404 | Train accuracy : 0.845 | Test accuracy : 0.723\n",
      "Epoch 116 | Train loss : 0.403 | Train accuracy : 0.846 | Test accuracy : 0.723\n",
      "Epoch 117 | Train loss : 0.402 | Train accuracy : 0.845 | Test accuracy : 0.722\n",
      "Epoch 118 | Train loss : 0.401 | Train accuracy : 0.846 | Test accuracy : 0.721\n",
      "Epoch 119 | Train loss : 0.401 | Train accuracy : 0.846 | Test accuracy : 0.721\n",
      "Epoch 120 | Train loss : 0.405 | Train accuracy : 0.845 | Test accuracy : 0.719\n",
      "Epoch 121 | Train loss : 0.401 | Train accuracy : 0.846 | Test accuracy : 0.720\n",
      "Epoch 122 | Train loss : 0.402 | Train accuracy : 0.846 | Test accuracy : 0.720\n",
      "Epoch 123 | Train loss : 0.401 | Train accuracy : 0.846 | Test accuracy : 0.720\n",
      "Epoch 124 | Train loss : 0.400 | Train accuracy : 0.847 | Test accuracy : 0.720\n",
      "Epoch 125 | Train loss : 0.399 | Train accuracy : 0.847 | Test accuracy : 0.721\n",
      "Epoch 126 | Train loss : 0.399 | Train accuracy : 0.847 | Test accuracy : 0.721\n",
      "Epoch 127 | Train loss : 0.398 | Train accuracy : 0.847 | Test accuracy : 0.720\n",
      "Epoch 128 | Train loss : 0.396 | Train accuracy : 0.849 | Test accuracy : 0.721\n",
      "Epoch 129 | Train loss : 0.394 | Train accuracy : 0.849 | Test accuracy : 0.722\n",
      "Epoch 130 | Train loss : 0.398 | Train accuracy : 0.848 | Test accuracy : 0.721\n",
      "Epoch 131 | Train loss : 0.395 | Train accuracy : 0.849 | Test accuracy : 0.721\n",
      "Epoch 132 | Train loss : 0.395 | Train accuracy : 0.849 | Test accuracy : 0.722\n",
      "Epoch 133 | Train loss : 0.394 | Train accuracy : 0.849 | Test accuracy : 0.721\n",
      "Epoch 134 | Train loss : 0.393 | Train accuracy : 0.850 | Test accuracy : 0.720\n",
      "Epoch 135 | Train loss : 0.394 | Train accuracy : 0.850 | Test accuracy : 0.721\n",
      "Epoch 136 | Train loss : 0.394 | Train accuracy : 0.850 | Test accuracy : 0.721\n",
      "Epoch 137 | Train loss : 0.395 | Train accuracy : 0.849 | Test accuracy : 0.720\n",
      "Epoch 138 | Train loss : 0.395 | Train accuracy : 0.849 | Test accuracy : 0.719\n",
      "Epoch 139 | Train loss : 0.394 | Train accuracy : 0.850 | Test accuracy : 0.721\n",
      "Epoch 140 | Train loss : 0.393 | Train accuracy : 0.850 | Test accuracy : 0.721\n",
      "Epoch 141 | Train loss : 0.394 | Train accuracy : 0.851 | Test accuracy : 0.721\n",
      "Epoch 142 | Train loss : 0.395 | Train accuracy : 0.850 | Test accuracy : 0.720\n",
      "Epoch 143 | Train loss : 0.396 | Train accuracy : 0.850 | Test accuracy : 0.718\n",
      "Epoch 144 | Train loss : 0.396 | Train accuracy : 0.850 | Test accuracy : 0.719\n",
      "Epoch 145 | Train loss : 0.394 | Train accuracy : 0.851 | Test accuracy : 0.719\n",
      "Epoch 146 | Train loss : 0.393 | Train accuracy : 0.851 | Test accuracy : 0.719\n",
      "Epoch 147 | Train loss : 0.394 | Train accuracy : 0.852 | Test accuracy : 0.719\n",
      "Epoch 148 | Train loss : 0.394 | Train accuracy : 0.851 | Test accuracy : 0.720\n",
      "Epoch 149 | Train loss : 0.391 | Train accuracy : 0.853 | Test accuracy : 0.719\n",
      "Epoch 150 | Train loss : 0.390 | Train accuracy : 0.853 | Test accuracy : 0.719\n",
      "Epoch 151 | Train loss : 0.390 | Train accuracy : 0.853 | Test accuracy : 0.719\n",
      "Epoch 152 | Train loss : 0.389 | Train accuracy : 0.854 | Test accuracy : 0.720\n",
      "Epoch 153 | Train loss : 0.392 | Train accuracy : 0.853 | Test accuracy : 0.719\n",
      "Epoch 154 | Train loss : 0.388 | Train accuracy : 0.854 | Test accuracy : 0.720\n",
      "Epoch 155 | Train loss : 0.389 | Train accuracy : 0.854 | Test accuracy : 0.720\n",
      "Epoch 156 | Train loss : 0.387 | Train accuracy : 0.855 | Test accuracy : 0.720\n",
      "Epoch 157 | Train loss : 0.390 | Train accuracy : 0.854 | Test accuracy : 0.720\n",
      "Epoch 158 | Train loss : 0.388 | Train accuracy : 0.855 | Test accuracy : 0.720\n",
      "Epoch 159 | Train loss : 0.383 | Train accuracy : 0.856 | Test accuracy : 0.722\n",
      "Epoch 160 | Train loss : 0.383 | Train accuracy : 0.856 | Test accuracy : 0.722\n",
      "Epoch 161 | Train loss : 0.387 | Train accuracy : 0.855 | Test accuracy : 0.721\n",
      "Epoch 162 | Train loss : 0.386 | Train accuracy : 0.856 | Test accuracy : 0.722\n",
      "Epoch 163 | Train loss : 0.382 | Train accuracy : 0.857 | Test accuracy : 0.721\n",
      "Epoch 164 | Train loss : 0.380 | Train accuracy : 0.858 | Test accuracy : 0.722\n",
      "Epoch 165 | Train loss : 0.379 | Train accuracy : 0.858 | Test accuracy : 0.721\n",
      "Epoch 166 | Train loss : 0.377 | Train accuracy : 0.859 | Test accuracy : 0.722\n",
      "Epoch 167 | Train loss : 0.377 | Train accuracy : 0.859 | Test accuracy : 0.722\n",
      "Epoch 168 | Train loss : 0.374 | Train accuracy : 0.859 | Test accuracy : 0.723\n",
      "Epoch 169 | Train loss : 0.376 | Train accuracy : 0.859 | Test accuracy : 0.723\n",
      "Epoch 170 | Train loss : 0.374 | Train accuracy : 0.860 | Test accuracy : 0.723\n",
      "Epoch 171 | Train loss : 0.374 | Train accuracy : 0.859 | Test accuracy : 0.723\n",
      "Epoch 172 | Train loss : 0.372 | Train accuracy : 0.860 | Test accuracy : 0.723\n",
      "Epoch 173 | Train loss : 0.372 | Train accuracy : 0.860 | Test accuracy : 0.723\n",
      "Epoch 174 | Train loss : 0.372 | Train accuracy : 0.860 | Test accuracy : 0.722\n",
      "Epoch 175 | Train loss : 0.375 | Train accuracy : 0.859 | Test accuracy : 0.722\n",
      "Epoch 176 | Train loss : 0.372 | Train accuracy : 0.860 | Test accuracy : 0.723\n",
      "Epoch 177 | Train loss : 0.374 | Train accuracy : 0.859 | Test accuracy : 0.722\n",
      "Epoch 178 | Train loss : 0.375 | Train accuracy : 0.859 | Test accuracy : 0.724\n",
      "Epoch 179 | Train loss : 0.377 | Train accuracy : 0.859 | Test accuracy : 0.725\n",
      "Epoch 180 | Train loss : 0.380 | Train accuracy : 0.858 | Test accuracy : 0.725\n",
      "Epoch 181 | Train loss : 0.382 | Train accuracy : 0.858 | Test accuracy : 0.724\n",
      "Epoch 182 | Train loss : 0.388 | Train accuracy : 0.856 | Test accuracy : 0.725\n",
      "Epoch 183 | Train loss : 0.388 | Train accuracy : 0.856 | Test accuracy : 0.724\n",
      "Epoch 184 | Train loss : 0.385 | Train accuracy : 0.856 | Test accuracy : 0.725\n",
      "Epoch 185 | Train loss : 0.383 | Train accuracy : 0.858 | Test accuracy : 0.724\n",
      "Epoch 186 | Train loss : 0.381 | Train accuracy : 0.858 | Test accuracy : 0.725\n",
      "Epoch 187 | Train loss : 0.384 | Train accuracy : 0.857 | Test accuracy : 0.724\n",
      "Epoch 188 | Train loss : 0.378 | Train accuracy : 0.859 | Test accuracy : 0.726\n",
      "Epoch 189 | Train loss : 0.379 | Train accuracy : 0.859 | Test accuracy : 0.725\n",
      "Epoch 190 | Train loss : 0.376 | Train accuracy : 0.860 | Test accuracy : 0.725\n",
      "Epoch 191 | Train loss : 0.380 | Train accuracy : 0.859 | Test accuracy : 0.723\n",
      "Epoch 192 | Train loss : 0.378 | Train accuracy : 0.859 | Test accuracy : 0.725\n",
      "Epoch 193 | Train loss : 0.378 | Train accuracy : 0.860 | Test accuracy : 0.723\n",
      "Epoch 194 | Train loss : 0.378 | Train accuracy : 0.859 | Test accuracy : 0.723\n",
      "Epoch 195 | Train loss : 0.378 | Train accuracy : 0.860 | Test accuracy : 0.724\n",
      "Epoch 196 | Train loss : 0.376 | Train accuracy : 0.861 | Test accuracy : 0.724\n",
      "Epoch 197 | Train loss : 0.382 | Train accuracy : 0.858 | Test accuracy : 0.723\n",
      "Epoch 198 | Train loss : 0.380 | Train accuracy : 0.859 | Test accuracy : 0.722\n",
      "Epoch 199 | Train loss : 0.380 | Train accuracy : 0.860 | Test accuracy : 0.722\n",
      "Epoch 200 | Train loss : 0.379 | Train accuracy : 0.859 | Test accuracy : 0.723\n",
      "Epoch 201 | Train loss : 0.377 | Train accuracy : 0.860 | Test accuracy : 0.722\n",
      "Epoch 202 | Train loss : 0.376 | Train accuracy : 0.861 | Test accuracy : 0.724\n",
      "Epoch 203 | Train loss : 0.375 | Train accuracy : 0.861 | Test accuracy : 0.725\n",
      "Epoch 204 | Train loss : 0.377 | Train accuracy : 0.860 | Test accuracy : 0.725\n",
      "Epoch 205 | Train loss : 0.374 | Train accuracy : 0.862 | Test accuracy : 0.723\n",
      "Epoch 206 | Train loss : 0.376 | Train accuracy : 0.861 | Test accuracy : 0.724\n",
      "Epoch 207 | Train loss : 0.381 | Train accuracy : 0.860 | Test accuracy : 0.723\n",
      "Epoch 208 | Train loss : 0.380 | Train accuracy : 0.860 | Test accuracy : 0.723\n",
      "Epoch 209 | Train loss : 0.373 | Train accuracy : 0.861 | Test accuracy : 0.723\n",
      "Epoch 210 | Train loss : 0.376 | Train accuracy : 0.861 | Test accuracy : 0.722\n",
      "Epoch 211 | Train loss : 0.374 | Train accuracy : 0.862 | Test accuracy : 0.724\n",
      "Epoch 212 | Train loss : 0.368 | Train accuracy : 0.864 | Test accuracy : 0.722\n",
      "Epoch 213 | Train loss : 0.371 | Train accuracy : 0.864 | Test accuracy : 0.723\n",
      "Epoch 214 | Train loss : 0.368 | Train accuracy : 0.864 | Test accuracy : 0.722\n",
      "Epoch 215 | Train loss : 0.366 | Train accuracy : 0.864 | Test accuracy : 0.723\n",
      "Epoch 216 | Train loss : 0.367 | Train accuracy : 0.865 | Test accuracy : 0.722\n",
      "Epoch 217 | Train loss : 0.362 | Train accuracy : 0.866 | Test accuracy : 0.722\n",
      "Epoch 218 | Train loss : 0.365 | Train accuracy : 0.866 | Test accuracy : 0.720\n",
      "Epoch 219 | Train loss : 0.362 | Train accuracy : 0.866 | Test accuracy : 0.721\n",
      "Epoch 220 | Train loss : 0.361 | Train accuracy : 0.866 | Test accuracy : 0.721\n",
      "Epoch 221 | Train loss : 0.359 | Train accuracy : 0.867 | Test accuracy : 0.720\n",
      "Epoch 222 | Train loss : 0.361 | Train accuracy : 0.866 | Test accuracy : 0.720\n",
      "Epoch 223 | Train loss : 0.369 | Train accuracy : 0.864 | Test accuracy : 0.719\n",
      "Epoch 224 | Train loss : 0.363 | Train accuracy : 0.866 | Test accuracy : 0.719\n",
      "Epoch 225 | Train loss : 0.362 | Train accuracy : 0.866 | Test accuracy : 0.719\n",
      "Epoch 226 | Train loss : 0.361 | Train accuracy : 0.866 | Test accuracy : 0.718\n",
      "Epoch 227 | Train loss : 0.366 | Train accuracy : 0.865 | Test accuracy : 0.718\n",
      "Epoch 228 | Train loss : 0.364 | Train accuracy : 0.866 | Test accuracy : 0.716\n",
      "Epoch 229 | Train loss : 0.370 | Train accuracy : 0.864 | Test accuracy : 0.716\n",
      "Epoch 230 | Train loss : 0.374 | Train accuracy : 0.863 | Test accuracy : 0.717\n",
      "Epoch 231 | Train loss : 0.371 | Train accuracy : 0.864 | Test accuracy : 0.717\n",
      "Epoch 232 | Train loss : 0.381 | Train accuracy : 0.861 | Test accuracy : 0.715\n",
      "Epoch 233 | Train loss : 0.385 | Train accuracy : 0.861 | Test accuracy : 0.716\n",
      "Epoch 234 | Train loss : 0.388 | Train accuracy : 0.859 | Test accuracy : 0.716\n",
      "Epoch 235 | Train loss : 0.404 | Train accuracy : 0.855 | Test accuracy : 0.713\n",
      "Epoch 236 | Train loss : 0.407 | Train accuracy : 0.855 | Test accuracy : 0.711\n",
      "Epoch 237 | Train loss : 0.411 | Train accuracy : 0.854 | Test accuracy : 0.712\n",
      "Epoch 238 | Train loss : 0.424 | Train accuracy : 0.851 | Test accuracy : 0.711\n",
      "Epoch 239 | Train loss : 0.422 | Train accuracy : 0.851 | Test accuracy : 0.711\n",
      "Epoch 240 | Train loss : 0.417 | Train accuracy : 0.853 | Test accuracy : 0.711\n",
      "Epoch 241 | Train loss : 0.432 | Train accuracy : 0.849 | Test accuracy : 0.710\n",
      "Epoch 242 | Train loss : 0.437 | Train accuracy : 0.848 | Test accuracy : 0.709\n",
      "Epoch 243 | Train loss : 0.434 | Train accuracy : 0.849 | Test accuracy : 0.709\n",
      "Epoch 244 | Train loss : 0.451 | Train accuracy : 0.845 | Test accuracy : 0.705\n",
      "Epoch 245 | Train loss : 0.458 | Train accuracy : 0.843 | Test accuracy : 0.704\n",
      "Epoch 246 | Train loss : 0.449 | Train accuracy : 0.844 | Test accuracy : 0.704\n",
      "Epoch 247 | Train loss : 0.450 | Train accuracy : 0.846 | Test accuracy : 0.706\n",
      "Epoch 248 | Train loss : 0.454 | Train accuracy : 0.844 | Test accuracy : 0.705\n",
      "Epoch 249 | Train loss : 0.454 | Train accuracy : 0.843 | Test accuracy : 0.704\n",
      "Epoch 250 | Train loss : 0.451 | Train accuracy : 0.845 | Test accuracy : 0.705\n",
      "Epoch 251 | Train loss : 0.446 | Train accuracy : 0.846 | Test accuracy : 0.707\n",
      "Epoch 252 | Train loss : 0.458 | Train accuracy : 0.843 | Test accuracy : 0.707\n",
      "Epoch 253 | Train loss : 0.458 | Train accuracy : 0.843 | Test accuracy : 0.706\n",
      "Epoch 254 | Train loss : 0.461 | Train accuracy : 0.843 | Test accuracy : 0.707\n",
      "Epoch 255 | Train loss : 0.446 | Train accuracy : 0.847 | Test accuracy : 0.708\n",
      "Epoch 256 | Train loss : 0.452 | Train accuracy : 0.845 | Test accuracy : 0.709\n",
      "Epoch 257 | Train loss : 0.457 | Train accuracy : 0.845 | Test accuracy : 0.708\n",
      "Epoch 258 | Train loss : 0.463 | Train accuracy : 0.845 | Test accuracy : 0.708\n",
      "Epoch 259 | Train loss : 0.448 | Train accuracy : 0.847 | Test accuracy : 0.708\n",
      "Epoch 260 | Train loss : 0.448 | Train accuracy : 0.848 | Test accuracy : 0.711\n",
      "Epoch 261 | Train loss : 0.445 | Train accuracy : 0.849 | Test accuracy : 0.710\n",
      "Epoch 262 | Train loss : 0.446 | Train accuracy : 0.848 | Test accuracy : 0.709\n",
      "Epoch 263 | Train loss : 0.454 | Train accuracy : 0.847 | Test accuracy : 0.708\n",
      "Epoch 264 | Train loss : 0.453 | Train accuracy : 0.847 | Test accuracy : 0.707\n",
      "Epoch 265 | Train loss : 0.468 | Train accuracy : 0.844 | Test accuracy : 0.704\n",
      "Epoch 266 | Train loss : 0.467 | Train accuracy : 0.845 | Test accuracy : 0.705\n",
      "Epoch 267 | Train loss : 0.451 | Train accuracy : 0.848 | Test accuracy : 0.702\n",
      "Epoch 268 | Train loss : 0.443 | Train accuracy : 0.850 | Test accuracy : 0.705\n",
      "Epoch 269 | Train loss : 0.430 | Train accuracy : 0.854 | Test accuracy : 0.707\n",
      "Epoch 270 | Train loss : 0.405 | Train accuracy : 0.859 | Test accuracy : 0.711\n",
      "Epoch 271 | Train loss : 0.394 | Train accuracy : 0.862 | Test accuracy : 0.711\n",
      "Epoch 272 | Train loss : 0.400 | Train accuracy : 0.859 | Test accuracy : 0.709\n",
      "Epoch 273 | Train loss : 0.387 | Train accuracy : 0.863 | Test accuracy : 0.712\n",
      "Epoch 274 | Train loss : 0.393 | Train accuracy : 0.862 | Test accuracy : 0.713\n",
      "Epoch 275 | Train loss : 0.391 | Train accuracy : 0.862 | Test accuracy : 0.712\n",
      "Epoch 276 | Train loss : 0.395 | Train accuracy : 0.861 | Test accuracy : 0.711\n",
      "Epoch 277 | Train loss : 0.397 | Train accuracy : 0.861 | Test accuracy : 0.712\n",
      "Epoch 278 | Train loss : 0.400 | Train accuracy : 0.860 | Test accuracy : 0.711\n",
      "Epoch 279 | Train loss : 0.403 | Train accuracy : 0.860 | Test accuracy : 0.712\n",
      "Epoch 280 | Train loss : 0.398 | Train accuracy : 0.860 | Test accuracy : 0.712\n",
      "Epoch 281 | Train loss : 0.406 | Train accuracy : 0.859 | Test accuracy : 0.710\n",
      "Epoch 282 | Train loss : 0.399 | Train accuracy : 0.861 | Test accuracy : 0.712\n",
      "Epoch 283 | Train loss : 0.402 | Train accuracy : 0.860 | Test accuracy : 0.713\n",
      "Epoch 284 | Train loss : 0.395 | Train accuracy : 0.862 | Test accuracy : 0.712\n",
      "Epoch 285 | Train loss : 0.395 | Train accuracy : 0.861 | Test accuracy : 0.714\n",
      "Epoch 286 | Train loss : 0.407 | Train accuracy : 0.859 | Test accuracy : 0.710\n",
      "Epoch 287 | Train loss : 0.409 | Train accuracy : 0.858 | Test accuracy : 0.710\n",
      "Epoch 288 | Train loss : 0.393 | Train accuracy : 0.862 | Test accuracy : 0.713\n",
      "Epoch 289 | Train loss : 0.402 | Train accuracy : 0.861 | Test accuracy : 0.712\n",
      "Epoch 290 | Train loss : 0.396 | Train accuracy : 0.862 | Test accuracy : 0.713\n",
      "Epoch 291 | Train loss : 0.402 | Train accuracy : 0.861 | Test accuracy : 0.712\n",
      "Epoch 292 | Train loss : 0.405 | Train accuracy : 0.860 | Test accuracy : 0.710\n",
      "Epoch 293 | Train loss : 0.419 | Train accuracy : 0.857 | Test accuracy : 0.707\n",
      "Epoch 294 | Train loss : 0.427 | Train accuracy : 0.855 | Test accuracy : 0.707\n"
     ]
    }
   ],
   "source": [
    "epochs = 400\n",
    "batch_size = 64\n",
    "\n",
    "model = Classifier()\n",
    "\n",
    "# Loss\n",
    "criterion = nn.CrossEntropyLoss()\n",
    "\n",
    "# Optimizer\n",
    "optimizer = optim.Adam(model.parameters(), 1e-4)\n",
    "\n",
    "# Training the model\n",
    "model.train(True)\n",
    "\n",
    "for e in range(epochs):\n",
    "    \n",
    "    for input, target in zip(train_input_.split(batch_size), train_target_.split(batch_size)):\n",
    "                             \n",
    "        output = model(input)\n",
    "        loss = criterion(output, target)\n",
    "        optimizer.zero_grad()\n",
    "        loss.backward()\n",
    "        optimizer.step()\n",
    "        \n",
    "    model.train(False)\n",
    "    tr_output = model(train_input_)\n",
    "    te_output = model(test_input_)\n",
    "    tr_loss = criterion(tr_output, train_target_)\n",
    "    tr_acc = accuracy(tr_output, train_target_)\n",
    "    te_acc = accuracy(te_output, test_target_)\n",
    "    model.train(True)\n",
    "    print(\"Epoch {}\".format(e) +\\\n",
    "          \" | Train loss : {:.3f}\".format(tr_loss) +\\\n",
    "          \" | Train accuracy : {:.3f}\".format(tr_acc) +\\\n",
    "          \" | Test accuracy : {:.3f}\".format(te_acc))"
   ]
  },
  {
   "cell_type": "code",
   "execution_count": null,
   "metadata": {},
   "outputs": [],
   "source": []
  },
  {
   "cell_type": "code",
   "execution_count": null,
   "metadata": {},
   "outputs": [],
   "source": []
  }
 ],
 "metadata": {
  "kernelspec": {
   "display_name": "Python 3",
   "language": "python",
   "name": "python3"
  },
  "language_info": {
   "codemirror_mode": {
    "name": "ipython",
    "version": 3
   },
   "file_extension": ".py",
   "mimetype": "text/x-python",
   "name": "python",
   "nbconvert_exporter": "python",
   "pygments_lexer": "ipython3",
   "version": "3.8.5"
  }
 },
 "nbformat": 4,
 "nbformat_minor": 4
}
