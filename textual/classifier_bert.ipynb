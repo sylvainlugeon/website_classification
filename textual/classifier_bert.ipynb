{
 "cells": [
  {
   "cell_type": "code",
   "execution_count": 1,
   "metadata": {},
   "outputs": [],
   "source": [
    "import numpy as np\n",
    "import pandas as pd\n",
    "\n",
    "import requests\n",
    "import csv\n",
    "import time\n",
    "from bs4 import BeautifulSoup\n",
    "\n",
    "import torch\n",
    "from transformers import BertTokenizer, BertModel\n",
    "\n",
    "from sklearn.metrics.pairwise import cosine_similarity\n",
    "\n",
    "from tqdm import tqdm\n",
    "\n",
    "import ast"
   ]
  },
  {
   "cell_type": "code",
   "execution_count": 3,
   "metadata": {},
   "outputs": [],
   "source": [
    "folder = '/dlabdata1/lugeon/'\n",
    "name = 'websites_alexa_10000_5cat_emb_bert'\n",
    "ext = '.gz'\n",
    "data = pd.read_csv(folder + name + ext, names = ['last_id', 'uid', 'emb', 'cat0'], header=0)"
   ]
  },
  {
   "cell_type": "code",
   "execution_count": 4,
   "metadata": {},
   "outputs": [],
   "source": [
    "data = data[data.emb.notnull()]"
   ]
  },
  {
   "cell_type": "code",
   "execution_count": 5,
   "metadata": {},
   "outputs": [],
   "source": [
    "data['emb'] = data.apply(lambda row: np.array(ast.literal_eval(row.emb)), axis=1)\n",
    "data['emb_red'] = data.emb.apply(lambda x: np.delete(x, 227))"
   ]
  },
  {
   "cell_type": "code",
   "execution_count": 6,
   "metadata": {},
   "outputs": [
    {
     "data": {
      "text/html": [
       "<div>\n",
       "<style scoped>\n",
       "    .dataframe tbody tr th:only-of-type {\n",
       "        vertical-align: middle;\n",
       "    }\n",
       "\n",
       "    .dataframe tbody tr th {\n",
       "        vertical-align: top;\n",
       "    }\n",
       "\n",
       "    .dataframe thead th {\n",
       "        text-align: right;\n",
       "    }\n",
       "</style>\n",
       "<table border=\"1\" class=\"dataframe\">\n",
       "  <thead>\n",
       "    <tr style=\"text-align: right;\">\n",
       "      <th></th>\n",
       "      <th>last_id</th>\n",
       "      <th>uid</th>\n",
       "      <th>emb</th>\n",
       "      <th>cat0</th>\n",
       "    </tr>\n",
       "  </thead>\n",
       "  <tbody>\n",
       "    <tr>\n",
       "      <th>0</th>\n",
       "      <td>0</td>\n",
       "      <td>36126</td>\n",
       "      <td>[-0.5465862154960632, -0.4531528055667877, 0.5...</td>\n",
       "      <td>Arts</td>\n",
       "    </tr>\n",
       "    <tr>\n",
       "      <th>1</th>\n",
       "      <td>1</td>\n",
       "      <td>25238</td>\n",
       "      <td>[-0.5333141684532166, -0.25329938530921936, 0....</td>\n",
       "      <td>Arts</td>\n",
       "    </tr>\n",
       "    <tr>\n",
       "      <th>2</th>\n",
       "      <td>2</td>\n",
       "      <td>20371</td>\n",
       "      <td>[-0.5620501637458801, -0.5124451518058777, 0.8...</td>\n",
       "      <td>Arts</td>\n",
       "    </tr>\n",
       "    <tr>\n",
       "      <th>3</th>\n",
       "      <td>3</td>\n",
       "      <td>11312</td>\n",
       "      <td>[-0.6283508539199829, -0.11153016984462738, 0....</td>\n",
       "      <td>Arts</td>\n",
       "    </tr>\n",
       "    <tr>\n",
       "      <th>4</th>\n",
       "      <td>4</td>\n",
       "      <td>16434</td>\n",
       "      <td>[-0.062120892107486725, -0.3814326822757721, 0...</td>\n",
       "      <td>Arts</td>\n",
       "    </tr>\n",
       "  </tbody>\n",
       "</table>\n",
       "</div>"
      ],
      "text/plain": [
       "   last_id    uid                                                emb  cat0\n",
       "0        0  36126  [-0.5465862154960632, -0.4531528055667877, 0.5...  Arts\n",
       "1        1  25238  [-0.5333141684532166, -0.25329938530921936, 0....  Arts\n",
       "2        2  20371  [-0.5620501637458801, -0.5124451518058777, 0.8...  Arts\n",
       "3        3  11312  [-0.6283508539199829, -0.11153016984462738, 0....  Arts\n",
       "4        4  16434  [-0.062120892107486725, -0.3814326822757721, 0...  Arts"
      ]
     },
     "execution_count": 6,
     "metadata": {},
     "output_type": "execute_result"
    }
   ],
   "source": [
    "data.head()"
   ]
  },
  {
   "cell_type": "code",
   "execution_count": 7,
   "metadata": {},
   "outputs": [
    {
     "data": {
      "text/plain": [
       "(38533, 4)"
      ]
     },
     "execution_count": 7,
     "metadata": {},
     "output_type": "execute_result"
    }
   ],
   "source": [
    "data.shape"
   ]
  },
  {
   "cell_type": "code",
   "execution_count": 8,
   "metadata": {},
   "outputs": [
    {
     "data": {
      "text/plain": [
       "Arts         7835\n",
       "Computers    7820\n",
       "Science      7642\n",
       "Health       7630\n",
       "Sports       7606\n",
       "Name: cat0, dtype: int64"
      ]
     },
     "execution_count": 8,
     "metadata": {},
     "output_type": "execute_result"
    }
   ],
   "source": [
    "data.cat0.value_counts()"
   ]
  },
  {
   "cell_type": "code",
   "execution_count": 9,
   "metadata": {},
   "outputs": [],
   "source": [
    "def categorize(s):\n",
    "    if s == 'Health':\n",
    "        return 0\n",
    "    if s == 'Science':\n",
    "        return 1\n",
    "    if s == 'Arts':\n",
    "        return 2\n",
    "    if s == 'Computers':\n",
    "        return 3\n",
    "    if s == 'Sports':\n",
    "        return 4"
   ]
  },
  {
   "cell_type": "code",
   "execution_count": 10,
   "metadata": {},
   "outputs": [],
   "source": [
    "data['cat_no'] = data.apply(lambda row: categorize(row.cat0), axis=1)"
   ]
  },
  {
   "cell_type": "code",
   "execution_count": 79,
   "metadata": {},
   "outputs": [],
   "source": [
    "embeddings = np.concatenate(data.emb.values)"
   ]
  },
  {
   "cell_type": "code",
   "execution_count": 101,
   "metadata": {},
   "outputs": [],
   "source": [
    "embedding_dim = 768\n",
    "input_ = torch.tensor(embeddings)\n",
    "input_ = torch.reshape(input_, (-1, embedding_dim)).float()"
   ]
  },
  {
   "cell_type": "code",
   "execution_count": 102,
   "metadata": {},
   "outputs": [
    {
     "name": "stdout",
     "output_type": "stream",
     "text": [
      "tensor(5.4048e-05)\n"
     ]
    }
   ],
   "source": [
    "# normalize only features 227\n",
    "\n",
    "out_dim = 227\n",
    "out_values = input_[:,out_dim]\n",
    "out_mean = torch.mean(out_values)\n",
    "out_std = torch.std(out_values)\n",
    "\n",
    "input_[:,out_dim] = (out_values - out_mean) / out_std\n",
    "\n",
    "input_norm = input_\n",
    "\n",
    "print(torch.mean(input_norm[:,out_dim]))"
   ]
  },
  {
   "cell_type": "code",
   "execution_count": 81,
   "metadata": {},
   "outputs": [],
   "source": [
    "# normalize all features\n",
    "\n",
    "from sklearn.preprocessing import normalize\n",
    "\n",
    "input_norm = torch.FloatTensor(normalize(input, axis=0)) # normalizing w.r.t to features"
   ]
  },
  {
   "cell_type": "code",
   "execution_count": 103,
   "metadata": {},
   "outputs": [
    {
     "data": {
      "text/plain": [
       "torch.Size([38533, 768])"
      ]
     },
     "execution_count": 103,
     "metadata": {},
     "output_type": "execute_result"
    }
   ],
   "source": [
    "input_norm.shape"
   ]
  },
  {
   "cell_type": "code",
   "execution_count": 104,
   "metadata": {},
   "outputs": [],
   "source": [
    "cat_no = data.cat_no.values\n",
    "target = torch.tensor(cat_no).long()"
   ]
  },
  {
   "cell_type": "code",
   "execution_count": 105,
   "metadata": {},
   "outputs": [
    {
     "data": {
      "text/plain": [
       "torch.Size([38533])"
      ]
     },
     "execution_count": 105,
     "metadata": {},
     "output_type": "execute_result"
    }
   ],
   "source": [
    "target.shape"
   ]
  },
  {
   "cell_type": "code",
   "execution_count": 106,
   "metadata": {},
   "outputs": [],
   "source": [
    "id = np.arange(emb_norm.shape[0])\n",
    "np.random.shuffle(id)\n",
    "\n",
    "tr_id = id[:32_000]\n",
    "te_id = id[32_000:]\n",
    "\n",
    "train_input_ = input_norm[tr_id]\n",
    "test_input_ = input_norm[te_id]\n",
    "\n",
    "train_target_ = target[tr_id]\n",
    "test_target_ = target[te_id]"
   ]
  },
  {
   "cell_type": "code",
   "execution_count": 107,
   "metadata": {},
   "outputs": [
    {
     "data": {
      "text/plain": [
       "Computers    6500\n",
       "Arts         6493\n",
       "Sports       6359\n",
       "Health       6344\n",
       "Science      6304\n",
       "Name: cat0, dtype: int64"
      ]
     },
     "execution_count": 107,
     "metadata": {},
     "output_type": "execute_result"
    }
   ],
   "source": [
    "data.iloc[tr_id].cat0.value_counts()"
   ]
  },
  {
   "cell_type": "code",
   "execution_count": 108,
   "metadata": {},
   "outputs": [],
   "source": [
    "import torch\n",
    "from torch import nn\n",
    "from torch.nn import functional as F\n",
    "from torch import optim\n",
    "import time\n"
   ]
  },
  {
   "cell_type": "code",
   "execution_count": 118,
   "metadata": {},
   "outputs": [],
   "source": [
    "class Classifier(nn.Module):\n",
    "    def __init__(self):\n",
    "        super(Classifier, self).__init__()\n",
    "        self.fc1 = nn.Linear(768, 400)\n",
    "        self.fc2 = nn.Linear(400, 50)\n",
    "        self.fc3 = nn.Linear(50, 5)\n",
    "        self.drop = nn.Dropout(0.7)\n",
    "\n",
    "    def forward(self, x):\n",
    "        x = self.fc1(x)\n",
    "        x = self.drop(x)\n",
    "        x = self.fc2(F.relu(x))\n",
    "        x = self.drop(x)\n",
    "        x = self.fc3(F.relu(x))\n",
    "        return x"
   ]
  },
  {
   "cell_type": "code",
   "execution_count": 119,
   "metadata": {},
   "outputs": [],
   "source": [
    "def accuracy(output, target):\n",
    "    nb_samples = output.shape[0]\n",
    "    \n",
    "    # Convert probability to decision\n",
    "    output_class = torch.argmax(output, 1)\n",
    "    \n",
    "    nb_correct = (output_class == target).sum().item()\n",
    "    return nb_correct / nb_samples\n"
   ]
  },
  {
   "cell_type": "code",
   "execution_count": 120,
   "metadata": {},
   "outputs": [
    {
     "name": "stdout",
     "output_type": "stream",
     "text": [
      "Epoch 0 | Train loss : 1.267 | Train accuracy : 0.596 | Test accuracy : 0.587\n",
      "Epoch 1 | Train loss : 0.999 | Train accuracy : 0.688 | Test accuracy : 0.681\n",
      "Epoch 2 | Train loss : 0.868 | Train accuracy : 0.719 | Test accuracy : 0.713\n",
      "Epoch 3 | Train loss : 0.795 | Train accuracy : 0.741 | Test accuracy : 0.733\n",
      "Epoch 4 | Train loss : 0.752 | Train accuracy : 0.753 | Test accuracy : 0.744\n",
      "Epoch 5 | Train loss : 0.727 | Train accuracy : 0.758 | Test accuracy : 0.747\n",
      "Epoch 6 | Train loss : 0.710 | Train accuracy : 0.762 | Test accuracy : 0.750\n",
      "Epoch 7 | Train loss : 0.688 | Train accuracy : 0.768 | Test accuracy : 0.759\n",
      "Epoch 8 | Train loss : 0.677 | Train accuracy : 0.771 | Test accuracy : 0.758\n",
      "Epoch 9 | Train loss : 0.664 | Train accuracy : 0.772 | Test accuracy : 0.760\n",
      "Epoch 10 | Train loss : 0.663 | Train accuracy : 0.773 | Test accuracy : 0.764\n",
      "Epoch 11 | Train loss : 0.650 | Train accuracy : 0.777 | Test accuracy : 0.764\n",
      "Epoch 12 | Train loss : 0.647 | Train accuracy : 0.777 | Test accuracy : 0.767\n",
      "Epoch 13 | Train loss : 0.638 | Train accuracy : 0.780 | Test accuracy : 0.767\n",
      "Epoch 14 | Train loss : 0.636 | Train accuracy : 0.780 | Test accuracy : 0.767\n",
      "Epoch 15 | Train loss : 0.635 | Train accuracy : 0.778 | Test accuracy : 0.767\n",
      "Epoch 16 | Train loss : 0.621 | Train accuracy : 0.782 | Test accuracy : 0.769\n",
      "Epoch 17 | Train loss : 0.616 | Train accuracy : 0.785 | Test accuracy : 0.773\n",
      "Epoch 18 | Train loss : 0.615 | Train accuracy : 0.784 | Test accuracy : 0.772\n",
      "Epoch 19 | Train loss : 0.606 | Train accuracy : 0.786 | Test accuracy : 0.773\n",
      "Epoch 20 | Train loss : 0.607 | Train accuracy : 0.789 | Test accuracy : 0.777\n",
      "Epoch 21 | Train loss : 0.605 | Train accuracy : 0.787 | Test accuracy : 0.773\n",
      "Epoch 22 | Train loss : 0.596 | Train accuracy : 0.790 | Test accuracy : 0.775\n",
      "Epoch 23 | Train loss : 0.599 | Train accuracy : 0.791 | Test accuracy : 0.775\n",
      "Epoch 24 | Train loss : 0.595 | Train accuracy : 0.789 | Test accuracy : 0.775\n",
      "Epoch 25 | Train loss : 0.598 | Train accuracy : 0.789 | Test accuracy : 0.777\n",
      "Epoch 26 | Train loss : 0.588 | Train accuracy : 0.794 | Test accuracy : 0.779\n",
      "Epoch 27 | Train loss : 0.592 | Train accuracy : 0.790 | Test accuracy : 0.777\n",
      "Epoch 28 | Train loss : 0.585 | Train accuracy : 0.793 | Test accuracy : 0.776\n",
      "Epoch 29 | Train loss : 0.582 | Train accuracy : 0.791 | Test accuracy : 0.779\n",
      "Epoch 30 | Train loss : 0.584 | Train accuracy : 0.792 | Test accuracy : 0.779\n",
      "Epoch 31 | Train loss : 0.582 | Train accuracy : 0.792 | Test accuracy : 0.778\n",
      "Epoch 32 | Train loss : 0.579 | Train accuracy : 0.792 | Test accuracy : 0.776\n",
      "Epoch 33 | Train loss : 0.573 | Train accuracy : 0.798 | Test accuracy : 0.781\n",
      "Epoch 34 | Train loss : 0.576 | Train accuracy : 0.794 | Test accuracy : 0.779\n",
      "Epoch 35 | Train loss : 0.567 | Train accuracy : 0.799 | Test accuracy : 0.782\n",
      "Epoch 36 | Train loss : 0.569 | Train accuracy : 0.798 | Test accuracy : 0.780\n",
      "Epoch 37 | Train loss : 0.560 | Train accuracy : 0.801 | Test accuracy : 0.784\n",
      "Epoch 38 | Train loss : 0.559 | Train accuracy : 0.800 | Test accuracy : 0.784\n",
      "Epoch 39 | Train loss : 0.561 | Train accuracy : 0.798 | Test accuracy : 0.781\n",
      "Epoch 40 | Train loss : 0.563 | Train accuracy : 0.798 | Test accuracy : 0.782\n",
      "Epoch 41 | Train loss : 0.559 | Train accuracy : 0.798 | Test accuracy : 0.780\n",
      "Epoch 42 | Train loss : 0.555 | Train accuracy : 0.801 | Test accuracy : 0.784\n",
      "Epoch 43 | Train loss : 0.558 | Train accuracy : 0.800 | Test accuracy : 0.783\n",
      "Epoch 44 | Train loss : 0.553 | Train accuracy : 0.802 | Test accuracy : 0.784\n",
      "Epoch 45 | Train loss : 0.557 | Train accuracy : 0.799 | Test accuracy : 0.784\n",
      "Epoch 46 | Train loss : 0.549 | Train accuracy : 0.802 | Test accuracy : 0.787\n",
      "Epoch 47 | Train loss : 0.545 | Train accuracy : 0.803 | Test accuracy : 0.784\n",
      "Epoch 48 | Train loss : 0.554 | Train accuracy : 0.798 | Test accuracy : 0.782\n",
      "Epoch 49 | Train loss : 0.550 | Train accuracy : 0.799 | Test accuracy : 0.783\n",
      "Epoch 50 | Train loss : 0.544 | Train accuracy : 0.802 | Test accuracy : 0.785\n",
      "Epoch 51 | Train loss : 0.540 | Train accuracy : 0.805 | Test accuracy : 0.789\n",
      "Epoch 52 | Train loss : 0.542 | Train accuracy : 0.803 | Test accuracy : 0.786\n",
      "Epoch 53 | Train loss : 0.552 | Train accuracy : 0.800 | Test accuracy : 0.784\n",
      "Epoch 54 | Train loss : 0.540 | Train accuracy : 0.805 | Test accuracy : 0.788\n",
      "Epoch 55 | Train loss : 0.539 | Train accuracy : 0.807 | Test accuracy : 0.786\n",
      "Epoch 56 | Train loss : 0.536 | Train accuracy : 0.805 | Test accuracy : 0.784\n",
      "Epoch 57 | Train loss : 0.539 | Train accuracy : 0.804 | Test accuracy : 0.787\n",
      "Epoch 58 | Train loss : 0.536 | Train accuracy : 0.805 | Test accuracy : 0.789\n",
      "Epoch 59 | Train loss : 0.539 | Train accuracy : 0.805 | Test accuracy : 0.785\n",
      "Epoch 60 | Train loss : 0.533 | Train accuracy : 0.807 | Test accuracy : 0.790\n",
      "Epoch 61 | Train loss : 0.534 | Train accuracy : 0.806 | Test accuracy : 0.787\n",
      "Epoch 62 | Train loss : 0.529 | Train accuracy : 0.807 | Test accuracy : 0.788\n",
      "Epoch 63 | Train loss : 0.532 | Train accuracy : 0.805 | Test accuracy : 0.785\n",
      "Epoch 64 | Train loss : 0.539 | Train accuracy : 0.803 | Test accuracy : 0.787\n",
      "Epoch 65 | Train loss : 0.530 | Train accuracy : 0.807 | Test accuracy : 0.788\n",
      "Epoch 66 | Train loss : 0.529 | Train accuracy : 0.807 | Test accuracy : 0.788\n",
      "Epoch 67 | Train loss : 0.525 | Train accuracy : 0.808 | Test accuracy : 0.789\n",
      "Epoch 68 | Train loss : 0.527 | Train accuracy : 0.809 | Test accuracy : 0.788\n",
      "Epoch 69 | Train loss : 0.522 | Train accuracy : 0.809 | Test accuracy : 0.789\n",
      "Epoch 70 | Train loss : 0.520 | Train accuracy : 0.810 | Test accuracy : 0.789\n",
      "Epoch 71 | Train loss : 0.518 | Train accuracy : 0.809 | Test accuracy : 0.788\n",
      "Epoch 72 | Train loss : 0.515 | Train accuracy : 0.812 | Test accuracy : 0.789\n",
      "Epoch 73 | Train loss : 0.523 | Train accuracy : 0.809 | Test accuracy : 0.789\n",
      "Epoch 74 | Train loss : 0.515 | Train accuracy : 0.810 | Test accuracy : 0.788\n",
      "Epoch 75 | Train loss : 0.519 | Train accuracy : 0.810 | Test accuracy : 0.788\n",
      "Epoch 76 | Train loss : 0.513 | Train accuracy : 0.811 | Test accuracy : 0.788\n",
      "Epoch 77 | Train loss : 0.525 | Train accuracy : 0.807 | Test accuracy : 0.785\n",
      "Epoch 78 | Train loss : 0.514 | Train accuracy : 0.811 | Test accuracy : 0.790\n",
      "Epoch 79 | Train loss : 0.512 | Train accuracy : 0.811 | Test accuracy : 0.790\n",
      "Epoch 80 | Train loss : 0.520 | Train accuracy : 0.808 | Test accuracy : 0.786\n",
      "Epoch 81 | Train loss : 0.510 | Train accuracy : 0.812 | Test accuracy : 0.791\n",
      "Epoch 82 | Train loss : 0.515 | Train accuracy : 0.810 | Test accuracy : 0.790\n",
      "Epoch 83 | Train loss : 0.516 | Train accuracy : 0.810 | Test accuracy : 0.789\n",
      "Epoch 84 | Train loss : 0.511 | Train accuracy : 0.814 | Test accuracy : 0.790\n",
      "Epoch 85 | Train loss : 0.511 | Train accuracy : 0.812 | Test accuracy : 0.789\n",
      "Epoch 86 | Train loss : 0.512 | Train accuracy : 0.810 | Test accuracy : 0.786\n",
      "Epoch 87 | Train loss : 0.508 | Train accuracy : 0.813 | Test accuracy : 0.793\n",
      "Epoch 88 | Train loss : 0.511 | Train accuracy : 0.811 | Test accuracy : 0.789\n",
      "Epoch 89 | Train loss : 0.510 | Train accuracy : 0.811 | Test accuracy : 0.788\n",
      "Epoch 90 | Train loss : 0.509 | Train accuracy : 0.811 | Test accuracy : 0.788\n",
      "Epoch 91 | Train loss : 0.501 | Train accuracy : 0.814 | Test accuracy : 0.789\n",
      "Epoch 92 | Train loss : 0.499 | Train accuracy : 0.816 | Test accuracy : 0.794\n",
      "Epoch 93 | Train loss : 0.509 | Train accuracy : 0.811 | Test accuracy : 0.788\n",
      "Epoch 94 | Train loss : 0.502 | Train accuracy : 0.815 | Test accuracy : 0.791\n",
      "Epoch 95 | Train loss : 0.507 | Train accuracy : 0.813 | Test accuracy : 0.789\n",
      "Epoch 96 | Train loss : 0.502 | Train accuracy : 0.813 | Test accuracy : 0.791\n",
      "Epoch 97 | Train loss : 0.504 | Train accuracy : 0.813 | Test accuracy : 0.791\n",
      "Epoch 98 | Train loss : 0.501 | Train accuracy : 0.813 | Test accuracy : 0.788\n",
      "Epoch 99 | Train loss : 0.502 | Train accuracy : 0.812 | Test accuracy : 0.788\n",
      "Epoch 100 | Train loss : 0.496 | Train accuracy : 0.817 | Test accuracy : 0.794\n",
      "Epoch 101 | Train loss : 0.496 | Train accuracy : 0.815 | Test accuracy : 0.792\n",
      "Epoch 102 | Train loss : 0.504 | Train accuracy : 0.811 | Test accuracy : 0.788\n",
      "Epoch 103 | Train loss : 0.491 | Train accuracy : 0.817 | Test accuracy : 0.793\n",
      "Epoch 104 | Train loss : 0.491 | Train accuracy : 0.818 | Test accuracy : 0.792\n",
      "Epoch 105 | Train loss : 0.495 | Train accuracy : 0.816 | Test accuracy : 0.793\n",
      "Epoch 106 | Train loss : 0.494 | Train accuracy : 0.816 | Test accuracy : 0.790\n",
      "Epoch 107 | Train loss : 0.493 | Train accuracy : 0.816 | Test accuracy : 0.792\n",
      "Epoch 108 | Train loss : 0.500 | Train accuracy : 0.815 | Test accuracy : 0.791\n",
      "Epoch 109 | Train loss : 0.487 | Train accuracy : 0.819 | Test accuracy : 0.794\n",
      "Epoch 110 | Train loss : 0.489 | Train accuracy : 0.819 | Test accuracy : 0.794\n",
      "Epoch 111 | Train loss : 0.484 | Train accuracy : 0.818 | Test accuracy : 0.794\n",
      "Epoch 112 | Train loss : 0.490 | Train accuracy : 0.817 | Test accuracy : 0.792\n",
      "Epoch 113 | Train loss : 0.488 | Train accuracy : 0.818 | Test accuracy : 0.792\n",
      "Epoch 114 | Train loss : 0.491 | Train accuracy : 0.818 | Test accuracy : 0.792\n",
      "Epoch 115 | Train loss : 0.486 | Train accuracy : 0.820 | Test accuracy : 0.794\n",
      "Epoch 116 | Train loss : 0.491 | Train accuracy : 0.817 | Test accuracy : 0.792\n",
      "Epoch 117 | Train loss : 0.481 | Train accuracy : 0.821 | Test accuracy : 0.795\n",
      "Epoch 118 | Train loss : 0.493 | Train accuracy : 0.817 | Test accuracy : 0.791\n",
      "Epoch 119 | Train loss : 0.488 | Train accuracy : 0.818 | Test accuracy : 0.794\n",
      "Epoch 120 | Train loss : 0.483 | Train accuracy : 0.819 | Test accuracy : 0.793\n",
      "Epoch 121 | Train loss : 0.478 | Train accuracy : 0.822 | Test accuracy : 0.796\n",
      "Epoch 122 | Train loss : 0.481 | Train accuracy : 0.822 | Test accuracy : 0.790\n",
      "Epoch 123 | Train loss : 0.478 | Train accuracy : 0.821 | Test accuracy : 0.794\n",
      "Epoch 124 | Train loss : 0.484 | Train accuracy : 0.818 | Test accuracy : 0.794\n",
      "Epoch 125 | Train loss : 0.477 | Train accuracy : 0.822 | Test accuracy : 0.795\n",
      "Epoch 126 | Train loss : 0.479 | Train accuracy : 0.821 | Test accuracy : 0.794\n",
      "Epoch 127 | Train loss : 0.477 | Train accuracy : 0.823 | Test accuracy : 0.795\n",
      "Epoch 128 | Train loss : 0.476 | Train accuracy : 0.821 | Test accuracy : 0.795\n",
      "Epoch 129 | Train loss : 0.473 | Train accuracy : 0.824 | Test accuracy : 0.795\n",
      "Epoch 130 | Train loss : 0.481 | Train accuracy : 0.819 | Test accuracy : 0.791\n",
      "Epoch 131 | Train loss : 0.473 | Train accuracy : 0.825 | Test accuracy : 0.797\n",
      "Epoch 132 | Train loss : 0.472 | Train accuracy : 0.824 | Test accuracy : 0.795\n",
      "Epoch 133 | Train loss : 0.479 | Train accuracy : 0.820 | Test accuracy : 0.794\n",
      "Epoch 134 | Train loss : 0.472 | Train accuracy : 0.824 | Test accuracy : 0.794\n",
      "Epoch 135 | Train loss : 0.471 | Train accuracy : 0.822 | Test accuracy : 0.794\n",
      "Epoch 136 | Train loss : 0.467 | Train accuracy : 0.826 | Test accuracy : 0.797\n",
      "Epoch 137 | Train loss : 0.476 | Train accuracy : 0.821 | Test accuracy : 0.792\n",
      "Epoch 138 | Train loss : 0.465 | Train accuracy : 0.826 | Test accuracy : 0.796\n",
      "Epoch 139 | Train loss : 0.465 | Train accuracy : 0.826 | Test accuracy : 0.797\n",
      "Epoch 140 | Train loss : 0.466 | Train accuracy : 0.825 | Test accuracy : 0.797\n",
      "Epoch 141 | Train loss : 0.464 | Train accuracy : 0.825 | Test accuracy : 0.800\n",
      "Epoch 142 | Train loss : 0.465 | Train accuracy : 0.824 | Test accuracy : 0.797\n",
      "Epoch 143 | Train loss : 0.466 | Train accuracy : 0.825 | Test accuracy : 0.796\n",
      "Epoch 144 | Train loss : 0.457 | Train accuracy : 0.828 | Test accuracy : 0.800\n",
      "Epoch 145 | Train loss : 0.466 | Train accuracy : 0.825 | Test accuracy : 0.797\n",
      "Epoch 146 | Train loss : 0.462 | Train accuracy : 0.826 | Test accuracy : 0.798\n",
      "Epoch 147 | Train loss : 0.464 | Train accuracy : 0.825 | Test accuracy : 0.797\n",
      "Epoch 148 | Train loss : 0.464 | Train accuracy : 0.824 | Test accuracy : 0.797\n",
      "Epoch 149 | Train loss : 0.460 | Train accuracy : 0.826 | Test accuracy : 0.797\n",
      "Epoch 150 | Train loss : 0.454 | Train accuracy : 0.829 | Test accuracy : 0.802\n",
      "Epoch 151 | Train loss : 0.463 | Train accuracy : 0.825 | Test accuracy : 0.797\n",
      "Epoch 152 | Train loss : 0.457 | Train accuracy : 0.828 | Test accuracy : 0.799\n",
      "Epoch 153 | Train loss : 0.458 | Train accuracy : 0.827 | Test accuracy : 0.799\n",
      "Epoch 154 | Train loss : 0.458 | Train accuracy : 0.827 | Test accuracy : 0.797\n",
      "Epoch 155 | Train loss : 0.464 | Train accuracy : 0.825 | Test accuracy : 0.796\n",
      "Epoch 156 | Train loss : 0.457 | Train accuracy : 0.827 | Test accuracy : 0.798\n",
      "Epoch 157 | Train loss : 0.457 | Train accuracy : 0.826 | Test accuracy : 0.795\n",
      "Epoch 158 | Train loss : 0.450 | Train accuracy : 0.830 | Test accuracy : 0.799\n",
      "Epoch 159 | Train loss : 0.454 | Train accuracy : 0.828 | Test accuracy : 0.797\n",
      "Epoch 160 | Train loss : 0.456 | Train accuracy : 0.829 | Test accuracy : 0.799\n",
      "Epoch 161 | Train loss : 0.459 | Train accuracy : 0.827 | Test accuracy : 0.797\n",
      "Epoch 162 | Train loss : 0.462 | Train accuracy : 0.824 | Test accuracy : 0.797\n",
      "Epoch 163 | Train loss : 0.472 | Train accuracy : 0.823 | Test accuracy : 0.796\n",
      "Epoch 164 | Train loss : 0.451 | Train accuracy : 0.830 | Test accuracy : 0.799\n",
      "Epoch 165 | Train loss : 0.452 | Train accuracy : 0.833 | Test accuracy : 0.798\n",
      "Epoch 166 | Train loss : 0.447 | Train accuracy : 0.831 | Test accuracy : 0.799\n",
      "Epoch 167 | Train loss : 0.449 | Train accuracy : 0.830 | Test accuracy : 0.797\n",
      "Epoch 168 | Train loss : 0.451 | Train accuracy : 0.829 | Test accuracy : 0.797\n",
      "Epoch 169 | Train loss : 0.453 | Train accuracy : 0.829 | Test accuracy : 0.798\n",
      "Epoch 170 | Train loss : 0.457 | Train accuracy : 0.825 | Test accuracy : 0.794\n",
      "Epoch 171 | Train loss : 0.443 | Train accuracy : 0.831 | Test accuracy : 0.799\n",
      "Epoch 172 | Train loss : 0.453 | Train accuracy : 0.827 | Test accuracy : 0.799\n",
      "Epoch 173 | Train loss : 0.447 | Train accuracy : 0.829 | Test accuracy : 0.799\n",
      "Epoch 174 | Train loss : 0.445 | Train accuracy : 0.832 | Test accuracy : 0.796\n",
      "Epoch 175 | Train loss : 0.451 | Train accuracy : 0.828 | Test accuracy : 0.795\n",
      "Epoch 176 | Train loss : 0.439 | Train accuracy : 0.833 | Test accuracy : 0.800\n",
      "Epoch 177 | Train loss : 0.442 | Train accuracy : 0.832 | Test accuracy : 0.799\n",
      "Epoch 178 | Train loss : 0.453 | Train accuracy : 0.827 | Test accuracy : 0.791\n",
      "Epoch 179 | Train loss : 0.445 | Train accuracy : 0.829 | Test accuracy : 0.799\n",
      "Epoch 180 | Train loss : 0.443 | Train accuracy : 0.832 | Test accuracy : 0.797\n",
      "Epoch 181 | Train loss : 0.442 | Train accuracy : 0.833 | Test accuracy : 0.800\n",
      "Epoch 182 | Train loss : 0.445 | Train accuracy : 0.829 | Test accuracy : 0.797\n",
      "Epoch 183 | Train loss : 0.441 | Train accuracy : 0.832 | Test accuracy : 0.802\n",
      "Epoch 184 | Train loss : 0.438 | Train accuracy : 0.834 | Test accuracy : 0.801\n",
      "Epoch 185 | Train loss : 0.441 | Train accuracy : 0.831 | Test accuracy : 0.801\n",
      "Epoch 186 | Train loss : 0.446 | Train accuracy : 0.830 | Test accuracy : 0.797\n",
      "Epoch 187 | Train loss : 0.438 | Train accuracy : 0.832 | Test accuracy : 0.802\n",
      "Epoch 188 | Train loss : 0.445 | Train accuracy : 0.831 | Test accuracy : 0.801\n",
      "Epoch 189 | Train loss : 0.441 | Train accuracy : 0.832 | Test accuracy : 0.797\n",
      "Epoch 190 | Train loss : 0.434 | Train accuracy : 0.835 | Test accuracy : 0.801\n",
      "Epoch 191 | Train loss : 0.438 | Train accuracy : 0.832 | Test accuracy : 0.801\n",
      "Epoch 192 | Train loss : 0.439 | Train accuracy : 0.834 | Test accuracy : 0.801\n",
      "Epoch 193 | Train loss : 0.432 | Train accuracy : 0.835 | Test accuracy : 0.802\n",
      "Epoch 194 | Train loss : 0.433 | Train accuracy : 0.834 | Test accuracy : 0.803\n",
      "Epoch 195 | Train loss : 0.434 | Train accuracy : 0.834 | Test accuracy : 0.801\n",
      "Epoch 196 | Train loss : 0.435 | Train accuracy : 0.836 | Test accuracy : 0.799\n",
      "Epoch 197 | Train loss : 0.433 | Train accuracy : 0.833 | Test accuracy : 0.800\n",
      "Epoch 198 | Train loss : 0.442 | Train accuracy : 0.830 | Test accuracy : 0.794\n",
      "Epoch 199 | Train loss : 0.428 | Train accuracy : 0.838 | Test accuracy : 0.797\n"
     ]
    }
   ],
   "source": [
    "epochs = 200\n",
    "batch_size = 64\n",
    "\n",
    "model = Classifier()\n",
    "\n",
    "# Loss\n",
    "criterion = nn.CrossEntropyLoss()\n",
    "\n",
    "# Optimizer\n",
    "optimizer = optim.Adam(model.parameters(), 1e-4)\n",
    "scheduler = optim.lr_scheduler.StepLR(optimizer, step_size= int(epochs/2), gamma = 0.1) # reduce learning rate after half epochs\n",
    "\n",
    "# Training the model\n",
    "model.train(True)\n",
    "\n",
    "for e in range(epochs):\n",
    "    \n",
    "    for input, target in zip(train_input_.split(batch_size), train_target_.split(batch_size)):\n",
    "                             \n",
    "        output = model(input)\n",
    "        loss = criterion(output, target)\n",
    "        optimizer.zero_grad()\n",
    "        loss.backward()\n",
    "        optimizer.step()\n",
    "        \n",
    "    model.train(False)\n",
    "    tr_output = model(train_input_)\n",
    "    te_output = model(test_input_)\n",
    "    tr_loss = criterion(tr_output, train_target_)\n",
    "    tr_acc = accuracy(tr_output, train_target_)\n",
    "    te_acc = accuracy(te_output, test_target_)\n",
    "    model.train(True)\n",
    "    print(\"Epoch {}\".format(e) +\\\n",
    "          \" | Train loss : {:.3f}\".format(tr_loss) +\\\n",
    "          \" | Train accuracy : {:.3f}\".format(tr_acc) +\\\n",
    "          \" | Test accuracy : {:.3f}\".format(te_acc))"
   ]
  },
  {
   "cell_type": "code",
   "execution_count": null,
   "metadata": {},
   "outputs": [],
   "source": []
  },
  {
   "cell_type": "code",
   "execution_count": null,
   "metadata": {},
   "outputs": [],
   "source": []
  }
 ],
 "metadata": {
  "kernelspec": {
   "display_name": "Python 3",
   "language": "python",
   "name": "python3"
  },
  "language_info": {
   "codemirror_mode": {
    "name": "ipython",
    "version": 3
   },
   "file_extension": ".py",
   "mimetype": "text/x-python",
   "name": "python",
   "nbconvert_exporter": "python",
   "pygments_lexer": "ipython3",
   "version": "3.8.5"
  }
 },
 "nbformat": 4,
 "nbformat_minor": 4
}
