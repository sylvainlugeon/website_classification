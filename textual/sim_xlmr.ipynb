{
 "cells": [
  {
   "cell_type": "code",
   "execution_count": 1,
   "metadata": {},
   "outputs": [],
   "source": [
    "import torch\n",
    "import requests\n",
    "from helper import bert_split\n",
    "import multiprocessing as mp\n",
    "import matplotlib.pyplot as plt\n",
    "\n",
    "from sklearn.metrics.pairwise import cosine_similarity\n",
    "\n",
    "from sentence_transformers import SentenceTransformer"
   ]
  },
  {
   "cell_type": "code",
   "execution_count": 2,
   "metadata": {},
   "outputs": [],
   "source": [
    "model = SentenceTransformer('xlm-r-distilroberta-base-paraphrase-v1')"
   ]
  },
  {
   "cell_type": "code",
   "execution_count": 33,
   "metadata": {},
   "outputs": [],
   "source": [
    "websites = ['www.epfl.ch/en', \n",
    "            'www.epfl.ch/fr',\n",
    "            'www.caltech.edu/', \n",
    "            'www.bbc.com', \n",
    "            'www.foxnews.com', \n",
    "            'www.apple.com/', \n",
    "            'www.samsung.com/us/', \n",
    "            'www.samsung.com/fr/']\n",
    "\n",
    "websites_html = [requests.get('https://' + url).text for url in websites]"
   ]
  },
  {
   "cell_type": "code",
   "execution_count": 34,
   "metadata": {},
   "outputs": [],
   "source": [
    "def embed_xlmr(body):\n",
    "    sentences = bert_split(body)\n",
    "    return model.encode(sentences).mean(axis=0)"
   ]
  },
  {
   "cell_type": "code",
   "execution_count": 35,
   "metadata": {},
   "outputs": [],
   "source": [
    "websites_emb = [embed_xlmr(w) for w in websites_html]"
   ]
  },
  {
   "cell_type": "code",
   "execution_count": 36,
   "metadata": {},
   "outputs": [
    {
     "data": {
      "text/plain": [
       "-0.41392076"
      ]
     },
     "execution_count": 36,
     "metadata": {},
     "output_type": "execute_result"
    }
   ],
   "source": [
    "websites_emb[0].min()"
   ]
  },
  {
   "cell_type": "code",
   "execution_count": 37,
   "metadata": {},
   "outputs": [
    {
     "data": {
      "text/plain": [
       "0.42447823"
      ]
     },
     "execution_count": 37,
     "metadata": {},
     "output_type": "execute_result"
    }
   ],
   "source": [
    "websites_emb[0].max()"
   ]
  },
  {
   "cell_type": "code",
   "execution_count": 38,
   "metadata": {},
   "outputs": [],
   "source": [
    "sim = cosine_similarity([w for w in websites_emb])"
   ]
  },
  {
   "cell_type": "code",
   "execution_count": 42,
   "metadata": {},
   "outputs": [
    {
     "name": "stdout",
     "output_type": "stream",
     "text": [
      "closest to www.epfl.ch/en       :       www.epfl.ch/fr (0.9743),     www.caltech.edu/ (0.9317)\n",
      "closest to www.epfl.ch/fr       :       www.epfl.ch/en (0.9743),     www.caltech.edu/ (0.9181)\n",
      "closest to www.caltech.edu/     :       www.epfl.ch/en (0.9317),       www.epfl.ch/fr (0.9181)\n",
      "closest to www.bbc.com          :      www.foxnews.com (0.9325),  www.samsung.com/fr/ (0.8850)\n",
      "closest to www.foxnews.com      :          www.bbc.com (0.9325),  www.samsung.com/fr/ (0.9005)\n",
      "closest to www.apple.com/       :  www.samsung.com/us/ (0.8918),  www.samsung.com/fr/ (0.8833)\n",
      "closest to www.samsung.com/us/  :  www.samsung.com/fr/ (0.9566),       www.apple.com/ (0.8918)\n",
      "closest to www.samsung.com/fr/  :  www.samsung.com/us/ (0.9566),       www.epfl.ch/fr (0.9113)\n"
     ]
    }
   ],
   "source": [
    "for i in range(len(websites)):\n",
    "    ix = sim[i].argsort()[-3:][1::-1]\n",
    "    print('closest to {:<20} : {:>20} ({:.4f}), {:>20} ({:.4f})'.format(websites[i][:22], \n",
    "                                                           websites[ix[0]][:22],\n",
    "                                                           sim[ix[0], i],\n",
    "                                                           websites[ix[1]][:22],\n",
    "                                                           sim[ix[1], i]))"
   ]
  },
  {
   "cell_type": "code",
   "execution_count": null,
   "metadata": {},
   "outputs": [],
   "source": []
  }
 ],
 "metadata": {
  "kernelspec": {
   "display_name": "Python 3",
   "language": "python",
   "name": "python3"
  },
  "language_info": {
   "codemirror_mode": {
    "name": "ipython",
    "version": 3
   },
   "file_extension": ".py",
   "mimetype": "text/x-python",
   "name": "python",
   "nbconvert_exporter": "python",
   "pygments_lexer": "ipython3",
   "version": "3.8.5"
  }
 },
 "nbformat": 4,
 "nbformat_minor": 4
}
