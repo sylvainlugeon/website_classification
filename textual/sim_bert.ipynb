{
 "cells": [
  {
   "cell_type": "code",
   "execution_count": 1,
   "metadata": {},
   "outputs": [],
   "source": [
    "import pandas as pd\n",
    "import numpy as np\n",
    "import requests\n",
    "import re\n",
    "from bs4 import BeautifulSoup\n",
    "\n",
    "import torch\n",
    "from transformers import BertTokenizer, BertModel\n",
    "from datetime import datetime\n",
    "\n",
    "import matplotlib.pyplot as plt\n",
    "\n",
    "import multiprocessing as mp\n",
    "\n",
    "from bert_serving.client import BertClient\n",
    "\n",
    "from sklearn.metrics.pairwise import cosine_similarity\n",
    "\n",
    "import matplotlib.pyplot as plt"
   ]
  },
  {
   "cell_type": "code",
   "execution_count": 2,
   "metadata": {},
   "outputs": [
    {
     "name": "stdout",
     "output_type": "stream",
     "text": [
      "loading bert model...\n"
     ]
    }
   ],
   "source": [
    "import embed_json"
   ]
  },
  {
   "cell_type": "code",
   "execution_count": 7,
   "metadata": {},
   "outputs": [],
   "source": [
    "websites = ['www.epfl.ch/en', \n",
    "            'www.epfl.ch/fr',\n",
    "            'www.caltech.edu/', \n",
    "            'www.bbc.com', \n",
    "            'www.foxnews.com', \n",
    "            'www.skysports.com/', \n",
    "            'www.redbull.com/int-en/',\n",
    "            'www.apple.com/', \n",
    "            'www.samsung.com/us/', \n",
    "            'www.samsung.com/fr/',\n",
    "            'www.huawei.com/us/',\n",
    "            'democrats.org/', \n",
    "            'www.spd.de',\n",
    "            'www.parti-socialiste.fr/', \n",
    "            'www.nzz.ch/']\n",
    "\n",
    "websites_html = [requests.get('https://' + url).text for url in websites]"
   ]
  },
  {
   "cell_type": "code",
   "execution_count": 8,
   "metadata": {},
   "outputs": [],
   "source": [
    "websites_sent = [embed_json.bert_split(body) for body in websites_html]"
   ]
  },
  {
   "cell_type": "code",
   "execution_count": 9,
   "metadata": {},
   "outputs": [
    {
     "name": "stdout",
     "output_type": "stream",
     "text": [
      "7308\n",
      "['École polytechnique fédérale de Lausanne EPFL', 'Skip to content', 'About', 'Education', 'Research', 'Innovation', 'Schools', 'Campus', 'Coronavirus Info', 'Search on the site', 'Validate', 'Show hide the search form', 'Search on the site', 'Hide the search form', 'FR', 'EN', 'Menu', 'Data centers need to consider their carbon footprint', 'News', 'EPFL']\n",
      "7211\n",
      "['École polytechnique fédérale de Lausanne EPFL', 'Aller directement au contenu', 'À propos', 'Éducation', 'Recherche', 'Innovation', 'Facultés', 'Campus', 'Info coronavirus', 'Rechercher sur le site', 'Valider', 'Afficher masquer le formulaire de recherche', 'Rechercher sur le site', 'Masquer le formulaire de recherche', 'FR', 'EN', 'Menu', 'Les centres de données contraints de penser leur empreinte carbone', 'Actualités', 'EPFL']\n",
      "469\n",
      "['Home www', 'caltech', 'edu', 'Skip to main content', 'Visit', 'Careers', 'Access', 'Quick Links', 'Click here to open the Quick Links submenu', 'for Faculty', 'for Students', 'for Staff', 'for Alumni', 'Directory', 'Caltech Today', 'Alumni', 'Give', 'About', 'At a Glance', 'Open At a Glance Submenu']\n",
      "368\n",
      "['BBC Homepage', 'Homepage', 'Accessibility links', 'Skip to content', 'Accessibility Help', 'BBC Account', 'Notifications', 'Home', 'News', 'Sport', 'Weather', 'iPlayer', 'Sounds', 'CBBC', 'CBeebies', 'Food', 'Bitesize', 'Arts', 'Taster', 'Local']\n",
      "788\n",
      "['Fox News Breaking News Updates Latest News Headlines Photos News Videos', 'Fox News', 'U', 'S', 'Politics', 'Opinion', 'Business', 'Entertainment', 'Sports', 'Lifestyle', 'TV', 'Fox Nation', 'Listen', 'More', 'Expand Collapse search', 'Login', 'Watch TV', 'Menu', 'Hot Topics', 'Coronavirus']\n",
      "288\n",
      "['Sky Sports Sports News Transfers Scores Watch Live Sport', 'Accessibility information', 'Skip to content', 'Skip to footer', 'Search', 'Home', 'Sports', 'Football', 'F', 'Cricket', 'Rugby Union', 'Rugby League', 'Golf', 'Boxing', 'NFL', 'Olympics', 'Tennis', 'Racing', 'Darts', 'NBA']\n",
      "83\n",
      "['Red Bull Gives You Wings RedBull', 'com', 'Skip to Content', 'TV', 'Events', 'Athletes', 'Products', 'Dance', 'RedBull BC One E-Battle watch the final you deserve', 'October', 'View Event Info', 'RedBull BC One E-Battle watch the final you deserve', 'Get your innovation inspo RedBull Basement Sessions', 'MotoGP fans future stars are racing this weekend', 'Everyone is scared Big wave icon Mark Mathews talks fear and resilience', 'Cliff diving but take it underground', \"There's nothing quiet about Travis Rice's Pillow Talk\", 'Player wanted', 'Discover the World of RedBull', \"There's a reason we call it RedBull Rampage In fact there are\"]\n",
      "198\n",
      "['Apple', 'Apple', 'Global Nav Open Menu', 'Global Nav Close Menu', 'Apple', 'Shopping Bag', 'Search apple', 'com', 'Cancel', 'Apple', 'Mac', 'iPad', 'iPhone', 'Watch', 'TV', 'Music', 'Support', 'Shopping Bag', 'Cancel', 'Evaluate COVID symptoms and understand nextsteps']\n",
      "860\n",
      "['Samsung US Mobile TV Home Electronics Home Appliances Samsung US', 'Skip to content', 'Samsung and Cookies', 'This site uses cookies to personalise your experience analyse site traffic and keep track of items stored in your shopping basket', 'By Clicking ACCEPT or continuing to browse the site you are agreeing to our use of cookies', 'See our Privacy Policy here', 'Read More', 'Accept', 'Choose your location or language', 'close', 'Welcome to the', 'Please enjoy our special offers for you', 'MY BENEFITS', 'SPECIAL OFFERS', 'Samsung', 'Cart', 'Search', 'Open Menu', 'Galaxy G', 'Mobile']\n",
      "625\n",
      "['Samsung France Téléphones Portables Electroménager TV', 'Skip to content', 'Skip to accessibility help', 'Welcome to the', 'Please enjoy our special offers for you', 'MY BENEFITS', 'SPECIAL OFFERS', 'Samsung', 'Cart', 'Recherche', 'Ouvrir le menu', 'Mobiles', 'Retour au menu supérieur', 'Mobiles', 'Nouveautés', 'Galaxy S FE', 'Pourquoi choisir Galaxy', 'Galaxy Note Ultra G', 'Galaxy Z Fold G', 'Galaxy Watch']\n",
      "312\n",
      "['Huawei United States Building a Fully Connected Intelligent World', 'This site uses cookies', 'By continuing to browse the site you are agreeing to our use of cookies', 'Read our private policy', 'Corporate', 'United States [Change]', 'Back to Main Menu', 'Huawei Websites', 'Corporate', 'Corporate news and information', 'Consumer', 'Phones laptops tablets wearables other devices', 'Enterprise', 'Enterprise products solutions services', 'Carrier', 'Products solutions services for carrier networks', 'Huawei Cloud', 'Cloud products solutions services', 'Select a Country or Region', 'Australia']\n",
      "140\n",
      "['We are the Democratic Party Democrats', 'DNC', 'Who we are', 'Where we stand', 'Take action', 'Vote', 'Shop', 'Donate', 'en español', 'Democratic National Committee', 'Join Us', 'Email address', 'Phone number', 'Zip code', 'Sign up to get texts', 'By providing your phone number you are consenting to receive periodic text messages and calls from the DNC', 'For SMS message and data rates may apply', 'Text STOP to end', 'Text HELP for help', 'Privacy policy']\n",
      "177\n",
      "['Sozialdemokratische Partei Deutschlands SPD', 'arrow-left', 'arrow-right', 'close', 'contrast', 'download', 'easy-language', 'facebook', 'instagram', 'logo-spe-klein', 'mail', 'menue', 'Minus', 'Plus', 'print', 'search', 'sound', 'target-blank', 'Twitter', 'youtube']\n",
      "360\n",
      "['Parti Socialiste', 'Toggle navigation', 'Parti Socialiste', \"J'adhère\", 'Je donne', 'Suivre', 'Profil Public', 'Paramètres', 'Se former et progresser', 'Militer et Mobiliser', 'Partager et échanger', 'Nos campagnes', 'Les kits militants', 'Les outils', \"L'actu\", 'Devenir e-militants', 'Je donne', \"J'adhère\", 'Vos pages', 'Qui sommes-nous']\n",
      "497\n",
      "['NZZ Neue Zürcher Zeitung Aktuelle News Hintergründe mehr', 'Suchen', 'NZZ abonnieren', 'Newsletter bestellen', 'Startseite', 'Neuste Artikel', 'Briefing', 'PRO Global', 'Meinung', 'Kommentare', 'Kolumnen', 'International', 'Europa', 'Amerika', 'Nahost Afrika', 'Asien Pazifik', 'Dossiers', 'Wirtschaft', 'Wirtschaftspolitik', 'Unternehmen']\n"
     ]
    }
   ],
   "source": [
    "for w in websites_sent:\n",
    "    print(len(w))\n",
    "    print(w[:20])"
   ]
  },
  {
   "cell_type": "code",
   "execution_count": 45,
   "metadata": {},
   "outputs": [],
   "source": [
    "bc = BertClient(ip='iccluster037.iccluster.epfl.ch', check_length=False)"
   ]
  },
  {
   "cell_type": "code",
   "execution_count": 46,
   "metadata": {},
   "outputs": [],
   "source": [
    "websites_emb = [embed_json.bert_embed_html(w, server=True, bc=bc) for w in websites_html]"
   ]
  },
  {
   "cell_type": "code",
   "execution_count": 48,
   "metadata": {},
   "outputs": [],
   "source": [
    "a = bc.encode(['one', 'two'])"
   ]
  },
  {
   "cell_type": "code",
   "execution_count": 51,
   "metadata": {},
   "outputs": [
    {
     "data": {
      "text/plain": [
       "(768,)"
      ]
     },
     "execution_count": 51,
     "metadata": {},
     "output_type": "execute_result"
    }
   ],
   "source": [
    "a.mean(axis=0).shape"
   ]
  },
  {
   "cell_type": "code",
   "execution_count": 15,
   "metadata": {},
   "outputs": [],
   "source": [
    "mean = [w[:768] for w in websites_emb]"
   ]
  },
  {
   "cell_type": "code",
   "execution_count": 16,
   "metadata": {},
   "outputs": [],
   "source": [
    "max = [w[768:] for w in websites_emb]"
   ]
  },
  {
   "cell_type": "code",
   "execution_count": 19,
   "metadata": {},
   "outputs": [
    {
     "data": {
      "image/png": "[encoded data removed]",
      "text/plain": [
       "<Figure size 432x288 with 1 Axes>"
      ]
     },
     "metadata": {
      "needs_background": "light"
     },
     "output_type": "display_data"
    }
   ],
   "source": [
    "plt.hist(max[4], bins=100)\n",
    "plt.yscale('log')\n",
    "plt.show()"
   ]
  },
  {
   "cell_type": "code",
   "execution_count": 20,
   "metadata": {},
   "outputs": [
    {
     "name": "stdout",
     "output_type": "stream",
     "text": [
      "227\n",
      "-26.22064\n",
      "227\n",
      "-25.833263\n",
      "227\n",
      "-25.302494\n",
      "227\n",
      "-24.703625\n",
      "227\n",
      "-25.542166\n",
      "227\n",
      "-25.595663\n",
      "227\n",
      "-25.78417\n",
      "227\n",
      "-26.479937\n",
      "227\n",
      "-25.729826\n",
      "227\n",
      "-26.018204\n",
      "227\n",
      "-26.133802\n",
      "227\n",
      "-25.673971\n",
      "227\n",
      "-26.093792\n",
      "227\n",
      "-23.820747\n",
      "227\n",
      "-25.207228\n"
     ]
    }
   ],
   "source": [
    "for e in max:\n",
    "    i = np.argmin(e)\n",
    "    print(i)\n",
    "    print(e[i])"
   ]
  },
  {
   "cell_type": "code",
   "execution_count": 21,
   "metadata": {},
   "outputs": [],
   "source": [
    "max_red = [np.delete(w, 227) for w in max]\n",
    "mean_red = [np.delete(w, 227) for w in mean]"
   ]
  },
  {
   "cell_type": "code",
   "execution_count": 22,
   "metadata": {},
   "outputs": [
    {
     "name": "stdout",
     "output_type": "stream",
     "text": [
      "366\n",
      "-1.0674975\n",
      "366\n",
      "-0.9595745\n",
      "366\n",
      "-1.0720962\n",
      "366\n",
      "-0.7667567\n",
      "366\n",
      "-0.99304277\n",
      "119\n",
      "-0.9288093\n",
      "366\n",
      "-0.92162514\n",
      "22\n",
      "-1.0224432\n",
      "366\n",
      "-0.91800547\n",
      "366\n",
      "-0.95768625\n",
      "366\n",
      "-1.2052504\n",
      "366\n",
      "-0.9243117\n",
      "366\n",
      "-1.0127941\n",
      "505\n",
      "-0.9752928\n",
      "366\n",
      "-0.941278\n"
     ]
    }
   ],
   "source": [
    "for e in max_red:\n",
    "    i = np.argmin(e)\n",
    "    print(i)\n",
    "    print(e[i])"
   ]
  },
  {
   "cell_type": "code",
   "execution_count": 25,
   "metadata": {},
   "outputs": [],
   "source": [
    "sim = cosine_similarity(max)"
   ]
  },
  {
   "cell_type": "code",
   "execution_count": 26,
   "metadata": {},
   "outputs": [
    {
     "name": "stdout",
     "output_type": "stream",
     "text": [
      "closest to www.epfl.ch/en          :        www.caltech.edu/ (0.9962),     www.samsung.com/us/ (0.9935)\n",
      "closest to www.epfl.ch/fr          :     www.samsung.com/fr/ (0.9941),          www.epfl.ch/en (0.9882)\n",
      "closest to www.caltech.edu/        :          www.epfl.ch/en (0.9962),         www.foxnews.com (0.9921)\n",
      "closest to www.bbc.com             :         www.foxnews.com (0.9948),  www.redbull.com/int-en (0.9943)\n",
      "closest to www.foxnews.com         :  www.redbull.com/int-en (0.9963),             www.bbc.com (0.9948)\n",
      "closest to www.skysports.com/      :         www.foxnews.com (0.9937),  www.redbull.com/int-en (0.9932)\n",
      "closest to www.redbull.com/int-en  :         www.foxnews.com (0.9963),     www.samsung.com/us/ (0.9955)\n",
      "closest to www.apple.com/          :      www.huawei.com/us/ (0.9930),     www.samsung.com/us/ (0.9916)\n",
      "closest to www.samsung.com/us/     :  www.redbull.com/int-en (0.9955),         www.foxnews.com (0.9944)\n",
      "closest to www.samsung.com/fr/     :          www.epfl.ch/fr (0.9941),     www.samsung.com/us/ (0.9867)\n",
      "closest to www.huawei.com/us/      :          www.apple.com/ (0.9930),        www.caltech.edu/ (0.9899)\n",
      "closest to democrats.org/          :         www.foxnews.com (0.9938),     www.samsung.com/us/ (0.9929)\n",
      "closest to www.spd.de              :             www.nzz.ch/ (0.9920),     www.samsung.com/fr/ (0.9834)\n",
      "closest to www.parti-socialiste.f  :     www.samsung.com/fr/ (0.9634),              www.spd.de (0.9604)\n",
      "closest to www.nzz.ch/             :              www.spd.de (0.9920),          www.epfl.ch/fr (0.9850)\n"
     ]
    }
   ],
   "source": [
    "for i in range(len(websites)):\n",
    "    ix = sim[i].argsort()[-3:][1::-1]\n",
    "    print('closest to {:<23} : {:>23} ({:.4f}), {:>23} ({:.4f})'.format(websites[i][:22], \n",
    "                                                           websites[ix[0]][:22],\n",
    "                                                           sim[ix[0], i],\n",
    "                                                           websites[ix[1]][:22],\n",
    "                                                           sim[ix[1], i]))"
   ]
  },
  {
   "cell_type": "code",
   "execution_count": 27,
   "metadata": {},
   "outputs": [],
   "source": [
    "from sklearn.preprocessing import normalize\n",
    "\n",
    "websites_emb_norm = normalize(websites_emb, axis=0)"
   ]
  },
  {
   "cell_type": "code",
   "execution_count": 33,
   "metadata": {},
   "outputs": [
    {
     "data": {
      "image/png": "[encoded data removed]",
      "text/plain": [
       "<Figure size 432x288 with 1 Axes>"
      ]
     },
     "metadata": {
      "needs_background": "light"
     },
     "output_type": "display_data"
    }
   ],
   "source": [
    "plt.hist(websites_emb_norm[0], bins=100)\n",
    "plt.yscale('log')\n",
    "plt.show()"
   ]
  },
  {
   "cell_type": "code",
   "execution_count": 34,
   "metadata": {},
   "outputs": [],
   "source": [
    "sim = cosine_similarity(websites_emb_norm)"
   ]
  },
  {
   "cell_type": "code",
   "execution_count": 35,
   "metadata": {},
   "outputs": [
    {
     "name": "stdout",
     "output_type": "stream",
     "text": [
      "closest to www.epfl.ch/en          :        www.caltech.edu/ (0.9357),     www.samsung.com/us/ (0.8812)\n",
      "closest to www.epfl.ch/fr          :     www.samsung.com/fr/ (0.9110),          www.epfl.ch/en (0.8326)\n",
      "closest to www.caltech.edu/        :          www.epfl.ch/en (0.9357),         www.foxnews.com (0.8655)\n",
      "closest to www.bbc.com             :         www.foxnews.com (0.9158),  www.redbull.com/int-en (0.9041)\n",
      "closest to www.foxnews.com         :  www.redbull.com/int-en (0.9365),             www.bbc.com (0.9158)\n",
      "closest to www.skysports.com/      :  www.redbull.com/int-en (0.8879),         www.foxnews.com (0.8847)\n",
      "closest to www.redbull.com/int-en  :         www.foxnews.com (0.9365),     www.samsung.com/us/ (0.9208)\n",
      "closest to www.apple.com/          :     www.samsung.com/us/ (0.8941),      www.huawei.com/us/ (0.8825)\n",
      "closest to www.samsung.com/us/     :  www.redbull.com/int-en (0.9208),          www.apple.com/ (0.8941)\n",
      "closest to www.samsung.com/fr/     :          www.epfl.ch/fr (0.9110),     www.samsung.com/us/ (0.8064)\n",
      "closest to www.huawei.com/us/      :          www.apple.com/ (0.8825),        www.caltech.edu/ (0.8590)\n",
      "closest to democrats.org/          :         www.foxnews.com (0.8815),  www.redbull.com/int-en (0.8757)\n",
      "closest to www.spd.de              :             www.nzz.ch/ (0.9120),  www.redbull.com/int-en (0.7422)\n",
      "closest to www.parti-socialiste.f  :     www.samsung.com/fr/ (0.6182),          www.epfl.ch/fr (0.5865)\n",
      "closest to www.nzz.ch/             :              www.spd.de (0.9120),             www.bbc.com (0.7773)\n"
     ]
    }
   ],
   "source": [
    "for i in range(len(websites)):\n",
    "    ix = sim[i].argsort()[-3:][1::-1]\n",
    "    print('closest to {:<23} : {:>23} ({:.4f}), {:>23} ({:.4f})'.format(websites[i][:22], \n",
    "                                                           websites[ix[0]][:22],\n",
    "                                                           sim[ix[0], i],\n",
    "                                                           websites[ix[1]][:22],\n",
    "                                                           sim[ix[1], i]))"
   ]
  },
  {
   "cell_type": "code",
   "execution_count": null,
   "metadata": {},
   "outputs": [],
   "source": []
  }
 ],
 "metadata": {
  "kernelspec": {
   "display_name": "Python 3",
   "language": "python",
   "name": "python3"
  },
  "language_info": {
   "codemirror_mode": {
    "name": "ipython",
    "version": 3
   },
   "file_extension": ".py",
   "mimetype": "text/x-python",
   "name": "python",
   "nbconvert_exporter": "python",
   "pygments_lexer": "ipython3",
   "version": "3.8.5"
  }
 },
 "nbformat": 4,
 "nbformat_minor": 4
}
