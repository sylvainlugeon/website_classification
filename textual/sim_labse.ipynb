{
 "cells": [
  {
   "cell_type": "code",
   "execution_count": 6,
   "metadata": {},
   "outputs": [],
   "source": [
    "import torch\n",
    "import requests\n",
    "from helper import bert_split\n",
    "import multiprocessing as mp\n",
    "import matplotlib.pyplot as plt\n",
    "\n",
    "from sklearn.metrics.pairwise import cosine_similarity"
   ]
  },
  {
   "cell_type": "code",
   "execution_count": 1,
   "metadata": {},
   "outputs": [
    {
     "data": {
      "application/vnd.jupyter.widget-view+json": {
       "model_id": "03b35b898a664ff5a9f0270d7153f5a6",
       "version_major": 2,
       "version_minor": 0
      },
      "text/plain": [
       "HBox(children=(HTML(value='Downloading'), FloatProgress(value=0.0, max=654.0), HTML(value='')))"
      ]
     },
     "metadata": {},
     "output_type": "display_data"
    },
    {
     "name": "stdout",
     "output_type": "stream",
     "text": [
      "\n"
     ]
    },
    {
     "data": {
      "application/vnd.jupyter.widget-view+json": {
       "model_id": "4a284451181e4836b28cfe0aeaf5b19b",
       "version_major": 2,
       "version_minor": 0
      },
      "text/plain": [
       "HBox(children=(HTML(value='Downloading'), FloatProgress(value=0.0, max=5220781.0), HTML(value='')))"
      ]
     },
     "metadata": {},
     "output_type": "display_data"
    },
    {
     "name": "stdout",
     "output_type": "stream",
     "text": [
      "\n"
     ]
    },
    {
     "data": {
      "application/vnd.jupyter.widget-view+json": {
       "model_id": "1b312c73f0b84f0c8e639ea766ce4f62",
       "version_major": 2,
       "version_minor": 0
      },
      "text/plain": [
       "HBox(children=(HTML(value='Downloading'), FloatProgress(value=0.0, max=112.0), HTML(value='')))"
      ]
     },
     "metadata": {},
     "output_type": "display_data"
    },
    {
     "name": "stdout",
     "output_type": "stream",
     "text": [
      "\n"
     ]
    },
    {
     "data": {
      "application/vnd.jupyter.widget-view+json": {
       "model_id": "da1ee590d39544c4b5545c3f6e1de606",
       "version_major": 2,
       "version_minor": 0
      },
      "text/plain": [
       "HBox(children=(HTML(value='Downloading'), FloatProgress(value=0.0, max=49.0), HTML(value='')))"
      ]
     },
     "metadata": {},
     "output_type": "display_data"
    },
    {
     "name": "stdout",
     "output_type": "stream",
     "text": [
      "\n"
     ]
    },
    {
     "data": {
      "application/vnd.jupyter.widget-view+json": {
       "model_id": "deda5741953d47a6a6bc3593bf62413d",
       "version_major": 2,
       "version_minor": 0
      },
      "text/plain": [
       "HBox(children=(HTML(value='Downloading'), FloatProgress(value=0.0, max=1888175414.0), HTML(value='')))"
      ]
     },
     "metadata": {},
     "output_type": "display_data"
    },
    {
     "name": "stdout",
     "output_type": "stream",
     "text": [
      "\n"
     ]
    }
   ],
   "source": [
    "from transformers import AutoTokenizer, AutoModel\n",
    "\n",
    "tokenizer = AutoTokenizer.from_pretrained(\"sentence-transformers/LaBSE\")\n",
    "model = AutoModel.from_pretrained(\"sentence-transformers/LaBSE\")"
   ]
  },
  {
   "cell_type": "code",
   "execution_count": 7,
   "metadata": {},
   "outputs": [],
   "source": [
    "websites = ['www.epfl.ch/en', \n",
    "            'www.epfl.ch/fr',\n",
    "            'www.caltech.edu/', \n",
    "            'www.bbc.com', \n",
    "            'www.foxnews.com', \n",
    "            'www.skysports.com/', \n",
    "            'www.redbull.com/int-en/',\n",
    "            'www.apple.com/', \n",
    "            'www.samsung.com/us/', \n",
    "            'www.samsung.com/fr/',\n",
    "            'www.huawei.com/us/',\n",
    "            'democrats.org/', \n",
    "            'www.spd.de',\n",
    "            'www.parti-socialiste.fr/', \n",
    "            'www.nzz.ch/']\n",
    "\n",
    "websites_html = [requests.get('https://' + url).text for url in websites]"
   ]
  },
  {
   "cell_type": "code",
   "execution_count": 53,
   "metadata": {},
   "outputs": [
    {
     "data": {
      "application/vnd.jupyter.widget-view+json": {
       "model_id": "b2a234fa1b3644d69dd479f82cb1a5f7",
       "version_major": 2,
       "version_minor": 0
      },
      "text/plain": [
       "HBox(children=(HTML(value='Downloading'), FloatProgress(value=0.0, max=472.0), HTML(value='')))"
      ]
     },
     "metadata": {},
     "output_type": "display_data"
    },
    {
     "name": "stdout",
     "output_type": "stream",
     "text": [
      "\n"
     ]
    },
    {
     "data": {
      "application/vnd.jupyter.widget-view+json": {
       "model_id": "bee0f4a73698400ca0c8fc1f71e44c6f",
       "version_major": 2,
       "version_minor": 0
      },
      "text/plain": [
       "HBox(children=(HTML(value='Downloading'), FloatProgress(value=0.0, max=5220781.0), HTML(value='')))"
      ]
     },
     "metadata": {},
     "output_type": "display_data"
    },
    {
     "name": "stdout",
     "output_type": "stream",
     "text": [
      "\n"
     ]
    },
    {
     "data": {
      "application/vnd.jupyter.widget-view+json": {
       "model_id": "ebd2a9fa425c435796cf938e46bda1b7",
       "version_major": 2,
       "version_minor": 0
      },
      "text/plain": [
       "HBox(children=(HTML(value='Downloading'), FloatProgress(value=0.0, max=112.0), HTML(value='')))"
      ]
     },
     "metadata": {},
     "output_type": "display_data"
    },
    {
     "name": "stdout",
     "output_type": "stream",
     "text": [
      "\n"
     ]
    },
    {
     "data": {
      "application/vnd.jupyter.widget-view+json": {
       "model_id": "1e29b3facd184950b5498c795869dd88",
       "version_major": 2,
       "version_minor": 0
      },
      "text/plain": [
       "HBox(children=(HTML(value='Downloading'), FloatProgress(value=0.0, max=62.0), HTML(value='')))"
      ]
     },
     "metadata": {},
     "output_type": "display_data"
    },
    {
     "name": "stdout",
     "output_type": "stream",
     "text": [
      "\n"
     ]
    },
    {
     "data": {
      "application/vnd.jupyter.widget-view+json": {
       "model_id": "cbd59c2c53bf4e1b8b9efa6a83a1173b",
       "version_major": 2,
       "version_minor": 0
      },
      "text/plain": [
       "HBox(children=(HTML(value='Downloading'), FloatProgress(value=0.0, max=1888168867.0), HTML(value='')))"
      ]
     },
     "metadata": {},
     "output_type": "display_data"
    },
    {
     "name": "stdout",
     "output_type": "stream",
     "text": [
      "\n"
     ]
    }
   ],
   "source": [
    "# from sentence-transformers\n",
    "def mean_pooling(model_output, attention_mask):\n",
    "    token_embeddings = model_output[0] #First element of model_output contains all token embeddings\n",
    "    input_mask_expanded = attention_mask.unsqueeze(-1).expand(token_embeddings.size()).float()\n",
    "    sum_embeddings = torch.sum(token_embeddings * input_mask_expanded, 1)\n",
    "    sum_mask = torch.clamp(input_mask_expanded.sum(1), min=1e-9)\n",
    "    return sum_embeddings / sum_mask\n",
    "\n",
    "tokenizer = AutoTokenizer.from_pretrained(\"pvl/labse_bert\", do_lower_case=False)\n",
    "model = AutoModel.from_pretrained(\"pvl/labse_bert\")"
   ]
  },
  {
   "cell_type": "code",
   "execution_count": 62,
   "metadata": {},
   "outputs": [],
   "source": [
    "def embed_labse(body):\n",
    "    \n",
    "    sentences = bert_split(body)\n",
    "    \n",
    "    torch.set_num_threads(1)\n",
    "\n",
    "    encoded_input = tokenizer(sentences, padding=True, truncation=True, max_length=128, return_tensors='pt')\n",
    "\n",
    "    with torch.no_grad():\n",
    "        model_output = model(**encoded_input)\n",
    "\n",
    "    return mean_pooling(model_output, encoded_input['attention_mask']).mean(axis=0)"
   ]
  },
  {
   "cell_type": "code",
   "execution_count": 65,
   "metadata": {},
   "outputs": [],
   "source": [
    "pool = mp.Pool(15)\n",
    "websites_emb = pool.map(embed_labse, websites_html)\n",
    "pool.close()\n",
    "pool.join()"
   ]
  },
  {
   "cell_type": "code",
   "execution_count": 68,
   "metadata": {},
   "outputs": [
    {
     "data": {
      "text/plain": [
       "tensor(-5.7686)"
      ]
     },
     "execution_count": 68,
     "metadata": {},
     "output_type": "execute_result"
    }
   ],
   "source": [
    "websites_emb[0].min()"
   ]
  },
  {
   "cell_type": "code",
   "execution_count": 69,
   "metadata": {},
   "outputs": [
    {
     "data": {
      "text/plain": [
       "tensor(6.0882)"
      ]
     },
     "execution_count": 69,
     "metadata": {},
     "output_type": "execute_result"
    }
   ],
   "source": [
    "websites_emb[0].max()"
   ]
  },
  {
   "cell_type": "code",
   "execution_count": 71,
   "metadata": {},
   "outputs": [],
   "source": [
    "sim = cosine_similarity([w.tolist() for w in websites_emb])"
   ]
  },
  {
   "cell_type": "code",
   "execution_count": 72,
   "metadata": {},
   "outputs": [
    {
     "name": "stdout",
     "output_type": "stream",
     "text": [
      "closest to www.epfl.ch/en          :          www.epfl.ch/fr (0.9951),        www.caltech.edu/ (0.9814)\n",
      "closest to www.epfl.ch/fr          :          www.epfl.ch/en (0.9951),        www.caltech.edu/ (0.9755)\n",
      "closest to www.caltech.edu/        :          www.epfl.ch/en (0.9814),          www.epfl.ch/fr (0.9755)\n",
      "closest to www.bbc.com             :         www.foxnews.com (0.9775),             www.nzz.ch/ (0.9650)\n",
      "closest to www.foxnews.com         :             www.bbc.com (0.9775),             www.nzz.ch/ (0.9712)\n",
      "closest to www.skysports.com/      :         www.foxnews.com (0.9661),  www.redbull.com/int-en (0.9627)\n",
      "closest to www.redbull.com/int-en  :         www.foxnews.com (0.9698),             www.bbc.com (0.9630)\n",
      "closest to www.apple.com/          :     www.samsung.com/fr/ (0.9618),     www.samsung.com/us/ (0.9577)\n",
      "closest to www.samsung.com/us/     :     www.samsung.com/fr/ (0.9820),         www.foxnews.com (0.9629)\n",
      "closest to www.samsung.com/fr/     :     www.samsung.com/us/ (0.9820),      www.huawei.com/us/ (0.9652)\n",
      "closest to www.huawei.com/us/      :     www.samsung.com/fr/ (0.9652),         www.foxnews.com (0.9567)\n",
      "closest to democrats.org/          :              www.spd.de (0.9568),         www.foxnews.com (0.9519)\n",
      "closest to www.spd.de              :             www.nzz.ch/ (0.9721),     www.samsung.com/fr/ (0.9596)\n",
      "closest to www.parti-socialiste.f  :             www.nzz.ch/ (0.9422),             www.bbc.com (0.9405)\n",
      "closest to www.nzz.ch/             :              www.spd.de (0.9721),         www.foxnews.com (0.9712)\n"
     ]
    }
   ],
   "source": [
    "for i in range(len(websites)):\n",
    "    ix = sim[i].argsort()[-3:][1::-1]\n",
    "    print('closest to {:<23} : {:>23} ({:.4f}), {:>23} ({:.4f})'.format(websites[i][:22], \n",
    "                                                           websites[ix[0]][:22],\n",
    "                                                           sim[ix[0], i],\n",
    "                                                           websites[ix[1]][:22],\n",
    "                                                           sim[ix[1], i]))"
   ]
  },
  {
   "cell_type": "code",
   "execution_count": 2,
   "metadata": {},
   "outputs": [],
   "source": [
    "from sentence_transformers import SentenceTransformer\n",
    "\n",
    "model = SentenceTransformer('LaBSE')"
   ]
  },
  {
   "cell_type": "code",
   "execution_count": 10,
   "metadata": {},
   "outputs": [],
   "source": [
    "def embed_labse_fast(body):\n",
    "    \n",
    "    sentences = bert_split(body)\n",
    "    \n",
    "    return model.encode(sentences).mean(axis=0)"
   ]
  },
  {
   "cell_type": "code",
   "execution_count": 9,
   "metadata": {},
   "outputs": [],
   "source": [
    "websites_emb = [embed_labse_fast(w) for w in websites_html]"
   ]
  },
  {
   "cell_type": "code",
   "execution_count": 11,
   "metadata": {},
   "outputs": [
    {
     "data": {
      "text/plain": [
       "-0.10074113"
      ]
     },
     "execution_count": 11,
     "metadata": {},
     "output_type": "execute_result"
    }
   ],
   "source": [
    "websites_emb[0].min()"
   ]
  },
  {
   "cell_type": "code",
   "execution_count": 12,
   "metadata": {},
   "outputs": [
    {
     "data": {
      "text/plain": [
       "0.017665477"
      ]
     },
     "execution_count": 12,
     "metadata": {},
     "output_type": "execute_result"
    }
   ],
   "source": [
    "websites_emb[0].max()"
   ]
  },
  {
   "cell_type": "code",
   "execution_count": 14,
   "metadata": {},
   "outputs": [],
   "source": [
    "sim = cosine_similarity([w for w in websites_emb])"
   ]
  },
  {
   "cell_type": "code",
   "execution_count": 15,
   "metadata": {},
   "outputs": [
    {
     "name": "stdout",
     "output_type": "stream",
     "text": [
      "closest to www.epfl.ch/en          :          www.epfl.ch/fr (0.9799),        www.caltech.edu/ (0.9044)\n",
      "closest to www.epfl.ch/fr          :          www.epfl.ch/en (0.9799),        www.caltech.edu/ (0.8850)\n",
      "closest to www.caltech.edu/        :          www.epfl.ch/en (0.9044),          www.epfl.ch/fr (0.8850)\n",
      "closest to www.bbc.com             :         www.foxnews.com (0.9123),             www.nzz.ch/ (0.8661)\n",
      "closest to www.foxnews.com         :             www.bbc.com (0.9123),             www.nzz.ch/ (0.8857)\n",
      "closest to www.skysports.com/      :  www.redbull.com/int-en (0.8293),         www.foxnews.com (0.8225)\n",
      "closest to www.redbull.com/int-en  :         www.foxnews.com (0.8499),              www.spd.de (0.8372)\n",
      "closest to www.apple.com/          :     www.samsung.com/fr/ (0.8857),     www.samsung.com/us/ (0.8714)\n",
      "closest to www.samsung.com/us/     :     www.samsung.com/fr/ (0.9564),          www.apple.com/ (0.8714)\n",
      "closest to www.samsung.com/fr/     :     www.samsung.com/us/ (0.9564),      www.huawei.com/us/ (0.8859)\n",
      "closest to www.huawei.com/us/      :     www.samsung.com/fr/ (0.8859),              www.spd.de (0.8498)\n",
      "closest to democrats.org/          :              www.spd.de (0.8719),         www.foxnews.com (0.8263)\n",
      "closest to www.spd.de              :             www.nzz.ch/ (0.9107),     www.samsung.com/fr/ (0.8810)\n",
      "closest to www.parti-socialiste.f  :             www.bbc.com (0.8280),             www.nzz.ch/ (0.8236)\n",
      "closest to www.nzz.ch/             :              www.spd.de (0.9107),         www.foxnews.com (0.8857)\n"
     ]
    }
   ],
   "source": [
    "for i in range(len(websites)):\n",
    "    ix = sim[i].argsort()[-3:][1::-1]\n",
    "    print('closest to {:<23} : {:>23} ({:.4f}), {:>23} ({:.4f})'.format(websites[i][:22], \n",
    "                                                           websites[ix[0]][:22],\n",
    "                                                           sim[ix[0], i],\n",
    "                                                           websites[ix[1]][:22],\n",
    "                                                           sim[ix[1], i]))"
   ]
  },
  {
   "cell_type": "code",
   "execution_count": null,
   "metadata": {},
   "outputs": [],
   "source": []
  }
 ],
 "metadata": {
  "kernelspec": {
   "display_name": "Python 3",
   "language": "python",
   "name": "python3"
  },
  "language_info": {
   "codemirror_mode": {
    "name": "ipython",
    "version": 3
   },
   "file_extension": ".py",
   "mimetype": "text/x-python",
   "name": "python",
   "nbconvert_exporter": "python",
   "pygments_lexer": "ipython3",
   "version": "3.8.5"
  }
 },
 "nbformat": 4,
 "nbformat_minor": 4
}
