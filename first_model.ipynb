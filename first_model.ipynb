{
 "cells": [
  {
   "cell_type": "code",
   "execution_count": 1,
   "metadata": {},
   "outputs": [],
   "source": [
    "import numpy as np\n",
    "import pandas as pd\n",
    "\n",
    "import requests\n",
    "import csv\n",
    "import time\n",
    "from bs4 import BeautifulSoup\n",
    "\n",
    "import torch\n",
    "from transformers import BertTokenizer, BertModel\n",
    "\n",
    "from progressbar import ProgressBar\n",
    "from sklearn.metrics.pairwise import cosine_similarity\n",
    "\n",
    "from tqdm import tqdm\n",
    "\n",
    "import ast"
   ]
  },
  {
   "cell_type": "code",
   "execution_count": 3,
   "metadata": {},
   "outputs": [],
   "source": [
    "folder = '/dlabdata1/lugeon/'\n",
    "name = 'websites_10_000_5cat_emb'\n",
    "ext = '.gz'\n",
    "data = pd.read_csv(folder + name + ext, \n",
    "                   header=0, \n",
    "                   names=['id', 'url', 'cat0', 'emb'], \n",
    "                   dtype={'id':np.int32, 'url':str, 'cat0':str, 'emb':str})"
   ]
  },
  {
   "cell_type": "code",
   "execution_count": 4,
   "metadata": {},
   "outputs": [],
   "source": [
    "data['emb'] = data.apply(lambda row: np.array(ast.literal_eval(row.emb)), axis=1)"
   ]
  },
  {
   "cell_type": "code",
   "execution_count": 5,
   "metadata": {},
   "outputs": [
    {
     "data": {
      "text/html": [
       "<div>\n",
       "<style scoped>\n",
       "    .dataframe tbody tr th:only-of-type {\n",
       "        vertical-align: middle;\n",
       "    }\n",
       "\n",
       "    .dataframe tbody tr th {\n",
       "        vertical-align: top;\n",
       "    }\n",
       "\n",
       "    .dataframe thead th {\n",
       "        text-align: right;\n",
       "    }\n",
       "</style>\n",
       "<table border=\"1\" class=\"dataframe\">\n",
       "  <thead>\n",
       "    <tr style=\"text-align: right;\">\n",
       "      <th></th>\n",
       "      <th>id</th>\n",
       "      <th>url</th>\n",
       "      <th>cat0</th>\n",
       "      <th>emb</th>\n",
       "    </tr>\n",
       "  </thead>\n",
       "  <tbody>\n",
       "    <tr>\n",
       "      <th>0</th>\n",
       "      <td>133292</td>\n",
       "      <td>http://www.imdb.com/title/tt0044207/</td>\n",
       "      <td>Arts</td>\n",
       "      <td>[0.19638090891848234, -0.2036611011082476, 0.1...</td>\n",
       "    </tr>\n",
       "    <tr>\n",
       "      <th>1</th>\n",
       "      <td>126451</td>\n",
       "      <td>http://www.missgien.net/misc/films/robin.html</td>\n",
       "      <td>Arts</td>\n",
       "      <td>[-0.46314648985862733, -0.10842716749757528, 0...</td>\n",
       "    </tr>\n",
       "    <tr>\n",
       "      <th>2</th>\n",
       "      <td>252430</td>\n",
       "      <td>http://www.ppmag.com</td>\n",
       "      <td>Arts</td>\n",
       "      <td>[-0.0398584817137037, -0.30310366010027273, -0...</td>\n",
       "    </tr>\n",
       "    <tr>\n",
       "      <th>4</th>\n",
       "      <td>125161</td>\n",
       "      <td>http://www.hollywoodjesus.com/powder.htm</td>\n",
       "      <td>Arts</td>\n",
       "      <td>[0.018674095170960452, -0.03543987311422825, 0...</td>\n",
       "    </tr>\n",
       "    <tr>\n",
       "      <th>6</th>\n",
       "      <td>258127</td>\n",
       "      <td>http://www.kspq.com/</td>\n",
       "      <td>Arts</td>\n",
       "      <td>[0.009379717521369457, -0.16280843317508698, 0...</td>\n",
       "    </tr>\n",
       "  </tbody>\n",
       "</table>\n",
       "</div>"
      ],
      "text/plain": [
       "       id                                            url  cat0  \\\n",
       "0  133292           http://www.imdb.com/title/tt0044207/  Arts   \n",
       "1  126451  http://www.missgien.net/misc/films/robin.html  Arts   \n",
       "2  252430                           http://www.ppmag.com  Arts   \n",
       "4  125161       http://www.hollywoodjesus.com/powder.htm  Arts   \n",
       "6  258127                           http://www.kspq.com/  Arts   \n",
       "\n",
       "                                                 emb  \n",
       "0  [0.19638090891848234, -0.2036611011082476, 0.1...  \n",
       "1  [-0.46314648985862733, -0.10842716749757528, 0...  \n",
       "2  [-0.0398584817137037, -0.30310366010027273, -0...  \n",
       "4  [0.018674095170960452, -0.03543987311422825, 0...  \n",
       "6  [0.009379717521369457, -0.16280843317508698, 0...  "
      ]
     },
     "execution_count": 5,
     "metadata": {},
     "output_type": "execute_result"
    }
   ],
   "source": [
    "data.head()"
   ]
  },
  {
   "cell_type": "code",
   "execution_count": 6,
   "metadata": {},
   "outputs": [
    {
     "data": {
      "text/plain": [
       "(23188, 4)"
      ]
     },
     "execution_count": 6,
     "metadata": {},
     "output_type": "execute_result"
    }
   ],
   "source": [
    "data.shape"
   ]
  },
  {
   "cell_type": "code",
   "execution_count": 7,
   "metadata": {},
   "outputs": [
    {
     "data": {
      "text/plain": [
       "Science      6513\n",
       "Kids         6204\n",
       "Arts         5660\n",
       "Sports       3154\n",
       "Computers    1657\n",
       "Name: cat0, dtype: int64"
      ]
     },
     "execution_count": 7,
     "metadata": {},
     "output_type": "execute_result"
    }
   ],
   "source": [
    "data.cat0.value_counts()"
   ]
  },
  {
   "cell_type": "code",
   "execution_count": 8,
   "metadata": {},
   "outputs": [],
   "source": [
    "def categorize(s):\n",
    "    if s == 'Kids':\n",
    "        return 0\n",
    "    if s == 'Science':\n",
    "        return 1\n",
    "    if s == 'Arts':\n",
    "        return 2\n",
    "    if s == 'Computers':\n",
    "        return 3\n",
    "    if s == 'Sports':\n",
    "        return 4"
   ]
  },
  {
   "cell_type": "code",
   "execution_count": 9,
   "metadata": {},
   "outputs": [],
   "source": [
    "data['cat_no'] = data.apply(lambda row: categorize(row.cat0), axis=1)"
   ]
  },
  {
   "cell_type": "code",
   "execution_count": 10,
   "metadata": {},
   "outputs": [],
   "source": [
    "embeddings = np.concatenate(data.emb.values)"
   ]
  },
  {
   "cell_type": "code",
   "execution_count": 12,
   "metadata": {},
   "outputs": [],
   "source": [
    "embedding_dim = 768\n",
    "train_input = torch.tensor(embeddings)\n",
    "train_input = torch.reshape(train_input, (-1, embedding_dim)).float()"
   ]
  },
  {
   "cell_type": "code",
   "execution_count": 13,
   "metadata": {},
   "outputs": [
    {
     "data": {
      "text/plain": [
       "torch.Size([23188, 768])"
      ]
     },
     "execution_count": 13,
     "metadata": {},
     "output_type": "execute_result"
    }
   ],
   "source": [
    "train_input.shape"
   ]
  },
  {
   "cell_type": "code",
   "execution_count": 14,
   "metadata": {},
   "outputs": [],
   "source": [
    "cat_no = data.cat_no.values\n",
    "train_target = torch.tensor(cat_no).long()"
   ]
  },
  {
   "cell_type": "code",
   "execution_count": 15,
   "metadata": {},
   "outputs": [
    {
     "data": {
      "text/plain": [
       "torch.Size([23188])"
      ]
     },
     "execution_count": 15,
     "metadata": {},
     "output_type": "execute_result"
    }
   ],
   "source": [
    "train_target.shape"
   ]
  },
  {
   "cell_type": "code",
   "execution_count": 16,
   "metadata": {},
   "outputs": [],
   "source": [
    "id = np.arange(train_input.shape[0])\n",
    "np.random.shuffle(id)\n",
    "\n",
    "tr_id = id[:20_000]\n",
    "te_id = id[20_000:]\n",
    "\n",
    "train_input_ = train_input[tr_id]\n",
    "test_input_ = train_input[te_id]\n",
    "\n",
    "train_target_ = train_target[tr_id]\n",
    "test_target_ = train_target[te_id]"
   ]
  },
  {
   "cell_type": "code",
   "execution_count": 17,
   "metadata": {},
   "outputs": [
    {
     "data": {
      "text/plain": [
       "Science      5560\n",
       "Kids         5404\n",
       "Arts         4918\n",
       "Sports       2703\n",
       "Computers    1415\n",
       "Name: cat0, dtype: int64"
      ]
     },
     "execution_count": 17,
     "metadata": {},
     "output_type": "execute_result"
    }
   ],
   "source": [
    "data.iloc[tr_id].cat0.value_counts()"
   ]
  },
  {
   "cell_type": "code",
   "execution_count": 18,
   "metadata": {},
   "outputs": [],
   "source": [
    "import torch\n",
    "from torch import nn\n",
    "from torch.nn import functional as F\n",
    "from torch import optim\n",
    "import time\n"
   ]
  },
  {
   "cell_type": "code",
   "execution_count": 19,
   "metadata": {},
   "outputs": [],
   "source": [
    "class Classifier(nn.Module):\n",
    "    def __init__(self):\n",
    "        super(Classifier, self).__init__()\n",
    "        self.fc1 = nn.Linear(768, 200)\n",
    "        self.fc2 = nn.Linear(200, 20)\n",
    "        self.fc3 = nn.Linear(20, 5)\n",
    "        self.drop = nn.Dropout(0.5)\n",
    "\n",
    "    def forward(self, x):\n",
    "        x = self.fc1(x)\n",
    "        x = self.drop(x)\n",
    "        x = self.fc2(F.relu(x))\n",
    "        x = self.drop(x)\n",
    "        x = self.fc3(F.relu(x))\n",
    "        return x"
   ]
  },
  {
   "cell_type": "code",
   "execution_count": 20,
   "metadata": {},
   "outputs": [],
   "source": [
    "def accuracy(output, target):\n",
    "    nb_samples = output.shape[0]\n",
    "    \n",
    "    # Convert probability to decision\n",
    "    output_class = torch.argmax(output, 1)\n",
    "    \n",
    "    nb_correct = (output_class == target).sum().item()\n",
    "    return nb_correct / nb_samples\n"
   ]
  },
  {
   "cell_type": "code",
   "execution_count": 21,
   "metadata": {},
   "outputs": [
    {
     "name": "stdout",
     "output_type": "stream",
     "text": [
      "Epoch 0 | Train loss : 1.127 | Train accuracy : 0.583 | Test accuracy : 0.586\n",
      "Epoch 1 | Train loss : 1.029 | Train accuracy : 0.610 | Test accuracy : 0.611\n",
      "Epoch 2 | Train loss : 0.985 | Train accuracy : 0.629 | Test accuracy : 0.622\n",
      "Epoch 3 | Train loss : 0.958 | Train accuracy : 0.635 | Test accuracy : 0.629\n",
      "Epoch 4 | Train loss : 0.947 | Train accuracy : 0.640 | Test accuracy : 0.626\n",
      "Epoch 5 | Train loss : 0.935 | Train accuracy : 0.648 | Test accuracy : 0.636\n",
      "Epoch 6 | Train loss : 0.919 | Train accuracy : 0.650 | Test accuracy : 0.638\n",
      "Epoch 7 | Train loss : 0.904 | Train accuracy : 0.655 | Test accuracy : 0.637\n",
      "Epoch 8 | Train loss : 0.896 | Train accuracy : 0.657 | Test accuracy : 0.636\n",
      "Epoch 9 | Train loss : 0.889 | Train accuracy : 0.658 | Test accuracy : 0.641\n",
      "Epoch 10 | Train loss : 0.879 | Train accuracy : 0.660 | Test accuracy : 0.640\n",
      "Epoch 11 | Train loss : 0.868 | Train accuracy : 0.665 | Test accuracy : 0.644\n",
      "Epoch 12 | Train loss : 0.857 | Train accuracy : 0.671 | Test accuracy : 0.642\n",
      "Epoch 13 | Train loss : 0.846 | Train accuracy : 0.674 | Test accuracy : 0.642\n",
      "Epoch 14 | Train loss : 0.860 | Train accuracy : 0.669 | Test accuracy : 0.652\n",
      "Epoch 15 | Train loss : 0.846 | Train accuracy : 0.681 | Test accuracy : 0.650\n",
      "Epoch 16 | Train loss : 0.843 | Train accuracy : 0.675 | Test accuracy : 0.650\n",
      "Epoch 17 | Train loss : 0.831 | Train accuracy : 0.680 | Test accuracy : 0.653\n",
      "Epoch 18 | Train loss : 0.824 | Train accuracy : 0.680 | Test accuracy : 0.655\n",
      "Epoch 19 | Train loss : 0.823 | Train accuracy : 0.685 | Test accuracy : 0.656\n",
      "Epoch 20 | Train loss : 0.810 | Train accuracy : 0.687 | Test accuracy : 0.652\n",
      "Epoch 21 | Train loss : 0.810 | Train accuracy : 0.691 | Test accuracy : 0.657\n",
      "Epoch 22 | Train loss : 0.807 | Train accuracy : 0.690 | Test accuracy : 0.652\n",
      "Epoch 23 | Train loss : 0.812 | Train accuracy : 0.686 | Test accuracy : 0.651\n",
      "Epoch 24 | Train loss : 0.801 | Train accuracy : 0.690 | Test accuracy : 0.656\n",
      "Epoch 25 | Train loss : 0.792 | Train accuracy : 0.694 | Test accuracy : 0.657\n",
      "Epoch 26 | Train loss : 0.784 | Train accuracy : 0.698 | Test accuracy : 0.660\n",
      "Epoch 27 | Train loss : 0.786 | Train accuracy : 0.697 | Test accuracy : 0.659\n",
      "Epoch 28 | Train loss : 0.785 | Train accuracy : 0.695 | Test accuracy : 0.652\n",
      "Epoch 29 | Train loss : 0.781 | Train accuracy : 0.702 | Test accuracy : 0.657\n",
      "Epoch 30 | Train loss : 0.768 | Train accuracy : 0.702 | Test accuracy : 0.652\n",
      "Epoch 31 | Train loss : 0.772 | Train accuracy : 0.702 | Test accuracy : 0.660\n",
      "Epoch 32 | Train loss : 0.771 | Train accuracy : 0.703 | Test accuracy : 0.653\n",
      "Epoch 33 | Train loss : 0.766 | Train accuracy : 0.702 | Test accuracy : 0.659\n",
      "Epoch 34 | Train loss : 0.763 | Train accuracy : 0.705 | Test accuracy : 0.655\n",
      "Epoch 35 | Train loss : 0.769 | Train accuracy : 0.699 | Test accuracy : 0.651\n",
      "Epoch 36 | Train loss : 0.750 | Train accuracy : 0.710 | Test accuracy : 0.662\n",
      "Epoch 37 | Train loss : 0.752 | Train accuracy : 0.707 | Test accuracy : 0.659\n",
      "Epoch 38 | Train loss : 0.754 | Train accuracy : 0.712 | Test accuracy : 0.657\n",
      "Epoch 39 | Train loss : 0.745 | Train accuracy : 0.714 | Test accuracy : 0.661\n",
      "Epoch 40 | Train loss : 0.744 | Train accuracy : 0.712 | Test accuracy : 0.659\n",
      "Epoch 41 | Train loss : 0.743 | Train accuracy : 0.707 | Test accuracy : 0.662\n",
      "Epoch 42 | Train loss : 0.741 | Train accuracy : 0.714 | Test accuracy : 0.660\n",
      "Epoch 43 | Train loss : 0.737 | Train accuracy : 0.714 | Test accuracy : 0.660\n",
      "Epoch 44 | Train loss : 0.733 | Train accuracy : 0.716 | Test accuracy : 0.663\n",
      "Epoch 45 | Train loss : 0.737 | Train accuracy : 0.714 | Test accuracy : 0.661\n",
      "Epoch 46 | Train loss : 0.737 | Train accuracy : 0.713 | Test accuracy : 0.666\n",
      "Epoch 47 | Train loss : 0.727 | Train accuracy : 0.718 | Test accuracy : 0.664\n",
      "Epoch 48 | Train loss : 0.726 | Train accuracy : 0.718 | Test accuracy : 0.667\n",
      "Epoch 49 | Train loss : 0.719 | Train accuracy : 0.724 | Test accuracy : 0.669\n",
      "Epoch 50 | Train loss : 0.719 | Train accuracy : 0.720 | Test accuracy : 0.661\n",
      "Epoch 51 | Train loss : 0.720 | Train accuracy : 0.723 | Test accuracy : 0.667\n",
      "Epoch 52 | Train loss : 0.713 | Train accuracy : 0.721 | Test accuracy : 0.659\n",
      "Epoch 53 | Train loss : 0.721 | Train accuracy : 0.721 | Test accuracy : 0.658\n",
      "Epoch 54 | Train loss : 0.716 | Train accuracy : 0.722 | Test accuracy : 0.657\n",
      "Epoch 55 | Train loss : 0.719 | Train accuracy : 0.721 | Test accuracy : 0.662\n",
      "Epoch 56 | Train loss : 0.716 | Train accuracy : 0.718 | Test accuracy : 0.664\n",
      "Epoch 57 | Train loss : 0.697 | Train accuracy : 0.726 | Test accuracy : 0.666\n",
      "Epoch 58 | Train loss : 0.707 | Train accuracy : 0.721 | Test accuracy : 0.663\n",
      "Epoch 59 | Train loss : 0.712 | Train accuracy : 0.727 | Test accuracy : 0.657\n",
      "Epoch 60 | Train loss : 0.694 | Train accuracy : 0.727 | Test accuracy : 0.663\n",
      "Epoch 61 | Train loss : 0.713 | Train accuracy : 0.717 | Test accuracy : 0.659\n",
      "Epoch 62 | Train loss : 0.699 | Train accuracy : 0.727 | Test accuracy : 0.662\n",
      "Epoch 63 | Train loss : 0.690 | Train accuracy : 0.729 | Test accuracy : 0.661\n",
      "Epoch 64 | Train loss : 0.699 | Train accuracy : 0.725 | Test accuracy : 0.655\n",
      "Epoch 65 | Train loss : 0.679 | Train accuracy : 0.735 | Test accuracy : 0.668\n",
      "Epoch 66 | Train loss : 0.681 | Train accuracy : 0.736 | Test accuracy : 0.664\n",
      "Epoch 67 | Train loss : 0.682 | Train accuracy : 0.734 | Test accuracy : 0.667\n",
      "Epoch 68 | Train loss : 0.684 | Train accuracy : 0.729 | Test accuracy : 0.663\n",
      "Epoch 69 | Train loss : 0.678 | Train accuracy : 0.733 | Test accuracy : 0.672\n",
      "Epoch 70 | Train loss : 0.676 | Train accuracy : 0.729 | Test accuracy : 0.659\n",
      "Epoch 71 | Train loss : 0.675 | Train accuracy : 0.737 | Test accuracy : 0.664\n",
      "Epoch 72 | Train loss : 0.672 | Train accuracy : 0.738 | Test accuracy : 0.666\n",
      "Epoch 73 | Train loss : 0.671 | Train accuracy : 0.738 | Test accuracy : 0.667\n",
      "Epoch 74 | Train loss : 0.677 | Train accuracy : 0.732 | Test accuracy : 0.661\n",
      "Epoch 75 | Train loss : 0.674 | Train accuracy : 0.730 | Test accuracy : 0.657\n",
      "Epoch 76 | Train loss : 0.671 | Train accuracy : 0.737 | Test accuracy : 0.667\n",
      "Epoch 77 | Train loss : 0.666 | Train accuracy : 0.742 | Test accuracy : 0.666\n",
      "Epoch 78 | Train loss : 0.678 | Train accuracy : 0.733 | Test accuracy : 0.657\n",
      "Epoch 79 | Train loss : 0.660 | Train accuracy : 0.741 | Test accuracy : 0.667\n",
      "Epoch 80 | Train loss : 0.664 | Train accuracy : 0.739 | Test accuracy : 0.660\n",
      "Epoch 81 | Train loss : 0.660 | Train accuracy : 0.738 | Test accuracy : 0.664\n",
      "Epoch 82 | Train loss : 0.660 | Train accuracy : 0.742 | Test accuracy : 0.656\n",
      "Epoch 83 | Train loss : 0.660 | Train accuracy : 0.739 | Test accuracy : 0.666\n",
      "Epoch 84 | Train loss : 0.652 | Train accuracy : 0.743 | Test accuracy : 0.668\n",
      "Epoch 85 | Train loss : 0.652 | Train accuracy : 0.745 | Test accuracy : 0.661\n",
      "Epoch 86 | Train loss : 0.656 | Train accuracy : 0.742 | Test accuracy : 0.659\n",
      "Epoch 87 | Train loss : 0.656 | Train accuracy : 0.744 | Test accuracy : 0.656\n",
      "Epoch 88 | Train loss : 0.663 | Train accuracy : 0.732 | Test accuracy : 0.650\n",
      "Epoch 89 | Train loss : 0.653 | Train accuracy : 0.745 | Test accuracy : 0.661\n",
      "Epoch 90 | Train loss : 0.641 | Train accuracy : 0.748 | Test accuracy : 0.670\n",
      "Epoch 91 | Train loss : 0.639 | Train accuracy : 0.745 | Test accuracy : 0.664\n",
      "Epoch 92 | Train loss : 0.637 | Train accuracy : 0.750 | Test accuracy : 0.661\n",
      "Epoch 93 | Train loss : 0.643 | Train accuracy : 0.747 | Test accuracy : 0.662\n",
      "Epoch 94 | Train loss : 0.640 | Train accuracy : 0.746 | Test accuracy : 0.663\n",
      "Epoch 95 | Train loss : 0.636 | Train accuracy : 0.754 | Test accuracy : 0.665\n",
      "Epoch 96 | Train loss : 0.639 | Train accuracy : 0.748 | Test accuracy : 0.673\n",
      "Epoch 97 | Train loss : 0.627 | Train accuracy : 0.751 | Test accuracy : 0.671\n",
      "Epoch 98 | Train loss : 0.634 | Train accuracy : 0.752 | Test accuracy : 0.660\n",
      "Epoch 99 | Train loss : 0.630 | Train accuracy : 0.754 | Test accuracy : 0.668\n",
      "Epoch 100 | Train loss : 0.629 | Train accuracy : 0.752 | Test accuracy : 0.660\n",
      "Epoch 101 | Train loss : 0.611 | Train accuracy : 0.761 | Test accuracy : 0.674\n",
      "Epoch 102 | Train loss : 0.624 | Train accuracy : 0.755 | Test accuracy : 0.662\n",
      "Epoch 103 | Train loss : 0.620 | Train accuracy : 0.756 | Test accuracy : 0.662\n",
      "Epoch 104 | Train loss : 0.638 | Train accuracy : 0.748 | Test accuracy : 0.667\n",
      "Epoch 105 | Train loss : 0.629 | Train accuracy : 0.752 | Test accuracy : 0.667\n",
      "Epoch 106 | Train loss : 0.615 | Train accuracy : 0.760 | Test accuracy : 0.663\n",
      "Epoch 107 | Train loss : 0.622 | Train accuracy : 0.753 | Test accuracy : 0.659\n",
      "Epoch 108 | Train loss : 0.623 | Train accuracy : 0.753 | Test accuracy : 0.662\n",
      "Epoch 109 | Train loss : 0.613 | Train accuracy : 0.756 | Test accuracy : 0.670\n",
      "Epoch 110 | Train loss : 0.611 | Train accuracy : 0.757 | Test accuracy : 0.669\n",
      "Epoch 111 | Train loss : 0.624 | Train accuracy : 0.754 | Test accuracy : 0.665\n",
      "Epoch 112 | Train loss : 0.607 | Train accuracy : 0.761 | Test accuracy : 0.666\n",
      "Epoch 113 | Train loss : 0.614 | Train accuracy : 0.757 | Test accuracy : 0.668\n",
      "Epoch 114 | Train loss : 0.622 | Train accuracy : 0.753 | Test accuracy : 0.661\n",
      "Epoch 115 | Train loss : 0.622 | Train accuracy : 0.751 | Test accuracy : 0.662\n",
      "Epoch 116 | Train loss : 0.623 | Train accuracy : 0.752 | Test accuracy : 0.661\n",
      "Epoch 117 | Train loss : 0.608 | Train accuracy : 0.758 | Test accuracy : 0.663\n",
      "Epoch 118 | Train loss : 0.605 | Train accuracy : 0.761 | Test accuracy : 0.670\n",
      "Epoch 119 | Train loss : 0.613 | Train accuracy : 0.755 | Test accuracy : 0.662\n",
      "Epoch 120 | Train loss : 0.604 | Train accuracy : 0.759 | Test accuracy : 0.664\n",
      "Epoch 121 | Train loss : 0.615 | Train accuracy : 0.756 | Test accuracy : 0.667\n",
      "Epoch 122 | Train loss : 0.610 | Train accuracy : 0.760 | Test accuracy : 0.660\n",
      "Epoch 123 | Train loss : 0.606 | Train accuracy : 0.761 | Test accuracy : 0.667\n",
      "Epoch 124 | Train loss : 0.600 | Train accuracy : 0.763 | Test accuracy : 0.667\n",
      "Epoch 125 | Train loss : 0.595 | Train accuracy : 0.766 | Test accuracy : 0.668\n",
      "Epoch 126 | Train loss : 0.596 | Train accuracy : 0.762 | Test accuracy : 0.661\n",
      "Epoch 127 | Train loss : 0.598 | Train accuracy : 0.765 | Test accuracy : 0.671\n",
      "Epoch 128 | Train loss : 0.602 | Train accuracy : 0.763 | Test accuracy : 0.659\n",
      "Epoch 129 | Train loss : 0.603 | Train accuracy : 0.759 | Test accuracy : 0.664\n",
      "Epoch 130 | Train loss : 0.587 | Train accuracy : 0.766 | Test accuracy : 0.662\n",
      "Epoch 131 | Train loss : 0.591 | Train accuracy : 0.767 | Test accuracy : 0.663\n",
      "Epoch 132 | Train loss : 0.588 | Train accuracy : 0.768 | Test accuracy : 0.666\n",
      "Epoch 133 | Train loss : 0.589 | Train accuracy : 0.766 | Test accuracy : 0.662\n",
      "Epoch 134 | Train loss : 0.598 | Train accuracy : 0.763 | Test accuracy : 0.678\n",
      "Epoch 135 | Train loss : 0.592 | Train accuracy : 0.769 | Test accuracy : 0.673\n",
      "Epoch 136 | Train loss : 0.597 | Train accuracy : 0.764 | Test accuracy : 0.667\n",
      "Epoch 137 | Train loss : 0.583 | Train accuracy : 0.769 | Test accuracy : 0.669\n",
      "Epoch 138 | Train loss : 0.583 | Train accuracy : 0.765 | Test accuracy : 0.670\n",
      "Epoch 139 | Train loss : 0.585 | Train accuracy : 0.768 | Test accuracy : 0.667\n",
      "Epoch 140 | Train loss : 0.589 | Train accuracy : 0.767 | Test accuracy : 0.667\n",
      "Epoch 141 | Train loss : 0.581 | Train accuracy : 0.775 | Test accuracy : 0.668\n",
      "Epoch 142 | Train loss : 0.590 | Train accuracy : 0.768 | Test accuracy : 0.665\n",
      "Epoch 143 | Train loss : 0.582 | Train accuracy : 0.767 | Test accuracy : 0.670\n",
      "Epoch 144 | Train loss : 0.579 | Train accuracy : 0.770 | Test accuracy : 0.667\n",
      "Epoch 145 | Train loss : 0.582 | Train accuracy : 0.767 | Test accuracy : 0.661\n",
      "Epoch 146 | Train loss : 0.572 | Train accuracy : 0.774 | Test accuracy : 0.668\n",
      "Epoch 147 | Train loss : 0.579 | Train accuracy : 0.775 | Test accuracy : 0.664\n",
      "Epoch 148 | Train loss : 0.576 | Train accuracy : 0.772 | Test accuracy : 0.667\n",
      "Epoch 149 | Train loss : 0.574 | Train accuracy : 0.766 | Test accuracy : 0.663\n",
      "Epoch 150 | Train loss : 0.579 | Train accuracy : 0.770 | Test accuracy : 0.667\n",
      "Epoch 151 | Train loss : 0.582 | Train accuracy : 0.767 | Test accuracy : 0.667\n",
      "Epoch 152 | Train loss : 0.574 | Train accuracy : 0.773 | Test accuracy : 0.670\n",
      "Epoch 153 | Train loss : 0.575 | Train accuracy : 0.772 | Test accuracy : 0.665\n",
      "Epoch 154 | Train loss : 0.569 | Train accuracy : 0.769 | Test accuracy : 0.668\n",
      "Epoch 155 | Train loss : 0.572 | Train accuracy : 0.775 | Test accuracy : 0.670\n",
      "Epoch 156 | Train loss : 0.562 | Train accuracy : 0.776 | Test accuracy : 0.661\n",
      "Epoch 157 | Train loss : 0.572 | Train accuracy : 0.773 | Test accuracy : 0.663\n",
      "Epoch 158 | Train loss : 0.557 | Train accuracy : 0.777 | Test accuracy : 0.663\n",
      "Epoch 159 | Train loss : 0.568 | Train accuracy : 0.769 | Test accuracy : 0.663\n",
      "Epoch 160 | Train loss : 0.570 | Train accuracy : 0.772 | Test accuracy : 0.673\n",
      "Epoch 161 | Train loss : 0.560 | Train accuracy : 0.777 | Test accuracy : 0.666\n",
      "Epoch 162 | Train loss : 0.563 | Train accuracy : 0.772 | Test accuracy : 0.664\n",
      "Epoch 163 | Train loss : 0.569 | Train accuracy : 0.774 | Test accuracy : 0.660\n",
      "Epoch 164 | Train loss : 0.563 | Train accuracy : 0.776 | Test accuracy : 0.665\n",
      "Epoch 165 | Train loss : 0.562 | Train accuracy : 0.774 | Test accuracy : 0.671\n",
      "Epoch 166 | Train loss : 0.559 | Train accuracy : 0.779 | Test accuracy : 0.661\n",
      "Epoch 167 | Train loss : 0.553 | Train accuracy : 0.781 | Test accuracy : 0.664\n",
      "Epoch 168 | Train loss : 0.559 | Train accuracy : 0.781 | Test accuracy : 0.666\n",
      "Epoch 169 | Train loss : 0.557 | Train accuracy : 0.774 | Test accuracy : 0.665\n",
      "Epoch 170 | Train loss : 0.563 | Train accuracy : 0.772 | Test accuracy : 0.667\n",
      "Epoch 171 | Train loss : 0.547 | Train accuracy : 0.784 | Test accuracy : 0.667\n",
      "Epoch 172 | Train loss : 0.545 | Train accuracy : 0.781 | Test accuracy : 0.668\n",
      "Epoch 173 | Train loss : 0.557 | Train accuracy : 0.777 | Test accuracy : 0.665\n",
      "Epoch 174 | Train loss : 0.547 | Train accuracy : 0.783 | Test accuracy : 0.665\n",
      "Epoch 175 | Train loss : 0.547 | Train accuracy : 0.784 | Test accuracy : 0.671\n",
      "Epoch 176 | Train loss : 0.552 | Train accuracy : 0.783 | Test accuracy : 0.664\n",
      "Epoch 177 | Train loss : 0.544 | Train accuracy : 0.785 | Test accuracy : 0.670\n",
      "Epoch 178 | Train loss : 0.548 | Train accuracy : 0.785 | Test accuracy : 0.659\n",
      "Epoch 179 | Train loss : 0.541 | Train accuracy : 0.788 | Test accuracy : 0.667\n",
      "Epoch 180 | Train loss : 0.547 | Train accuracy : 0.782 | Test accuracy : 0.668\n",
      "Epoch 181 | Train loss : 0.550 | Train accuracy : 0.781 | Test accuracy : 0.671\n",
      "Epoch 182 | Train loss : 0.547 | Train accuracy : 0.781 | Test accuracy : 0.666\n",
      "Epoch 183 | Train loss : 0.537 | Train accuracy : 0.786 | Test accuracy : 0.666\n",
      "Epoch 184 | Train loss : 0.542 | Train accuracy : 0.782 | Test accuracy : 0.668\n",
      "Epoch 185 | Train loss : 0.542 | Train accuracy : 0.787 | Test accuracy : 0.669\n",
      "Epoch 186 | Train loss : 0.547 | Train accuracy : 0.785 | Test accuracy : 0.667\n",
      "Epoch 187 | Train loss : 0.541 | Train accuracy : 0.785 | Test accuracy : 0.668\n",
      "Epoch 188 | Train loss : 0.546 | Train accuracy : 0.782 | Test accuracy : 0.664\n",
      "Epoch 189 | Train loss : 0.533 | Train accuracy : 0.788 | Test accuracy : 0.670\n",
      "Epoch 190 | Train loss : 0.539 | Train accuracy : 0.788 | Test accuracy : 0.667\n",
      "Epoch 191 | Train loss : 0.535 | Train accuracy : 0.788 | Test accuracy : 0.671\n",
      "Epoch 192 | Train loss : 0.544 | Train accuracy : 0.786 | Test accuracy : 0.662\n",
      "Epoch 193 | Train loss : 0.543 | Train accuracy : 0.785 | Test accuracy : 0.667\n",
      "Epoch 194 | Train loss : 0.545 | Train accuracy : 0.785 | Test accuracy : 0.668\n",
      "Epoch 195 | Train loss : 0.542 | Train accuracy : 0.784 | Test accuracy : 0.667\n",
      "Epoch 196 | Train loss : 0.541 | Train accuracy : 0.782 | Test accuracy : 0.667\n",
      "Epoch 197 | Train loss : 0.547 | Train accuracy : 0.779 | Test accuracy : 0.655\n",
      "Epoch 198 | Train loss : 0.528 | Train accuracy : 0.790 | Test accuracy : 0.662\n",
      "Epoch 199 | Train loss : 0.530 | Train accuracy : 0.791 | Test accuracy : 0.667\n"
     ]
    }
   ],
   "source": [
    "epochs = 200\n",
    "batch_size = 64\n",
    "\n",
    "model = Classifier()\n",
    "\n",
    "# Loss\n",
    "criterion = nn.CrossEntropyLoss()\n",
    "\n",
    "# Optimizer\n",
    "optimizer = optim.Adam(model.parameters(), 1e-3)\n",
    "\n",
    "# Training the model\n",
    "model.train(True)\n",
    "\n",
    "for e in range(epochs):\n",
    "    \n",
    "    for input, target in zip(train_input_.split(batch_size), train_target_.split(batch_size)):\n",
    "                             \n",
    "        output = model(input)\n",
    "        loss = criterion(output, target)\n",
    "        optimizer.zero_grad()\n",
    "        loss.backward()\n",
    "        optimizer.step()\n",
    "        \n",
    "    model.train(False)\n",
    "    tr_output = model(train_input_)\n",
    "    te_output = model(test_input_)\n",
    "    tr_loss = criterion(tr_output, train_target_)\n",
    "    tr_acc = accuracy(tr_output, train_target_)\n",
    "    te_acc = accuracy(te_output, test_target_)\n",
    "    model.train(True)\n",
    "    print(\"Epoch {}\".format(e) +\\\n",
    "          \" | Train loss : {:.3f}\".format(tr_loss) +\\\n",
    "          \" | Train accuracy : {:.3f}\".format(tr_acc) +\\\n",
    "          \" | Test accuracy : {:.3f}\".format(te_acc))"
   ]
  },
  {
   "cell_type": "code",
   "execution_count": null,
   "metadata": {},
   "outputs": [],
   "source": []
  },
  {
   "cell_type": "code",
   "execution_count": null,
   "metadata": {},
   "outputs": [],
   "source": []
  }
 ],
 "metadata": {
  "kernelspec": {
   "display_name": "Python 3",
   "language": "python",
   "name": "python3"
  },
  "language_info": {
   "codemirror_mode": {
    "name": "ipython",
    "version": 3
   },
   "file_extension": ".py",
   "mimetype": "text/x-python",
   "name": "python",
   "nbconvert_exporter": "python",
   "pygments_lexer": "ipython3",
   "version": "3.8.3"
  }
 },
 "nbformat": 4,
 "nbformat_minor": 4
}
